{
 "cells": [
  {
   "cell_type": "markdown",
   "metadata": {},
   "source": [
    "In `acl.all.tsv` you'll find 7,188 papers published at major NLP venues (ACL, EMNLP, NAACL, TACL, etc.) between 2013 and 2020.  Your job is to use topic modeling to discover what topics in NLP have been increasing or decreasing in use over this time.  Here is a sample of the data we'll use:\n",
    "\n",
    "|id|year of publication|title|abstract|\n",
    "|---|---|---|---|\n",
    "|pimentel-etal-2020-phonotactic|2020|Phonotactic Complexity and Its Trade-offs|We present methods for calculating a measure of phonotactic complexity---bits per phoneme--- that permits a straightforward cross-linguistic comparison. When given a word, represented as a sequence of phonemic segments such as symbols in the international phonetic alphabet, and a statistical model trained on a sample of word types from the language, we can approximately measure bits per phoneme using the negative log-probability of that word under the model. This simple measure allows us to compare the entropy across languages, giving insight into how complex a language's phonotactics is. Using a collection of 1016 basic concept words across 106 languages, we demonstrate a very strong negative correlation of − 0.74 between bits per phoneme and the average length of words.|\n",
    "|wang-etal-2020-amr|2020|AMR-To-Text Generation with Graph Transformer|Abstract meaning representation (AMR)-to-text generation is the challenging task of generating natural language texts from AMR graphs, where nodes represent concepts and edges denote relations. The current state-of-the-art methods use graph-to-sequence models; however, they still cannot significantly outperform the previous sequence-to-sequence models or statistical approaches. In this paper, we propose a novel graph-to-sequence model (Graph Transformer) to address this task. The model directly encodes the AMR graphs and learns the node representations. A pairwise interaction function is used for computing the semantic relations between the concepts. Moreover, attention mechanisms are used for aggregating the information from the incoming and outgoing neighbors, which help the model to capture the semantic information effectively. Our model outperforms the state-of-the-art neural approach by 1.5 BLEU points on LDC2015E86 and 4.8 BLEU points on LDC2017T10 and achieves new state-of-the-art performances.|\n"
   ]
  },
  {
   "cell_type": "markdown",
   "metadata": {},
   "source": [
    "First, let's read in the data and train a topic model on it (you are free to set the number of topics $K$ as you see fit."
   ]
  },
  {
   "cell_type": "code",
   "execution_count": 1,
   "metadata": {},
   "outputs": [
    {
     "name": "stderr",
     "output_type": "stream",
     "text": [
      "[nltk_data] Downloading package stopwords to\n",
      "[nltk_data]     C:\\Users\\cheny\\AppData\\Roaming\\nltk_data...\n",
      "[nltk_data]   Package stopwords is already up-to-date!\n"
     ]
    }
   ],
   "source": [
    "import nltk\n",
    "import re\n",
    "import gensim\n",
    "from gensim import corpora\n",
    "import operator\n",
    "\n",
    "nltk.download('stopwords')\n",
    "from nltk.corpus import stopwords\n",
    "\n",
    "import numpy as np\n",
    "import random\n",
    "\n",
    "random.seed(1)"
   ]
  },
  {
   "cell_type": "code",
   "execution_count": 2,
   "metadata": {},
   "outputs": [],
   "source": [
    "K=5"
   ]
  },
  {
   "cell_type": "code",
   "execution_count": 3,
   "metadata": {},
   "outputs": [],
   "source": [
    "stop_words = stopwords.words('english')"
   ]
  },
  {
   "cell_type": "code",
   "execution_count": 4,
   "metadata": {},
   "outputs": [],
   "source": [
    "def filter(word, stopwords):\n",
    "    \n",
    "    \"\"\" Function to exclude words from a text \"\"\"\n",
    "    \n",
    "    # no stopwords\n",
    "    if word in stopwords:\n",
    "        return False\n",
    "    \n",
    "    # has to contain at least one letter\n",
    "    if re.search(\"[A-Za-z]\", word) is not None:\n",
    "        return True\n",
    "    \n",
    "    return False"
   ]
  },
  {
   "cell_type": "code",
   "execution_count": 5,
   "metadata": {},
   "outputs": [],
   "source": [
    "def read_docs(dataFile, stopwords):\n",
    "    \n",
    "    names=[]    \n",
    "    docs=[]\n",
    "   \n",
    "    with open(dataFile, encoding=\"utf-8\") as file:\n",
    "        for line in file:\n",
    "            cols=line.rstrip().split(\"\\t\")\n",
    "            idd=cols[0]\n",
    "            name=cols[2]\n",
    "            year=int(cols[1])\n",
    "        \n",
    "            text=cols[3]\n",
    "            \n",
    "            tokens=nltk.word_tokenize(text.lower())\n",
    "            tokens=[x for x in tokens if filter(x, stopwords)]\n",
    "            docs.append(tokens)\n",
    "            names.append((name, year))\n",
    "    return docs, names"
   ]
  },
  {
   "cell_type": "code",
   "execution_count": 6,
   "metadata": {},
   "outputs": [],
   "source": [
    "dataFile=\"../data/acl.all.tsv\"\n",
    "data, doc_names=read_docs(dataFile, stop_words)"
   ]
  },
  {
   "cell_type": "markdown",
   "metadata": {},
   "source": [
    "We will convert the data into a bag-of-words representation using gensim's [corpora.dictionary](https://radimrehurek.com/gensim/corpora/dictionary.html) methods."
   ]
  },
  {
   "cell_type": "code",
   "execution_count": 7,
   "metadata": {},
   "outputs": [],
   "source": [
    "# Create vocab from data; restrict vocab to only the top 10K terms that show up in at least 5 documents \n",
    "# and no more than 50% of all documents\n",
    "\n",
    "dictionary = corpora.Dictionary(data)\n",
    "dictionary.filter_extremes(no_below=5, no_above=.5, keep_n=10000)"
   ]
  },
  {
   "cell_type": "code",
   "execution_count": 8,
   "metadata": {},
   "outputs": [],
   "source": [
    "# Replace dataset with numeric ids words in vocab (and exclude all other words)\n",
    "corpus = [dictionary.doc2bow(text) for text in data]"
   ]
  },
  {
   "cell_type": "markdown",
   "metadata": {},
   "source": [
    "Now let's run a topic model on this data using gensim's built-in LDA."
   ]
  },
  {
   "cell_type": "code",
   "execution_count": 9,
   "metadata": {},
   "outputs": [],
   "source": [
    "lda_model = gensim.models.ldamodel.LdaModel(corpus=corpus,\n",
    "                                           id2word=dictionary,\n",
    "                                           num_topics=K, \n",
    "                                           passes=10,\n",
    "                                           alpha='auto')"
   ]
  },
  {
   "cell_type": "markdown",
   "metadata": {},
   "source": [
    "We can get a sense of what the topics are by printing the top 10 words with highest $P(word \\mid topic)$ for each topic"
   ]
  },
  {
   "cell_type": "code",
   "execution_count": 10,
   "metadata": {
    "scrolled": true
   },
   "outputs": [
    {
     "name": "stdout",
     "output_type": "stream",
     "text": [
      "topic 0:\tword semantic embeddings models words\n",
      "topic 1:\tlearning neural propose information models\n",
      "topic 2:\ttranslation models training neural language\n",
      "topic 3:\tlanguages language data parsing system\n",
      "topic 4:\tdataset question models language task\n"
     ]
    }
   ],
   "source": [
    "for i in range(K):\n",
    "    print(\"topic %s:\\t%s\" % (i, ' '.join([term for term, freq in lda_model.show_topic(i, topn=5)])))"
   ]
  },
  {
   "cell_type": "markdown",
   "metadata": {},
   "source": [
    "Now let's print out the documents that have the highest topic representation -- i.e., for a given topic $k$, the documents with highest $P(topic=k | document)$ -- in order to ground these topic summaries with actual documents that contain those topics."
   ]
  },
  {
   "cell_type": "code",
   "execution_count": 11,
   "metadata": {},
   "outputs": [
    {
     "name": "stdout",
     "output_type": "stream",
     "text": [
      "0\t0.994\t('Can Network Embedding of Distributional Thesaurus Be Combined with Word Vectors for Better Representation?', 2018)\n",
      "0.994389533996582\n",
      "0\t0.994\t('Automatic Evaluation of Local Topic Quality', 2019)\n",
      "1.9882630109786987\n",
      "0\t0.994\t('Correlation Coefficients and Semantic Textual Similarity', 2019)\n",
      "2.981887698173523\n",
      "0\t0.993\t('Estimating Mutual Information Between Dense Word Embeddings', 2020)\n",
      "3.97500216960907\n",
      "0\t0.993\t('Enriching Word Embeddings with Temporal and Spatial Information', 2020)\n",
      "4.967638075351715\n",
      "\n",
      "1\t0.996\t('Heterogeneous Graph Attention Networks for Semi-supervised Short Text Classification', 2019)\n",
      "0.9958751201629639\n",
      "1\t0.995\t('A Neural Layered Model for Nested Named Entity Recognition', 2018)\n",
      "1.9910861253738403\n",
      "1\t0.995\t('Cross-Sentence N-ary Relation Extraction with Graph LSTMs', 2017)\n",
      "2.986250579357147\n",
      "1\t0.995\t('Dependency Graph Enhanced Dual-transformer Structure for Aspect-based Sentiment Classification', 2020)\n",
      "3.9812464714050293\n",
      "1\t0.995\t('Hyperbolic Capsule Networks for Multi-Label Classification', 2020)\n",
      "4.97624146938324\n",
      "\n",
      "2\t0.995\t('Iterative Refinement in the Continuous Space for Non-Autoregressive Neural Machine Translation', 2020)\n",
      "0.9946938157081604\n",
      "2\t0.994\t('Competence-based Curriculum Learning for Neural Machine Translation', 2019)\n",
      "1.9891737699508667\n",
      "2\t0.994\t('Synchronous Bidirectional Neural Machine Translation', 2019)\n",
      "2.9832103848457336\n",
      "2\t0.994\t('Sharp Models on Dull Hardware: Fast and Accurate Neural Machine Translation Decoding on the CPU', 2017)\n",
      "3.9769163727760315\n",
      "2\t0.994\t('BPE-Dropout: Simple and Effective Subword Regularization', 2020)\n",
      "4.970540165901184\n",
      "\n",
      "3\t0.994\t('Detecting Causal Language Use in Science Findings', 2019)\n",
      "0.9936360120773315\n",
      "3\t0.993\t(\"Automated Cross-language Intelligibility Analysis of Parkinson's Disease Patients Using Speech Recognition Technologies\", 2019)\n",
      "1.986573338508606\n",
      "3\t0.992\t('Universal Morpho-Syntactic Parsing and the Contribution of Lexica: Analyzing the ONLP Lab Submission to the CoNLL 2018 Shared Task', 2018)\n",
      "2.9786251187324524\n",
      "3\t0.990\t('A Corpus with Multi-Level Annotations of Patients, Interventions and Outcomes to Support Language Processing for Medical Literature', 2018)\n",
      "3.9682278633117676\n",
      "3\t0.990\t('Turku Neural Parser Pipeline: An End-to-End System for the CoNLL 2018 Shared Task', 2018)\n",
      "4.95780223608017\n",
      "\n",
      "4\t0.995\t('Improving Visual Question Answering by Referring to Generated Paragraph Captions', 2019)\n",
      "0.9946208596229553\n",
      "4\t0.994\t('CoSQL: A Conversational Text-to-SQL Challenge Towards Cross-Domain Natural Language Interfaces to Databases', 2019)\n",
      "1.9889246225357056\n",
      "4\t0.994\t('BabyWalk: Going Farther in Vision-and-Language Navigation by Taking Baby Steps', 2020)\n",
      "2.983039081096649\n",
      "4\t0.994\t('YouMakeup: A Large-Scale Domain-Specific Multimodal Dataset for Fine-Grained Semantic Comprehension', 2019)\n",
      "3.977094352245331\n",
      "4\t0.994\t('Video2Commonsense: Generating Commonsense Descriptions to Enrich Video Captioning', 2020)\n",
      "4.970816969871521\n",
      "\n"
     ]
    }
   ],
   "source": [
    "topic_model=lda_model \n",
    "prob = {}\n",
    "\n",
    "topic_docs=[]\n",
    "for i in range(K):\n",
    "    topic_docs.append({})\n",
    "for doc_id in range(len(corpus)):\n",
    "    doc_topics=topic_model.get_document_topics(corpus[doc_id])\n",
    "    for topic_num, topic_prob in doc_topics:\n",
    "        topic_docs[topic_num][doc_id]=topic_prob\n",
    "\n",
    "for i in range(K):\n",
    "    \n",
    "    #print(\"%s\\n\" % ' '.join([term for term, freq in topic_model.show_topic(i, topn=5)]))\n",
    "    sorted_x = sorted(topic_docs[i].items(), key=operator.itemgetter(1), reverse=True)\n",
    "    \n",
    "    cum_v = 0\n",
    "    for k, v in sorted_x[:5]:\n",
    "        cum_v += v\n",
    "        print(\"%s\\t%.3f\\t%s\" % (i,v,doc_names[k]))\n",
    "        print(cum_v)\n",
    "    \n",
    "    \n",
    "    prob[i] = cum_v        \n",
    "    print()\n",
    "    \n",
    "    "
   ]
  },
  {
   "cell_type": "markdown",
   "metadata": {},
   "source": [
    "**Q1**: Use this basic framework to plot the distribution of a topic over time (between the years 2013-2020).  Specifically, given a document-topic distribution $\\theta$ for an entire corpus such that $\\theta_d$ is the document-topic distribution for document $d$ and $\\theta_{d,i}$ is the probability of topic $i$ in document $d$, the relative frequency of topic $i$ at time $t$ is the sum of $\\theta_{d,i}$ for all documents that are published in year $t$, divided by the total number of documents published in year $t$: \n",
    "\n",
    "$$\n",
    "f(t, i) ={ \\sum_{d \\in D: date(d) = t} \\theta_{d,i} \\over \\sum_{d \\in D: date(d) = t} 1}\n",
    "$$\n",
    "\n",
    "For all of the $K$ topics you learn above, plot the distribution of that topic over time (i.e., the x-axis should be time from 2013-2020 and the y-axis should be the relative frequency value $f$ defined above).  Your output here should be $K$ line charts paired with their topic signatures (e.g., from `topic_model.show_topic`, so that we know what topic the chart corresponds to).  See below for sample code generating such a line chart with x, y inputs."
   ]
  },
  {
   "cell_type": "code",
   "execution_count": 13,
   "metadata": {},
   "outputs": [],
   "source": [
    "idx_2013 = []\n",
    "data_2013 = []\n",
    "\n",
    "idx_2014 = []\n",
    "data_2014 = []\n",
    "\n",
    "idx_2015 = []\n",
    "data_2015 = []\n",
    "\n",
    "idx_2016 = []\n",
    "data_2016 = []\n",
    "\n",
    "idx_2017 = []\n",
    "data_2017 = []\n",
    "\n",
    "idx_2018 = []\n",
    "data_2018 = []\n",
    "\n",
    "idx_2019 = []\n",
    "data_2019 = []\n",
    "\n",
    "idx_2020 = []\n",
    "data_2020 = []\n",
    "\n",
    "\n",
    "\n",
    "for i in range (len(doc_names)):\n",
    "    if doc_names[i][1] == 2013:\n",
    "        idx_2013.append(doc_names[i])\n",
    "        data_2013.append(data[i])\n",
    "        \n",
    "    if doc_names[i][1] == 2014:\n",
    "        idx_2014.append(doc_names[i])\n",
    "        data_2014.append(data[i])\n",
    "        \n",
    "    if doc_names[i][1] == 2015:\n",
    "        idx_2015.append(doc_names[i])\n",
    "        data_2015.append(data[i])\n",
    "        \n",
    "    if doc_names[i][1] == 2016:\n",
    "        idx_2016.append(doc_names[i])\n",
    "        data_2016.append(data[i])\n",
    "        \n",
    "    if doc_names[i][1] == 2017:\n",
    "        idx_2017.append(doc_names[i])\n",
    "        data_2017.append(data[i])\n",
    "        \n",
    "    if doc_names[i][1] == 2018:\n",
    "        idx_2018.append(doc_names[i])\n",
    "        data_2018.append(data[i])\n",
    "        \n",
    "    if doc_names[i][1] == 2019:\n",
    "        idx_2019.append(doc_names[i])\n",
    "        data_2019.append(data[i])\n",
    "        \n",
    "    if doc_names[i][1] == 2020:\n",
    "        idx_2020.append(doc_names[i])\n",
    "        data_2020.append(data[i])"
   ]
  },
  {
   "cell_type": "code",
   "execution_count": 64,
   "metadata": {},
   "outputs": [],
   "source": [
    "'''\n",
    "input: \n",
    "k the ith topic in K that we care about \n",
    "yearly data list and the document list\n",
    "\n",
    "output: \n",
    "\n",
    "'''\n",
    "\n",
    "def a_function(data, idx, K):\n",
    "    \n",
    "    #build the gensim model for that specific year \n",
    "    dic = corpora.Dictionary(data)\n",
    "    dictionary.filter_extremes(no_below=5, no_above=.5, keep_n=10000)\n",
    "    \n",
    "    corpus = [dictionary.doc2bow(text) for text in data]\n",
    "    \n",
    "    lda_model = gensim.models.ldamodel.LdaModel(corpus=corpus,\n",
    "                                           id2word=dictionary,\n",
    "                                           num_topics=K, \n",
    "                                           passes=10,\n",
    "                                           alpha='auto')\n",
    "    \n",
    "    # innitialize the variables\n",
    "    total_theta_d_i = {}\n",
    "    total_doc = len(idx)\n",
    "    \n",
    "    #getting the theta_d_i for each topic K\n",
    "    \n",
    "    topic_docs=[]\n",
    "    \n",
    "    for i in range(K):\n",
    "        topic_docs.append({})\n",
    "        \n",
    "    for doc_id in range(len(corpus)):\n",
    "        doc_topics=topic_model.get_document_topics(corpus[doc_id])\n",
    "        \n",
    "        for topic_num, topic_prob in doc_topics:\n",
    "            topic_docs[topic_num][doc_id]=topic_prob\n",
    "\n",
    "    for i in range(K):\n",
    "\n",
    "        print(\"%s\\n\" % ' '.join([term for term, freq in topic_model.show_topic(i, topn=5)]))\n",
    "        total_theta_d_i[i] = sum(topic_docs[i].values())       \n",
    "    \n",
    "    return total_theta_d_i, total_doc"
   ]
  },
  {
   "cell_type": "code",
   "execution_count": 65,
   "metadata": {},
   "outputs": [],
   "source": [
    "topic_list = []\n",
    "data_list = []   "
   ]
  },
  {
   "cell_type": "code",
   "execution_count": 66,
   "metadata": {},
   "outputs": [],
   "source": [
    "year_list = [(data_2013, idx_2013), (data_2014,idx_2014), (data_2015,idx_2015),( data_2016,idx_2016), (data_2017,idx_2017),\n",
    "           (data_2018,idx_2018),(data_2019,idx_2019),(data_2020,idx_2020)]"
   ]
  },
  {
   "cell_type": "code",
   "execution_count": 67,
   "metadata": {
    "scrolled": true
   },
   "outputs": [
    {
     "name": "stdout",
     "output_type": "stream",
     "text": [
      "word semantic embeddings models words\n",
      "\n",
      "learning neural propose information models\n",
      "\n",
      "translation models training neural language\n",
      "\n",
      "languages language data parsing system\n",
      "\n",
      "dataset question models language task\n",
      "\n",
      "word semantic embeddings models words\n",
      "\n",
      "learning neural propose information models\n",
      "\n",
      "translation models training neural language\n",
      "\n",
      "languages language data parsing system\n",
      "\n",
      "dataset question models language task\n",
      "\n",
      "word semantic embeddings models words\n",
      "\n",
      "learning neural propose information models\n",
      "\n",
      "translation models training neural language\n",
      "\n",
      "languages language data parsing system\n",
      "\n",
      "dataset question models language task\n",
      "\n",
      "word semantic embeddings models words\n",
      "\n",
      "learning neural propose information models\n",
      "\n",
      "translation models training neural language\n",
      "\n",
      "languages language data parsing system\n",
      "\n",
      "dataset question models language task\n",
      "\n",
      "word semantic embeddings models words\n",
      "\n",
      "learning neural propose information models\n",
      "\n",
      "translation models training neural language\n",
      "\n",
      "languages language data parsing system\n",
      "\n",
      "dataset question models language task\n",
      "\n",
      "word semantic embeddings models words\n",
      "\n",
      "learning neural propose information models\n",
      "\n",
      "translation models training neural language\n",
      "\n",
      "languages language data parsing system\n",
      "\n",
      "dataset question models language task\n",
      "\n",
      "word semantic embeddings models words\n",
      "\n",
      "learning neural propose information models\n",
      "\n",
      "translation models training neural language\n",
      "\n",
      "languages language data parsing system\n",
      "\n",
      "dataset question models language task\n",
      "\n",
      "word semantic embeddings models words\n",
      "\n",
      "learning neural propose information models\n",
      "\n",
      "translation models training neural language\n",
      "\n",
      "languages language data parsing system\n",
      "\n",
      "dataset question models language task\n",
      "\n"
     ]
    }
   ],
   "source": [
    "for item in year_list:\n",
    "    di, td = a_function(item[0], item[1], 5)\n",
    "\n",
    "    topic_list.append(di)\n",
    "    data_list.append(td)"
   ]
  },
  {
   "cell_type": "code",
   "execution_count": 70,
   "metadata": {
    "scrolled": true
   },
   "outputs": [],
   "source": [
    "#f(t,i) is the sum of theta d/i for all documents that published at time t / sum of document published in time t  \n",
    "f_list = []\n",
    "    \n",
    "for t in range(K):\n",
    "    #print('topic is ' + str(t))\n",
    "    l1 = []\n",
    "    \n",
    "    for year in range(len(data_list)):\n",
    "        \n",
    "        #print(\"the year is:\" + str(year))\n",
    "    \n",
    "        f = (topic_list[year][t]) / data_list[year]\n",
    "        l1.append(f)\n",
    "        #print(l1)\n",
    "    \n",
    "    f_list.append(l1)\n",
    "    #print('f is ' + str(f))"
   ]
  },
  {
   "cell_type": "code",
   "execution_count": 84,
   "metadata": {},
   "outputs": [],
   "source": [
    "import matplotlib.pyplot as plt\n",
    "\n",
    "def plot_category(a,b, topic):\n",
    "    plt.title(topic)\n",
    "    plt.xlabel('Years')\n",
    "    plt.ylabel('Distribution')\n",
    "    plt.plot(a,b)\n",
    "    plt.show()\n"
   ]
  },
  {
   "cell_type": "code",
   "execution_count": 90,
   "metadata": {},
   "outputs": [
    {
     "data": {
      "image/png": "[encoded data removed]",
      "text/plain": [
       "<Figure size 432x288 with 1 Axes>"
      ]
     },
     "metadata": {
      "needs_background": "light"
     },
     "output_type": "display_data"
    }
   ],
   "source": [
    "a=[2013, 2014, 2015, 2016, 2017, 2018, 2019, 2020]\n",
    "t_1 =f_list[0]\n",
    "plot_category(a,t_1, 'Topic 1: word semantic embeddings models words')\n"
   ]
  },
  {
   "cell_type": "code",
   "execution_count": 86,
   "metadata": {
    "scrolled": true
   },
   "outputs": [
    {
     "data": {
      "image/png": "[encoded data removed]",
      "text/plain": [
       "<Figure size 432x288 with 1 Axes>"
      ]
     },
     "metadata": {
      "needs_background": "light"
     },
     "output_type": "display_data"
    }
   ],
   "source": [
    "t_2 =f_list[1]\n",
    "plot_category(a,t_2, 'Topic 2: learning neural propose information models')"
   ]
  },
  {
   "cell_type": "code",
   "execution_count": 87,
   "metadata": {},
   "outputs": [
    {
     "data": {
      "image/png": "[encoded data removed]",
      "text/plain": [
       "<Figure size 432x288 with 1 Axes>"
      ]
     },
     "metadata": {
      "needs_background": "light"
     },
     "output_type": "display_data"
    }
   ],
   "source": [
    "t_3 =f_list[2]\n",
    "plot_category(a,t_3, 'Topic 3: translation models training neural language')"
   ]
  },
  {
   "cell_type": "code",
   "execution_count": 88,
   "metadata": {},
   "outputs": [
    {
     "data": {
      "image/png": "[encoded data removed]",
      "text/plain": [
       "<Figure size 432x288 with 1 Axes>"
      ]
     },
     "metadata": {
      "needs_background": "light"
     },
     "output_type": "display_data"
    }
   ],
   "source": [
    "t_4 =f_list[3]\n",
    "plot_category(a,t_4, 'Topic 4: languages language data parsing system')"
   ]
  },
  {
   "cell_type": "code",
   "execution_count": 89,
   "metadata": {},
   "outputs": [
    {
     "data": {
      "image/png": "[encoded data removed]",
      "text/plain": [
       "<Figure size 432x288 with 1 Axes>"
      ]
     },
     "metadata": {
      "needs_background": "light"
     },
     "output_type": "display_data"
    }
   ],
   "source": [
    "t_5 =f_list[4]\n",
    "plot_category(a,t_5, 'Topic 5: dataset question models language task')"
   ]
  },
  {
   "cell_type": "code",
   "execution_count": null,
   "metadata": {},
   "outputs": [],
   "source": []
  }
 ],
 "metadata": {
  "kernelspec": {
   "display_name": "Python 3 (ipykernel)",
   "language": "python",
   "name": "python3"
  },
  "language_info": {
   "codemirror_mode": {
    "name": "ipython",
    "version": 3
   },
   "file_extension": ".py",
   "mimetype": "text/x-python",
   "name": "python",
   "nbconvert_exporter": "python",
   "pygments_lexer": "ipython3",
   "version": "3.8.8"
  }
 },
 "nbformat": 4,
 "nbformat_minor": 2
}
