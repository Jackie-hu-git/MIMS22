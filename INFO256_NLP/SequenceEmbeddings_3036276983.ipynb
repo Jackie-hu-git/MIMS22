{
 "cells": [
  {
   "cell_type": "markdown",
   "id": "6a41b9af",
   "metadata": {},
   "source": [
    "Children often ask their caregivers to find episodes of their favorite TV shows based only on a very short (and loosely relevant!) description of it (\"the one where Arthur has a wiggly tooth\") but video services like Netflix and Amazon don't currently provide such content-based search. Given summaries of each episode, can we use sequence embeddings to solve this retrieval problem?\n",
    "\n",
    "Before beginning this homework, install the following libraries:\n",
    "\n",
    "```sh\n",
    "conda install -c huggingface transformers\n",
    "pip install -U sentence-transformers\n",
    "conda install -c conda-forge ipywidgets\n",
    "```"
   ]
  },
  {
   "cell_type": "markdown",
   "id": "6feb5a6e",
   "metadata": {},
   "source": [
    "First, let's read in our data for the TV show \"Wild Kratts\" (from [Wikipedia](https://en.wikipedia.org/wiki/List_of_Wild_Kratts_episodes)), which has the following (tab-separated) form:\n",
    "\n",
    "|Episode|Title|Summary|\n",
    "|:-|:-|:-|\n",
    "|1|Mom of a Croc|At the Nile River, zoologists Chris and Martin Kratt (voiced by their real-world selves) are on a mission to show one of their fellow Wild Kratts team members—brilliant young inventor Aviva Corcovado (Athena Karkanis)—that there's more to crocodiles than just violence and snapping jaws. After shrinking themselves down to a few inches tall by using Aviva's Miniaturizer invention, the Kratt Brothers disguise themselves as crocodile eggs and sneak into a mother crocodile's new nest. In the Wild Kratts team's turtle-shaped aircraft and headquarters—the Tortuga, one of Aviva's greatest inventions—the Wild Kratts tech team, consisting of Aviva, communications expert and mechanic Koki (Heather Bambrick), and skilled pilot Jimmy Z (Jonathan Malen) monitor Chris and Martin and watch as the mother crocodile faithfully guards her nest against predators for months without even eating anything. Eventually, as the crocodile eggs hatch and the crocodile mom uses her mouth to carry several of her newly hatched babies to the river, Aviva changes her mind about crocodiles and decides that these reptiles are in fact caring and dedicated mothers. But when the mother crocodile leaves the river to go get more hatchlings from her nest, predators threaten the first batch of baby crocodiles. The Kratt Brothers must use the incredible Creature Power Suits—two of Aviva's inventions—to gain the abilities of crocodiles and protect the vulnerable crocodile hatchlings.|\n",
    "|2|Whale of a Squid|The Kratt Brothers use Aviva's amphipod-inspired submersible, the Amphisub, to dive into the deep waters of the Southern Ocean. There, they witness a never-before-seen wildlife moment: a battle between a sperm whale and a giant squid. However, the water pressure at the extreme depths where the battle is taking place badly damages and partially crushes the Amphisub, forcing Aviva to use her new ExtendoArm invention to pull the submersible back to the Tortuga. To allow Chris and Martin to return to the site of the whale-versus-squid battle, Aviva programs two new Creature Power Suits—Sperm Whale Power for Chris, and Squid Power for Martin. The Kratt Brothers use their new Creature Powers to dive back into the deep sea, where the sperm whale and the giant squid are still locked in combat. Suddenly, the sperm whale becomes entangled in a discarded fishing net and begins sinking toward an area full of underwater volcanoes. To make matters worse, a colossal squid attacks the sperm whale's calf. Chris and Martin must put their Creature Powers of both sperm whale and squid to good use to rescue the mother sperm whale and her calf.|\n"
   ]
  },
  {
   "cell_type": "code",
   "execution_count": 1,
   "id": "2a4afb8d",
   "metadata": {},
   "outputs": [],
   "source": [
    "def read_data(filename):\n",
    "    data=[]\n",
    "    with open(filename, encoding=\"utf-8\") as file:\n",
    "        for line in file:\n",
    "            cols=line.rstrip().split(\"\\t\")\n",
    "            episode=cols[0]\n",
    "            title=cols[1]\n",
    "            summary=cols[2]\n",
    "            data.append((episode, title, summary))\n",
    "    return data"
   ]
  },
  {
   "cell_type": "code",
   "execution_count": 2,
   "id": "9a84627e",
   "metadata": {},
   "outputs": [],
   "source": [
    "data=read_data(\"../data/wild_kratts_episodes.txt\")"
   ]
  },
  {
   "cell_type": "code",
   "execution_count": 3,
   "id": "6c13e886",
   "metadata": {},
   "outputs": [],
   "source": [
    "def get_document_reps_for_data(data, sequence_embedding_function, model):\n",
    "    \n",
    "    # This function applies the sequence_embedding_function argument (a function itself) to the summary\n",
    "    # element in the input data list, and returns a copy of that list with an embedding of that summary attached.\n",
    "    \n",
    "    data_with_reps=[]\n",
    "    \n",
    "    for episode, title, summary in data:\n",
    "        data_with_reps.append((episode, title, summary, sequence_embedding_function(model, summary)))\n",
    "    \n",
    "    return data_with_reps"
   ]
  },
  {
   "cell_type": "code",
   "execution_count": 4,
   "id": "6ccd4ec3",
   "metadata": {},
   "outputs": [],
   "source": [
    "def cosine_similarity(a, b):\n",
    "    return np.dot(a, b)/(np.linalg.norm(a)*np.linalg.norm(b))"
   ]
  },
  {
   "cell_type": "markdown",
   "id": "187f6781",
   "metadata": {},
   "source": [
    "First, we may be tempted to use the [CLS] token for BERT to represent an entire input string (as is often done in *supervised* document classification models).  How well does this work as an out-of-the-box document representation not optimized for our particular task?"
   ]
  },
  {
   "cell_type": "code",
   "execution_count": 5,
   "id": "1cecba2b",
   "metadata": {},
   "outputs": [],
   "source": [
    "from transformers import BertModel, BertTokenizer\n",
    "import numpy as np\n",
    "from sentence_transformers import SentenceTransformer"
   ]
  },
  {
   "cell_type": "code",
   "execution_count": 6,
   "id": "39709416",
   "metadata": {},
   "outputs": [
    {
     "name": "stderr",
     "output_type": "stream",
     "text": [
      "Some weights of the model checkpoint at bert-base-uncased were not used when initializing BertModel: ['cls.predictions.bias', 'cls.predictions.transform.dense.bias', 'cls.predictions.transform.dense.weight', 'cls.predictions.transform.LayerNorm.bias', 'cls.seq_relationship.bias', 'cls.seq_relationship.weight', 'cls.predictions.transform.LayerNorm.weight', 'cls.predictions.decoder.weight']\n",
      "- This IS expected if you are initializing BertModel from the checkpoint of a model trained on another task or with another architecture (e.g. initializing a BertForSequenceClassification model from a BertForPreTraining model).\n",
      "- This IS NOT expected if you are initializing BertModel from the checkpoint of a model that you expect to be exactly identical (initializing a BertForSequenceClassification model from a BertForSequenceClassification model).\n"
     ]
    }
   ],
   "source": [
    "tokenizer = BertTokenizer.from_pretrained('bert-base-uncased')\n",
    "model = BertModel.from_pretrained('bert-base-uncased')"
   ]
  },
  {
   "cell_type": "markdown",
   "id": "3a9782f0",
   "metadata": {},
   "source": [
    "**Q1**: Fill out the `get_cls_token_for_doc` function to return the [CLS] embedding for the input string.  The output should be a single 768-dimensional numpy vector (see `4.embeddings/BERT.ipynb` for converting between a pytorch tensor and a numpy object)."
   ]
  },
  {
   "cell_type": "code",
   "execution_count": 68,
   "id": "666851c7",
   "metadata": {},
   "outputs": [],
   "source": [
    "def get_cls_token_for_doc(model, string):\n",
    "    inputs = tokenizer(string, return_tensors=\"pt\")\n",
    "    # your code goes here\n",
    "    \n",
    "    #getting the tokens\n",
    "    tokenizer.convert_ids_to_tokens(inputs[\"input_ids\"][0])\n",
    "    \n",
    "    outputs = model(**inputs)\n",
    "    \n",
    "    #last_hidden_states = outputs.last_hidden_state\n",
    "    \n",
    "    return outputs.last_hidden_state[0].detach().numpy()[2]"
   ]
  },
  {
   "cell_type": "code",
   "execution_count": 69,
   "id": "3a69de05",
   "metadata": {},
   "outputs": [],
   "source": [
    "bert_cls_data=get_document_reps_for_data(data, get_cls_token_for_doc, model)"
   ]
  },
  {
   "cell_type": "markdown",
   "id": "11e7afe7",
   "metadata": {},
   "source": [
    "**Q2**: Use these representations to find the episode that is most similar to the description \"The one where they bounce back in time\" by having the highest cosine similarity between representations.  A sample function shell `run_query` is provided below, along with the only arguments you need, but feel free to adapt it as you see fit."
   ]
  },
  {
   "cell_type": "code",
   "execution_count": 71,
   "id": "fceee614",
   "metadata": {
    "scrolled": true
   },
   "outputs": [],
   "source": [
    "query=\"The one where they bounce back in time\""
   ]
  },
  {
   "cell_type": "code",
   "execution_count": 82,
   "id": "864ba3ef",
   "metadata": {},
   "outputs": [],
   "source": [
    "def run_query(query, data_with_reps, sequence_embedding_function, model):\n",
    "    # your code goes here\n",
    "    vals = []\n",
    "    \n",
    "    for eps in data_with_reps:\n",
    "        comp_rep = sequence_embedding_function(model, query)\n",
    "        cos_sim = cosine_similarity(eps[3], comp_rep)\n",
    "        vals.append((cos_sim, query, eps[0]))\n",
    "        \n",
    "    for c, q, s in reversed(sorted(vals)):\n",
    "        print(\"%.3f\\t%s\\t%s\" % (c, q, s))"
   ]
  },
  {
   "cell_type": "code",
   "execution_count": 83,
   "id": "f08df36b",
   "metadata": {},
   "outputs": [
    {
     "name": "stdout",
     "output_type": "stream",
     "text": [
      "0.396\tThe one where they bounce back in time\t62\n",
      "0.377\tThe one where they bounce back in time\t111\n",
      "0.373\tThe one where they bounce back in time\t75\n",
      "0.369\tThe one where they bounce back in time\t92\n",
      "0.366\tThe one where they bounce back in time\t44\n",
      "0.365\tThe one where they bounce back in time\t81\n",
      "0.350\tThe one where they bounce back in time\t65\n",
      "0.348\tThe one where they bounce back in time\t32\n",
      "0.347\tThe one where they bounce back in time\t1\n",
      "0.347\tThe one where they bounce back in time\t118\n",
      "0.345\tThe one where they bounce back in time\t102\n",
      "0.342\tThe one where they bounce back in time\t150\n",
      "0.333\tThe one where they bounce back in time\t5\n",
      "0.332\tThe one where they bounce back in time\t96\n",
      "0.330\tThe one where they bounce back in time\t30\n",
      "0.328\tThe one where they bounce back in time\t36\n",
      "0.323\tThe one where they bounce back in time\t46\n",
      "0.318\tThe one where they bounce back in time\t91\n",
      "0.318\tThe one where they bounce back in time\t88\n",
      "0.315\tThe one where they bounce back in time\t121\n",
      "0.312\tThe one where they bounce back in time\t132\n",
      "0.307\tThe one where they bounce back in time\t55\n",
      "0.304\tThe one where they bounce back in time\t87\n",
      "0.302\tThe one where they bounce back in time\t149\n",
      "0.302\tThe one where they bounce back in time\t119\n",
      "0.300\tThe one where they bounce back in time\t74\n",
      "0.299\tThe one where they bounce back in time\t139\n",
      "0.299\tThe one where they bounce back in time\t4\n",
      "0.298\tThe one where they bounce back in time\t130\n",
      "0.297\tThe one where they bounce back in time\t11\n",
      "0.296\tThe one where they bounce back in time\t127\n",
      "0.295\tThe one where they bounce back in time\t59\n",
      "0.294\tThe one where they bounce back in time\t86\n",
      "0.294\tThe one where they bounce back in time\t66\n",
      "0.294\tThe one where they bounce back in time\t131\n",
      "0.294\tThe one where they bounce back in time\t58\n",
      "0.290\tThe one where they bounce back in time\t73\n",
      "0.290\tThe one where they bounce back in time\t8\n",
      "0.287\tThe one where they bounce back in time\t15\n",
      "0.287\tThe one where they bounce back in time\t112\n",
      "0.287\tThe one where they bounce back in time\t77\n",
      "0.286\tThe one where they bounce back in time\t138\n",
      "0.286\tThe one where they bounce back in time\t21\n",
      "0.286\tThe one where they bounce back in time\t9\n",
      "0.285\tThe one where they bounce back in time\t10\n",
      "0.284\tThe one where they bounce back in time\t24\n",
      "0.284\tThe one where they bounce back in time\t12\n",
      "0.283\tThe one where they bounce back in time\t128\n",
      "0.283\tThe one where they bounce back in time\t89\n",
      "0.282\tThe one where they bounce back in time\t100\n",
      "0.280\tThe one where they bounce back in time\t33\n",
      "0.279\tThe one where they bounce back in time\t70\n",
      "0.278\tThe one where they bounce back in time\t84\n",
      "0.278\tThe one where they bounce back in time\t25\n",
      "0.277\tThe one where they bounce back in time\t141\n",
      "0.277\tThe one where they bounce back in time\t122\n",
      "0.276\tThe one where they bounce back in time\t137\n",
      "0.275\tThe one where they bounce back in time\t72\n",
      "0.273\tThe one where they bounce back in time\t95\n",
      "0.273\tThe one where they bounce back in time\t90\n",
      "0.270\tThe one where they bounce back in time\t117\n",
      "0.269\tThe one where they bounce back in time\t41\n",
      "0.269\tThe one where they bounce back in time\t106\n",
      "0.268\tThe one where they bounce back in time\t79\n",
      "0.268\tThe one where they bounce back in time\t98\n",
      "0.268\tThe one where they bounce back in time\t152\n",
      "0.267\tThe one where they bounce back in time\t82\n",
      "0.266\tThe one where they bounce back in time\t69\n",
      "0.266\tThe one where they bounce back in time\t145\n",
      "0.264\tThe one where they bounce back in time\t146\n",
      "0.264\tThe one where they bounce back in time\t31\n",
      "0.263\tThe one where they bounce back in time\t71\n",
      "0.263\tThe one where they bounce back in time\t103\n",
      "0.259\tThe one where they bounce back in time\t68\n",
      "0.259\tThe one where they bounce back in time\t29\n",
      "0.258\tThe one where they bounce back in time\t148\n",
      "0.257\tThe one where they bounce back in time\t27\n",
      "0.256\tThe one where they bounce back in time\t123\n",
      "0.256\tThe one where they bounce back in time\t67\n",
      "0.254\tThe one where they bounce back in time\t126\n",
      "0.254\tThe one where they bounce back in time\t124\n",
      "0.252\tThe one where they bounce back in time\t26\n",
      "0.252\tThe one where they bounce back in time\t80\n",
      "0.251\tThe one where they bounce back in time\t54\n",
      "0.251\tThe one where they bounce back in time\t136\n",
      "0.250\tThe one where they bounce back in time\t147\n",
      "0.249\tThe one where they bounce back in time\t115\n",
      "0.249\tThe one where they bounce back in time\t125\n",
      "0.248\tThe one where they bounce back in time\t52\n",
      "0.247\tThe one where they bounce back in time\t28\n",
      "0.247\tThe one where they bounce back in time\t34\n",
      "0.247\tThe one where they bounce back in time\t108\n",
      "0.246\tThe one where they bounce back in time\t83\n",
      "0.245\tThe one where they bounce back in time\t35\n",
      "0.243\tThe one where they bounce back in time\t53\n",
      "0.242\tThe one where they bounce back in time\t47\n",
      "0.240\tThe one where they bounce back in time\t50\n",
      "0.240\tThe one where they bounce back in time\t116\n",
      "0.240\tThe one where they bounce back in time\t113\n",
      "0.240\tThe one where they bounce back in time\t42\n",
      "0.239\tThe one where they bounce back in time\t143\n",
      "0.239\tThe one where they bounce back in time\t99\n",
      "0.239\tThe one where they bounce back in time\t40\n",
      "0.238\tThe one where they bounce back in time\t57\n",
      "0.235\tThe one where they bounce back in time\t120\n",
      "0.235\tThe one where they bounce back in time\t78\n",
      "0.233\tThe one where they bounce back in time\t17\n",
      "0.232\tThe one where they bounce back in time\t37\n",
      "0.231\tThe one where they bounce back in time\t43\n",
      "0.227\tThe one where they bounce back in time\t51\n",
      "0.224\tThe one where they bounce back in time\t105\n",
      "0.224\tThe one where they bounce back in time\t85\n",
      "0.223\tThe one where they bounce back in time\t151\n",
      "0.222\tThe one where they bounce back in time\t104\n",
      "0.221\tThe one where they bounce back in time\t56\n",
      "0.221\tThe one where they bounce back in time\t19\n",
      "0.219\tThe one where they bounce back in time\t60\n",
      "0.218\tThe one where they bounce back in time\t76\n",
      "0.217\tThe one where they bounce back in time\t20\n",
      "0.216\tThe one where they bounce back in time\t140\n",
      "0.216\tThe one where they bounce back in time\t107\n",
      "0.215\tThe one where they bounce back in time\t16\n",
      "0.212\tThe one where they bounce back in time\t7\n",
      "0.210\tThe one where they bounce back in time\t3\n",
      "0.210\tThe one where they bounce back in time\t14\n",
      "0.209\tThe one where they bounce back in time\t110\n",
      "0.208\tThe one where they bounce back in time\t129\n",
      "0.207\tThe one where they bounce back in time\t94\n",
      "0.206\tThe one where they bounce back in time\t114\n",
      "0.206\tThe one where they bounce back in time\t63\n",
      "0.205\tThe one where they bounce back in time\t93\n",
      "0.203\tThe one where they bounce back in time\t101\n",
      "0.196\tThe one where they bounce back in time\t23\n",
      "0.193\tThe one where they bounce back in time\t45\n",
      "0.192\tThe one where they bounce back in time\t18\n",
      "0.191\tThe one where they bounce back in time\t142\n",
      "0.190\tThe one where they bounce back in time\t49\n",
      "0.189\tThe one where they bounce back in time\t48\n",
      "0.187\tThe one where they bounce back in time\t109\n",
      "0.186\tThe one where they bounce back in time\t39\n",
      "0.182\tThe one where they bounce back in time\t61\n",
      "0.181\tThe one where they bounce back in time\t64\n",
      "0.179\tThe one where they bounce back in time\t97\n",
      "0.178\tThe one where they bounce back in time\t133\n",
      "0.171\tThe one where they bounce back in time\t6\n",
      "0.170\tThe one where they bounce back in time\t134\n",
      "0.167\tThe one where they bounce back in time\t13\n",
      "0.162\tThe one where they bounce back in time\t2\n",
      "0.143\tThe one where they bounce back in time\t22\n",
      "0.130\tThe one where they bounce back in time\t135\n",
      "0.124\tThe one where they bounce back in time\t144\n",
      "0.105\tThe one where they bounce back in time\t38\n"
     ]
    }
   ],
   "source": [
    "run_query(query, bert_cls_data, get_cls_token_for_doc, model)"
   ]
  },
  {
   "cell_type": "markdown",
   "id": "e907772a",
   "metadata": {},
   "source": [
    "Now let's try a sentence embedding model that was optimized for generating sentence representations: Sentence-BERT ([Reimers and Gurevych 2019](https://arxiv.org/pdf/1908.10084.pdf)).  Example usage (in the context of the Huggingface transformers library) can be found [here](https://www.sbert.net)."
   ]
  },
  {
   "cell_type": "code",
   "execution_count": 84,
   "id": "db44111c",
   "metadata": {},
   "outputs": [
    {
     "data": {
      "application/vnd.jupyter.widget-view+json": {
       "model_id": "69cd31370adb4f9eb294fd9e64b86b30",
       "version_major": 2,
       "version_minor": 0
      },
      "text/plain": [
       "Downloading:   0%|          | 0.00/737 [00:00<?, ?B/s]"
      ]
     },
     "metadata": {},
     "output_type": "display_data"
    },
    {
     "data": {
      "application/vnd.jupyter.widget-view+json": {
       "model_id": "6fbc50434e034d97b9024f14c4ae7d82",
       "version_major": 2,
       "version_minor": 0
      },
      "text/plain": [
       "Downloading:   0%|          | 0.00/9.86k [00:00<?, ?B/s]"
      ]
     },
     "metadata": {},
     "output_type": "display_data"
    },
    {
     "data": {
      "application/vnd.jupyter.widget-view+json": {
       "model_id": "a7dcef4201224f04a5c83d12dc551a29",
       "version_major": 2,
       "version_minor": 0
      },
      "text/plain": [
       "Downloading:   0%|          | 0.00/653 [00:00<?, ?B/s]"
      ]
     },
     "metadata": {},
     "output_type": "display_data"
    },
    {
     "data": {
      "application/vnd.jupyter.widget-view+json": {
       "model_id": "3ebbb01d3e7d43e8b7f7ff3d399de957",
       "version_major": 2,
       "version_minor": 0
      },
      "text/plain": [
       "Downloading:   0%|          | 0.00/116 [00:00<?, ?B/s]"
      ]
     },
     "metadata": {},
     "output_type": "display_data"
    },
    {
     "data": {
      "application/vnd.jupyter.widget-view+json": {
       "model_id": "24f8f8bbea0f4e3cb529003183675121",
       "version_major": 2,
       "version_minor": 0
      },
      "text/plain": [
       "Downloading:   0%|          | 0.00/15.7k [00:00<?, ?B/s]"
      ]
     },
     "metadata": {},
     "output_type": "display_data"
    },
    {
     "data": {
      "application/vnd.jupyter.widget-view+json": {
       "model_id": "806add9e4eb648ffafb4dca835924db9",
       "version_major": 2,
       "version_minor": 0
      },
      "text/plain": [
       "Downloading:   0%|          | 0.00/456k [00:00<?, ?B/s]"
      ]
     },
     "metadata": {},
     "output_type": "display_data"
    },
    {
     "data": {
      "application/vnd.jupyter.widget-view+json": {
       "model_id": "357127caf5934f979dde3f5ff2997076",
       "version_major": 2,
       "version_minor": 0
      },
      "text/plain": [
       "Downloading:   0%|          | 0.00/349 [00:00<?, ?B/s]"
      ]
     },
     "metadata": {},
     "output_type": "display_data"
    },
    {
     "data": {
      "application/vnd.jupyter.widget-view+json": {
       "model_id": "17b12a1b8182400fb576c4f35028527c",
       "version_major": 2,
       "version_minor": 0
      },
      "text/plain": [
       "Downloading:   0%|          | 0.00/329M [00:00<?, ?B/s]"
      ]
     },
     "metadata": {},
     "output_type": "display_data"
    },
    {
     "data": {
      "application/vnd.jupyter.widget-view+json": {
       "model_id": "d4b142d9f17b4e6cbedabe0348505a34",
       "version_major": 2,
       "version_minor": 0
      },
      "text/plain": [
       "Downloading:   0%|          | 0.00/53.0 [00:00<?, ?B/s]"
      ]
     },
     "metadata": {},
     "output_type": "display_data"
    },
    {
     "data": {
      "application/vnd.jupyter.widget-view+json": {
       "model_id": "84d6078b57fc4897b87b438b19c29836",
       "version_major": 2,
       "version_minor": 0
      },
      "text/plain": [
       "Downloading:   0%|          | 0.00/239 [00:00<?, ?B/s]"
      ]
     },
     "metadata": {},
     "output_type": "display_data"
    },
    {
     "data": {
      "application/vnd.jupyter.widget-view+json": {
       "model_id": "25b42bc359de4f48befc2525eb4035a2",
       "version_major": 2,
       "version_minor": 0
      },
      "text/plain": [
       "Downloading:   0%|          | 0.00/1.36M [00:00<?, ?B/s]"
      ]
     },
     "metadata": {},
     "output_type": "display_data"
    },
    {
     "data": {
      "application/vnd.jupyter.widget-view+json": {
       "model_id": "71ba8625a54c4e6689a1018e2687bfed",
       "version_major": 2,
       "version_minor": 0
      },
      "text/plain": [
       "Downloading:   0%|          | 0.00/333 [00:00<?, ?B/s]"
      ]
     },
     "metadata": {},
     "output_type": "display_data"
    },
    {
     "data": {
      "application/vnd.jupyter.widget-view+json": {
       "model_id": "385a34b476be418599332c4c518710fd",
       "version_major": 2,
       "version_minor": 0
      },
      "text/plain": [
       "Downloading:   0%|          | 0.00/13.1k [00:00<?, ?B/s]"
      ]
     },
     "metadata": {},
     "output_type": "display_data"
    },
    {
     "data": {
      "application/vnd.jupyter.widget-view+json": {
       "model_id": "82d0efc4867e480781ccbe8f9c7724bc",
       "version_major": 2,
       "version_minor": 0
      },
      "text/plain": [
       "Downloading:   0%|          | 0.00/798k [00:00<?, ?B/s]"
      ]
     },
     "metadata": {},
     "output_type": "display_data"
    },
    {
     "data": {
      "application/vnd.jupyter.widget-view+json": {
       "model_id": "951752edcff34e2a816ba6ecd46b50b3",
       "version_major": 2,
       "version_minor": 0
      },
      "text/plain": [
       "Downloading:   0%|          | 0.00/190 [00:00<?, ?B/s]"
      ]
     },
     "metadata": {},
     "output_type": "display_data"
    }
   ],
   "source": [
    "sentence_model = SentenceTransformer('sentence-transformers/all-distilroberta-v1')"
   ]
  },
  {
   "cell_type": "markdown",
   "id": "7f63c4cd",
   "metadata": {},
   "source": [
    "**Q3**: Fill out the `get_sentence_embedding` function below to return the sentence embedding for the input string, and use it again to find the episode that is most similar to the description \"The one where they bounce back in time\" by having the highest cosine similarity between representations.  Which method for generating sentence embeddings appears better for this task?"
   ]
  },
  {
   "cell_type": "code",
   "execution_count": 105,
   "id": "ae518e38",
   "metadata": {},
   "outputs": [],
   "source": [
    "def get_sentence_embedding(model, string):\n",
    "    # your code goes here\n",
    "    embeddings = sentence_model.encode(string)\n",
    "    return embeddings"
   ]
  },
  {
   "cell_type": "code",
   "execution_count": 106,
   "id": "7a910f9c",
   "metadata": {},
   "outputs": [
    {
     "data": {
      "text/plain": [
       "array([ 2.21291883e-03,  1.46007640e-02,  2.03430578e-02,  1.27137015e-02,\n",
       "        1.35774920e-02,  3.19657773e-02, -7.94165395e-03,  5.24583161e-02,\n",
       "        2.90296637e-02, -1.41363693e-02,  4.94237766e-02, -2.31884580e-04,\n",
       "       -4.03048992e-02, -6.15077540e-02,  9.52694193e-03, -7.15107704e-03,\n",
       "       -6.67671785e-02, -4.34239171e-02, -1.10399239e-02, -2.21695676e-02,\n",
       "       -1.34791841e-03, -3.53775956e-02, -7.93617591e-02,  8.38638619e-02,\n",
       "       -3.64556462e-02,  1.69570819e-02, -8.85298103e-02,  1.07683558e-02,\n",
       "       -8.18700530e-03,  3.06761004e-02,  1.76261924e-02, -1.28581850e-02,\n",
       "        2.35316176e-02,  6.67219236e-02,  5.61144166e-02,  3.27455346e-03,\n",
       "       -4.85332571e-02, -9.01158492e-04,  6.27200492e-03, -5.37139736e-03,\n",
       "        1.40093248e-02,  1.00574549e-03,  2.96798851e-02,  1.23534417e-02,\n",
       "       -1.32677779e-02, -6.48900867e-03,  1.86410528e-02,  4.17390689e-02,\n",
       "       -1.89139359e-02, -3.09142452e-02,  3.27500366e-02,  2.01369170e-02,\n",
       "        3.56953824e-03, -3.77495885e-02,  1.06609203e-02,  5.49859665e-02,\n",
       "       -1.41724269e-03, -1.52485780e-02, -1.37812691e-02,  1.48049816e-02,\n",
       "        2.49714293e-02, -9.09428224e-02, -2.07985006e-03,  2.63621733e-02,\n",
       "        3.11674410e-03,  2.14692149e-02, -1.30433282e-02, -7.28110597e-02,\n",
       "        1.96592454e-02, -1.46719180e-02,  1.44420527e-02,  2.45864019e-02,\n",
       "       -4.54400778e-02,  2.89853720e-04,  7.60145532e-03,  3.64723196e-03,\n",
       "       -1.69990733e-02, -6.93664700e-02, -1.38491075e-02,  2.56028473e-02,\n",
       "       -3.50530520e-02,  7.26699308e-02, -4.05667834e-02,  1.06763688e-03,\n",
       "        4.28503491e-02, -6.79032430e-02, -1.14855748e-02, -1.70884803e-02,\n",
       "        9.46743507e-03,  2.67948955e-02, -9.88203473e-03,  4.40861844e-02,\n",
       "        5.08677177e-02,  3.89164500e-02, -3.79183963e-02, -9.36778076e-03,\n",
       "       -2.02575196e-02,  1.25979796e-01, -1.92892291e-02,  5.68098156e-03,\n",
       "       -4.03489619e-02,  5.32163270e-02, -5.44315018e-03,  5.55830076e-02,\n",
       "       -7.20151141e-03,  1.84596481e-03, -3.76855652e-03,  2.94402204e-02,\n",
       "        2.28764433e-02,  3.08500882e-02, -4.25108112e-02,  2.08726246e-02,\n",
       "       -3.65397800e-03,  5.86143807e-02, -1.33511070e-02, -1.16881272e-02,\n",
       "        2.20061373e-02, -2.04156861e-02, -3.02557778e-02,  3.20698917e-02,\n",
       "        2.08282471e-02, -1.23807220e-02,  4.24493626e-02,  3.32105085e-02,\n",
       "        7.04018101e-02,  9.06893332e-03, -4.06467430e-02, -1.51359066e-01,\n",
       "       -3.29957567e-02, -8.76825154e-02,  1.20234238e-02, -4.67043854e-02,\n",
       "        4.51379009e-02,  7.87090417e-03, -1.95024759e-02,  3.00189126e-02,\n",
       "        4.17987891e-02,  1.60717387e-02,  4.48036101e-03,  3.45836878e-02,\n",
       "        3.99757698e-02,  2.72923447e-02, -1.91768585e-03,  1.79524515e-02,\n",
       "        3.38673145e-02, -3.37349288e-02,  1.51583888e-02,  2.06432026e-02,\n",
       "       -2.84546819e-02, -5.17852344e-02,  8.12441483e-02, -1.81690678e-02,\n",
       "        2.23133969e-03,  4.92140017e-02, -5.06111374e-03,  1.92196853e-02,\n",
       "       -4.71705347e-02,  9.11280606e-03,  3.81658785e-02,  4.57479917e-02,\n",
       "        1.16539588e-02, -1.53999710e-02, -1.48039078e-02,  1.64523441e-02,\n",
       "       -3.35796946e-03, -4.39754650e-02, -3.30474451e-02, -8.44774942e-04,\n",
       "        6.27329051e-02, -2.32955087e-02, -2.20720116e-02,  4.58791927e-02,\n",
       "        5.94791099e-02, -5.52829504e-02,  3.45610492e-02,  6.18197396e-02,\n",
       "       -5.13229556e-02,  8.08027610e-02,  2.34802328e-02,  3.61699909e-02,\n",
       "       -4.68614744e-03, -2.40609725e-03,  7.38980100e-02, -5.79677196e-03,\n",
       "       -1.63228661e-02,  1.58600044e-02, -3.31827104e-02, -2.26014368e-02,\n",
       "       -4.26743664e-02, -2.03661229e-02,  4.15895320e-02, -3.00418194e-02,\n",
       "       -2.63435598e-02, -1.28771281e-02, -2.58608758e-02, -6.30370453e-02,\n",
       "        9.14851651e-02, -1.95028745e-02,  1.56084625e-02, -1.98379196e-02,\n",
       "        1.71796791e-02,  1.22316694e-02,  1.09745778e-01, -1.12986630e-02,\n",
       "        4.90177125e-02, -1.59105342e-02, -1.33282430e-02,  5.45077436e-02,\n",
       "       -1.35276113e-02, -1.49595123e-02,  1.20830687e-03, -4.54155961e-03,\n",
       "       -1.98911913e-02, -2.28482541e-02, -2.25817561e-02,  3.55753466e-03,\n",
       "       -2.80248076e-02,  8.04722607e-02, -1.69929937e-02, -1.18243219e-02,\n",
       "        7.42609054e-02, -3.13200988e-02, -2.71249246e-02, -3.02734300e-02,\n",
       "       -5.73949069e-02,  1.61248166e-02, -1.76638830e-02,  4.97527719e-02,\n",
       "       -1.86391233e-03,  3.01872119e-02, -5.42424023e-02,  5.21208532e-02,\n",
       "        3.47083695e-02,  8.34543444e-03,  2.89557818e-02, -4.73210029e-03,\n",
       "        1.00078307e-01, -2.02751048e-02, -6.53888285e-03, -1.58774480e-02,\n",
       "       -2.55581457e-02, -4.82113939e-03,  2.49504037e-02, -5.64011298e-02,\n",
       "        1.60764754e-02, -1.76009759e-02, -1.66858104e-03,  3.18602063e-02,\n",
       "        2.87729315e-02,  1.61234401e-02,  4.71981131e-02,  3.60711776e-02,\n",
       "        8.81029107e-03, -4.05638739e-02,  3.06993891e-02, -2.26861779e-02,\n",
       "       -2.86178105e-02,  1.46398861e-02,  9.10236873e-03,  6.47793263e-02,\n",
       "       -9.16156732e-03,  3.49191763e-02, -3.98512296e-02,  2.17506830e-02,\n",
       "       -3.80389877e-02,  2.51834132e-02,  2.37333756e-02,  1.13705471e-02,\n",
       "       -4.66702394e-02, -2.15412546e-02, -4.15026024e-03, -1.34915877e-02,\n",
       "        3.03957798e-02,  1.65170282e-02, -4.68902588e-02,  4.30448763e-02,\n",
       "        4.75014932e-03, -2.10781526e-02, -9.00529325e-03, -7.51913711e-03,\n",
       "       -3.50393308e-03, -3.08090951e-02, -1.25842728e-02,  1.97249874e-02,\n",
       "       -3.02418899e-02,  2.49120388e-02,  1.95122194e-02, -1.48757761e-02,\n",
       "       -8.45433958e-03,  2.07474772e-02,  4.29975204e-02,  3.06963157e-02,\n",
       "       -2.70412583e-02,  2.15281337e-03, -1.35459034e-02, -5.44551685e-02,\n",
       "       -2.00507045e-02,  7.40589714e-03,  4.53561923e-04, -3.56789082e-02,\n",
       "       -4.48385105e-02, -4.19514365e-02,  5.66280410e-02,  3.45417224e-02,\n",
       "       -3.31271850e-02, -5.91354333e-02, -2.94692256e-02,  1.45531455e-02,\n",
       "       -1.29651614e-02, -2.08167769e-02, -4.14324440e-02, -7.38277275e-04,\n",
       "       -8.37282650e-03,  5.14540374e-02, -7.97048733e-02,  5.63222857e-04,\n",
       "        1.38438931e-02, -8.54356389e-04, -1.02657499e-02,  7.20910877e-02,\n",
       "        2.64527444e-02,  4.63393927e-02, -5.44629944e-03, -2.24378761e-02,\n",
       "       -6.05147444e-02, -8.12144857e-03,  3.84929497e-03,  3.33278328e-02,\n",
       "        1.48666631e-02,  2.95839664e-02, -1.04039289e-01, -2.54411660e-02,\n",
       "       -3.08515970e-02,  2.64406819e-02, -2.93540582e-02,  6.08844534e-02,\n",
       "        1.52755696e-02, -2.47605890e-02,  3.36184545e-04,  3.19134742e-02,\n",
       "       -4.39078249e-02,  1.57307629e-02,  1.04721906e-02, -6.71743508e-03,\n",
       "       -3.31027294e-03, -6.52832910e-02,  2.69277804e-02,  1.78861199e-03,\n",
       "        4.97643016e-02,  4.67903614e-02, -3.02304495e-02, -2.36002225e-02,\n",
       "       -2.11849064e-03, -3.95075791e-03, -6.50295382e-03, -1.50645478e-02,\n",
       "       -2.40596390e-04,  1.52773233e-02,  3.91860958e-03, -2.34858394e-02,\n",
       "        1.75554713e-03, -1.51093747e-03,  2.17265170e-02, -3.52287851e-02,\n",
       "        1.72481798e-02, -5.95338494e-02, -4.09956351e-02, -6.63001230e-03,\n",
       "        7.63502419e-02,  1.01583241e-03, -7.55239604e-03,  1.41998539e-02,\n",
       "       -1.46027403e-02,  3.80894728e-02,  2.47641969e-02, -2.05197316e-02,\n",
       "        6.24312870e-02, -8.97597745e-02,  1.36640323e-02, -1.64970178e-02,\n",
       "        5.14223166e-02, -3.51534002e-02, -1.45202391e-02,  2.31130440e-02,\n",
       "       -2.37241816e-02,  1.81850139e-02,  5.46971336e-03, -4.16800603e-02,\n",
       "        9.78655517e-02, -1.81357097e-02,  2.49483678e-02, -2.88970657e-02,\n",
       "       -3.74293490e-03,  6.91632256e-02,  9.33621917e-03,  1.82613228e-02,\n",
       "        3.82086150e-02,  2.88215522e-02,  6.31359965e-02, -5.21778911e-02,\n",
       "        5.33160567e-02, -2.54744161e-02,  2.70235687e-02,  1.54799288e-02,\n",
       "       -4.76785526e-02,  5.17638624e-02, -1.59045160e-02, -1.64057184e-02,\n",
       "        3.79515179e-02,  7.65309529e-03,  9.12372023e-03,  6.43153489e-02,\n",
       "        1.27697969e-02,  5.90448491e-02,  1.05696190e-02,  4.63568280e-03,\n",
       "       -1.77777316e-02, -8.73347744e-03,  2.29637343e-02,  7.95334801e-02,\n",
       "        4.97696549e-02,  2.25280114e-02,  3.95001546e-02,  3.02420463e-03,\n",
       "        1.80288237e-02,  2.56689684e-03, -1.29529685e-02, -1.27854105e-03,\n",
       "       -7.42591918e-03, -2.24011764e-02, -2.48855017e-02, -8.55687484e-02,\n",
       "       -5.85518638e-03, -3.30785438e-02,  1.11911877e-03, -5.49122021e-02,\n",
       "        4.05883193e-02,  2.52610967e-02,  1.92099754e-02, -4.84749489e-02,\n",
       "       -1.82878878e-02, -3.54616344e-02,  5.12124151e-02,  4.21108939e-02,\n",
       "       -1.46670556e-02, -1.53476857e-02,  6.14334792e-02,  3.49272713e-02,\n",
       "        3.27575356e-02,  1.67912350e-03, -7.55056888e-02, -1.45413158e-02,\n",
       "       -1.32042579e-02, -5.17149568e-02, -2.84248814e-02, -2.16986239e-02,\n",
       "       -3.08782863e-03,  3.47218998e-02,  1.38619170e-03,  3.78282666e-02,\n",
       "        2.83214240e-03, -1.75256226e-02, -1.62327848e-02,  9.29554552e-03,\n",
       "        1.39869740e-02, -4.91586886e-03, -1.27024734e-02,  5.08511774e-02,\n",
       "        2.84793340e-02,  2.01693531e-02, -2.07730308e-02, -1.24611938e-02,\n",
       "       -4.24916372e-02, -4.03589010e-02, -3.96966795e-03, -1.12628322e-02,\n",
       "       -9.84559581e-02, -3.65020894e-02,  3.17138359e-02,  1.71383545e-02,\n",
       "       -1.38486652e-02, -1.92760099e-02,  1.92616116e-02, -1.44866873e-02,\n",
       "       -1.22793848e-02,  3.09865773e-02, -2.00249758e-02,  4.56785709e-02,\n",
       "        2.67754328e-02, -1.33322980e-02,  3.19032334e-02,  2.64700856e-02,\n",
       "       -1.30730476e-02, -3.52753839e-03,  2.17156510e-33,  1.33138550e-02,\n",
       "       -6.32691607e-02, -5.39007001e-02,  8.55311304e-02, -3.79473157e-02,\n",
       "        6.71645254e-03, -4.49737310e-02,  7.68038929e-02, -1.82718318e-02,\n",
       "       -1.45877227e-02, -4.57998272e-03, -4.13810369e-03, -4.84352894e-02,\n",
       "       -1.85312815e-02,  2.96622496e-02,  4.62089293e-02, -5.45271393e-03,\n",
       "       -4.27619554e-02, -2.26776628e-03, -7.45747704e-03,  3.03296335e-02,\n",
       "        7.30959419e-03, -3.76255140e-02,  2.93690450e-02,  1.10472729e-02,\n",
       "        3.24803330e-02,  2.54544634e-02, -8.85757431e-03,  1.32278968e-02,\n",
       "       -3.85051593e-02, -7.65438098e-03,  8.48209951e-03,  4.03504185e-02,\n",
       "        8.13582074e-03,  8.61408375e-03, -5.66714481e-02, -2.90653631e-02,\n",
       "        1.69131458e-02, -5.38208173e-04,  2.04201452e-02, -5.79386542e-04,\n",
       "       -2.68766545e-02,  3.19870259e-03, -2.54053008e-02,  3.18425372e-02,\n",
       "       -3.37387510e-02, -3.89852971e-02, -1.87378339e-02, -3.57849523e-02,\n",
       "        8.93797167e-03, -1.23559637e-02,  5.30179963e-02, -9.12249554e-03,\n",
       "        6.24284893e-03, -4.70225215e-02,  3.70354876e-02, -6.30526096e-02,\n",
       "       -3.80523615e-02, -1.43564194e-02, -8.69926662e-05, -1.60269008e-03,\n",
       "        4.75796163e-02,  3.00323078e-03,  5.53539507e-02, -3.72805223e-02,\n",
       "       -2.27514841e-02,  5.51960664e-03, -1.16593288e-02,  1.18770134e-02,\n",
       "       -5.34966253e-02, -3.12041733e-02, -2.53740009e-02, -1.18508544e-02,\n",
       "        3.17209847e-02,  2.41814051e-02,  1.74945872e-02, -5.58640435e-02,\n",
       "       -4.69565811e-03, -2.11711954e-02,  1.17525766e-02, -3.19689922e-02,\n",
       "       -1.41299926e-02,  1.79970302e-02,  5.25570028e-02,  3.70890764e-03,\n",
       "        3.91017720e-02,  3.32126804e-02, -3.53420153e-02, -6.92135915e-02,\n",
       "        4.45570238e-02,  3.84343080e-02,  4.53064851e-02,  3.14874351e-02,\n",
       "       -4.38765965e-05,  1.99763384e-02, -9.83823277e-03, -5.66110872e-02,\n",
       "       -5.35560818e-03,  2.28485130e-02,  2.36424543e-02,  2.74402928e-02,\n",
       "       -3.58455218e-02, -5.33464327e-02,  1.65300667e-02,  4.65191714e-03,\n",
       "       -7.90528953e-03, -9.17639732e-02,  6.47867518e-03, -6.85673431e-02,\n",
       "       -3.51829119e-02, -1.01479264e-02,  7.02062175e-02,  3.16270487e-03,\n",
       "        1.72238797e-02, -4.37075458e-02, -4.09999024e-03,  1.74359996e-02,\n",
       "       -2.13136040e-02, -8.76731984e-03,  3.55058610e-02,  5.91446571e-02,\n",
       "       -1.74465440e-02,  3.10921557e-02, -3.56930234e-02,  7.54021853e-02,\n",
       "        2.39817072e-02, -1.43353995e-02, -4.20640446e-02,  3.74372415e-02,\n",
       "        5.21604940e-02, -3.17335650e-02,  2.33216751e-02,  1.02511495e-01,\n",
       "        1.40924603e-02,  8.06194991e-02,  2.54230406e-02,  3.54625061e-02,\n",
       "       -3.01836245e-02,  1.40863471e-02, -6.63911998e-02, -6.05957769e-02,\n",
       "       -4.75138240e-03,  1.26640638e-03,  7.68455677e-03, -1.69133488e-02,\n",
       "       -6.21553808e-02,  6.56201541e-02,  5.58134727e-02, -7.45311156e-02,\n",
       "        1.21466238e-02,  1.41489552e-02, -6.20018654e-02,  9.46553797e-02,\n",
       "        2.27337517e-02, -2.48843320e-02,  1.13459947e-02,  8.44585337e-03,\n",
       "       -9.08971578e-02, -4.53343056e-02,  2.83331480e-02,  6.48867488e-02,\n",
       "        1.71370171e-02,  2.89198346e-02, -3.13544832e-02, -2.93983202e-02,\n",
       "        2.54119895e-02, -4.29376401e-02, -3.70732130e-04, -4.01982293e-02,\n",
       "       -2.23859493e-02, -1.43441539e-02,  3.32331322e-02, -1.36592612e-01,\n",
       "        2.10027490e-02,  3.45640369e-02, -2.24993401e-03,  2.95645036e-02,\n",
       "       -2.94183362e-02,  7.56334662e-02,  4.42030206e-02, -6.86599836e-02,\n",
       "       -3.15298028e-02, -5.26868254e-02, -3.67746279e-02,  2.23003961e-02,\n",
       "       -5.77544421e-02,  2.40107290e-02,  4.00874950e-02, -2.44222209e-03,\n",
       "        3.21263596e-02, -5.11016436e-02, -4.71268734e-03,  4.81284633e-02,\n",
       "       -2.35034097e-02, -1.31728360e-02, -1.04371291e-02, -1.75945032e-02,\n",
       "        1.85968529e-03,  2.49489211e-02, -3.04331002e-03,  2.60488000e-02,\n",
       "        2.57156733e-02, -1.70342624e-02, -6.66107088e-02,  1.63565725e-02,\n",
       "        3.75571032e-03,  2.32964684e-03,  1.29806595e-02, -2.93646497e-03,\n",
       "        8.54911841e-03,  9.20998398e-03, -1.05059324e-02, -1.95238553e-02,\n",
       "       -3.26132141e-02,  5.25490846e-03, -2.80559703e-04,  1.46071287e-02,\n",
       "       -4.10063751e-03,  1.46662667e-02,  3.24111283e-02,  1.15096429e-03,\n",
       "        2.27696523e-02, -5.82251325e-02,  2.30602436e-02,  9.00164992e-03,\n",
       "       -9.11707000e-04,  4.68654893e-02,  3.94302234e-03, -3.11784148e-02,\n",
       "       -3.03201471e-02, -6.22763997e-03, -1.36993630e-02, -7.15379640e-02,\n",
       "       -2.83833966e-02, -4.58457768e-02,  4.19994956e-03,  9.53249075e-03,\n",
       "       -4.10476513e-03, -2.92242263e-02,  3.37043102e-03, -5.71409427e-03,\n",
       "       -4.49105576e-02,  5.04756812e-03, -2.82579064e-02, -1.36668226e-02,\n",
       "        1.31686712e-02, -2.64742263e-02,  1.83658360e-03, -7.73750171e-02,\n",
       "        6.81264549e-02,  6.01057969e-02, -2.66325986e-03,  1.95708573e-02,\n",
       "        6.41155392e-02, -1.23819280e-02,  1.39256716e-02,  1.46918604e-02,\n",
       "       -2.29183193e-02,  7.19881104e-03, -1.75621156e-02, -1.85609125e-02,\n",
       "       -4.86978143e-02, -2.84883601e-04, -3.20848599e-02,  8.21653008e-03,\n",
       "       -8.27786922e-02,  4.78361845e-02,  6.14723284e-03,  2.46668793e-02,\n",
       "       -1.25666236e-04, -4.68023643e-02,  4.28869911e-02,  2.85773873e-02],\n",
       "      dtype=float32)"
      ]
     },
     "execution_count": 106,
     "metadata": {},
     "output_type": "execute_result"
    }
   ],
   "source": [
    "get_sentence_embedding(model, query)"
   ]
  },
  {
   "cell_type": "code",
   "execution_count": 94,
   "id": "e27e6d05",
   "metadata": {},
   "outputs": [],
   "source": [
    "def get_document_reps_for_data(data, sequence_embedding_function, model):\n",
    "    \n",
    "    # This function applies the sequence_embedding_function argument (a function itself) to the summary\n",
    "    # element in the input data list, and returns a copy of that list with an embedding of that summary attached.\n",
    "    \n",
    "    data_with_reps=[]\n",
    "    \n",
    "    for episode, title, summary in data:\n",
    "        data_with_reps.append((episode, title, summary, sequence_embedding_function(model, summary)))\n",
    "    \n",
    "    return data_with_reps"
   ]
  },
  {
   "cell_type": "code",
   "execution_count": 107,
   "id": "dc18d561",
   "metadata": {},
   "outputs": [],
   "source": [
    "sentence_transformer_data=get_document_reps_for_data_new(data, get_sentence_embedding, sentence_model)"
   ]
  },
  {
   "cell_type": "code",
   "execution_count": 97,
   "id": "421063ee",
   "metadata": {},
   "outputs": [],
   "source": [
    "def get_document_reps_for_data_new(data, sequence_embedding_function, model):\n",
    "    \n",
    "    # This function applies the sequence_embedding_function argument (a function itself) to the summary\n",
    "    # element in the input data list, and returns a copy of that list with an embedding of that summary attached.\n",
    "    \n",
    "    data_with_reps=[]\n",
    "    \n",
    "    for episode, title, summary in data:\n",
    "        data_with_reps.append((episode, title, summary, sequence_embedding_function(sentence_model, summary)))\n",
    "    \n",
    "    return data_with_reps"
   ]
  },
  {
   "cell_type": "code",
   "execution_count": 109,
   "id": "6da02ad4",
   "metadata": {
    "scrolled": true
   },
   "outputs": [
    {
     "name": "stdout",
     "output_type": "stream",
     "text": [
      "0.349\tThe one where they bounce back in time\t91\n",
      "0.341\tThe one where they bounce back in time\t76\n",
      "0.335\tThe one where they bounce back in time\t143\n",
      "0.334\tThe one where they bounce back in time\t82\n",
      "0.330\tThe one where they bounce back in time\t47\n",
      "0.325\tThe one where they bounce back in time\t17\n",
      "0.321\tThe one where they bounce back in time\t83\n",
      "0.313\tThe one where they bounce back in time\t121\n",
      "0.306\tThe one where they bounce back in time\t123\n",
      "0.304\tThe one where they bounce back in time\t29\n",
      "0.303\tThe one where they bounce back in time\t84\n",
      "0.293\tThe one where they bounce back in time\t15\n",
      "0.292\tThe one where they bounce back in time\t130\n",
      "0.290\tThe one where they bounce back in time\t43\n",
      "0.289\tThe one where they bounce back in time\t98\n",
      "0.285\tThe one where they bounce back in time\t27\n",
      "0.283\tThe one where they bounce back in time\t13\n",
      "0.281\tThe one where they bounce back in time\t92\n",
      "0.278\tThe one where they bounce back in time\t59\n",
      "0.277\tThe one where they bounce back in time\t6\n",
      "0.277\tThe one where they bounce back in time\t99\n",
      "0.277\tThe one where they bounce back in time\t18\n",
      "0.275\tThe one where they bounce back in time\t104\n",
      "0.274\tThe one where they bounce back in time\t54\n",
      "0.274\tThe one where they bounce back in time\t74\n",
      "0.273\tThe one where they bounce back in time\t52\n",
      "0.272\tThe one where they bounce back in time\t120\n",
      "0.270\tThe one where they bounce back in time\t8\n",
      "0.268\tThe one where they bounce back in time\t22\n",
      "0.267\tThe one where they bounce back in time\t131\n",
      "0.266\tThe one where they bounce back in time\t61\n",
      "0.265\tThe one where they bounce back in time\t23\n",
      "0.265\tThe one where they bounce back in time\t68\n",
      "0.264\tThe one where they bounce back in time\t62\n",
      "0.261\tThe one where they bounce back in time\t89\n",
      "0.261\tThe one where they bounce back in time\t117\n",
      "0.260\tThe one where they bounce back in time\t81\n",
      "0.260\tThe one where they bounce back in time\t10\n",
      "0.260\tThe one where they bounce back in time\t133\n",
      "0.258\tThe one where they bounce back in time\t5\n",
      "0.257\tThe one where they bounce back in time\t57\n",
      "0.257\tThe one where they bounce back in time\t151\n",
      "0.255\tThe one where they bounce back in time\t67\n",
      "0.254\tThe one where they bounce back in time\t9\n",
      "0.254\tThe one where they bounce back in time\t140\n",
      "0.248\tThe one where they bounce back in time\t66\n",
      "0.247\tThe one where they bounce back in time\t55\n",
      "0.247\tThe one where they bounce back in time\t48\n",
      "0.247\tThe one where they bounce back in time\t73\n",
      "0.244\tThe one where they bounce back in time\t19\n",
      "0.243\tThe one where they bounce back in time\t58\n",
      "0.243\tThe one where they bounce back in time\t87\n",
      "0.242\tThe one where they bounce back in time\t124\n",
      "0.242\tThe one where they bounce back in time\t146\n",
      "0.240\tThe one where they bounce back in time\t103\n",
      "0.240\tThe one where they bounce back in time\t16\n",
      "0.240\tThe one where they bounce back in time\t32\n",
      "0.240\tThe one where they bounce back in time\t41\n",
      "0.239\tThe one where they bounce back in time\t37\n",
      "0.237\tThe one where they bounce back in time\t64\n",
      "0.237\tThe one where they bounce back in time\t80\n",
      "0.237\tThe one where they bounce back in time\t12\n",
      "0.237\tThe one where they bounce back in time\t79\n",
      "0.236\tThe one where they bounce back in time\t126\n",
      "0.234\tThe one where they bounce back in time\t105\n",
      "0.234\tThe one where they bounce back in time\t71\n",
      "0.233\tThe one where they bounce back in time\t21\n",
      "0.232\tThe one where they bounce back in time\t2\n",
      "0.231\tThe one where they bounce back in time\t38\n",
      "0.229\tThe one where they bounce back in time\t39\n",
      "0.229\tThe one where they bounce back in time\t56\n",
      "0.224\tThe one where they bounce back in time\t102\n",
      "0.221\tThe one where they bounce back in time\t112\n",
      "0.220\tThe one where they bounce back in time\t88\n",
      "0.220\tThe one where they bounce back in time\t90\n",
      "0.219\tThe one where they bounce back in time\t49\n",
      "0.218\tThe one where they bounce back in time\t97\n",
      "0.217\tThe one where they bounce back in time\t119\n",
      "0.217\tThe one where they bounce back in time\t69\n",
      "0.217\tThe one where they bounce back in time\t25\n",
      "0.215\tThe one where they bounce back in time\t144\n",
      "0.214\tThe one where they bounce back in time\t1\n",
      "0.213\tThe one where they bounce back in time\t110\n",
      "0.210\tThe one where they bounce back in time\t106\n",
      "0.207\tThe one where they bounce back in time\t31\n",
      "0.207\tThe one where they bounce back in time\t11\n",
      "0.206\tThe one where they bounce back in time\t65\n",
      "0.206\tThe one where they bounce back in time\t96\n",
      "0.205\tThe one where they bounce back in time\t116\n",
      "0.204\tThe one where they bounce back in time\t20\n",
      "0.204\tThe one where they bounce back in time\t50\n",
      "0.204\tThe one where they bounce back in time\t46\n",
      "0.203\tThe one where they bounce back in time\t107\n",
      "0.202\tThe one where they bounce back in time\t33\n",
      "0.201\tThe one where they bounce back in time\t109\n",
      "0.197\tThe one where they bounce back in time\t34\n",
      "0.197\tThe one where they bounce back in time\t86\n",
      "0.197\tThe one where they bounce back in time\t36\n",
      "0.194\tThe one where they bounce back in time\t100\n",
      "0.192\tThe one where they bounce back in time\t142\n",
      "0.191\tThe one where they bounce back in time\t134\n",
      "0.188\tThe one where they bounce back in time\t108\n",
      "0.188\tThe one where they bounce back in time\t115\n",
      "0.187\tThe one where they bounce back in time\t35\n",
      "0.187\tThe one where they bounce back in time\t114\n",
      "0.186\tThe one where they bounce back in time\t70\n",
      "0.185\tThe one where they bounce back in time\t135\n",
      "0.185\tThe one where they bounce back in time\t45\n",
      "0.184\tThe one where they bounce back in time\t141\n",
      "0.181\tThe one where they bounce back in time\t3\n",
      "0.180\tThe one where they bounce back in time\t127\n",
      "0.179\tThe one where they bounce back in time\t113\n",
      "0.179\tThe one where they bounce back in time\t101\n",
      "0.177\tThe one where they bounce back in time\t53\n",
      "0.174\tThe one where they bounce back in time\t148\n",
      "0.172\tThe one where they bounce back in time\t118\n",
      "0.171\tThe one where they bounce back in time\t28\n",
      "0.171\tThe one where they bounce back in time\t94\n",
      "0.170\tThe one where they bounce back in time\t44\n",
      "0.170\tThe one where they bounce back in time\t24\n",
      "0.169\tThe one where they bounce back in time\t26\n",
      "0.168\tThe one where they bounce back in time\t30\n",
      "0.168\tThe one where they bounce back in time\t145\n",
      "0.167\tThe one where they bounce back in time\t147\n",
      "0.167\tThe one where they bounce back in time\t95\n",
      "0.157\tThe one where they bounce back in time\t125\n",
      "0.153\tThe one where they bounce back in time\t7\n",
      "0.152\tThe one where they bounce back in time\t14\n",
      "0.150\tThe one where they bounce back in time\t129\n",
      "0.149\tThe one where they bounce back in time\t132\n",
      "0.148\tThe one where they bounce back in time\t78\n",
      "0.143\tThe one where they bounce back in time\t77\n",
      "0.141\tThe one where they bounce back in time\t4\n",
      "0.140\tThe one where they bounce back in time\t60\n",
      "0.138\tThe one where they bounce back in time\t111\n",
      "0.137\tThe one where they bounce back in time\t152\n",
      "0.136\tThe one where they bounce back in time\t85\n",
      "0.131\tThe one where they bounce back in time\t42\n",
      "0.131\tThe one where they bounce back in time\t139\n",
      "0.128\tThe one where they bounce back in time\t122\n",
      "0.127\tThe one where they bounce back in time\t93\n",
      "0.120\tThe one where they bounce back in time\t72\n",
      "0.115\tThe one where they bounce back in time\t138\n",
      "0.112\tThe one where they bounce back in time\t137\n",
      "0.107\tThe one where they bounce back in time\t128\n",
      "0.103\tThe one where they bounce back in time\t149\n",
      "0.095\tThe one where they bounce back in time\t150\n",
      "0.089\tThe one where they bounce back in time\t51\n",
      "0.079\tThe one where they bounce back in time\t63\n",
      "0.077\tThe one where they bounce back in time\t40\n",
      "0.050\tThe one where they bounce back in time\t136\n",
      "0.035\tThe one where they bounce back in time\t75\n"
     ]
    }
   ],
   "source": [
    "query=\"The one where they bounce back in time\"\n",
    "run_query(query, sentence_transformer_data, get_sentence_embedding, sentence_model)"
   ]
  },
  {
   "cell_type": "code",
   "execution_count": null,
   "id": "a41ac588",
   "metadata": {},
   "outputs": [],
   "source": []
  }
 ],
 "metadata": {
  "kernelspec": {
   "display_name": "Python [conda env:anlp] *",
   "language": "python",
   "name": "conda-env-anlp-py"
  },
  "language_info": {
   "codemirror_mode": {
    "name": "ipython",
    "version": 3
   },
   "file_extension": ".py",
   "mimetype": "text/x-python",
   "name": "python",
   "nbconvert_exporter": "python",
   "pygments_lexer": "ipython3",
   "version": "3.8.8"
  }
 },
 "nbformat": 4,
 "nbformat_minor": 5
}
