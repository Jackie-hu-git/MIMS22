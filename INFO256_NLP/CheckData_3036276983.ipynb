{
 "cells": [
  {
   "cell_type": "markdown",
   "metadata": {},
   "source": [
    "We'll be covering text classification and regression methods over the next month; in preparation for this topic, your assignment is to gather labeled data to use for your analysis.\n",
    "\n",
    "* Find at least 300 documents for some topic that interests you, along with a single binary label for each document.  Aim high if you can; the more data in your collection, the better your classification models will tend to perform on it.\n",
    "\n",
    "* Split your data into three non-overlapping files (train.tsv, dev.tsv and test.tsv), with train.tsv containing 80% of the documents, dev.tsv 10% and test.tsv 10%.\n",
    "\n",
    "* All of the data must be in a common format; we'll use a tab-separated format with the label in the first column and the full text in the second column. Replace all newlines in the text with \\_NEWLINE\\_ and tab characters with \\_TAB\\_.\n",
    "\n",
    "See data/text_classification_sample/ for an example.  Execute this Jupyter notebook to verify that your format is correct.\n",
    "\n",
    "Your choice of documents and labels is completely up to you (except for any data already used in class in the data/ folder).  Possible sources of data:\n",
    "\n",
    "* Project Gutenberg.  Metadata is available at this [Github repo](https://github.com/hugovk/gutenberg-metadata) along with URLs for the texts.  Labels here can be author, subject, author gender etc.\n",
    "\n",
    "* Crawl news articles from different domains (e.g,. CNN, FoxNews); the label for each article is the domain.\n",
    "\n",
    "* [Movie summary data](http://www.cs.cmu.edu/~ark/personas/).  Labels here can be any categorical metadata aspect (genre, release date); note real-valued metadata (like box office, runtime) can be binarized by selecting some threshold.\n",
    "\n",
    "* [Download your own tweets](https://help.twitter.com/en/managing-your-account/how-to-download-your-twitter-archive).  Labels here can be any categorical metadata included in the tweet, or labels you add by hand (e.g., sarcasm)\n"
   ]
  },
  {
   "cell_type": "code",
   "execution_count": 1,
   "metadata": {},
   "outputs": [],
   "source": [
    "import sys\n",
    "from collections import Counter"
   ]
  },
  {
   "cell_type": "code",
   "execution_count": 2,
   "metadata": {},
   "outputs": [],
   "source": [
    "def test(directory):\n",
    "    for split in [\"train\", \"dev\", \"test\"]:\n",
    "        filename=\"%s/%s.tsv\" % (directory, split)\n",
    "        with open(filename,encoding='utf-8') as file:\n",
    "            labelCounts=Counter()\n",
    "            zeroLength=0\n",
    "            total=0\n",
    "            for line in file:\n",
    "                cols=line.rstrip().split(\"\\t\")\n",
    "                label=cols[0]\n",
    "                text=cols[1]\n",
    "                if len(text) == 0:\n",
    "                    zeroLength+=1\n",
    "                total+=1\n",
    "\n",
    "                labelCounts[label]+=1\n",
    "\n",
    "            print (\"File: %s, Total docs: %s, Total zero length: %s\" % (filename, total, zeroLength))\n",
    "            for label in sorted(labelCounts):\n",
    "                print (\"\\t%s %s\" % (label, labelCounts[label]))\n",
    "            print()"
   ]
  },
  {
   "cell_type": "markdown",
   "metadata": {},
   "source": [
    "Q1: Describe your data.  What is the source of the documents, and what do the labels mean?"
   ]
  },
  {
   "cell_type": "markdown",
   "metadata": {},
   "source": [
    "I noticed that some TED talks are more persuasive— they change your day and maybe your life. Some fall flat and are completely forgettable. Can we use the tools of natural language processing and statistical models to understand why some talks work and to see how persuaders persuade?\n",
    "\n",
    "In my original collected metadata, held a variable called 'persuasive' that paried a value of the number of TED.com users who had voted a particular talk persuasive using TED.com's ratings tool. To normalize the ratings and account for the fact that talks have not been viewed the same number of times (i.e., some talks have been posted for months and others for years), I divided the count of persuasive votes by the number of times the talk had been viewed to create the 'norm_persuasive' variable. This variable is persuasive votes per view of a talk.\n",
    "\n",
    "- To convert this normalized value to 0, 1 chategoricle lable, I picked the median 91 to be the seperation line, values below this number will accounted as 0, not persuasive, and 1 as persuasive. \n",
    "\n",
    "- The size of the whole dataset has 2385 data entries, after the test, triam, dev split, we have 1908 for trianing data, 238 for test dato and 239 for dev data. "
   ]
  },
  {
   "cell_type": "markdown",
   "metadata": {},
   "source": [
    "Q2: Change the directionary name below to the directory containing your data and execute the `test()` function above to verify the data is in the correct format:"
   ]
  },
  {
   "cell_type": "code",
   "execution_count": 4,
   "metadata": {},
   "outputs": [],
   "source": [
    "import csv\n",
    "import pandas as pd"
   ]
  },
  {
   "cell_type": "code",
   "execution_count": 37,
   "metadata": {},
   "outputs": [],
   "source": [
    "#import the csv file\n",
    "df = pd.read_csv(\"../data/ted/all.csv\", header= None, index_col = False )\n",
    "df.rename(columns={0: 'Persuasive', 1: 'data'}, inplace=True)"
   ]
  },
  {
   "cell_type": "code",
   "execution_count": 38,
   "metadata": {},
   "outputs": [
    {
     "data": {
      "text/html": [
       "<div>\n",
       "<style scoped>\n",
       "    .dataframe tbody tr th:only-of-type {\n",
       "        vertical-align: middle;\n",
       "    }\n",
       "\n",
       "    .dataframe tbody tr th {\n",
       "        vertical-align: top;\n",
       "    }\n",
       "\n",
       "    .dataframe thead th {\n",
       "        text-align: right;\n",
       "    }\n",
       "</style>\n",
       "<table border=\"1\" class=\"dataframe\">\n",
       "  <thead>\n",
       "    <tr style=\"text-align: right;\">\n",
       "      <th></th>\n",
       "      <th>Persuasive</th>\n",
       "      <th>data</th>\n",
       "    </tr>\n",
       "  </thead>\n",
       "  <tbody>\n",
       "    <tr>\n",
       "      <th>0</th>\n",
       "      <td>1</td>\n",
       "      <td>I have a very difficult task. I'm a spectrosco...</td>\n",
       "    </tr>\n",
       "    <tr>\n",
       "      <th>1</th>\n",
       "      <td>0</td>\n",
       "      <td>I run a design studio in New York. Every seven...</td>\n",
       "    </tr>\n",
       "    <tr>\n",
       "      <th>2</th>\n",
       "      <td>1</td>\n",
       "      <td>How do you feed a city? It's one of the great ...</td>\n",
       "    </tr>\n",
       "    <tr>\n",
       "      <th>3</th>\n",
       "      <td>1</td>\n",
       "      <td>What we're really here to talk about is the \"h...</td>\n",
       "    </tr>\n",
       "    <tr>\n",
       "      <th>4</th>\n",
       "      <td>1</td>\n",
       "      <td>I'm a storyteller. And I would like to tell yo...</td>\n",
       "    </tr>\n",
       "    <tr>\n",
       "      <th>...</th>\n",
       "      <td>...</td>\n",
       "      <td>...</td>\n",
       "    </tr>\n",
       "    <tr>\n",
       "      <th>2380</th>\n",
       "      <td>1</td>\n",
       "      <td>Who are we? That is the big question. And esse...</td>\n",
       "    </tr>\n",
       "    <tr>\n",
       "      <th>2381</th>\n",
       "      <td>0</td>\n",
       "      <td>So I'm going to talk today about collecting st...</td>\n",
       "    </tr>\n",
       "    <tr>\n",
       "      <th>2382</th>\n",
       "      <td>0</td>\n",
       "      <td>To be new at TED  \"it's like being the last hi...</td>\n",
       "    </tr>\n",
       "    <tr>\n",
       "      <th>2383</th>\n",
       "      <td>1</td>\n",
       "      <td>The Internet, the Web as we know it, the kind ...</td>\n",
       "    </tr>\n",
       "    <tr>\n",
       "      <th>2384</th>\n",
       "      <td>1</td>\n",
       "      <td>I got my first computer when I was a teenager ...</td>\n",
       "    </tr>\n",
       "  </tbody>\n",
       "</table>\n",
       "<p>2385 rows × 2 columns</p>\n",
       "</div>"
      ],
      "text/plain": [
       "      Persuasive                                               data\n",
       "0              1  I have a very difficult task. I'm a spectrosco...\n",
       "1              0  I run a design studio in New York. Every seven...\n",
       "2              1  How do you feed a city? It's one of the great ...\n",
       "3              1  What we're really here to talk about is the \"h...\n",
       "4              1  I'm a storyteller. And I would like to tell yo...\n",
       "...          ...                                                ...\n",
       "2380           1  Who are we? That is the big question. And esse...\n",
       "2381           0  So I'm going to talk today about collecting st...\n",
       "2382           0  To be new at TED  \"it's like being the last hi...\n",
       "2383           1  The Internet, the Web as we know it, the kind ...\n",
       "2384           1  I got my first computer when I was a teenager ...\n",
       "\n",
       "[2385 rows x 2 columns]"
      ]
     },
     "execution_count": 38,
     "metadata": {},
     "output_type": "execute_result"
    }
   ],
   "source": [
    "#checking the dimension and labels \n",
    "df"
   ]
  },
  {
   "cell_type": "code",
   "execution_count": 39,
   "metadata": {},
   "outputs": [
    {
     "data": {
      "text/plain": [
       "False"
      ]
     },
     "execution_count": 39,
     "metadata": {},
     "output_type": "execute_result"
    }
   ],
   "source": [
    "#checking if there's new line in data\n",
    "\"\\n\" in df['data']"
   ]
  },
  {
   "cell_type": "code",
   "execution_count": 40,
   "metadata": {},
   "outputs": [
    {
     "data": {
      "text/plain": [
       "False"
      ]
     },
     "execution_count": 40,
     "metadata": {},
     "output_type": "execute_result"
    }
   ],
   "source": [
    "#checking if there's tab in data\n",
    "\"\\t\" in df['data']"
   ]
  },
  {
   "cell_type": "code",
   "execution_count": 48,
   "metadata": {},
   "outputs": [],
   "source": [
    "#split train and test_dev set\n",
    "from sklearn.model_selection import train_test_split\n",
    "train, test_dev = train_test_split(df, test_size=0.2, random_state=42, shuffle=True)"
   ]
  },
  {
   "cell_type": "code",
   "execution_count": 49,
   "metadata": {},
   "outputs": [],
   "source": [
    "#split test and dev set\n",
    "test, dev = train_test_split(test_dev, test_size=0.5, random_state=42, shuffle=True)"
   ]
  },
  {
   "cell_type": "code",
   "execution_count": 51,
   "metadata": {},
   "outputs": [
    {
     "data": {
      "text/html": [
       "<div>\n",
       "<style scoped>\n",
       "    .dataframe tbody tr th:only-of-type {\n",
       "        vertical-align: middle;\n",
       "    }\n",
       "\n",
       "    .dataframe tbody tr th {\n",
       "        vertical-align: top;\n",
       "    }\n",
       "\n",
       "    .dataframe thead th {\n",
       "        text-align: right;\n",
       "    }\n",
       "</style>\n",
       "<table border=\"1\" class=\"dataframe\">\n",
       "  <thead>\n",
       "    <tr style=\"text-align: right;\">\n",
       "      <th></th>\n",
       "      <th>Persuasive</th>\n",
       "      <th>data</th>\n",
       "    </tr>\n",
       "  </thead>\n",
       "  <tbody>\n",
       "    <tr>\n",
       "      <th>275</th>\n",
       "      <td>1</td>\n",
       "      <td>So, I'll start with this: a couple years ago, ...</td>\n",
       "    </tr>\n",
       "    <tr>\n",
       "      <th>2107</th>\n",
       "      <td>0</td>\n",
       "      <td>I have a studio in Berlin \"let me cue on here ...</td>\n",
       "    </tr>\n",
       "    <tr>\n",
       "      <th>1406</th>\n",
       "      <td>0</td>\n",
       "      <td>A few years ago, with my colleague, Emmanuelle...</td>\n",
       "    </tr>\n",
       "    <tr>\n",
       "      <th>360</th>\n",
       "      <td>0</td>\n",
       "      <td>Good afternoon, everybody. I've got something ...</td>\n",
       "    </tr>\n",
       "    <tr>\n",
       "      <th>1711</th>\n",
       "      <td>0</td>\n",
       "      <td>I want to introduce you to some very wise kids...</td>\n",
       "    </tr>\n",
       "    <tr>\n",
       "      <th>...</th>\n",
       "      <td>...</td>\n",
       "      <td>...</td>\n",
       "    </tr>\n",
       "    <tr>\n",
       "      <th>1638</th>\n",
       "      <td>0</td>\n",
       "      <td>I'm here today to talk to you about a very pow...</td>\n",
       "    </tr>\n",
       "    <tr>\n",
       "      <th>1095</th>\n",
       "      <td>1</td>\n",
       "      <td>There's a man by the name of Captain William S...</td>\n",
       "    </tr>\n",
       "    <tr>\n",
       "      <th>1130</th>\n",
       "      <td>0</td>\n",
       "      <td>Nicholas Negroponte:  Can we switch to the v...</td>\n",
       "    </tr>\n",
       "    <tr>\n",
       "      <th>1294</th>\n",
       "      <td>1</td>\n",
       "      <td>When I was a kid, the disaster we worried abou...</td>\n",
       "    </tr>\n",
       "    <tr>\n",
       "      <th>860</th>\n",
       "      <td>1</td>\n",
       "      <td>In this talk today, I want to present a differ...</td>\n",
       "    </tr>\n",
       "  </tbody>\n",
       "</table>\n",
       "<p>1908 rows × 2 columns</p>\n",
       "</div>"
      ],
      "text/plain": [
       "      Persuasive                                               data\n",
       "275            1  So, I'll start with this: a couple years ago, ...\n",
       "2107           0  I have a studio in Berlin \"let me cue on here ...\n",
       "1406           0  A few years ago, with my colleague, Emmanuelle...\n",
       "360            0  Good afternoon, everybody. I've got something ...\n",
       "1711           0  I want to introduce you to some very wise kids...\n",
       "...          ...                                                ...\n",
       "1638           0  I'm here today to talk to you about a very pow...\n",
       "1095           1  There's a man by the name of Captain William S...\n",
       "1130           0    Nicholas Negroponte:  Can we switch to the v...\n",
       "1294           1  When I was a kid, the disaster we worried abou...\n",
       "860            1  In this talk today, I want to present a differ...\n",
       "\n",
       "[1908 rows x 2 columns]"
      ]
     },
     "execution_count": 51,
     "metadata": {},
     "output_type": "execute_result"
    }
   ],
   "source": [
    "train"
   ]
  },
  {
   "cell_type": "code",
   "execution_count": 52,
   "metadata": {},
   "outputs": [
    {
     "data": {
      "text/html": [
       "<div>\n",
       "<style scoped>\n",
       "    .dataframe tbody tr th:only-of-type {\n",
       "        vertical-align: middle;\n",
       "    }\n",
       "\n",
       "    .dataframe tbody tr th {\n",
       "        vertical-align: top;\n",
       "    }\n",
       "\n",
       "    .dataframe thead th {\n",
       "        text-align: right;\n",
       "    }\n",
       "</style>\n",
       "<table border=\"1\" class=\"dataframe\">\n",
       "  <thead>\n",
       "    <tr style=\"text-align: right;\">\n",
       "      <th></th>\n",
       "      <th>Persuasive</th>\n",
       "      <th>data</th>\n",
       "    </tr>\n",
       "  </thead>\n",
       "  <tbody>\n",
       "    <tr>\n",
       "      <th>486</th>\n",
       "      <td>1</td>\n",
       "      <td>I'd like to apologize, first of all, to all of...</td>\n",
       "    </tr>\n",
       "    <tr>\n",
       "      <th>443</th>\n",
       "      <td>1</td>\n",
       "      <td>I want to say that really and truly, after the...</td>\n",
       "    </tr>\n",
       "    <tr>\n",
       "      <th>575</th>\n",
       "      <td>1</td>\n",
       "      <td>The electricity powering the lights in this th...</td>\n",
       "    </tr>\n",
       "    <tr>\n",
       "      <th>1793</th>\n",
       "      <td>0</td>\n",
       "      <td>I'm a journalist, and I'm an immigrant. And th...</td>\n",
       "    </tr>\n",
       "    <tr>\n",
       "      <th>1728</th>\n",
       "      <td>0</td>\n",
       "      <td>It was just an ordinary Saturday. My dad was o...</td>\n",
       "    </tr>\n",
       "    <tr>\n",
       "      <th>...</th>\n",
       "      <td>...</td>\n",
       "      <td>...</td>\n",
       "    </tr>\n",
       "    <tr>\n",
       "      <th>1651</th>\n",
       "      <td>1</td>\n",
       "      <td>I am so excited to be here. Everything in Amer...</td>\n",
       "    </tr>\n",
       "    <tr>\n",
       "      <th>1041</th>\n",
       "      <td>1</td>\n",
       "      <td>I'm going to talk about hackers. And the image...</td>\n",
       "    </tr>\n",
       "    <tr>\n",
       "      <th>1882</th>\n",
       "      <td>1</td>\n",
       "      <td>As you've probably noticed, in recent years, ...</td>\n",
       "    </tr>\n",
       "    <tr>\n",
       "      <th>1714</th>\n",
       "      <td>1</td>\n",
       "      <td>When I was a kid, I was obsessed with the Guin...</td>\n",
       "    </tr>\n",
       "    <tr>\n",
       "      <th>1090</th>\n",
       "      <td>1</td>\n",
       "      <td>So today's top chef class is in how to rob a b...</td>\n",
       "    </tr>\n",
       "  </tbody>\n",
       "</table>\n",
       "<p>238 rows × 2 columns</p>\n",
       "</div>"
      ],
      "text/plain": [
       "      Persuasive                                               data\n",
       "486            1  I'd like to apologize, first of all, to all of...\n",
       "443            1  I want to say that really and truly, after the...\n",
       "575            1  The electricity powering the lights in this th...\n",
       "1793           0  I'm a journalist, and I'm an immigrant. And th...\n",
       "1728           0  It was just an ordinary Saturday. My dad was o...\n",
       "...          ...                                                ...\n",
       "1651           1  I am so excited to be here. Everything in Amer...\n",
       "1041           1  I'm going to talk about hackers. And the image...\n",
       "1882           1   As you've probably noticed, in recent years, ...\n",
       "1714           1  When I was a kid, I was obsessed with the Guin...\n",
       "1090           1  So today's top chef class is in how to rob a b...\n",
       "\n",
       "[238 rows x 2 columns]"
      ]
     },
     "execution_count": 52,
     "metadata": {},
     "output_type": "execute_result"
    }
   ],
   "source": [
    "test"
   ]
  },
  {
   "cell_type": "code",
   "execution_count": 53,
   "metadata": {},
   "outputs": [
    {
     "data": {
      "text/html": [
       "<div>\n",
       "<style scoped>\n",
       "    .dataframe tbody tr th:only-of-type {\n",
       "        vertical-align: middle;\n",
       "    }\n",
       "\n",
       "    .dataframe tbody tr th {\n",
       "        vertical-align: top;\n",
       "    }\n",
       "\n",
       "    .dataframe thead th {\n",
       "        text-align: right;\n",
       "    }\n",
       "</style>\n",
       "<table border=\"1\" class=\"dataframe\">\n",
       "  <thead>\n",
       "    <tr style=\"text-align: right;\">\n",
       "      <th></th>\n",
       "      <th>Persuasive</th>\n",
       "      <th>data</th>\n",
       "    </tr>\n",
       "  </thead>\n",
       "  <tbody>\n",
       "    <tr>\n",
       "      <th>283</th>\n",
       "      <td>1</td>\n",
       "      <td>I would like to tell you all that you are all ...</td>\n",
       "    </tr>\n",
       "    <tr>\n",
       "      <th>874</th>\n",
       "      <td>1</td>\n",
       "      <td>There's something that I'd like you to see.  R...</td>\n",
       "    </tr>\n",
       "    <tr>\n",
       "      <th>134</th>\n",
       "      <td>0</td>\n",
       "      <td>We invent. My company invents all kinds of new...</td>\n",
       "    </tr>\n",
       "    <tr>\n",
       "      <th>1288</th>\n",
       "      <td>0</td>\n",
       "      <td>I'm a potter, which seems like a fairly humble...</td>\n",
       "    </tr>\n",
       "    <tr>\n",
       "      <th>1912</th>\n",
       "      <td>0</td>\n",
       "      <td>What are you doing on this stage in front of ...</td>\n",
       "    </tr>\n",
       "    <tr>\n",
       "      <th>...</th>\n",
       "      <td>...</td>\n",
       "      <td>...</td>\n",
       "    </tr>\n",
       "    <tr>\n",
       "      <th>1874</th>\n",
       "      <td>0</td>\n",
       "      <td>I've been doing some thinking. I'm going to k...</td>\n",
       "    </tr>\n",
       "    <tr>\n",
       "      <th>2352</th>\n",
       "      <td>1</td>\n",
       "      <td>So, can we dare to be optimistic? Well, the th...</td>\n",
       "    </tr>\n",
       "    <tr>\n",
       "      <th>1127</th>\n",
       "      <td>1</td>\n",
       "      <td>When we think about prejudice and bias, we ten...</td>\n",
       "    </tr>\n",
       "    <tr>\n",
       "      <th>508</th>\n",
       "      <td>0</td>\n",
       "      <td>I study how the brain processes information. T...</td>\n",
       "    </tr>\n",
       "    <tr>\n",
       "      <th>1864</th>\n",
       "      <td>0</td>\n",
       "      <td>You're watching the life cycle of a Streptomy...</td>\n",
       "    </tr>\n",
       "  </tbody>\n",
       "</table>\n",
       "<p>239 rows × 2 columns</p>\n",
       "</div>"
      ],
      "text/plain": [
       "      Persuasive                                               data\n",
       "283            1  I would like to tell you all that you are all ...\n",
       "874            1  There's something that I'd like you to see.  R...\n",
       "134            0  We invent. My company invents all kinds of new...\n",
       "1288           0  I'm a potter, which seems like a fairly humble...\n",
       "1912           0   What are you doing on this stage in front of ...\n",
       "...          ...                                                ...\n",
       "1874           0   I've been doing some thinking. I'm going to k...\n",
       "2352           1  So, can we dare to be optimistic? Well, the th...\n",
       "1127           1  When we think about prejudice and bias, we ten...\n",
       "508            0  I study how the brain processes information. T...\n",
       "1864           0   You're watching the life cycle of a Streptomy...\n",
       "\n",
       "[239 rows x 2 columns]"
      ]
     },
     "execution_count": 53,
     "metadata": {},
     "output_type": "execute_result"
    }
   ],
   "source": [
    "dev"
   ]
  },
  {
   "cell_type": "code",
   "execution_count": 59,
   "metadata": {},
   "outputs": [],
   "source": [
    "#save as .tsv file\n",
    "dev.to_csv('dev.tsv', sep = '\\t', index=False, header=False)"
   ]
  },
  {
   "cell_type": "code",
   "execution_count": 60,
   "metadata": {},
   "outputs": [],
   "source": [
    "test.to_csv('test.tsv', sep = '\\t', index=False, header=False)"
   ]
  },
  {
   "cell_type": "code",
   "execution_count": 61,
   "metadata": {},
   "outputs": [],
   "source": [
    "train.to_csv('train.tsv', sep = '\\t', index=False, header=False)"
   ]
  },
  {
   "cell_type": "code",
   "execution_count": 3,
   "metadata": {},
   "outputs": [],
   "source": [
    "#setting directory and run test \n",
    "directory=\"../data/ted\""
   ]
  },
  {
   "cell_type": "code",
   "execution_count": 4,
   "metadata": {},
   "outputs": [
    {
     "name": "stdout",
     "output_type": "stream",
     "text": [
      "File: ../data/ted/train.tsv, Total docs: 1908, Total zero length: 0\n",
      "\t0 979\n",
      "\t1 929\n",
      "\n",
      "File: ../data/ted/dev.tsv, Total docs: 239, Total zero length: 0\n",
      "\t0 112\n",
      "\t1 127\n",
      "\n",
      "File: ../data/ted/test.tsv, Total docs: 238, Total zero length: 0\n",
      "\t0 104\n",
      "\t1 134\n",
      "\n"
     ]
    }
   ],
   "source": [
    "test(directory)"
   ]
  }
 ],
 "metadata": {
  "kernelspec": {
   "display_name": "Python 3",
   "language": "python",
   "name": "python3"
  },
  "language_info": {
   "codemirror_mode": {
    "name": "ipython",
    "version": 3
   },
   "file_extension": ".py",
   "mimetype": "text/x-python",
   "name": "python",
   "nbconvert_exporter": "python",
   "pygments_lexer": "ipython3",
   "version": "3.8.8"
  }
 },
 "nbformat": 4,
 "nbformat_minor": 2
}
