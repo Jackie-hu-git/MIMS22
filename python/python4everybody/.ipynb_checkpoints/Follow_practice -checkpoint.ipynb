{
 "cells": [
  {
   "cell_type": "code",
   "execution_count": null,
   "metadata": {},
   "outputs": [],
   "source": [
    "import numpy as np\n"
   ]
  },
  {
   "cell_type": "code",
   "execution_count": null,
   "metadata": {},
   "outputs": [],
   "source": [
    "class Process:\n",
    "    def __init__(self, start_value= 0):\n",
    "        self.value = start_value\n",
    "        self.history = []\n",
    "        \n",
    "    def time_step(self):\n",
    "        self.history.append(self.value)\n",
    "        \n",
    "    def simulate(self, steps = 20):\n",
    "        for i in range (steps):\n",
    "            self.time_step()\n"
   ]
  },
  {
   "cell_type": "code",
   "execution_count": null,
   "metadata": {},
   "outputs": [],
   "source": [
    "class Vector:\n",
    "    def __init__(self, numbers):\n",
    "        self.__numbers = numbers\n",
    "    \n",
    "    @property\n",
    "    def numbers(self):\n",
    "        return self.__numbers\n",
    "    \n",
    "    def dot(self, other):\n",
    "        super()\n",
    "        values = []\n",
    "        if len(self.__numbers) != len(other.numbers):\n",
    "            return 'Cannot multiply'\n",
    "        \n",
    "        for x in range (len(self.__numbers)):\n",
    "            this_num = self.__numbers[x]\n",
    "            other_num = other.numbers[x]\n",
    "            values.append(this_num * other_num)\n",
    "        return sum(values)\n",
    "    \n",
    "    def __mul__(self, other):\n",
    "        return self.dot(other)\n",
    "    \n",
    "    def __str__(self):\n",
    "        return \"The vector is \" + str(self.numbers)"
   ]
  },
  {
   "cell_type": "code",
   "execution_count": null,
   "metadata": {},
   "outputs": [],
   "source": [
    "a = Vector([1, 10, 4])\n",
    "b = Vector([2, -1, 5])"
   ]
  },
  {
   "cell_type": "code",
   "execution_count": null,
   "metadata": {},
   "outputs": [],
   "source": [
    "print(a * b)"
   ]
  },
  {
   "cell_type": "code",
   "execution_count": null,
   "metadata": {},
   "outputs": [],
   "source": [
    "print(a.dot(b))"
   ]
  },
  {
   "cell_type": "code",
   "execution_count": null,
   "metadata": {},
   "outputs": [],
   "source": [
    "print(b)"
   ]
  },
  {
   "cell_type": "code",
   "execution_count": null,
   "metadata": {},
   "outputs": [],
   "source": [
    "import re\n",
    "import string "
   ]
  },
  {
   "cell_type": "code",
   "execution_count": null,
   "metadata": {},
   "outputs": [],
   "source": [
    "printable = string.printable\n",
    "print(printable)"
   ]
  },
  {
   "cell_type": "code",
   "execution_count": null,
   "metadata": {},
   "outputs": [],
   "source": [
    "re.findall('\\s', printable)"
   ]
  },
  {
   "cell_type": "code",
   "execution_count": null,
   "metadata": {},
   "outputs": [],
   "source": [
    "text  = \"my phone number is 206-291-3527\"\n",
    "phone = re.search(r'\\d\\d\\d-\\d\\d\\d-\\d\\d\\d\\d', text)\n",
    "# use quantifier \n",
    "phone = re.search(r'\\d{3}-\\d{3}-\\d{4}', text)\n",
    "phone.group()"
   ]
  },
  {
   "cell_type": "code",
   "execution_count": null,
   "metadata": {},
   "outputs": [],
   "source": [
    "\n",
    "# compile operation, create patterns!\n",
    "phone_pattern = re.compile(r'(\\d{3})-(\\d{3})-(\\d{4})')\n",
    "results = re.search(phone_pattern, text)\n",
    "\n",
    "results.group()\n",
    "# '206-291-3527'\n",
    "# starts at 1\n",
    "results.group(1)\n",
    "# 206\n"
   ]
  },
  {
   "cell_type": "code",
   "execution_count": null,
   "metadata": {},
   "outputs": [],
   "source": [
    "phone_pattern_new = re.compile(r'(?P<areacode>\\d{3})-(?P<number>\\d{3}-\\d{4})')\n",
    "results = phone_pattern_new.search(text)\n",
    "\n",
    "print(results.group('areacode'))\n",
    "print(results.group('number'))"
   ]
  },
  {
   "cell_type": "code",
   "execution_count": null,
   "metadata": {},
   "outputs": [],
   "source": [
    "ls"
   ]
  },
  {
   "cell_type": "code",
   "execution_count": null,
   "metadata": {},
   "outputs": [],
   "source": [
    "content = '''To be or not to be\n",
    "That is the question.'''"
   ]
  },
  {
   "cell_type": "code",
   "execution_count": null,
   "metadata": {},
   "outputs": [],
   "source": [
    "poem_file = open('shakespeare.txt', 'wt')\n",
    "poem_file.write(content)\n",
    "poem_file.close()"
   ]
  },
  {
   "cell_type": "code",
   "execution_count": null,
   "metadata": {},
   "outputs": [],
   "source": [
    "ls"
   ]
  },
  {
   "cell_type": "code",
   "execution_count": null,
   "metadata": {},
   "outputs": [],
   "source": [
    "poem_file = open('shakespeare.txt', 'at')\n",
    "poem_file.write('\\n ---written by shakespeare')\n",
    "poem_file.close()"
   ]
  },
  {
   "cell_type": "code",
   "execution_count": null,
   "metadata": {},
   "outputs": [],
   "source": [
    "poem_file_read = open('shakespeare.txt', 'rt')\n",
    "pr = poem_file_read.readlines()\n",
    "poem_file_read.close()\n"
   ]
  },
  {
   "cell_type": "code",
   "execution_count": null,
   "metadata": {},
   "outputs": [],
   "source": [
    "print(pr)"
   ]
  },
  {
   "cell_type": "code",
   "execution_count": null,
   "metadata": {},
   "outputs": [],
   "source": [
    "print(pr[0])"
   ]
  },
  {
   "cell_type": "code",
   "execution_count": null,
   "metadata": {},
   "outputs": [],
   "source": [
    "for line in pr:\n",
    "    print(line)"
   ]
  },
  {
   "cell_type": "code",
   "execution_count": null,
   "metadata": {},
   "outputs": [],
   "source": [
    "import csv\n",
    "\n",
    "grades = [\n",
    "    \n",
    "    ['John', 88],\n",
    "    ['Kate', 93],\n",
    "    ['Harry', 93],\n",
    "    ['Linda', 87],\n",
    "    ['Harriet', 91]\n",
    "]\n",
    "\n",
    "grades_csv_write = open('grades.csv', 'wt')\n",
    "csvout = csv.writer(grades_csv_write)\n",
    "csvout.writerows(grades)\n",
    "\n",
    "grades_csv_write.close()"
   ]
  },
  {
   "cell_type": "code",
   "execution_count": null,
   "metadata": {},
   "outputs": [],
   "source": [
    "grades_csv_read = open('grades.csv', 'rt')\n",
    "csvin = csv.reader(grades_csv_read)\n",
    "\n",
    "for row in csvin:\n",
    "    print(row)"
   ]
  },
  {
   "cell_type": "markdown",
   "metadata": {},
   "source": [
    "### We use global keyword to read and write a global variable inside a function."
   ]
  },
  {
   "cell_type": "code",
   "execution_count": null,
   "metadata": {},
   "outputs": [],
   "source": [
    "x = \"global \"\n",
    "\n",
    "def foo():\n",
    "    global x\n",
    "    y = \"local\"\n",
    "    x = x * 2\n",
    "    print(x)\n",
    "    print(y)\n",
    "\n",
    "foo()"
   ]
  },
  {
   "cell_type": "code",
   "execution_count": null,
   "metadata": {},
   "outputs": [],
   "source": [
    "print(x)"
   ]
  },
  {
   "cell_type": "code",
   "execution_count": null,
   "metadata": {},
   "outputs": [],
   "source": [
    "import math\n",
    "dir(math)"
   ]
  },
  {
   "cell_type": "code",
   "execution_count": null,
   "metadata": {},
   "outputs": [],
   "source": [
    "num_list = []\n",
    "ans = input(\"numbers\")\n",
    "num_list += ans\n"
   ]
  },
  {
   "cell_type": "code",
   "execution_count": null,
   "metadata": {},
   "outputs": [],
   "source": [
    "num_list "
   ]
  },
  {
   "cell_type": "code",
   "execution_count": 7,
   "metadata": {},
   "outputs": [],
   "source": [
    "line = \"LESS_TRAVELED|| You are eaten by a bear.\""
   ]
  },
  {
   "cell_type": "code",
   "execution_count": 17,
   "metadata": {},
   "outputs": [
    {
     "data": {
      "text/plain": [
       "['LESS_TRAVELED', '', ' You are eaten by a bear.']"
      ]
     },
     "execution_count": 17,
     "metadata": {},
     "output_type": "execute_result"
    }
   ],
   "source": [
    "line.split(\"|\")"
   ]
  },
  {
   "cell_type": "code",
   "execution_count": 8,
   "metadata": {},
   "outputs": [],
   "source": [
    "node_name = line.split(\"|\")[0]"
   ]
  },
  {
   "cell_type": "code",
   "execution_count": 9,
   "metadata": {},
   "outputs": [
    {
     "name": "stdout",
     "output_type": "stream",
     "text": [
      "LESS_TRAVELED\n"
     ]
    }
   ],
   "source": [
    "print(node_name)"
   ]
  },
  {
   "cell_type": "code",
   "execution_count": 18,
   "metadata": {},
   "outputs": [],
   "source": [
    "adjacent_nodes = line.split(\"|\")[1].split(\",\")"
   ]
  },
  {
   "cell_type": "code",
   "execution_count": 19,
   "metadata": {},
   "outputs": [
    {
     "data": {
      "text/plain": [
       "['']"
      ]
     },
     "execution_count": 19,
     "metadata": {},
     "output_type": "execute_result"
    }
   ],
   "source": [
    "adjacent_nodes"
   ]
  },
  {
   "cell_type": "code",
   "execution_count": 12,
   "metadata": {},
   "outputs": [],
   "source": [
    "adjacent = []\n",
    "for a in adjacent_nodes:\n",
    "    if a:\n",
    "        adjacent.append(a.strip())\n"
   ]
  },
  {
   "cell_type": "code",
   "execution_count": 13,
   "metadata": {},
   "outputs": [
    {
     "data": {
      "text/plain": [
       "['You are eaten by a bear.']"
      ]
     },
     "execution_count": 13,
     "metadata": {},
     "output_type": "execute_result"
    }
   ],
   "source": [
    "adjacent"
   ]
  },
  {
   "cell_type": "code",
   "execution_count": 14,
   "metadata": {},
   "outputs": [],
   "source": [
    "op1 = adjacent_nodes[0]"
   ]
  },
  {
   "cell_type": "code",
   "execution_count": 15,
   "metadata": {},
   "outputs": [
    {
     "data": {
      "text/plain": [
       "'You are eaten by a bear.'"
      ]
     },
     "execution_count": 15,
     "metadata": {},
     "output_type": "execute_result"
    }
   ],
   "source": [
    "op1"
   ]
  },
  {
   "cell_type": "code",
   "execution_count": 20,
   "metadata": {},
   "outputs": [],
   "source": [
    "text = line.split(\"|\")[2]"
   ]
  },
  {
   "cell_type": "code",
   "execution_count": null,
   "metadata": {},
   "outputs": [],
   "source": [
    "text"
   ]
  },
  {
   "cell_type": "code",
   "execution_count": null,
   "metadata": {},
   "outputs": [],
   "source": [
    "print(ord('a'))"
   ]
  },
  {
   "cell_type": "code",
   "execution_count": 21,
   "metadata": {},
   "outputs": [
    {
     "name": "stdout",
     "output_type": "stream",
     "text": [
      "What's your choice?ew\n"
     ]
    }
   ],
   "source": [
    "while True:\n",
    "    try:\n",
    "        ans = input(\"What's your choice?\")\n",
    "        \n",
    "    except:\n",
    "        print('Please enter an options!')\n",
    "        continue\n",
    "    else:\n",
    "        break\n"
   ]
  },
  {
   "cell_type": "code",
   "execution_count": 1,
   "metadata": {},
   "outputs": [
    {
     "name": "stderr",
     "output_type": "stream",
     "text": [
      "C:\\Users\\sherr\\anaconda3\\lib\\site-packages\\drawSvg\\raster.py:18: RuntimeWarning: Failed to import CairoSVG. drawSvg will be unable to output PNG or other raster image formats. See https://github.com/cduck/drawSvg#prerequisites for more details.\n",
      "Original OSError: no library called \"cairo\" was found\n",
      "no library called \"libcairo-2\" was found\n",
      "cannot load library 'libcairo.so': error 0x7e\n",
      "cannot load library 'libcairo.2.dylib': error 0x7e\n",
      "cannot load library 'libcairo-2.dll': error 0x7e\n",
      "  warnings.warn(msg, RuntimeWarning)\n"
     ]
    },
    {
     "data": {
      "image/svg+xml": [
       "<?xml version=\"1.0\" encoding=\"UTF-8\"?>\n",
       "<svg xmlns=\"http://www.w3.org/2000/svg\" xmlns:xlink=\"http://www.w3.org/1999/xlink\"\n",
       "     width=\"200\" height=\"200\" viewBox=\"-100.0 -100.0 200 200\">\n",
       "<defs>\n",
       "</defs>\n",
       "<rect x=\"-90\" y=\"80\" width=\"20\" height=\"20\" fill=\"blue\" />\n",
       "<rect x=\"-70\" y=\"80\" width=\"20\" height=\"20\" fill=\"red\" />\n",
       "<rect x=\"-50\" y=\"80\" width=\"20\" height=\"20\" fill=\"blue\" />\n",
       "<rect x=\"-30\" y=\"80\" width=\"20\" height=\"20\" fill=\"red\" />\n",
       "<rect x=\"-10\" y=\"80\" width=\"20\" height=\"20\" fill=\"blue\" />\n",
       "<rect x=\"10\" y=\"80\" width=\"20\" height=\"20\" fill=\"red\" />\n",
       "<rect x=\"30\" y=\"80\" width=\"20\" height=\"20\" fill=\"blue\" />\n",
       "<rect x=\"50\" y=\"80\" width=\"20\" height=\"20\" fill=\"red\" />\n",
       "<rect x=\"70\" y=\"80\" width=\"20\" height=\"20\" fill=\"blue\" />\n",
       "<rect x=\"-90\" y=\"60\" width=\"20\" height=\"20\" fill=\"red\" />\n",
       "<rect x=\"-70\" y=\"60\" width=\"20\" height=\"20\" fill=\"blue\" />\n",
       "<rect x=\"-50\" y=\"60\" width=\"20\" height=\"20\" fill=\"red\" />\n",
       "<rect x=\"-30\" y=\"60\" width=\"20\" height=\"20\" fill=\"blue\" />\n",
       "<rect x=\"-10\" y=\"60\" width=\"20\" height=\"20\" fill=\"red\" />\n",
       "<rect x=\"10\" y=\"60\" width=\"20\" height=\"20\" fill=\"blue\" />\n",
       "<rect x=\"30\" y=\"60\" width=\"20\" height=\"20\" fill=\"red\" />\n",
       "<rect x=\"50\" y=\"60\" width=\"20\" height=\"20\" fill=\"blue\" />\n",
       "<rect x=\"70\" y=\"60\" width=\"20\" height=\"20\" fill=\"red\" />\n",
       "<rect x=\"-90\" y=\"40\" width=\"20\" height=\"20\" fill=\"blue\" />\n",
       "<rect x=\"-70\" y=\"40\" width=\"20\" height=\"20\" fill=\"red\" />\n",
       "<rect x=\"-50\" y=\"40\" width=\"20\" height=\"20\" fill=\"blue\" />\n",
       "<rect x=\"-30\" y=\"40\" width=\"20\" height=\"20\" fill=\"red\" />\n",
       "<rect x=\"-10\" y=\"40\" width=\"20\" height=\"20\" fill=\"blue\" />\n",
       "<rect x=\"10\" y=\"40\" width=\"20\" height=\"20\" fill=\"red\" />\n",
       "<rect x=\"30\" y=\"40\" width=\"20\" height=\"20\" fill=\"blue\" />\n",
       "<rect x=\"50\" y=\"40\" width=\"20\" height=\"20\" fill=\"red\" />\n",
       "<rect x=\"70\" y=\"40\" width=\"20\" height=\"20\" fill=\"blue\" />\n",
       "<rect x=\"-90\" y=\"20\" width=\"20\" height=\"20\" fill=\"red\" />\n",
       "<rect x=\"-70\" y=\"20\" width=\"20\" height=\"20\" fill=\"blue\" />\n",
       "<rect x=\"-50\" y=\"20\" width=\"20\" height=\"20\" fill=\"red\" />\n",
       "<rect x=\"-30\" y=\"20\" width=\"20\" height=\"20\" fill=\"blue\" />\n",
       "<rect x=\"-10\" y=\"20\" width=\"20\" height=\"20\" fill=\"red\" />\n",
       "<rect x=\"10\" y=\"20\" width=\"20\" height=\"20\" fill=\"blue\" />\n",
       "<rect x=\"30\" y=\"20\" width=\"20\" height=\"20\" fill=\"red\" />\n",
       "<rect x=\"50\" y=\"20\" width=\"20\" height=\"20\" fill=\"blue\" />\n",
       "<rect x=\"70\" y=\"20\" width=\"20\" height=\"20\" fill=\"red\" />\n",
       "<rect x=\"-90\" y=\"0\" width=\"20\" height=\"20\" fill=\"blue\" />\n",
       "<rect x=\"-70\" y=\"0\" width=\"20\" height=\"20\" fill=\"red\" />\n",
       "<rect x=\"-50\" y=\"0\" width=\"20\" height=\"20\" fill=\"blue\" />\n",
       "<rect x=\"-30\" y=\"0\" width=\"20\" height=\"20\" fill=\"red\" />\n",
       "<rect x=\"-10\" y=\"0\" width=\"20\" height=\"20\" fill=\"blue\" />\n",
       "<rect x=\"10\" y=\"0\" width=\"20\" height=\"20\" fill=\"red\" />\n",
       "<rect x=\"30\" y=\"0\" width=\"20\" height=\"20\" fill=\"blue\" />\n",
       "<rect x=\"50\" y=\"0\" width=\"20\" height=\"20\" fill=\"red\" />\n",
       "<rect x=\"70\" y=\"0\" width=\"20\" height=\"20\" fill=\"blue\" />\n",
       "<rect x=\"-90\" y=\"-20\" width=\"20\" height=\"20\" fill=\"red\" />\n",
       "<rect x=\"-70\" y=\"-20\" width=\"20\" height=\"20\" fill=\"blue\" />\n",
       "<rect x=\"-50\" y=\"-20\" width=\"20\" height=\"20\" fill=\"red\" />\n",
       "<rect x=\"-30\" y=\"-20\" width=\"20\" height=\"20\" fill=\"blue\" />\n",
       "<rect x=\"-10\" y=\"-20\" width=\"20\" height=\"20\" fill=\"red\" />\n",
       "<rect x=\"10\" y=\"-20\" width=\"20\" height=\"20\" fill=\"blue\" />\n",
       "<rect x=\"30\" y=\"-20\" width=\"20\" height=\"20\" fill=\"red\" />\n",
       "<rect x=\"50\" y=\"-20\" width=\"20\" height=\"20\" fill=\"blue\" />\n",
       "<rect x=\"70\" y=\"-20\" width=\"20\" height=\"20\" fill=\"red\" />\n",
       "<rect x=\"-90\" y=\"-40\" width=\"20\" height=\"20\" fill=\"blue\" />\n",
       "<rect x=\"-70\" y=\"-40\" width=\"20\" height=\"20\" fill=\"red\" />\n",
       "<rect x=\"-50\" y=\"-40\" width=\"20\" height=\"20\" fill=\"blue\" />\n",
       "<rect x=\"-30\" y=\"-40\" width=\"20\" height=\"20\" fill=\"red\" />\n",
       "<rect x=\"-10\" y=\"-40\" width=\"20\" height=\"20\" fill=\"blue\" />\n",
       "<rect x=\"10\" y=\"-40\" width=\"20\" height=\"20\" fill=\"red\" />\n",
       "<rect x=\"30\" y=\"-40\" width=\"20\" height=\"20\" fill=\"blue\" />\n",
       "<rect x=\"50\" y=\"-40\" width=\"20\" height=\"20\" fill=\"red\" />\n",
       "<rect x=\"70\" y=\"-40\" width=\"20\" height=\"20\" fill=\"blue\" />\n",
       "<rect x=\"-90\" y=\"-60\" width=\"20\" height=\"20\" fill=\"red\" />\n",
       "<rect x=\"-70\" y=\"-60\" width=\"20\" height=\"20\" fill=\"blue\" />\n",
       "<rect x=\"-50\" y=\"-60\" width=\"20\" height=\"20\" fill=\"red\" />\n",
       "<rect x=\"-30\" y=\"-60\" width=\"20\" height=\"20\" fill=\"blue\" />\n",
       "<rect x=\"-10\" y=\"-60\" width=\"20\" height=\"20\" fill=\"red\" />\n",
       "<rect x=\"10\" y=\"-60\" width=\"20\" height=\"20\" fill=\"blue\" />\n",
       "<rect x=\"30\" y=\"-60\" width=\"20\" height=\"20\" fill=\"red\" />\n",
       "<rect x=\"50\" y=\"-60\" width=\"20\" height=\"20\" fill=\"blue\" />\n",
       "<rect x=\"70\" y=\"-60\" width=\"20\" height=\"20\" fill=\"red\" />\n",
       "<rect x=\"-90\" y=\"-80\" width=\"20\" height=\"20\" fill=\"blue\" />\n",
       "<rect x=\"-70\" y=\"-80\" width=\"20\" height=\"20\" fill=\"red\" />\n",
       "<rect x=\"-50\" y=\"-80\" width=\"20\" height=\"20\" fill=\"blue\" />\n",
       "<rect x=\"-30\" y=\"-80\" width=\"20\" height=\"20\" fill=\"red\" />\n",
       "<rect x=\"-10\" y=\"-80\" width=\"20\" height=\"20\" fill=\"blue\" />\n",
       "<rect x=\"10\" y=\"-80\" width=\"20\" height=\"20\" fill=\"red\" />\n",
       "<rect x=\"30\" y=\"-80\" width=\"20\" height=\"20\" fill=\"blue\" />\n",
       "<rect x=\"50\" y=\"-80\" width=\"20\" height=\"20\" fill=\"red\" />\n",
       "<rect x=\"70\" y=\"-80\" width=\"20\" height=\"20\" fill=\"blue\" />\n",
       "</svg>"
      ],
      "text/plain": [
       "<drawSvg.drawing.Drawing at 0x4fd0a90>"
      ]
     },
     "execution_count": 1,
     "metadata": {},
     "output_type": "execute_result"
    }
   ],
   "source": [
    "# ---DRILL---\n",
    "# Draw an 8x8 checkerboard using nested for loops\n",
    "\n",
    "import drawSvg as draw\n",
    "d = draw.Drawing(200, 200, origin='center')\n",
    "\n",
    "c = 1\n",
    "for y in range(0,9):\n",
    "    for x in range(0,9):\n",
    "        if( c == 1 ):\n",
    "            d.append(draw.Rectangle(-90+x*20, -100+y*20, 20, 20, fill='blue'))\n",
    "            c = 0 # change color\n",
    "        else:\n",
    "            d.append(draw.Rectangle(-90+x*20, -100+y*20, 20, 20, fill='red'))\n",
    "            c = 1 # change color\n",
    "d"
   ]
  },
  {
   "cell_type": "code",
   "execution_count": null,
   "metadata": {},
   "outputs": [],
   "source": [
    "d = draw.Drawing(200, 200, origin='center')\n",
    "\n",
    "c = 1\n",
    "for y in range(0,9):\n",
    "    for x in range(0,9):\n",
    "        if( c == 1 ):\n",
    "            d.append(draw.Rectangle(-90+x*20, -100+y*20, 20, 20, fill='blue'))\n",
    "            c = 0 # change color\n",
    "        else:\n",
    "            d.append(draw.Rectangle(-90+x*20, -100+y*20, 20, 20, fill='red'))\n",
    "            c = 1 # change color\n",
    "d"
   ]
  }
 ],
 "metadata": {
  "kernelspec": {
   "display_name": "Python 3",
   "language": "python",
   "name": "python3"
  },
  "language_info": {
   "codemirror_mode": {
    "name": "ipython",
    "version": 3
   },
   "file_extension": ".py",
   "mimetype": "text/x-python",
   "name": "python",
   "nbconvert_exporter": "python",
   "pygments_lexer": "ipython3",
   "version": "3.7.6"
  }
 },
 "nbformat": 4,
 "nbformat_minor": 4
}
