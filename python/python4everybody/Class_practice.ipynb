{
 "cells": [
  {
   "cell_type": "code",
   "execution_count": null,
   "metadata": {},
   "outputs": [],
   "source": [
    "def has22 (l):\n",
    "    for x in range(0, len(l) - 1):\n",
    "        if (l[x] == 2 and l[x+1] == 2):\n",
    "            return True\n",
    "    \n",
    "    return False"
   ]
  },
  {
   "cell_type": "code",
   "execution_count": null,
   "metadata": {},
   "outputs": [],
   "source": [
    "def f(h):\n",
    "    return h(100)\n",
    "def g(x):\n",
    "    return 2 * x\n",
    "print(f(g))"
   ]
  },
  {
   "cell_type": "code",
   "execution_count": 7,
   "metadata": {},
   "outputs": [
    {
     "name": "stdout",
     "output_type": "stream",
     "text": [
      "ecnegnev"
     ]
    }
   ],
   "source": [
    "def my(s):\n",
    "    i = len(s)-1\n",
    "    while(i >= 0):\n",
    "        print(s[i], end='')\n",
    "        i = i - 1\n",
    "\n",
    "my ('vengence')"
   ]
  },
  {
   "cell_type": "code",
   "execution_count": 10,
   "metadata": {},
   "outputs": [
    {
     "name": "stdout",
     "output_type": "stream",
     "text": [
      "3\n",
      "4\n",
      "5\n",
      "6\n",
      "7\n"
     ]
    }
   ],
   "source": [
    "def count_up(x,y):\n",
    "    for num in range(x, y+1):\n",
    "        print(num)\n",
    "        #num = num + 1\n",
    "count_up(3,7)"
   ]
  },
  {
   "cell_type": "code",
   "execution_count": 12,
   "metadata": {},
   "outputs": [],
   "source": [
    "def count_down(x, y):\n",
    "    while y >= x:\n",
    "        print(y)\n",
    "        y = y-1\n",
    "        \n",
    "        \n",
    "count_down(7,3)"
   ]
  },
  {
   "cell_type": "code",
   "execution_count": 18,
   "metadata": {},
   "outputs": [
    {
     "data": {
      "text/plain": [
       "[0, 0, 0]"
      ]
     },
     "execution_count": 18,
     "metadata": {},
     "output_type": "execute_result"
    }
   ],
   "source": [
    "def add_list(x,y):\n",
    "    for i in x:\n",
    "        for j in range(0, i):\n",
    "            x[j] = x[j] + y[j]\n",
    "    return x\n",
    "\n",
    "add_list([0,0,0], [1,2,3])"
   ]
  },
  {
   "cell_type": "code",
   "execution_count": null,
   "metadata": {},
   "outputs": [],
   "source": [
    "def index(l,s):\n",
    "\n",
    "    for i in range(0, len(l)):\n",
    "        if l[i] == s:\n",
    "            return i\n",
    "    \n",
    "    return -1"
   ]
  },
  {
   "cell_type": "code",
   "execution_count": null,
   "metadata": {},
   "outputs": [],
   "source": [
    "def mystery(z):\n",
    "    j = len(z) - 1\n",
    "    w = 1\n",
    "    while(j >= 0):\n",
    "        if(z[j] > 0):\n",
    "            w = w * z[j]\n",
    "        else:\n",
    "            w = w * (-1 * z[j])\n",
    "        j = j -1\n",
    "    return (w > 10000)"
   ]
  },
  {
   "cell_type": "code",
   "execution_count": null,
   "metadata": {},
   "outputs": [],
   "source": [
    "def find_biggest (A):\n",
    "    y = 0\n",
    "    x = A[y]\n",
    "    for i in range(1, len(A)):\n",
    "        if (A[i] >= x):\n",
    "            x = A[i]\n",
    "            y = i\n",
    "    print(y)"
   ]
  },
  {
   "cell_type": "code",
   "execution_count": null,
   "metadata": {},
   "outputs": [],
   "source": [
    "def find_small (B):\n",
    "    u = 0\n",
    "    v = B[u]\n",
    "    for j in range(1, len(B)):\n",
    "        if (B[j] <= v):\n",
    "            v = B[j]\n",
    "            u = j\n",
    "    print(u)"
   ]
  },
  {
   "cell_type": "code",
   "execution_count": null,
   "metadata": {},
   "outputs": [],
   "source": [
    "def swap_list_for (l):\n",
    "    for i in range(0, len(l),2):\n",
    "        j = i + 1\n",
    "        temp = l[i]\n",
    "        l[i] = l[j]\n",
    "        l[j] = temp\n",
    "    return l"
   ]
  },
  {
   "cell_type": "code",
   "execution_count": null,
   "metadata": {},
   "outputs": [],
   "source": [
    "def swap_list (l):\n",
    "    i = 0 \n",
    "    while(i < len(l) - 1):\n",
    "        j = i + 1\n",
    "        temp = l[i] \n",
    "        l[i] = l[j]\n",
    "        l[j] = temp\n",
    "        i += 2\n",
    " \n",
    "    return l"
   ]
  },
  {
   "cell_type": "code",
   "execution_count": null,
   "metadata": {},
   "outputs": [],
   "source": [
    "def reverse(l):\n",
    "    for i in range(0, int(len(l)/2)):\n",
    "        j = len(l) -1 -i\n",
    "        temp = l[i]\n",
    "        l[i] = l[j]\n",
    "        l[j] = temp \n",
    "    return l"
   ]
  },
  {
   "cell_type": "code",
   "execution_count": null,
   "metadata": {},
   "outputs": [],
   "source": [
    "print(reverse([0,1,2,3,4,5]))"
   ]
  },
  {
   "cell_type": "code",
   "execution_count": null,
   "metadata": {},
   "outputs": [],
   "source": [
    "import numpy as np\n",
    "import matplotlib.pyplot as plt\n",
    "import csv"
   ]
  },
  {
   "cell_type": "code",
   "execution_count": null,
   "metadata": {},
   "outputs": [],
   "source": [
    "with open('temperatures.csv') as csvfile:\n",
    "    csvdata = csv.reader(csvfile)\n",
    "\n",
    "    next(csvdata,None)\n",
    "    temp = []\n",
    "    year = []\n",
    "\n",
    "    for row in csvdata:\n",
    "        year.append(int(row[0]))\n",
    "        temp.append(float(row[1]))\n"
   ]
  },
  {
   "cell_type": "code",
   "execution_count": null,
   "metadata": {},
   "outputs": [],
   "source": [
    "plt.plot(year, temp)\n",
    "plt.xlabel('year')\n",
    "plt.ylabel('temp difference in C')\n",
    "\n",
    "plt.show()"
   ]
  },
  {
   "cell_type": "code",
   "execution_count": null,
   "metadata": {},
   "outputs": [],
   "source": [
    "from numpy.linalg import inv\n",
    "\n",
    "with open('temperatures.csv') as csvfile:\n",
    "    csvdata = csv.reader(csvfile)\n",
    "\n",
    "    next(csvdata,None)\n",
    "    temp = []\n",
    "    year = []\n",
    "\n",
    "    for row in csvdata:\n",
    "        year.append(int(row[0]))\n",
    "        temp.append(float(row[1]))\n",
    "\n",
    "a1 = np.matrix(year)\n",
    "a0 = np.matrix(np.ones(len(year)))\n",
    "a2 = np.power(a1, 2)\n",
    "A = np.concatenate((a2, a1, a0), axis = 0)\n",
    "A = A.transpose()\n",
    "\n",
    "b = np.transpose(np.matrix(temp))\n",
    "\n",
    "m = inv(A.transpose() * A) * A.transpose() * b\n",
    "\n",
    "for y in range(1880, 2100, 10):\n",
    "    temp = m[0] * y * y + m[1] * y + m[2] \n",
    "    plt.plot(y, temp, \"r.\")\n",
    "    \n",
    "plt.plot(year, temp)\n",
    "plt.xlabel('year')\n",
    "plt.ylabel('temp')\n",
    "plt.show()"
   ]
  },
  {
   "cell_type": "code",
   "execution_count": null,
   "metadata": {},
   "outputs": [],
   "source": [
    "read_file = open('test.txt', 'r')\n",
    "char_total = 0\n",
    "word_total = 0\n",
    "\n",
    "for line in read_file:\n",
    "    stp = line.strip()\n",
    "    \n",
    "    print('strip line: ', stp)\n",
    "    num_char = len(stp) - stp.count(' ')\n",
    "    print('number of char: ', num_char)\n",
    "\n",
    "    char_total += num_char\n",
    "    ####\n",
    "    \n",
    "    W = stp.split()\n",
    "    print('words are: ', W)\n",
    "    for word in W:\n",
    "        word_total += 1\n",
    "        print('words count is: ', word_total)\n",
    "\n",
    "read_file.close()\n",
    "\n",
    "print(char_total)\n",
    "print(word_total)"
   ]
  },
  {
   "cell_type": "code",
   "execution_count": null,
   "metadata": {},
   "outputs": [],
   "source": [
    "read_file = open('test.txt', 'r')\n",
    "\n",
    "second = read_file.read()\n",
    "\n",
    "#for line in read_file:\n",
    "\n",
    "    #print('strip line: ', line)\n",
    "\n",
    "print(second)"
   ]
  },
  {
   "cell_type": "markdown",
   "metadata": {},
   "source": [
    "### Recursive Functions"
   ]
  },
  {
   "cell_type": "code",
   "execution_count": null,
   "metadata": {},
   "outputs": [],
   "source": [
    "n = []\n",
    "num_max = n[0]\n",
    "\n",
    "if len(n) == 1:\n",
    "    print(num_mas)\n",
    "\n",
    "elif:\n",
    "    \n",
    "    for m in range(len(n)):\n",
    "    num_max = max(n[m], num_max)\n",
    "    \n",
    "    print()"
   ]
  },
  {
   "cell_type": "code",
   "execution_count": null,
   "metadata": {},
   "outputs": [],
   "source": [
    "def findmax(L):\n",
    "    if (len(L) == 0):\n",
    "        return 0\n",
    "    elif(len(L) == 1):\n",
    "        return L[0]\n",
    "    else:\n",
    "        return max(L[0], findmax(L[1:]))"
   ]
  },
  {
   "cell_type": "code",
   "execution_count": null,
   "metadata": {},
   "outputs": [],
   "source": [
    "print(findmax([1,2,3,4,5,2,2]))"
   ]
  },
  {
   "cell_type": "code",
   "execution_count": null,
   "metadata": {},
   "outputs": [],
   "source": [
    "def has22(L):\n",
    "    if(len(L) == 0 or len(L) == 1):\n",
    "        return False\n",
    "    else:\n",
    "         \n",
    "        return (L[0] == 2 and L[1] == 2) or has22(L[1:])"
   ]
  },
  {
   "cell_type": "code",
   "execution_count": null,
   "metadata": {},
   "outputs": [],
   "source": [
    "print(has22([1,2,3,4,5,2,2]))"
   ]
  },
  {
   "cell_type": "markdown",
   "metadata": {},
   "source": [
    "#### Write a recursive function, count_evens, that takes as input a list of numbers and returns the number of even numbers.\n"
   ]
  },
  {
   "cell_type": "code",
   "execution_count": null,
   "metadata": {},
   "outputs": [],
   "source": [
    "def count_evens (l):\n",
    "    if len(l) == 0:\n",
    "        return False\n",
    "    else:\n",
    "        if (l[0] % 2 ==0 ):\n",
    "            return 1 + count_evens(l[1:])\n",
    "        else:\n",
    "            return 0 + count_evens(l[1:])\n",
    "    "
   ]
  },
  {
   "cell_type": "code",
   "execution_count": null,
   "metadata": {},
   "outputs": [],
   "source": [
    "print(count_evens([1,3,2,5,7,9]))"
   ]
  },
  {
   "cell_type": "code",
   "execution_count": null,
   "metadata": {},
   "outputs": [],
   "source": [
    "def fib(n):\n",
    "    if n == 0:\n",
    "        return 0\n",
    "    elif n == 1:\n",
    "        return 1\n",
    "    else:\n",
    "        return fib(n-1) + fib(n-2)"
   ]
  },
  {
   "cell_type": "code",
   "execution_count": null,
   "metadata": {},
   "outputs": [],
   "source": [
    "def factorial(n):\n",
    "    fact = 1\n",
    "    i = 1\n",
    "    while i <= n:\n",
    "        fact *= i\n",
    "        i += 1\n",
    "    return fact \n"
   ]
  },
  {
   "cell_type": "code",
   "execution_count": null,
   "metadata": {},
   "outputs": [],
   "source": [
    "def factorialnew(n):\n",
    "    if n == 0:\n",
    "        return 1\n",
    "    else:\n",
    "        return n * factorialnew(n-1)"
   ]
  },
  {
   "cell_type": "markdown",
   "metadata": {},
   "source": [
    "### Hanoi Game"
   ]
  },
  {
   "cell_type": "code",
   "execution_count": null,
   "metadata": {},
   "outputs": [],
   "source": [
    "def move_disk (disk_number, from_peg, to_peg): \n",
    "    print('Move disk ' + str(disk_number) + ' from peg ' + str(from_peg) + ' to peg ' + str(to_peg))"
   ]
  },
  {
   "cell_type": "markdown",
   "metadata": {},
   "source": [
    "### Steps\n",
    "- hanoi(3, 1, 2) # move 3 disk from 1 to 2 \n",
    "    - hanoi(2, 1, 3)\n",
    "        - hanoi(1, 1, 2)\n",
    "        - move_disk(2, 1, 3)\n",
    "        - hanoi(1, 2, 3)\n",
    "    - move(3, 1, 2) # move disk 3 from 1 to 2\n",
    "    - hanoi(2, 3, 2)\n",
    "    "
   ]
  },
  {
   "cell_type": "code",
   "execution_count": null,
   "metadata": {},
   "outputs": [],
   "source": [
    "def solve_hanoi(n, start_peg, end_peg):\n",
    "    if n == 1:\n",
    "        move_disk(n, start_peg, end_peg)\n",
    "    else:\n",
    "        # 1 + 2 + 3 = 6, the number of peg is [1, 2, 3]\n",
    "        spare_peg = 6 - start_peg - end_peg\n",
    "        solve_hanoi(n-1, start_peg, spare_peg)\n",
    "        move_disk(n, start_peg, end_peg)\n",
    "        solve_hanoi(n-1, spare_peg, end_peg)"
   ]
  },
  {
   "cell_type": "code",
   "execution_count": null,
   "metadata": {},
   "outputs": [],
   "source": [
    "solve_hanoi(5, 1, 2)"
   ]
  },
  {
   "cell_type": "markdown",
   "metadata": {},
   "source": [
    "### Object and Class"
   ]
  },
  {
   "cell_type": "code",
   "execution_count": 1,
   "metadata": {},
   "outputs": [],
   "source": [
    "class Complex:\n",
    "    # constructor MUST MUST\n",
    "    def __init__(self,a,b):\n",
    "        self.real = a\n",
    "        self.imag = b\n",
    "    def __str__(self):\n",
    "        return str(self.real) + \" + \" + str(self.imag) + \" i \"\n",
    "    def add(self, c):\n",
    "        # your code here (R1 + Ili) + (R2 + I2i) = (R1 + R2) + (I1 + I2)i\n",
    "        # return str (self.real + c.real) + \" + \" + str(self.imag + c.imag) + \" i \"\n",
    "        self.real = self.real + c.real\n",
    "        self.imag = self.imag + c.imag\n",
    "    \n",
    "    def addTo(self, c):\n",
    "        real = self.real + c.real\n",
    "        imag = self.imag + c.imag\n",
    "        \n",
    "        return Complex(real, imag)\n",
    "    \n",
    "    def multiply(self, c):\n",
    "        # (R1 + I1i)*(R2+I2i)=(R1*R2-I1*I2)+(R1*I2+R2*I1)i\n",
    "        # be careful that modification will change the original value \n",
    "\n",
    "        \n",
    "        prodReal = self.real * c.real - self.imag * c.imag\n",
    "        progImag = self.imag * c.imag + self.imag * c.imag\n",
    "        self.real = prodReal\n",
    "        self.imag = progImag"
   ]
  },
  {
   "cell_type": "code",
   "execution_count": 2,
   "metadata": {},
   "outputs": [
    {
     "name": "stdout",
     "output_type": "stream",
     "text": [
      "ci =  1 + 2 i \n"
     ]
    }
   ],
   "source": [
    "c1 = Complex(1, 2)\n",
    "print(\"ci = \", c1)"
   ]
  },
  {
   "cell_type": "code",
   "execution_count": 3,
   "metadata": {},
   "outputs": [],
   "source": [
    "c2 = Complex(-3, 7)"
   ]
  },
  {
   "cell_type": "code",
   "execution_count": 4,
   "metadata": {},
   "outputs": [
    {
     "name": "stdout",
     "output_type": "stream",
     "text": [
      "-2 + 9 i \n",
      "-3 + 7 i \n"
     ]
    }
   ],
   "source": [
    "#-2 + 9i\n",
    "c1.add(c2)\n",
    "print(c1)\n",
    "print(c2)"
   ]
  },
  {
   "cell_type": "code",
   "execution_count": 5,
   "metadata": {},
   "outputs": [],
   "source": [
    "c1.multiply(c2)"
   ]
  },
  {
   "cell_type": "code",
   "execution_count": 6,
   "metadata": {},
   "outputs": [
    {
     "name": "stdout",
     "output_type": "stream",
     "text": [
      "-57 + 126 i \n"
     ]
    }
   ],
   "source": [
    "print(c1)"
   ]
  },
  {
   "cell_type": "markdown",
   "metadata": {},
   "source": [
    "### Bouncing Ball Animation"
   ]
  },
  {
   "cell_type": "code",
   "execution_count": 2,
   "metadata": {},
   "outputs": [
    {
     "name": "stderr",
     "output_type": "stream",
     "text": [
      "C:\\Users\\sherr\\anaconda3\\lib\\site-packages\\drawSvg\\raster.py:18: RuntimeWarning: Failed to import CairoSVG. drawSvg will be unable to output PNG or other raster image formats. See https://github.com/cduck/drawSvg#prerequisites for more details.\n",
      "Original OSError: no library called \"cairo\" was found\n",
      "no library called \"libcairo-2\" was found\n",
      "cannot load library 'libcairo.so': error 0x7e\n",
      "cannot load library 'libcairo.2.dylib': error 0x7e\n",
      "cannot load library 'libcairo-2.dll': error 0x7e\n",
      "  warnings.warn(msg, RuntimeWarning)\n"
     ]
    }
   ],
   "source": [
    "import drawSvg as draw\n",
    "from random import random, randint"
   ]
  },
  {
   "cell_type": "code",
   "execution_count": 18,
   "metadata": {},
   "outputs": [],
   "source": [
    "GRAVITY = -9.81\n",
    "CANVAS_HEIGHT = 200\n",
    "RADIUS = 10\n",
    "D = draw.Drawing(CANVAS_HEIGHT, CANVAS_HEIGHT, origin= \"center\")\n",
    "\n",
    "class Ball:\n",
    "    def __init__ (self, posx, posy, vx, vy, color= 'blue'):\n",
    "        self.x = posx\n",
    "        self.y = posy\n",
    "        self.vx = vx\n",
    "        self.vy = vy\n",
    "        self.color = color\n",
    "    \n",
    "    def update_position(self, timestep):\n",
    "        self.x = self.x + timestep * self.vx\n",
    "        self.y = self.y + timestep * self.vy\n",
    "        \n",
    "        if(self.y <= CANVAS_HEIGHT/2 + RADIUS):\n",
    "            self.vy = -self.vy\n",
    "            self.y = self.y + self.vy * timestep\n",
    "    \n",
    "    \n",
    "    def update_velocity(self, timestep):\n",
    "        self.vy = self.vy + timestep * GRAVITY\n",
    "\n",
    "    \n",
    "    def animate(self, timestep):\n",
    "        self.update_position(timestep)\n",
    "        self.update_velocity(timestep)\n",
    "    \n",
    "    def draw(self):\n",
    "        D.append(draw.Circle(self.x, self.y, RADIUS, fill= self.color))"
   ]
  },
  {
   "cell_type": "code",
   "execution_count": 19,
   "metadata": {},
   "outputs": [],
   "source": [
    "ball_list = []\n",
    "color_list = ['red', 'orange', 'yellow', 'green', 'violet', 'blue', 'indigo']\n",
    "\n",
    "for i in range(1, 100):\n",
    "    x = randint(-90, 90)\n",
    "    y = randint(-90, 90)\n",
    "    vx = 20 * random() - 10\n",
    "    vy = 20 * random() - 10\n",
    "    c = randint(0, len(color_list) - 1)\n",
    "    \n",
    "    ball_list.append( Ball(x, y, vx, vy, color_list[c]))"
   ]
  },
  {
   "cell_type": "code",
   "execution_count": 20,
   "metadata": {},
   "outputs": [
    {
     "data": {
      "image/svg+xml": [
       "<?xml version=\"1.0\" encoding=\"UTF-8\"?>\n",
       "<svg xmlns=\"http://www.w3.org/2000/svg\" xmlns:xlink=\"http://www.w3.org/1999/xlink\"\n",
       "     width=\"200\" height=\"200\" viewBox=\"-100.0 -100.0 200 200\">\n",
       "<defs>\n",
       "</defs>\n",
       "<circle cx=\"-41.92481559655869\" cy=\"12.0\" r=\"10\" fill=\"violet\" />\n",
       "<circle cx=\"-10.241081046754168\" cy=\"-14.0\" r=\"10\" fill=\"indigo\" />\n",
       "<circle cx=\"-39.359129464173186\" cy=\"47.0\" r=\"10\" fill=\"yellow\" />\n",
       "<circle cx=\"54.60154021350658\" cy=\"32.0\" r=\"10\" fill=\"blue\" />\n",
       "<circle cx=\"21.743800153182455\" cy=\"25.0\" r=\"10\" fill=\"indigo\" />\n",
       "<circle cx=\"-27.25576982636089\" cy=\"-43.0\" r=\"10\" fill=\"red\" />\n",
       "<circle cx=\"-24.649441520870845\" cy=\"23.0\" r=\"10\" fill=\"green\" />\n",
       "<circle cx=\"-131.07555545726007\" cy=\"41.0\" r=\"10\" fill=\"blue\" />\n",
       "<circle cx=\"-107.60252841156641\" cy=\"-46.0\" r=\"10\" fill=\"yellow\" />\n",
       "<circle cx=\"48.82790392007824\" cy=\"-34.0\" r=\"10\" fill=\"indigo\" />\n",
       "<circle cx=\"18.668994788183856\" cy=\"-66.0\" r=\"10\" fill=\"violet\" />\n",
       "<circle cx=\"149.04011512288827\" cy=\"16.0\" r=\"10\" fill=\"blue\" />\n",
       "<circle cx=\"-127.84713592917163\" cy=\"39.0\" r=\"10\" fill=\"orange\" />\n",
       "<circle cx=\"56.66733130567256\" cy=\"16.0\" r=\"10\" fill=\"violet\" />\n",
       "<circle cx=\"83.20701453934838\" cy=\"25.0\" r=\"10\" fill=\"violet\" />\n",
       "<circle cx=\"-93.19620262440054\" cy=\"39.0\" r=\"10\" fill=\"violet\" />\n",
       "<circle cx=\"-45.06305579917359\" cy=\"-36.0\" r=\"10\" fill=\"red\" />\n",
       "<circle cx=\"-68.73867542012484\" cy=\"-27.0\" r=\"10\" fill=\"blue\" />\n",
       "<circle cx=\"107.89108305049439\" cy=\"-60.0\" r=\"10\" fill=\"yellow\" />\n",
       "<circle cx=\"65.10097763311572\" cy=\"-0.0\" r=\"10\" fill=\"yellow\" />\n",
       "<circle cx=\"31.604655929888725\" cy=\"-32.0\" r=\"10\" fill=\"green\" />\n",
       "<circle cx=\"33.982212838071526\" cy=\"-86.0\" r=\"10\" fill=\"violet\" />\n",
       "<circle cx=\"58.29618908624994\" cy=\"86.0\" r=\"10\" fill=\"yellow\" />\n",
       "<circle cx=\"23.33700875360523\" cy=\"-61.0\" r=\"10\" fill=\"indigo\" />\n",
       "<circle cx=\"18.428027137596448\" cy=\"65.0\" r=\"10\" fill=\"indigo\" />\n",
       "<circle cx=\"-2.079675939939875\" cy=\"46.0\" r=\"10\" fill=\"yellow\" />\n",
       "<circle cx=\"99.76302521875965\" cy=\"-31.0\" r=\"10\" fill=\"blue\" />\n",
       "<circle cx=\"-30.866205729843124\" cy=\"7.999999999999999\" r=\"10\" fill=\"indigo\" />\n",
       "<circle cx=\"-21.795866403679444\" cy=\"-46.0\" r=\"10\" fill=\"red\" />\n",
       "<circle cx=\"21.375082427093368\" cy=\"86.0\" r=\"10\" fill=\"violet\" />\n",
       "<circle cx=\"-22.973538589311545\" cy=\"-57.0\" r=\"10\" fill=\"yellow\" />\n",
       "<circle cx=\"-92.85034834482722\" cy=\"-47.0\" r=\"10\" fill=\"green\" />\n",
       "<circle cx=\"-0.4707591862395848\" cy=\"4.0\" r=\"10\" fill=\"yellow\" />\n",
       "<circle cx=\"-33.1112949148781\" cy=\"-82.0\" r=\"10\" fill=\"green\" />\n",
       "<circle cx=\"49.828031137214644\" cy=\"38.0\" r=\"10\" fill=\"yellow\" />\n",
       "<circle cx=\"-20.078802174055195\" cy=\"-67.0\" r=\"10\" fill=\"orange\" />\n",
       "<circle cx=\"42.0482132234\" cy=\"-49.0\" r=\"10\" fill=\"indigo\" />\n",
       "<circle cx=\"43.11675768323088\" cy=\"70.0\" r=\"10\" fill=\"violet\" />\n",
       "<circle cx=\"-22.107321389111554\" cy=\"62.0\" r=\"10\" fill=\"red\" />\n",
       "<circle cx=\"84.25122328119096\" cy=\"-77.0\" r=\"10\" fill=\"orange\" />\n",
       "<circle cx=\"147.08234113284414\" cy=\"49.0\" r=\"10\" fill=\"green\" />\n",
       "<circle cx=\"94.05571019166504\" cy=\"-84.0\" r=\"10\" fill=\"blue\" />\n",
       "<circle cx=\"-12.114687397498862\" cy=\"-85.0\" r=\"10\" fill=\"orange\" />\n",
       "<circle cx=\"-12.715219040351723\" cy=\"-73.0\" r=\"10\" fill=\"red\" />\n",
       "<circle cx=\"92.63318487783346\" cy=\"19.0\" r=\"10\" fill=\"red\" />\n",
       "<circle cx=\"-67.92662355254791\" cy=\"-7.999999999999999\" r=\"10\" fill=\"red\" />\n",
       "<circle cx=\"82.42436551675621\" cy=\"-37.0\" r=\"10\" fill=\"yellow\" />\n",
       "<circle cx=\"-31.94221463147683\" cy=\"-85.0\" r=\"10\" fill=\"green\" />\n",
       "<circle cx=\"36.07393421026903\" cy=\"-60.0\" r=\"10\" fill=\"indigo\" />\n",
       "<circle cx=\"-1.4600524522900358\" cy=\"-25.0\" r=\"10\" fill=\"indigo\" />\n",
       "<circle cx=\"-39.76571888831176\" cy=\"55.0\" r=\"10\" fill=\"green\" />\n",
       "<circle cx=\"-1.7673973135208976\" cy=\"65.0\" r=\"10\" fill=\"yellow\" />\n",
       "<circle cx=\"134.7837826059186\" cy=\"-23.0\" r=\"10\" fill=\"violet\" />\n",
       "<circle cx=\"19.0689783889315\" cy=\"-1.0\" r=\"10\" fill=\"blue\" />\n",
       "<circle cx=\"45.47977807832986\" cy=\"24.0\" r=\"10\" fill=\"violet\" />\n",
       "<circle cx=\"-20.295834081281978\" cy=\"-54.0\" r=\"10\" fill=\"red\" />\n",
       "<circle cx=\"56.15266092759507\" cy=\"71.0\" r=\"10\" fill=\"blue\" />\n",
       "<circle cx=\"-5.1513993222139725\" cy=\"14.0\" r=\"10\" fill=\"violet\" />\n",
       "<circle cx=\"54.35964133655733\" cy=\"-77.0\" r=\"10\" fill=\"blue\" />\n",
       "<circle cx=\"-14.846409999260612\" cy=\"50.0\" r=\"10\" fill=\"green\" />\n",
       "<circle cx=\"-22.622611189761972\" cy=\"20.0\" r=\"10\" fill=\"yellow\" />\n",
       "<circle cx=\"30.441632719598203\" cy=\"-79.0\" r=\"10\" fill=\"red\" />\n",
       "<circle cx=\"-15.187985839220367\" cy=\"-55.0\" r=\"10\" fill=\"green\" />\n",
       "<circle cx=\"-43.74372974505513\" cy=\"-82.0\" r=\"10\" fill=\"green\" />\n",
       "<circle cx=\"30.307443731731155\" cy=\"-17.0\" r=\"10\" fill=\"blue\" />\n",
       "<circle cx=\"-15.535560701048874\" cy=\"-47.0\" r=\"10\" fill=\"blue\" />\n",
       "<circle cx=\"-37.42635316024566\" cy=\"29.0\" r=\"10\" fill=\"red\" />\n",
       "<circle cx=\"-20.3546040247612\" cy=\"-66.0\" r=\"10\" fill=\"indigo\" />\n",
       "<circle cx=\"-53.81125424549124\" cy=\"50.0\" r=\"10\" fill=\"red\" />\n",
       "<circle cx=\"4.290978954795654\" cy=\"-28.0\" r=\"10\" fill=\"indigo\" />\n",
       "<circle cx=\"47.43647554732449\" cy=\"78.0\" r=\"10\" fill=\"green\" />\n",
       "<circle cx=\"-111.47185681754088\" cy=\"-20.0\" r=\"10\" fill=\"blue\" />\n",
       "<circle cx=\"66.98587764655734\" cy=\"-23.0\" r=\"10\" fill=\"yellow\" />\n",
       "<circle cx=\"-9.589313792721162\" cy=\"52.0\" r=\"10\" fill=\"green\" />\n",
       "<circle cx=\"87.66541156446553\" cy=\"-49.0\" r=\"10\" fill=\"orange\" />\n",
       "<circle cx=\"-88.70983643440606\" cy=\"-59.0\" r=\"10\" fill=\"blue\" />\n",
       "<circle cx=\"-17.610984748486572\" cy=\"35.0\" r=\"10\" fill=\"violet\" />\n",
       "<circle cx=\"-138.8342506457225\" cy=\"-28.0\" r=\"10\" fill=\"green\" />\n",
       "<circle cx=\"93.86703425471256\" cy=\"-45.0\" r=\"10\" fill=\"yellow\" />\n",
       "<circle cx=\"89.3758621480114\" cy=\"24.0\" r=\"10\" fill=\"violet\" />\n",
       "<circle cx=\"91.41796888692136\" cy=\"-25.0\" r=\"10\" fill=\"yellow\" />\n",
       "<circle cx=\"18.214560720468295\" cy=\"-73.0\" r=\"10\" fill=\"orange\" />\n",
       "<circle cx=\"-31.33141949522977\" cy=\"56.0\" r=\"10\" fill=\"yellow\" />\n",
       "<circle cx=\"62.83681917769606\" cy=\"66.0\" r=\"10\" fill=\"violet\" />\n",
       "<circle cx=\"-45.78618102812435\" cy=\"73.0\" r=\"10\" fill=\"green\" />\n",
       "<circle cx=\"-77.55215526155101\" cy=\"63.99999999999999\" r=\"10\" fill=\"red\" />\n",
       "<circle cx=\"134.45961385411476\" cy=\"17.0\" r=\"10\" fill=\"yellow\" />\n",
       "<circle cx=\"15.504951802162806\" cy=\"35.0\" r=\"10\" fill=\"violet\" />\n",
       "<circle cx=\"-53.447636068578376\" cy=\"83.0\" r=\"10\" fill=\"yellow\" />\n",
       "<circle cx=\"68.21707084490649\" cy=\"-54.0\" r=\"10\" fill=\"red\" />\n",
       "<circle cx=\"-61.33113353659502\" cy=\"-30.0\" r=\"10\" fill=\"orange\" />\n",
       "<circle cx=\"87.41540445745727\" cy=\"20.0\" r=\"10\" fill=\"yellow\" />\n",
       "<circle cx=\"78.6717060821714\" cy=\"-55.0\" r=\"10\" fill=\"blue\" />\n",
       "<circle cx=\"26.03759514082587\" cy=\"78.0\" r=\"10\" fill=\"green\" />\n",
       "<circle cx=\"-67.00147414577587\" cy=\"88.0\" r=\"10\" fill=\"yellow\" />\n",
       "<circle cx=\"-50.823261513078435\" cy=\"-0.0\" r=\"10\" fill=\"yellow\" />\n",
       "<circle cx=\"60.63186732932491\" cy=\"-47.0\" r=\"10\" fill=\"indigo\" />\n",
       "<circle cx=\"-97.69984294289827\" cy=\"89.0\" r=\"10\" fill=\"blue\" />\n",
       "<circle cx=\"65.83977499403144\" cy=\"-35.0\" r=\"10\" fill=\"orange\" />\n",
       "</svg>"
      ],
      "text/plain": [
       "<drawSvg.drawing.Drawing at 0x5df2b10>"
      ]
     },
     "metadata": {},
     "output_type": "display_data"
    },
    {
     "ename": "KeyboardInterrupt",
     "evalue": "",
     "output_type": "error",
     "traceback": [
      "\u001b[1;31m---------------------------------------------------------------------------\u001b[0m",
      "\u001b[1;31mKeyboardInterrupt\u001b[0m                         Traceback (most recent call last)",
      "\u001b[1;32m<ipython-input-20-4477b519380d>\u001b[0m in \u001b[0;36m<module>\u001b[1;34m\u001b[0m\n\u001b[0;32m      9\u001b[0m     \u001b[0mD\u001b[0m \u001b[1;33m=\u001b[0m \u001b[0mdraw\u001b[0m\u001b[1;33m.\u001b[0m\u001b[0mDrawing\u001b[0m\u001b[1;33m(\u001b[0m\u001b[0mCANVAS_HEIGHT\u001b[0m\u001b[1;33m,\u001b[0m \u001b[0mCANVAS_HEIGHT\u001b[0m\u001b[1;33m,\u001b[0m \u001b[0morigin\u001b[0m\u001b[1;33m=\u001b[0m \u001b[1;34m\"center\"\u001b[0m\u001b[1;33m)\u001b[0m\u001b[1;33m\u001b[0m\u001b[1;33m\u001b[0m\u001b[0m\n\u001b[0;32m     10\u001b[0m     \u001b[1;32mwith\u001b[0m \u001b[0mdraw\u001b[0m\u001b[1;33m.\u001b[0m\u001b[0manimate_jupyter\u001b[0m\u001b[1;33m(\u001b[0m\u001b[0mdraw_frame\u001b[0m\u001b[1;33m,\u001b[0m \u001b[0mdelay\u001b[0m\u001b[1;33m=\u001b[0m \u001b[1;36m0.05\u001b[0m\u001b[1;33m)\u001b[0m \u001b[1;32mas\u001b[0m \u001b[0manim\u001b[0m\u001b[1;33m:\u001b[0m\u001b[1;33m\u001b[0m\u001b[1;33m\u001b[0m\u001b[0m\n\u001b[1;32m---> 11\u001b[1;33m         \u001b[0manim\u001b[0m\u001b[1;33m.\u001b[0m\u001b[0mdraw_frame\u001b[0m\u001b[1;33m(\u001b[0m\u001b[1;33m)\u001b[0m\u001b[1;33m\u001b[0m\u001b[1;33m\u001b[0m\u001b[0m\n\u001b[0m",
      "\u001b[1;32m~\\anaconda3\\lib\\site-packages\\drawSvg\\animation.py\u001b[0m in \u001b[0;36mdraw_frame\u001b[1;34m(self, *args, **kwargs)\u001b[0m\n\u001b[0;32m     20\u001b[0m     \u001b[1;32mdef\u001b[0m \u001b[0mdraw_frame\u001b[0m\u001b[1;33m(\u001b[0m\u001b[0mself\u001b[0m\u001b[1;33m,\u001b[0m \u001b[1;33m*\u001b[0m\u001b[0margs\u001b[0m\u001b[1;33m,\u001b[0m \u001b[1;33m**\u001b[0m\u001b[0mkwargs\u001b[0m\u001b[1;33m)\u001b[0m\u001b[1;33m:\u001b[0m\u001b[1;33m\u001b[0m\u001b[1;33m\u001b[0m\u001b[0m\n\u001b[0;32m     21\u001b[0m         \u001b[0mframe\u001b[0m \u001b[1;33m=\u001b[0m \u001b[0mself\u001b[0m\u001b[1;33m.\u001b[0m\u001b[0mdraw_func\u001b[0m\u001b[1;33m(\u001b[0m\u001b[1;33m*\u001b[0m\u001b[0margs\u001b[0m\u001b[1;33m,\u001b[0m \u001b[1;33m**\u001b[0m\u001b[0mkwargs\u001b[0m\u001b[1;33m)\u001b[0m\u001b[1;33m\u001b[0m\u001b[1;33m\u001b[0m\u001b[0m\n\u001b[1;32m---> 22\u001b[1;33m         \u001b[0mself\u001b[0m\u001b[1;33m.\u001b[0m\u001b[0mappend_frame\u001b[0m\u001b[1;33m(\u001b[0m\u001b[0mframe\u001b[0m\u001b[1;33m)\u001b[0m\u001b[1;33m\u001b[0m\u001b[1;33m\u001b[0m\u001b[0m\n\u001b[0m\u001b[0;32m     23\u001b[0m         \u001b[1;32mreturn\u001b[0m \u001b[0mframe\u001b[0m\u001b[1;33m\u001b[0m\u001b[1;33m\u001b[0m\u001b[0m\n\u001b[0;32m     24\u001b[0m \u001b[1;33m\u001b[0m\u001b[0m\n",
      "\u001b[1;32m~\\anaconda3\\lib\\site-packages\\drawSvg\\animation.py\u001b[0m in \u001b[0;36mappend_frame\u001b[1;34m(self, frame)\u001b[0m\n\u001b[0;32m     16\u001b[0m     \u001b[1;32mdef\u001b[0m \u001b[0mappend_frame\u001b[0m\u001b[1;33m(\u001b[0m\u001b[0mself\u001b[0m\u001b[1;33m,\u001b[0m \u001b[0mframe\u001b[0m\u001b[1;33m)\u001b[0m\u001b[1;33m:\u001b[0m\u001b[1;33m\u001b[0m\u001b[1;33m\u001b[0m\u001b[0m\n\u001b[0;32m     17\u001b[0m         \u001b[0mself\u001b[0m\u001b[1;33m.\u001b[0m\u001b[0mframes\u001b[0m\u001b[1;33m.\u001b[0m\u001b[0mappend\u001b[0m\u001b[1;33m(\u001b[0m\u001b[0mframe\u001b[0m\u001b[1;33m)\u001b[0m\u001b[1;33m\u001b[0m\u001b[1;33m\u001b[0m\u001b[0m\n\u001b[1;32m---> 18\u001b[1;33m         \u001b[0mself\u001b[0m\u001b[1;33m.\u001b[0m\u001b[0mcallback\u001b[0m\u001b[1;33m(\u001b[0m\u001b[0mframe\u001b[0m\u001b[1;33m)\u001b[0m\u001b[1;33m\u001b[0m\u001b[1;33m\u001b[0m\u001b[0m\n\u001b[0m\u001b[0;32m     19\u001b[0m \u001b[1;33m\u001b[0m\u001b[0m\n\u001b[0;32m     20\u001b[0m     \u001b[1;32mdef\u001b[0m \u001b[0mdraw_frame\u001b[0m\u001b[1;33m(\u001b[0m\u001b[0mself\u001b[0m\u001b[1;33m,\u001b[0m \u001b[1;33m*\u001b[0m\u001b[0margs\u001b[0m\u001b[1;33m,\u001b[0m \u001b[1;33m**\u001b[0m\u001b[0mkwargs\u001b[0m\u001b[1;33m)\u001b[0m\u001b[1;33m:\u001b[0m\u001b[1;33m\u001b[0m\u001b[1;33m\u001b[0m\u001b[0m\n",
      "\u001b[1;32m~\\anaconda3\\lib\\site-packages\\drawSvg\\animation.py\u001b[0m in \u001b[0;36mdraw_jupyter_frame\u001b[1;34m(self, frame)\u001b[0m\n\u001b[0;32m     59\u001b[0m             \u001b[0minput\u001b[0m\u001b[1;33m(\u001b[0m\u001b[1;34m'Next?'\u001b[0m\u001b[1;33m)\u001b[0m\u001b[1;33m\u001b[0m\u001b[1;33m\u001b[0m\u001b[0m\n\u001b[0;32m     60\u001b[0m         \u001b[1;32melif\u001b[0m \u001b[0mself\u001b[0m\u001b[1;33m.\u001b[0m\u001b[0mdelay\u001b[0m \u001b[1;33m!=\u001b[0m \u001b[1;36m0\u001b[0m\u001b[1;33m:\u001b[0m\u001b[1;33m\u001b[0m\u001b[1;33m\u001b[0m\u001b[0m\n\u001b[1;32m---> 61\u001b[1;33m             \u001b[0mtime\u001b[0m\u001b[1;33m.\u001b[0m\u001b[0msleep\u001b[0m\u001b[1;33m(\u001b[0m\u001b[0mself\u001b[0m\u001b[1;33m.\u001b[0m\u001b[0mdelay\u001b[0m\u001b[1;33m)\u001b[0m\u001b[1;33m\u001b[0m\u001b[1;33m\u001b[0m\u001b[0m\n\u001b[0m\u001b[0;32m     62\u001b[0m \u001b[1;33m\u001b[0m\u001b[0m\n\u001b[0;32m     63\u001b[0m     \u001b[1;32mdef\u001b[0m \u001b[0m__enter__\u001b[0m\u001b[1;33m(\u001b[0m\u001b[0mself\u001b[0m\u001b[1;33m)\u001b[0m\u001b[1;33m:\u001b[0m\u001b[1;33m\u001b[0m\u001b[1;33m\u001b[0m\u001b[0m\n",
      "\u001b[1;31mKeyboardInterrupt\u001b[0m: "
     ]
    }
   ],
   "source": [
    "def draw_frame():\n",
    "    for b in ball_list:\n",
    "        b.draw()\n",
    "        b.update_position(0.1)\n",
    "    \n",
    "    return D\n",
    "\n",
    "for i in range(0, 1000):\n",
    "    D = draw.Drawing(CANVAS_HEIGHT, CANVAS_HEIGHT, origin= \"center\")\n",
    "    with draw.animate_jupyter(draw_frame, delay= 0.05) as anim:\n",
    "        anim.draw_frame()"
   ]
  },
  {
   "cell_type": "code",
   "execution_count": 4,
   "metadata": {},
   "outputs": [],
   "source": [
    "ball = Ball(5.0, 5.0, 3.0, 6.0)\n",
    "#ball.draw()\n",
    "#ball.update_position(0.1)\n",
    "ball2 = Ball(-5.0, -5.0, -3.0, -6.0, 'red')\n",
    "#ball2.draw()\n",
    "#D"
   ]
  },
  {
   "cell_type": "code",
   "execution_count": null,
   "metadata": {},
   "outputs": [],
   "source": [
    "def draw_frame():\n",
    "    ball.draw()\n",
    "    ball2.draw()\n",
    "    return D\n",
    "\n",
    "for i in range(0, 1000):\n",
    "    D = draw.Drawing(200, 200, origin= \"center\")\n",
    "    \n",
    "    with draw.animate_jupyter(draw_frame, delay= 0.05) as anim:\n",
    "        anim.draw_frame()\n",
    "    \n",
    "    ball.animate(0.1)\n",
    "    ball2.animate(0.1)"
   ]
  },
  {
   "cell_type": "code",
   "execution_count": null,
   "metadata": {},
   "outputs": [],
   "source": []
  }
 ],
 "metadata": {
  "kernelspec": {
   "display_name": "Python 3",
   "language": "python",
   "name": "python3"
  },
  "language_info": {
   "codemirror_mode": {
    "name": "ipython",
    "version": 3
   },
   "file_extension": ".py",
   "mimetype": "text/x-python",
   "name": "python",
   "nbconvert_exporter": "python",
   "pygments_lexer": "ipython3",
   "version": "3.8.3"
  }
 },
 "nbformat": 4,
 "nbformat_minor": 4
}
