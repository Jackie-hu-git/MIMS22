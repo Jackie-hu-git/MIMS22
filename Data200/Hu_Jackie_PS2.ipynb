{
 "cells": [
  {
   "cell_type": "markdown",
   "metadata": {},
   "source": [
    "# Problem Set 2"
   ]
  },
  {
   "cell_type": "markdown",
   "metadata": {},
   "source": [
    "## Introduction to the assignment\n",
    "\n",
    "For this assignment, you will be using data from the [Progresa program](http://en.wikipedia.org/wiki/Oportunidades), a government social assistance program in Mexico. This program, as well as the details of its impact, are described in the paper \"[School subsidies for the poor: evaluating the Mexican Progresa poverty program](http://www.sciencedirect.com/science/article/pii/S0304387803001858)\", by Paul Shultz (available on bCourses). Please familiarize yourself with the PROGRESA program before beginning this problem set, so you have a rough sense of where the data come from and how they were generated. If you just proceed into the problem set without understanding Progresa or the data, it will be very difficult!\n",
    "\n",
    "The goal of this problem set is to implement some of the basic econometric techniques that you are learning in class to measure the impact of Progresa on secondary school enrollment rates. The timeline of the program was:\n",
    "\n",
    " * Baseline survey conducted in 1997\n",
    " * Intervention begins in 1998, \"Wave 1\" of surveys conducted in 1998\n",
    " * \"Wave 2\" of surveys conducted in 1999\n",
    " * Evaluation ends in 2000, at which point the control villages were treated. \n",
    " \n",
    "When you are ready, download the progresa_sample.csv data from bCourses. The data are actual data collected to evaluate the impact of the Progresa program.  In this file, each row corresponds to an observation taken for a given child for a given year. There are two years of data (1997 and 1998), and just under 40,000 children who are surveyed in each year. For each child-year observation, the following variables are collected:\n",
    "\n",
    "| Variable name | Description|\n",
    "|------|------|\n",
    "|year\t  |year in which data is collected\n",
    "|sex\t  |male = 1|\n",
    "|indig\t  |indigenous = 1|\n",
    "|dist_sec |nearest distance to a secondary school|\n",
    "|sc\t      |enrolled in school in year of survey|\n",
    "|grc      |grade enrolled|\n",
    "|fam_n    |family size|\n",
    "|min_dist |\tmin distance to an urban center|\n",
    "|dist_cap |\tmin distance to the capital|\n",
    "|poor     |\tpoor = 1|\n",
    "|progresa |treatment =1|\n",
    "|hohedu\t  |years of schooling of head of household|\n",
    "|hohwag\t  |monthly wages of head of household|\n",
    "|welfare_index|\twelfare index used to classify poor|\n",
    "|hohsex\t|gender of head of household (male=1)|\n",
    "|hohage\t|age of head of household|\n",
    "|age\t|years old|\n",
    "|folnum\t|individual id|\n",
    "|village|\tvillage id|\n",
    "|sc97\t|schooling in 1997|\n",
    "|grc97  |grade enrolled in 1997"
   ]
  },
  {
   "cell_type": "markdown",
   "metadata": {},
   "source": [
    "---\n",
    "\n",
    "## Part 1: Descriptive analysis\n",
    "\n",
    "### 1.1\tSummary Statistics\n",
    "\n",
    "Present summary statistics (mean and standard deviation) for all of the demographic variables in the dataset (i.e., everything except year, folnum, village). Present these in a single table alphabetized by variable name. Do NOT simply expect the grader to scroll through your output!\n",
    "\n",
    "*Note:* For this and subsequent problems, you will need to be careful in how you deal with missing (NULL) values. You should not blindly drop rows and columns where any data field is missing.  For instance, in calculating the average `hohwag`, you should average the `hohwag` values from all households that report a value (even if the household does not have a recorded `age` value, for example). "
   ]
  },
  {
   "cell_type": "code",
   "execution_count": 5,
   "metadata": {},
   "outputs": [
    {
     "name": "stdout",
     "output_type": "stream",
     "text": [
      "IPython version:      7.19.0 (need at least 1.0)\n",
      "Numpy version:        1.19.2 (need at least 1.7.1)\n",
      "SciPy version:         1.5.2 (need at least 0.12.0)\n",
      "Pandas version:        1.2.1 (need at least 0.11.0)\n",
      "Scikit-Learn version: 0.23.2 (need at least 0.13.1)\n"
     ]
    }
   ],
   "source": [
    "import IPython\n",
    "print(\"IPython version:      %6.6s (need at least 1.0)\" % IPython.__version__)\n",
    "\n",
    "# Numpy is a library for working with Arrays\n",
    "import numpy as np\n",
    "print(\"Numpy version:        %6.6s (need at least 1.7.1)\" % np.__version__)\n",
    "\n",
    "# SciPy implements many different numerical algorithms\n",
    "import scipy as sp\n",
    "print(\"SciPy version:        %6.6s (need at least 0.12.0)\" % sp.__version__)\n",
    "\n",
    "# Pandas makes working with data tables easier\n",
    "import pandas as pd\n",
    "print(\"Pandas version:       %6.6s (need at least 0.11.0)\" % pd.__version__)\n",
    "\n",
    "\n",
    "# SciKit Learn implements several Machine Learning algorithms\n",
    "import sklearn\n",
    "print(\"Scikit-Learn version: %6.6s (need at least 0.13.1)\" % sklearn.__version__)\n",
    "\n",
    "# The packages you'll need for t-test and regression models. \n",
    "import statsmodels.api as sm\n",
    "import statsmodels.formula.api as smf\n",
    "import scipy.stats as stats\n",
    "import scipy as sp"
   ]
  },
  {
   "cell_type": "code",
   "execution_count": 6,
   "metadata": {},
   "outputs": [
    {
     "data": {
      "text/plain": [
       "year                0\n",
       "sex                24\n",
       "indig             300\n",
       "dist_sec            0\n",
       "sc               8453\n",
       "grc              6549\n",
       "fam_n               0\n",
       "min_dist            0\n",
       "dist_cap            0\n",
       "poor                0\n",
       "progresa            0\n",
       "hohedu              0\n",
       "hohwag              0\n",
       "welfare_index     210\n",
       "hohsex             20\n",
       "hohage             10\n",
       "age                 0\n",
       "village             0\n",
       "folnum              0\n",
       "grc97               0\n",
       "sc97             3872\n",
       "dtype: int64"
      ]
     },
     "execution_count": 6,
     "metadata": {},
     "output_type": "execute_result"
    }
   ],
   "source": [
    "data = pd.read_csv (r\"C:\\Users\\12062\\Desktop\\PS2\\progresa_sample.csv\")\n",
    "data.isnull().sum()"
   ]
  },
  {
   "cell_type": "code",
   "execution_count": 7,
   "metadata": {},
   "outputs": [],
   "source": [
    "#dropping demographic data \n",
    "df = data[['sex','indig', 'dist_sec', 'sc', 'grc', 'fam_n', 'min_dist','dist_cap',\"poor\",'progresa','hohedu', 'hohwag', 'welfare_index','hohsex', 'hohage', 'age','grc97', 'sc97']]\n",
    "df = df.reindex(sorted(df.columns), axis=1)\n",
    "df = df.describe(include = 'all').loc[['mean','std']].T"
   ]
  },
  {
   "cell_type": "markdown",
   "metadata": {},
   "source": [
    "### 1.2 Differences at baseline?\n",
    "\n",
    "Are the baseline (1997) demographic characteristics **for the poor**  different in treatment and control villages?  Present your results in a single table with the following columns and 14 (or so) rows (alphabetized by variable name):\n",
    "\n",
    "\n",
    "| Variable name | Average value (Treatment villages) | Average value (Control villages) | Difference (Treat - Control) | p-value |\n",
    "|------|------|------|------|------|\n",
    "|Male|?|?|?|?|\n",
    "\n",
    " *Hint:* Use a T-Test to determine whether there is a statistically significant difference in the average values of each of the variables in the dataset. Focus only on the data from 1997 from poor households (i.e., poor=='pobre').\n",
    "\n"
   ]
  },
  {
   "cell_type": "code",
   "execution_count": 10,
   "metadata": {},
   "outputs": [
    {
     "data": {
      "text/html": [
       "<div>\n",
       "<style scoped>\n",
       "    .dataframe tbody tr th:only-of-type {\n",
       "        vertical-align: middle;\n",
       "    }\n",
       "\n",
       "    .dataframe tbody tr th {\n",
       "        vertical-align: top;\n",
       "    }\n",
       "\n",
       "    .dataframe thead th {\n",
       "        text-align: right;\n",
       "    }\n",
       "</style>\n",
       "<table border=\"1\" class=\"dataframe\">\n",
       "  <thead>\n",
       "    <tr style=\"text-align: right;\">\n",
       "      <th>progresa</th>\n",
       "      <th>Variable Name</th>\n",
       "      <th>Average value (Control villages)</th>\n",
       "      <th>Average value (Treatment villages)</th>\n",
       "      <th>difference</th>\n",
       "      <th>p_value</th>\n",
       "    </tr>\n",
       "  </thead>\n",
       "  <tbody>\n",
       "    <tr>\n",
       "      <th>0</th>\n",
       "      <td>year</td>\n",
       "      <td>97.000000</td>\n",
       "      <td>97.000000</td>\n",
       "      <td>0.000000</td>\n",
       "      <td>NaN</td>\n",
       "    </tr>\n",
       "    <tr>\n",
       "      <th>1</th>\n",
       "      <td>sex</td>\n",
       "      <td>0.505052</td>\n",
       "      <td>0.519317</td>\n",
       "      <td>0.014265</td>\n",
       "      <td>1.219172e-02</td>\n",
       "    </tr>\n",
       "    <tr>\n",
       "      <th>2</th>\n",
       "      <td>indig</td>\n",
       "      <td>0.332207</td>\n",
       "      <td>0.325986</td>\n",
       "      <td>-0.006222</td>\n",
       "      <td>2.453603e-01</td>\n",
       "    </tr>\n",
       "    <tr>\n",
       "      <th>3</th>\n",
       "      <td>dist_sec</td>\n",
       "      <td>2.507662</td>\n",
       "      <td>2.453122</td>\n",
       "      <td>-0.054540</td>\n",
       "      <td>3.569843e-02</td>\n",
       "    </tr>\n",
       "    <tr>\n",
       "      <th>4</th>\n",
       "      <td>sc</td>\n",
       "      <td>0.815186</td>\n",
       "      <td>0.822697</td>\n",
       "      <td>0.007511</td>\n",
       "      <td>9.517806e-02</td>\n",
       "    </tr>\n",
       "    <tr>\n",
       "      <th>5</th>\n",
       "      <td>grc</td>\n",
       "      <td>3.543050</td>\n",
       "      <td>3.531599</td>\n",
       "      <td>-0.011450</td>\n",
       "      <td>6.890151e-01</td>\n",
       "    </tr>\n",
       "    <tr>\n",
       "      <th>6</th>\n",
       "      <td>fam_n</td>\n",
       "      <td>7.302469</td>\n",
       "      <td>7.281327</td>\n",
       "      <td>-0.021142</td>\n",
       "      <td>4.271039e-01</td>\n",
       "    </tr>\n",
       "    <tr>\n",
       "      <th>7</th>\n",
       "      <td>min_dist</td>\n",
       "      <td>103.237854</td>\n",
       "      <td>107.152915</td>\n",
       "      <td>3.915060</td>\n",
       "      <td>2.358312e-16</td>\n",
       "    </tr>\n",
       "    <tr>\n",
       "      <th>8</th>\n",
       "      <td>dist_cap</td>\n",
       "      <td>153.769730</td>\n",
       "      <td>150.829074</td>\n",
       "      <td>-2.940656</td>\n",
       "      <td>8.415005e-04</td>\n",
       "    </tr>\n",
       "    <tr>\n",
       "      <th>9</th>\n",
       "      <td>hohedu</td>\n",
       "      <td>2.590348</td>\n",
       "      <td>2.663139</td>\n",
       "      <td>0.072791</td>\n",
       "      <td>1.105093e-02</td>\n",
       "    </tr>\n",
       "    <tr>\n",
       "      <th>10</th>\n",
       "      <td>hohwag</td>\n",
       "      <td>573.163558</td>\n",
       "      <td>544.339544</td>\n",
       "      <td>-28.824015</td>\n",
       "      <td>3.253835e-04</td>\n",
       "    </tr>\n",
       "    <tr>\n",
       "      <th>11</th>\n",
       "      <td>welfare_index</td>\n",
       "      <td>659.579100</td>\n",
       "      <td>655.428377</td>\n",
       "      <td>-4.150723</td>\n",
       "      <td>1.431016e-03</td>\n",
       "    </tr>\n",
       "    <tr>\n",
       "      <th>12</th>\n",
       "      <td>hohsex</td>\n",
       "      <td>0.922947</td>\n",
       "      <td>0.924656</td>\n",
       "      <td>0.001709</td>\n",
       "      <td>5.711858e-01</td>\n",
       "    </tr>\n",
       "    <tr>\n",
       "      <th>13</th>\n",
       "      <td>hohage</td>\n",
       "      <td>44.276918</td>\n",
       "      <td>43.648828</td>\n",
       "      <td>-0.628090</td>\n",
       "      <td>1.796243e-06</td>\n",
       "    </tr>\n",
       "    <tr>\n",
       "      <th>14</th>\n",
       "      <td>age</td>\n",
       "      <td>10.742023</td>\n",
       "      <td>10.716991</td>\n",
       "      <td>-0.025032</td>\n",
       "      <td>4.785594e-01</td>\n",
       "    </tr>\n",
       "    <tr>\n",
       "      <th>15</th>\n",
       "      <td>village</td>\n",
       "      <td>286.363155</td>\n",
       "      <td>233.795025</td>\n",
       "      <td>-52.568130</td>\n",
       "      <td>2.114020e-205</td>\n",
       "    </tr>\n",
       "    <tr>\n",
       "      <th>16</th>\n",
       "      <td>folnum</td>\n",
       "      <td>19272.844316</td>\n",
       "      <td>19321.168233</td>\n",
       "      <td>48.323916</td>\n",
       "      <td>7.031082e-01</td>\n",
       "    </tr>\n",
       "    <tr>\n",
       "      <th>17</th>\n",
       "      <td>grc97</td>\n",
       "      <td>3.543050</td>\n",
       "      <td>3.531599</td>\n",
       "      <td>-0.011450</td>\n",
       "      <td>6.890151e-01</td>\n",
       "    </tr>\n",
       "    <tr>\n",
       "      <th>18</th>\n",
       "      <td>sc97</td>\n",
       "      <td>0.815186</td>\n",
       "      <td>0.822697</td>\n",
       "      <td>0.007511</td>\n",
       "      <td>9.517806e-02</td>\n",
       "    </tr>\n",
       "  </tbody>\n",
       "</table>\n",
       "</div>"
      ],
      "text/plain": [
       "progresa  Variable Name  Average value (Control villages)  \\\n",
       "0                  year                         97.000000   \n",
       "1                   sex                          0.505052   \n",
       "2                 indig                          0.332207   \n",
       "3              dist_sec                          2.507662   \n",
       "4                    sc                          0.815186   \n",
       "5                   grc                          3.543050   \n",
       "6                 fam_n                          7.302469   \n",
       "7              min_dist                        103.237854   \n",
       "8              dist_cap                        153.769730   \n",
       "9                hohedu                          2.590348   \n",
       "10               hohwag                        573.163558   \n",
       "11        welfare_index                        659.579100   \n",
       "12               hohsex                          0.922947   \n",
       "13               hohage                         44.276918   \n",
       "14                  age                         10.742023   \n",
       "15              village                        286.363155   \n",
       "16               folnum                      19272.844316   \n",
       "17                grc97                          3.543050   \n",
       "18                 sc97                          0.815186   \n",
       "\n",
       "progresa  Average value (Treatment villages)  difference        p_value  \n",
       "0                                  97.000000    0.000000            NaN  \n",
       "1                                   0.519317    0.014265   1.219172e-02  \n",
       "2                                   0.325986   -0.006222   2.453603e-01  \n",
       "3                                   2.453122   -0.054540   3.569843e-02  \n",
       "4                                   0.822697    0.007511   9.517806e-02  \n",
       "5                                   3.531599   -0.011450   6.890151e-01  \n",
       "6                                   7.281327   -0.021142   4.271039e-01  \n",
       "7                                 107.152915    3.915060   2.358312e-16  \n",
       "8                                 150.829074   -2.940656   8.415005e-04  \n",
       "9                                   2.663139    0.072791   1.105093e-02  \n",
       "10                                544.339544  -28.824015   3.253835e-04  \n",
       "11                                655.428377   -4.150723   1.431016e-03  \n",
       "12                                  0.924656    0.001709   5.711858e-01  \n",
       "13                                 43.648828   -0.628090   1.796243e-06  \n",
       "14                                 10.716991   -0.025032   4.785594e-01  \n",
       "15                                233.795025  -52.568130  2.114020e-205  \n",
       "16                              19321.168233   48.323916   7.031082e-01  \n",
       "17                                  3.531599   -0.011450   6.890151e-01  \n",
       "18                                  0.822697    0.007511   9.517806e-02  "
      ]
     },
     "execution_count": 10,
     "metadata": {},
     "output_type": "execute_result"
    }
   ],
   "source": [
    "# read the csv file and create a df for the poor households in the baseline(1997) \n",
    "data = pd.read_csv (r\"C:\\Users\\12062\\Desktop\\PS2\\progresa_sample.csv\")\n",
    "data_97 = data[data[\"year\"] == 97]\n",
    "data_97_poor = data_97[data_97['poor']== 'pobre']\n",
    "\n",
    "#group the dataframe by control and treatment groups\n",
    "data_97_poor_treatment = data_97_poor.groupby('progresa')\n",
    "#only getting the average(mean) value\n",
    "df2 = data_97_poor_treatment.mean().T\n",
    "df2['difference'] = df2['basal'] - df2['0']\n",
    "\n",
    "df2.drop(['year'])\n",
    "df2 = df2.reset_index()\n",
    "df2 = df2.rename(columns={'basal':'Average value (Treatment villages)'})\n",
    "df2 = df2.rename(columns={'0':'Average value (Control villages)'})\n",
    "df2 = df2.rename(columns={'index':'Variable Name'})\n",
    "\n",
    "p_value = []\n",
    "for i in list(df2['Variable Name']):\n",
    "    p_value.append(stats.ttest_ind(data_97_poor[data_97_poor.progresa == 'basal'][i], data_97_poor[data_97_poor.progresa == '0'][i], nan_policy='omit').pvalue)\n",
    "\n",
    "df2['p_value'] = p_value \n",
    "\n",
    "df2"
   ]
  },
  {
   "cell_type": "markdown",
   "metadata": {},
   "source": [
    "### 1.3 Interpretation\n",
    "\n",
    "* A: Are there statistically significant differences between treatment and control villages at baseline? \n",
    " \n",
    "* B: Why does it matter if there are differences at baseline?\n",
    "\n",
    "* C: What does this imply about how to measure the impact of the treatment?\n"
   ]
  },
  {
   "cell_type": "markdown",
   "metadata": {},
   "source": [
    "#### A. Are there statistically significant differences between treatment and control villages at baseline? \n",
    "- Yes, for sex, nearest distance to a secondary school, min distance to an urban center, min distance to the capital, years of schooling of head of household, montly wages of head of household, age of head of household, welfare_index has a statistically significant p_value suggesting there's a significant differences between treatment and control villiges at baseline.\n",
    "\n",
    "#### B. Why does it matter if there are differences at baseline?\n",
    "- Because our assumption on running randomization experiment is for the control and treatment group to not have heterogeneity. If the 2 groups are different in baseline, the difference we get after treatment might not be because the treatment, since we can not prove that the changes are because the treatment exsited. \n",
    "\n",
    "#### C. What does this imply about how to measure the impact of the treatment?\n",
    "- That we will want to use some treatment to deal with the differences in baseline, so that the trend in control group approximates what would have happened in the treatment group in the absence of the treatment. "
   ]
  },
  {
   "cell_type": "markdown",
   "metadata": {},
   "source": [
    "### 1.4 Graphical exploration, part 1\n",
    "\n",
    "Visualize the distribution of village enrollment rates **among poor households in treated villages**, before and after treatment. Specifically, for each village, calculate the average rate of enrollment of poor households in treated villages in 1997, then compute the average rate of enrollment of poor households in treated villages in 1998. Create two separate histograms showing the distribution of these average enrollments rates, one histogram for 1997 and one histogram for 1998. On each histogram, draw a vertical line that intersects the x-axis at the average value (across all households). Does there appear to be a difference? Is this difference statistically significant?"
   ]
  },
  {
   "cell_type": "code",
   "execution_count": 11,
   "metadata": {},
   "outputs": [
    {
     "data": {
      "text/plain": [
       "<matplotlib.lines.Line2D at 0x16a36f77fd0>"
      ]
     },
     "execution_count": 11,
     "metadata": {},
     "output_type": "execute_result"
    },
    {
     "data": {
      "image/png": "[encoded data removed]",
      "text/plain": [
       "<Figure size 432x288 with 1 Axes>"
      ]
     },
     "metadata": {
      "needs_background": "light"
     },
     "output_type": "display_data"
    }
   ],
   "source": [
    "import matplotlib.pyplot as plt\n",
    "plt.subplot(111)\n",
    "#data frame for the average enrollment rate in poor households in treated villages in 1997\n",
    "dft_97 = data_97_poor[(data_97_poor[\"progresa\"] == 'basal')].groupby('village').mean()\n",
    "plt.hist(dft_97['sc'])\n",
    "plt.xlabel('Average enrollment rates in 1997 (poor & treated)')\n",
    "plt.ylabel('Number of villages')\n",
    "plt.axvline(dft_97['sc'].mean(), color= 'red')"
   ]
  },
  {
   "cell_type": "code",
   "execution_count": 12,
   "metadata": {},
   "outputs": [
    {
     "data": {
      "text/plain": [
       "<matplotlib.lines.Line2D at 0x16a3aa21220>"
      ]
     },
     "execution_count": 12,
     "metadata": {},
     "output_type": "execute_result"
    },
    {
     "data": {
      "image/png": "[encoded data removed]",
      "text/plain": [
       "<Figure size 432x288 with 1 Axes>"
      ]
     },
     "metadata": {
      "needs_background": "light"
     },
     "output_type": "display_data"
    }
   ],
   "source": [
    "plt.subplot(111)\n",
    "#data frame for the average enrollment rate in poor households in treated villages in 1998\n",
    "data_98_poor = data[(data[\"year\"] == 98) & (data['poor']== 'pobre')]\n",
    "dft_98 = data_98_poor[(data_98_poor[\"progresa\"] == 'basal')].groupby('village').mean()\n",
    "plt.hist(dft_98['sc'])\n",
    "plt.xlabel('Average enrollment rates in 1998 (poor & treated)')\n",
    "plt.ylabel('Number of villages')\n",
    "plt.axvline(dft_98['sc'].mean(), color= 'red')"
   ]
  },
  {
   "cell_type": "code",
   "execution_count": 13,
   "metadata": {},
   "outputs": [
    {
     "data": {
      "text/plain": [
       "Ttest_indResult(statistic=-2.015713486515638, pvalue=0.04424870036572115)"
      ]
     },
     "execution_count": 13,
     "metadata": {},
     "output_type": "execute_result"
    }
   ],
   "source": [
    "stats.ttest_ind(dft_97['sc'].dropna(), dft_98['sc'].dropna())"
   ]
  },
  {
   "cell_type": "markdown",
   "metadata": {},
   "source": [
    "#### Does there appear to be a difference? Is this difference statistically significant?\n",
    "- Comparing to 1997, the mean for the average enrollment rate increase slightly in 1998, the mode also increased from .8 to .9; there's is a statistically significance in the mean value for average enrollment rate between treated group from 1997 to 1998. "
   ]
  },
  {
   "cell_type": "markdown",
   "metadata": {},
   "source": [
    "### 1.5 Graphical exploration, part 2\n",
    "\n",
    "Repeat the above exercise for poor households in **control villages**, before and after treatment. Do you observe a difference in enrollment in control villages between 1997 and 1998? How does what you observe here affect how you might approach measuring the impact of PROGRESA?"
   ]
  },
  {
   "cell_type": "code",
   "execution_count": 14,
   "metadata": {},
   "outputs": [
    {
     "data": {
      "text/plain": [
       "<matplotlib.lines.Line2D at 0x16a3aa767f0>"
      ]
     },
     "execution_count": 14,
     "metadata": {},
     "output_type": "execute_result"
    },
    {
     "data": {
      "image/png": "[encoded data removed]",
      "text/plain": [
       "<Figure size 432x288 with 1 Axes>"
      ]
     },
     "metadata": {
      "needs_background": "light"
     },
     "output_type": "display_data"
    }
   ],
   "source": [
    "plt.subplot(111)\n",
    "\n",
    "dfc_97 = data_97_poor[(data_97_poor[\"progresa\"] == '0')].groupby('village').mean()\n",
    "plt.hist(dfc_97['sc'])\n",
    "plt.xlabel('Average enrollment rates in 1997 (poor & untreated)')\n",
    "plt.ylabel('Number of villages')\n",
    "plt.axvline(dfc_97['sc'].mean(), color= 'red')"
   ]
  },
  {
   "cell_type": "code",
   "execution_count": 15,
   "metadata": {},
   "outputs": [
    {
     "data": {
      "text/plain": [
       "<matplotlib.lines.Line2D at 0x16a3aaef040>"
      ]
     },
     "execution_count": 15,
     "metadata": {},
     "output_type": "execute_result"
    },
    {
     "data": {
      "image/png": "[encoded data removed]",
      "text/plain": [
       "<Figure size 432x288 with 1 Axes>"
      ]
     },
     "metadata": {
      "needs_background": "light"
     },
     "output_type": "display_data"
    }
   ],
   "source": [
    "plt.subplot(111)\n",
    "\n",
    "data_98_poor = data[(data[\"year\"] == 98) & (data['poor']== 'pobre')]\n",
    "dfc_98 = data_98_poor[(data_98_poor[\"progresa\"] == '0')].groupby('village').mean()\n",
    "plt.hist(dfc_98['sc'])\n",
    "plt.xlabel('Average enrollment rates in 1998 (poor & untreated)')\n",
    "plt.ylabel('Number of villages')\n",
    "plt.axvline(dfc_98['sc'].mean(), color= 'red')"
   ]
  },
  {
   "cell_type": "code",
   "execution_count": 16,
   "metadata": {},
   "outputs": [
    {
     "data": {
      "text/plain": [
       "Ttest_indResult(statistic=0.7816669784862521, pvalue=0.4349129201749543)"
      ]
     },
     "execution_count": 16,
     "metadata": {},
     "output_type": "execute_result"
    }
   ],
   "source": [
    "stats.ttest_ind(dfc_97['sc'].dropna(), dfc_98['sc'].dropna())"
   ]
  },
  {
   "cell_type": "markdown",
   "metadata": {},
   "source": [
    "#### Do you observe a difference in enrollment in control villages between 1997 and 1998? How does what you observe here affect how you might approach measuring the impact of PROGRESA?\n",
    " Visually not much a big difference in the mean for the average enrollment rate, but the spread and varience suggests there's some difference in the control group. The t test also suggests that  there is not a statistically significant difference in the control groups between the year of 1997 and 1998. Statistically speaking, we don't have to worry about the difference between control group between 1997 and 1998."
   ]
  },
  {
   "cell_type": "markdown",
   "metadata": {},
   "source": [
    "## Part 2: Measuring Impact\n",
    "\n",
    "Our goal is to estimate the causal impact of the PROGRESA program on the social and economic outcomes of individuals in Mexico. We will focus on the impact of the program on the poor (those with poor=='pobre'), since only the poor were eligible to receive PROGRESA assistance.\n",
    "\n",
    "### 2.1 Simple differences: T-test\n",
    "\n",
    "Begin by estimating the impact of Progresa using \"simple differences.\" Restricting yourself to data from 1998 (after treatment), calculate the average enrollment rate among **poor** households in the Treatment villages and the average enrollment rate among **poor** households in the control villages. Use a t-test to determine if this difference is statistically significant. What do you conclude?"
   ]
  },
  {
   "cell_type": "code",
   "execution_count": 17,
   "metadata": {},
   "outputs": [],
   "source": [
    "df98_treatment = data[(data[\"year\"] == 98) & (data['poor']== 'pobre')& (data['progresa'] == 'basal')]\n",
    "df98_control = data[(data[\"year\"] == 98) & (data['poor']== 'pobre')& (data['progresa'] == '0')]"
   ]
  },
  {
   "cell_type": "code",
   "execution_count": 18,
   "metadata": {},
   "outputs": [
    {
     "name": "stdout",
     "output_type": "stream",
     "text": [
      "Average enrollment rate in 1998 treatment group is: 0.8464791213954308\n",
      "Average enrollment rate in 1998 control group is: 0.807636956730308\n"
     ]
    },
    {
     "data": {
      "text/plain": [
       "Ttest_indResult(statistic=8.358720567418374, pvalue=6.636344447523235e-17)"
      ]
     },
     "execution_count": 18,
     "metadata": {},
     "output_type": "execute_result"
    }
   ],
   "source": [
    "# calsulate the mean for each group and compare their p-value\n",
    "print('Average enrollment rate in 1998 treatment group is:', df98_treatment['sc'].mean())\n",
    "print('Average enrollment rate in 1998 control group is:', df98_control['sc'].mean())\n",
    "\n",
    "stats.ttest_ind(df98_treatment['sc'].dropna(), df98_control['sc'].dropna())"
   ]
  },
  {
   "cell_type": "markdown",
   "metadata": {},
   "source": [
    "#### Use a t-test to determine if this difference is statistically significant. What do you conclude?\n",
    "\n",
    "- In 1998, for the controlled village that's poor, the average enrollment rate is around 0.8076; the average enrollment rate among poor households in treatment village is 0.8465. \n",
    "- The t-test suggest a statistically significant difference in control and treatment group, so we can conclude that for the poor households in 1998, the progresa had a statistically significant impact on the average enrollment. "
   ]
  },
  {
   "cell_type": "markdown",
   "metadata": {},
   "source": [
    "### 2.2 Simple differences: Regression\n",
    "\n",
    "Estimate the effects of Progresa on enrollment using a regression model, by regressing the 1998 enrollment rates **of the poor** on treatment assignment. For now, do not include any other variables in your regression. Discuss the following:\n",
    "\n",
    "* Based on this model, how much did Progresa increase or decrease the likelihood of a child enrolling? Make sure you express you answer in a sentence that your grandmother could understand, using appropriate units.\n",
    "* How does your regression estimate compare to your t-test estimate from part 2.1?\n",
    "* Based on this regression model, can we reject the null hypothesis that the treatment effects are zero? \n",
    "* What is the counterfactual assumption underlying this regression?"
   ]
  },
  {
   "cell_type": "code",
   "execution_count": 19,
   "metadata": {},
   "outputs": [
    {
     "name": "stdout",
     "output_type": "stream",
     "text": [
      "                            OLS Regression Results                            \n",
      "==============================================================================\n",
      "Dep. Variable:                     sc   R-squared:                       0.003\n",
      "Model:                            OLS   Adj. R-squared:                  0.003\n",
      "Method:                 Least Squares   F-statistic:                     69.87\n",
      "Date:                Sat, 06 Feb 2021   Prob (F-statistic):           6.64e-17\n",
      "Time:                        13:38:35   Log-Likelihood:                -11926.\n",
      "No. Observations:               27450   AIC:                         2.386e+04\n",
      "Df Residuals:                   27448   BIC:                         2.387e+04\n",
      "Df Model:                           1                                         \n",
      "Covariance Type:            nonrobust                                         \n",
      "=====================================================================================\n",
      "                        coef    std err          t      P>|t|      [0.025      0.975]\n",
      "-------------------------------------------------------------------------------------\n",
      "Intercept             0.8076      0.004    220.676      0.000       0.800       0.815\n",
      "progresa[T.basal]     0.0388      0.005      8.359      0.000       0.030       0.048\n",
      "==============================================================================\n",
      "Omnibus:                     7638.939   Durbin-Watson:                   1.734\n",
      "Prob(Omnibus):                  0.000   Jarque-Bera (JB):            15767.534\n",
      "Skew:                          -1.767   Prob(JB):                         0.00\n",
      "Kurtosis:                       4.140   Cond. No.                         3.01\n",
      "==============================================================================\n",
      "\n",
      "Warnings:\n",
      "[1] Standard Errors assume that the covariance matrix of the errors is correctly specified.\n"
     ]
    }
   ],
   "source": [
    "#linear model on the date in 1998 and poor \n",
    "lm = smf.ols(formula = 'sc ~ progresa', data = data_98_poor).fit()\n",
    "print(lm.summary())"
   ]
  },
  {
   "cell_type": "markdown",
   "metadata": {},
   "source": [
    "#### Based on this model, how much did Progresa increase or decrease the likelihood of a child enrolling? Make sure you express you answer in a sentence that your grandmother could understand, using appropriate units.\n",
    "- The progresa coefficient is 0.0388, which suggests that for a unit increase in program progresa, results in a 0.038 increase in enrollment rate.\n",
    "\n",
    "#### How does your regression estimate compare to your t-test estimate from part 2.1?\n",
    "- 0.8076 + 1 * 0.0388 = 0.8464, which align with what we get from the simple t-test estimate.\n",
    "\n",
    "#### Based on this regression model, can we reject the null hypothesis that the treatment effects are zero?\n",
    "- Yes, the p-value is less than .5 so we can reject the null hypothesis and suggest that the treatment has made an effect on the enrollment rate. \n",
    "\n",
    "#### What is the counterfactual assumption underlying this regression?\n",
    "- The counterfactual assumption is if there was no treatment, there's no change in enrollment rate for treated and contorlled villages. "
   ]
  },
  {
   "cell_type": "markdown",
   "metadata": {},
   "source": [
    "### 2.3 Multiple Regression\n",
    "\n",
    "Re-run the above regression estimated but this time include a set of control variables. Include, for instance, age, distance to a secondary school, gender, education of household head, welfare index, indigenous, etc.\n",
    "\n",
    "* How do the controls affect the point estimate of treatment effect?\n",
    "* How do the controls affect the standard error on the treatment effect? \n",
    "* How do you interpret the differences (or similarities) between your estimates of 2.2 and 2.3?\n",
    "* Interpet the coefficient associated with the `dist_sec` variable. Is this evidence that the household's distance from a secondary school has a *causal* impact on educational attainment?"
   ]
  },
  {
   "cell_type": "code",
   "execution_count": 20,
   "metadata": {},
   "outputs": [
    {
     "name": "stdout",
     "output_type": "stream",
     "text": [
      "                            OLS Regression Results                            \n",
      "==============================================================================\n",
      "Dep. Variable:                     sc   R-squared:                       0.272\n",
      "Model:                            OLS   Adj. R-squared:                  0.272\n",
      "Method:                 Least Squares   F-statistic:                     849.5\n",
      "Date:                Sat, 06 Feb 2021   Prob (F-statistic):               0.00\n",
      "Time:                        13:38:38   Log-Likelihood:                -7541.1\n",
      "No. Observations:               27263   AIC:                         1.511e+04\n",
      "Df Residuals:                   27250   BIC:                         1.521e+04\n",
      "Df Model:                          12                                         \n",
      "Covariance Type:            nonrobust                                         \n",
      "=====================================================================================\n",
      "                        coef    std err          t      P>|t|      [0.025      0.975]\n",
      "-------------------------------------------------------------------------------------\n",
      "Intercept             1.4431      0.018     80.855      0.000       1.408       1.478\n",
      "progresa[T.basal]     0.0337      0.004      8.418      0.000       0.026       0.042\n",
      "age                  -0.0657      0.001    -94.750      0.000      -0.067      -0.064\n",
      "dist_sec             -0.0106      0.001    -12.012      0.000      -0.012      -0.009\n",
      "sex                   0.0304      0.004      7.847      0.000       0.023       0.038\n",
      "indig                 0.0188      0.005      3.961      0.000       0.009       0.028\n",
      "fam_n                 0.0006      0.001      0.727      0.467      -0.001       0.002\n",
      "min_dist              0.0004   6.34e-05      6.326      0.000       0.000       0.001\n",
      "dist_cap              0.0002    3.7e-05      5.512      0.000       0.000       0.000\n",
      "hohedu                0.0079      0.001      9.224      0.000       0.006       0.010\n",
      "hohwag             -7.23e-07   2.81e-06     -0.257      0.797   -6.24e-06    4.79e-06\n",
      "welfare_index      2.283e-05   1.82e-05      1.253      0.210   -1.29e-05    5.85e-05\n",
      "hohage            -2.299e-05      0.000     -0.118      0.906      -0.000       0.000\n",
      "==============================================================================\n",
      "Omnibus:                     2940.375   Durbin-Watson:                   1.729\n",
      "Prob(Omnibus):                  0.000   Jarque-Bera (JB):             3992.254\n",
      "Skew:                          -0.930   Prob(JB):                         0.00\n",
      "Kurtosis:                       3.237   Cond. No.                     9.54e+03\n",
      "==============================================================================\n",
      "\n",
      "Warnings:\n",
      "[1] Standard Errors assume that the covariance matrix of the errors is correctly specified.\n",
      "[2] The condition number is large, 9.54e+03. This might indicate that there are\n",
      "strong multicollinearity or other numerical problems.\n"
     ]
    }
   ],
   "source": [
    "lm_m=smf.ols(formula = 'sc ~ progresa + age + dist_sec + sex + indig + fam_n + min_dist + dist_cap + hohedu + hohwag + welfare_index + hohage', data = data_98_poor).fit()\n",
    "print(lm_m.summary())"
   ]
  },
  {
   "cell_type": "markdown",
   "metadata": {},
   "source": [
    "#### How do the controls affect the point estimate of treatment effect?\n",
    "- The co-effient value of progresa in the multiple regression is 0.0337, which is lower that the simple regression 0.0388. It suggests that adding additional controlled variables reduced the treatment effect of progresa.Some of the control variables have a statistically significant p-value that suggest it might have pose an affect on the treatment, such effect also affect the intercept value.  \n",
    "\n",
    "#### How do the controls affect the standard error on the treatment effect?\n",
    "- The standard error for the progresa in the multiple regression is 0.004, which is lower than the one in simple regression, 0.005. It suggests that adding control variables improved the accuracy of the prediction of effect. \n",
    "\n",
    "#### How do you interpret the differences (or similarities) between your estimates of 2.2 and 2.3?\n",
    "- The intercept from the simple regression model is 0.8076, while the multiple regression model is 1.4431; \n",
    "\n",
    "#### Interpet the coefficient associated with the dist_sec variable. Is this evidence that the household's distance from a secondary school has a causal impact on educational attainment?\n",
    "- The coefficient for dist_sec is -0.0106, a standard error of 0.001, that suggests high accuracy, also a statistically significant p-value. From the regression model, the coefficient for dist_sec suggests that for 1 unit of increase in the distance between household and secondary school, we can observe a 0.0106 unit of decrease in the enrollment rate, assuming all the other factors are the same. "
   ]
  },
  {
   "cell_type": "markdown",
   "metadata": {},
   "source": [
    "### 2.4 Difference-in-Difference, version 1 (tabular)\n",
    "\n",
    "Thus far, we have computed the effects of Progresa by estimating the difference in 1998 enrollment rates across villages. An alternative approach would be to compute the treatment effect using a difference-in-differences framework.\n",
    "\n",
    "Begin by estimating the average treatment effects of the program for poor households using data from 1997 and 1998. Specifically, calculate the difference (between 1997 and 1998) in enrollment rates among poor households in treated villages; then compute the difference (between 1997 and 1998) in enrollment rates among poor households in control villages. \n",
    "\n",
    "Display your results in a 2x2 table where the rows are Control/Treatment and the columns are 1997/1998. \n",
    "\n",
    "* What is your difference-in-difference estimate of the impact, and how does it compare to your earlier (simple difference) results?\n",
    "* What is the counterfactual assumption underlying this estimate? \n"
   ]
  },
  {
   "cell_type": "code",
   "execution_count": 21,
   "metadata": {},
   "outputs": [
    {
     "name": "stdout",
     "output_type": "stream",
     "text": [
      "The average of enrollment rate in Treated villages in 97:  0.8226968874033842\n",
      "The average of enrollment rate in Treated villages in 98:  0.8464791213954308\n",
      "The difference in the average of enrollment rate in Treated villages is :  0.023782233992046597\n",
      "---------\n",
      "The average of enrollment rate in Control villages in 97:  0.8151860030575845\n",
      "The average of enrollment rate in Control villages in 98:  0.807636956730308\n",
      "The difference in the average of enrollment rate in Control villages is :  -0.007549046327276487\n",
      "---------\n",
      "The difference-in-difference in the average of enrollment rate is :  0.031331280319323085\n"
     ]
    },
    {
     "data": {
      "text/html": [
       "<div>\n",
       "<style scoped>\n",
       "    .dataframe tbody tr th:only-of-type {\n",
       "        vertical-align: middle;\n",
       "    }\n",
       "\n",
       "    .dataframe tbody tr th {\n",
       "        vertical-align: top;\n",
       "    }\n",
       "\n",
       "    .dataframe thead th {\n",
       "        text-align: right;\n",
       "    }\n",
       "</style>\n",
       "<table border=\"1\" class=\"dataframe\">\n",
       "  <thead>\n",
       "    <tr style=\"text-align: right;\">\n",
       "      <th></th>\n",
       "      <th>Treatment Group</th>\n",
       "      <th>Control Group</th>\n",
       "    </tr>\n",
       "  </thead>\n",
       "  <tbody>\n",
       "    <tr>\n",
       "      <th>Enrollment Rate before Treatment</th>\n",
       "      <td>0.822697</td>\n",
       "      <td>0.815186</td>\n",
       "    </tr>\n",
       "    <tr>\n",
       "      <th>Enrollment Rate after Treatment</th>\n",
       "      <td>0.846479</td>\n",
       "      <td>0.807637</td>\n",
       "    </tr>\n",
       "  </tbody>\n",
       "</table>\n",
       "</div>"
      ],
      "text/plain": [
       "                                 Treatment Group Control Group\n",
       "Enrollment Rate before Treatment        0.822697      0.815186\n",
       "Enrollment Rate after Treatment         0.846479      0.807637"
      ]
     },
     "execution_count": 21,
     "metadata": {},
     "output_type": "execute_result"
    }
   ],
   "source": [
    "#2 datasets for two years respectively\n",
    "df97_treatment = data_97_poor[(data_97_poor['progresa'] == 'basal')]\n",
    "df97_control = data_97_poor[(data_97_poor['progresa'] == '0')] \n",
    "\n",
    "print ('The average of enrollment rate in Treated villages in 97: ', df97_treatment.mean()['sc'])\n",
    "print ('The average of enrollment rate in Treated villages in 98: ', df98_treatment.mean()['sc'])\n",
    "print ('The difference in the average of enrollment rate in Treated villages is : ', (df98_treatment.mean()['sc'] -df97_treatment.mean()['sc']))\n",
    "print('---------')\n",
    "print ('The average of enrollment rate in Control villages in 97: ', df97_control.mean()['sc'])\n",
    "print ('The average of enrollment rate in Control villages in 98: ', df98_control.mean()['sc'])\n",
    "print ('The difference in the average of enrollment rate in Control villages is : ', (df98_control.mean()['sc'] - df97_control.mean()['sc']))\n",
    "print('---------')\n",
    "dif_treatment = df98_treatment.mean()['sc'] -df97_treatment.mean()['sc']\n",
    "dif_control = df98_control.mean()['sc'] - df97_control.mean()['sc']\n",
    "print('The difference-in-difference in the average of enrollment rate is : ', dif_treatment - dif_control)\n",
    "\n",
    "df_dd = pd.DataFrame(index=  ['Enrollment Rate before Treatment', 'Enrollment Rate after Treatment'], columns = ['Treatment Group', 'Control Group'])\n",
    "df_dd.loc['Enrollment Rate before Treatment', 'Treatment Group'] = df97_treatment.mean()['sc']\n",
    "df_dd.loc['Enrollment Rate before Treatment', 'Control Group'] = df97_control.mean()['sc']\n",
    "df_dd.loc['Enrollment Rate after Treatment', 'Treatment Group'] = df98_treatment.mean()['sc']\n",
    "df_dd.loc['Enrollment Rate after Treatment', 'Control Group'] = df98_control.mean()['sc']\n",
    "df_dd"
   ]
  },
  {
   "cell_type": "markdown",
   "metadata": {},
   "source": [
    "#### What is your difference-in-difference estimate of the impact, and how does it compare to your earlier (simple difference) results?\n",
    "- The difference in differences of the treated and control villages for year 98 and 97 gives the estimate of 0.0313, which is less than the simple and multiple linear regression, the DD method is more consevative in predict the correlation. \n",
    "\n",
    "#### What is the counterfactual assumption underlying this estimate?\n",
    "- The conterfactual assumption is if there are no difference in the average enrollment rate in the treatment and control groups. "
   ]
  },
  {
   "cell_type": "markdown",
   "metadata": {},
   "source": [
    "### 2.5 Difference-in-Difference, version 2 (regression)\n",
    "\n",
    "Now use a regression specification to estimate the average treatment effects of the program in a difference-in-differences, for the poor households. Do this (i) first without including any control variables; and then (ii) do it a second time including at least 5 control variables. \n",
    "\n",
    "* What is your estimate (i) of the impact of Progresa? Be very specific in interpreting your coefficients and standard errors, and make sure to specify exactly what units you are measuring and estimating.\n",
    "* Does your estimate of the impact of Progresa from (i) change when you add control variables as in (ii)? How do you explain these changes, or the lack of changes on the `progresa` coefficient between (i) and (ii)?\n",
    "* How do the estimates from (i) and (ii) compare to the difference-in-difference estimates from 2.4 above? What accounts for these differences, if any exist?\n",
    "* What is the counterfactual assumption underlying regression (ii)? "
   ]
  },
  {
   "cell_type": "code",
   "execution_count": 22,
   "metadata": {},
   "outputs": [
    {
     "name": "stderr",
     "output_type": "stream",
     "text": [
      "C:\\Users\\12062\\Anaconda3\\lib\\site-packages\\pandas\\core\\indexing.py:1599: SettingWithCopyWarning: \n",
      "A value is trying to be set on a copy of a slice from a DataFrame.\n",
      "Try using .loc[row_indexer,col_indexer] = value instead\n",
      "\n",
      "See the caveats in the documentation: https://pandas.pydata.org/pandas-docs/stable/user_guide/indexing.html#returning-a-view-versus-a-copy\n",
      "  self.obj[key] = infer_fill_value(value)\n",
      "C:\\Users\\12062\\Anaconda3\\lib\\site-packages\\pandas\\core\\indexing.py:1720: SettingWithCopyWarning: \n",
      "A value is trying to be set on a copy of a slice from a DataFrame.\n",
      "Try using .loc[row_indexer,col_indexer] = value instead\n",
      "\n",
      "See the caveats in the documentation: https://pandas.pydata.org/pandas-docs/stable/user_guide/indexing.html#returning-a-view-versus-a-copy\n",
      "  self._setitem_single_column(loc, value, pi)\n",
      "C:\\Users\\12062\\Anaconda3\\lib\\site-packages\\pandas\\core\\indexing.py:1720: SettingWithCopyWarning: \n",
      "A value is trying to be set on a copy of a slice from a DataFrame.\n",
      "Try using .loc[row_indexer,col_indexer] = value instead\n",
      "\n",
      "See the caveats in the documentation: https://pandas.pydata.org/pandas-docs/stable/user_guide/indexing.html#returning-a-view-versus-a-copy\n",
      "  self._setitem_single_column(loc, value, pi)\n"
     ]
    }
   ],
   "source": [
    "#encode dummy variable\n",
    "df_poor = data[data['poor'] == 'pobre']\n",
    "df_poor.loc[df_poor['year'] == 97, 'after_program'] = 0\n",
    "df_poor.loc[df_poor['year'] == 98, 'after_program'] = 1\n",
    "df_poor.loc[df_poor['progresa'] == 'basal', 'progresa'] = 1\n",
    "df_poor.loc[df_poor['progresa'] == '0', 'progresa'] = 0"
   ]
  },
  {
   "cell_type": "code",
   "execution_count": 23,
   "metadata": {},
   "outputs": [
    {
     "name": "stdout",
     "output_type": "stream",
     "text": [
      "                            OLS Regression Results                            \n",
      "==============================================================================\n",
      "Dep. Variable:                     sc   R-squared:                       0.001\n",
      "Model:                            OLS   Adj. R-squared:                  0.001\n",
      "Method:                 Least Squares   F-statistic:                     28.31\n",
      "Date:                Sat, 06 Feb 2021   Prob (F-statistic):           2.76e-18\n",
      "Time:                        13:38:44   Log-Likelihood:                -26242.\n",
      "No. Observations:               58372   AIC:                         5.249e+04\n",
      "Df Residuals:                   58368   BIC:                         5.253e+04\n",
      "Df Model:                           3                                         \n",
      "Covariance Type:            nonrobust                                         \n",
      "===============================================================================================\n",
      "                                  coef    std err          t      P>|t|      [0.025      0.975]\n",
      "-----------------------------------------------------------------------------------------------\n",
      "Intercept                       0.8152      0.003    233.182      0.000       0.808       0.822\n",
      "progresa[T.1]                   0.0075      0.004      1.691      0.091      -0.001       0.016\n",
      "after_program                  -0.0075      0.005     -1.480      0.139      -0.018       0.002\n",
      "after_program:progresa[T.1]     0.0313      0.006      4.835      0.000       0.019       0.044\n",
      "==============================================================================\n",
      "Omnibus:                    15346.988   Durbin-Watson:                   1.397\n",
      "Prob(Omnibus):                  0.000   Jarque-Bera (JB):            30608.651\n",
      "Skew:                          -1.711   Prob(JB):                         0.00\n",
      "Kurtosis:                       3.937   Cond. No.                         7.67\n",
      "==============================================================================\n",
      "\n",
      "Warnings:\n",
      "[1] Standard Errors assume that the covariance matrix of the errors is correctly specified.\n"
     ]
    }
   ],
   "source": [
    "dd_lm = smf.ols(formula = 'sc ~ progresa + after_program + after_program * progresa', data = df_poor).fit()\n",
    "print(dd_lm.summary())               "
   ]
  },
  {
   "cell_type": "code",
   "execution_count": 24,
   "metadata": {
    "scrolled": true
   },
   "outputs": [
    {
     "name": "stdout",
     "output_type": "stream",
     "text": [
      "                            OLS Regression Results                            \n",
      "==============================================================================\n",
      "Dep. Variable:                     sc   R-squared:                       0.276\n",
      "Model:                            OLS   Adj. R-squared:                  0.276\n",
      "Method:                 Least Squares   F-statistic:                     2777.\n",
      "Date:                Sat, 06 Feb 2021   Prob (F-statistic):               0.00\n",
      "Time:                        13:38:45   Log-Likelihood:                -16813.\n",
      "No. Observations:               58165   AIC:                         3.364e+04\n",
      "Df Residuals:                   58156   BIC:                         3.372e+04\n",
      "Df Model:                           8                                         \n",
      "Covariance Type:            nonrobust                                         \n",
      "===============================================================================================\n",
      "                                  coef    std err          t      P>|t|      [0.025      0.975]\n",
      "-----------------------------------------------------------------------------------------------\n",
      "Intercept                       1.5333      0.007    209.398      0.000       1.519       1.548\n",
      "progresa[T.1]                   0.0048      0.004      1.253      0.210      -0.003       0.012\n",
      "after_program                   0.0275      0.004      6.306      0.000       0.019       0.036\n",
      "after_program:progresa[T.1]     0.0313      0.006      5.661      0.000       0.020       0.042\n",
      "age                            -0.0661      0.000   -146.274      0.000      -0.067      -0.065\n",
      "dist_sec                       -0.0118      0.001    -19.222      0.000      -0.013      -0.011\n",
      "sex                             0.0334      0.003     12.473      0.000       0.028       0.039\n",
      "indig                           0.0501      0.003     17.463      0.000       0.045       0.056\n",
      "fam_n                          -0.0014      0.001     -2.429      0.015      -0.003      -0.000\n",
      "==============================================================================\n",
      "Omnibus:                     5600.698   Durbin-Watson:                   1.478\n",
      "Prob(Omnibus):                  0.000   Jarque-Bera (JB):             7393.836\n",
      "Skew:                          -0.871   Prob(JB):                         0.00\n",
      "Kurtosis:                       3.131   Cond. No.                         84.6\n",
      "==============================================================================\n",
      "\n",
      "Warnings:\n",
      "[1] Standard Errors assume that the covariance matrix of the errors is correctly specified.\n"
     ]
    }
   ],
   "source": [
    "dd_lm_control = smf.ols(formula = 'sc ~ progresa + after_program +( after_program * progresa )+ age + dist_sec + sex + indig + fam_n', data = df_poor).fit()\n",
    "print(dd_lm_control.summary())               "
   ]
  },
  {
   "cell_type": "markdown",
   "metadata": {},
   "source": [
    "#### What is your estimate (i) of the impact of Progresa? Be very specific in interpreting your coefficients and standard errors, and make sure to specify exactly what units you are measuring and estimating.\n",
    "- Before adding any control variables, the treatment group after 1998 has an estimate of treatment effect of 0.0313 with a standard error of 0.006. That means progresa has an affect associated with a increase in the average enrollment rate of 0.0313. \n",
    "\n",
    "#### Does your estimate of the impact of Progresa from (i) change when you add control variables as in (ii)? How do you explain these changes, or the lack of changes on the progresa coefficient between (i) and (ii)?\n",
    "- The coefficient for the progresa treatment after 1998 is the same, which suggests for every additional progresa it's associated with a 0.0313 increase in enrollment. But the intercept has increased from 0.815 to 1.533 after adding the controlled variables. Without any controlled variable, the average enrollment without progresa program is 0.815, and the average enrollment for adding additional variable is 1.533. It suggests that these other control variables may caused the difference, that there might be systematic differences exsit in treatment and control group which can cause the difference of enrollment rate. \n",
    "\n",
    "#### How do the estimates from (i) and (ii) compare to the difference-in-difference estimates from 2.4 above? What accounts for these differences, if any exist?\n",
    "- The estimates is the same with the difference in difference.They are both 0.0313. \n",
    "\n",
    "#### What is the counterfactual assumption underlying regression (ii)?\n",
    "- The counterfactual assumption is that without the progresa program, the changes in the average enrollment rate of the treatment group won't happen, that the changes in the enrollment rate through time for treatment group and control group should be the same. "
   ]
  },
  {
   "cell_type": "markdown",
   "metadata": {},
   "source": [
    "### 2.6 Spillover effects\n",
    "\n",
    "Thus far, we have focused on the impact of PROGRESA on poor households. Repeat your analysis in 2.5, instead focusing on the impact of PROGRESA on non-poor households. \n",
    "* Do you observe any impacts of PROGRESA on the non-poor?\n",
    "* Regardless of whether you find evidence of spillovers, describe one or two reasons why PROGRESA *might* have impacted non-poor households. Give concrete examples based on the context in which PROGRESA was implemented."
   ]
  },
  {
   "cell_type": "code",
   "execution_count": 25,
   "metadata": {},
   "outputs": [
    {
     "name": "stdout",
     "output_type": "stream",
     "text": [
      "                            OLS Regression Results                            \n",
      "==============================================================================\n",
      "Dep. Variable:                     sc   R-squared:                       0.280\n",
      "Model:                            OLS   Adj. R-squared:                  0.279\n",
      "Method:                 Least Squares   F-statistic:                     503.4\n",
      "Date:                Sat, 06 Feb 2021   Prob (F-statistic):               0.00\n",
      "Time:                        13:38:47   Log-Likelihood:                -3728.8\n",
      "No. Observations:               10378   AIC:                             7476.\n",
      "Df Residuals:                   10369   BIC:                             7541.\n",
      "Df Model:                           8                                         \n",
      "Covariance Type:            nonrobust                                         \n",
      "===============================================================================================\n",
      "                                  coef    std err          t      P>|t|      [0.025      0.975]\n",
      "-----------------------------------------------------------------------------------------------\n",
      "Intercept                       1.6461      0.019     87.887      0.000       1.609       1.683\n",
      "progresa[T.1]                   0.0272      0.009      2.909      0.004       0.009       0.046\n",
      "after_program                   0.0398      0.011      3.663      0.000       0.018       0.061\n",
      "after_program:progresa[T.1]    -0.0016      0.014     -0.117      0.907      -0.029       0.026\n",
      "age                            -0.0697      0.001    -61.764      0.000      -0.072      -0.068\n",
      "dist_sec                       -0.0172      0.002     -9.730      0.000      -0.021      -0.014\n",
      "sex                             0.0306      0.007      4.497      0.000       0.017       0.044\n",
      "indig                           0.0493      0.010      4.867      0.000       0.029       0.069\n",
      "fam_n                          -0.0078      0.001     -5.472      0.000      -0.011      -0.005\n",
      "==============================================================================\n",
      "Omnibus:                      844.695   Durbin-Watson:                   1.482\n",
      "Prob(Omnibus):                  0.000   Jarque-Bera (JB):              833.342\n",
      "Skew:                          -0.639   Prob(JB):                    1.10e-181\n",
      "Kurtosis:                       2.459   Cond. No.                         85.8\n",
      "==============================================================================\n",
      "\n",
      "Warnings:\n",
      "[1] Standard Errors assume that the covariance matrix of the errors is correctly specified.\n"
     ]
    },
    {
     "name": "stderr",
     "output_type": "stream",
     "text": [
      "C:\\Users\\12062\\Anaconda3\\lib\\site-packages\\pandas\\core\\indexing.py:1599: SettingWithCopyWarning: \n",
      "A value is trying to be set on a copy of a slice from a DataFrame.\n",
      "Try using .loc[row_indexer,col_indexer] = value instead\n",
      "\n",
      "See the caveats in the documentation: https://pandas.pydata.org/pandas-docs/stable/user_guide/indexing.html#returning-a-view-versus-a-copy\n",
      "  self.obj[key] = infer_fill_value(value)\n",
      "C:\\Users\\12062\\Anaconda3\\lib\\site-packages\\pandas\\core\\indexing.py:1720: SettingWithCopyWarning: \n",
      "A value is trying to be set on a copy of a slice from a DataFrame.\n",
      "Try using .loc[row_indexer,col_indexer] = value instead\n",
      "\n",
      "See the caveats in the documentation: https://pandas.pydata.org/pandas-docs/stable/user_guide/indexing.html#returning-a-view-versus-a-copy\n",
      "  self._setitem_single_column(loc, value, pi)\n",
      "C:\\Users\\12062\\Anaconda3\\lib\\site-packages\\pandas\\core\\indexing.py:1720: SettingWithCopyWarning: \n",
      "A value is trying to be set on a copy of a slice from a DataFrame.\n",
      "Try using .loc[row_indexer,col_indexer] = value instead\n",
      "\n",
      "See the caveats in the documentation: https://pandas.pydata.org/pandas-docs/stable/user_guide/indexing.html#returning-a-view-versus-a-copy\n",
      "  self._setitem_single_column(loc, value, pi)\n"
     ]
    }
   ],
   "source": [
    "data.poor.unique()\n",
    "df_nonpoor = data[data['poor'] == 'no pobre']\n",
    "\n",
    "df_nonpoor.loc[df_nonpoor['year'] == 97, 'after_program'] = 0\n",
    "df_nonpoor.loc[df_nonpoor['year'] == 98, 'after_program'] = 1\n",
    "df_nonpoor.loc[df_nonpoor['progresa'] == 'basal', 'progresa'] = 1\n",
    "df_nonpoor.loc[df_nonpoor['progresa'] == '0', 'progresa'] = 0\n",
    "#df_nonpoor.head()\n",
    "\n",
    "dd_lm_nonpoor_control = smf.ols(formula = 'sc ~ progresa + after_program + after_program * progresa + age + dist_sec + sex + indig + fam_n', data = df_nonpoor).fit()\n",
    "print(dd_lm_nonpoor_control.summary())           "
   ]
  },
  {
   "cell_type": "markdown",
   "metadata": {},
   "source": [
    "#### Do you observe any impacts of PROGRESA on the non-poor?\n",
    "- The estimate effect of progressa to non-poor households is 0.0382, suggests that there is an estimate effect of pregresa to no-poor households who received treatment. \n",
    "#### Regardless of whether you find evidence of spillovers, describe one or two reasons why PROGRESA might have impacted non-poor households. Give concrete examples based on the context in which PROGRESA was implemented.\n",
    "- As there's more children enroll to school, it can affect other households to want to do the same, either their parents pay more attention at education opportunity, or the children themselves want to follow the trend (or peer pressuring) to be enrolled in school. "
   ]
  },
  {
   "cell_type": "markdown",
   "metadata": {},
   "source": [
    "### 2.7 Summary\n",
    "\n",
    "* Based on all the analysis you have undertaken to date, do you believe that Progresa had a causal impact on the enrollment rates of poor households in Mexico? \n",
    "* Describe one other way that you might analyze these data to further investigate the causal impact of Progresa on enrollment, and clearly state the counterfactual assumption you would need to make for that approach to be valid.  *(Hint: Consider using the non-poor in your analysis)*"
   ]
  },
  {
   "cell_type": "markdown",
   "metadata": {},
   "source": [
    "- From regression and difference in difference analysis, the estimate effect on progressa all has statistically significant p-value and increasingly accuracy suggested by decreasing standard error as we added control variables. I think the result highly suggests that Progresa had a causal impact on the enrollment rates for poor households in Mexico.\n",
    "- I would run correlation matrix on the predictor variables, checking all correlations between predictor variables, if there're variables that are highly correlated with each other, we should run different models with and without them. We can also use AIC to help us to determine what are the good predictors to include in our regression. And we compare model improvement with F-test and look at the R^2, whether there's a statistically significant improvement between models. "
   ]
  },
  {
   "cell_type": "code",
   "execution_count": null,
   "metadata": {},
   "outputs": [],
   "source": []
  }
 ],
 "metadata": {
  "anaconda-cloud": {},
  "kernelspec": {
   "display_name": "Python 3",
   "language": "python",
   "name": "python3"
  },
  "language_info": {
   "codemirror_mode": {
    "name": "ipython",
    "version": 3
   },
   "file_extension": ".py",
   "mimetype": "text/x-python",
   "name": "python",
   "nbconvert_exporter": "python",
   "pygments_lexer": "ipython3",
   "version": "3.8.3"
  }
 },
 "nbformat": 4,
 "nbformat_minor": 1
}
