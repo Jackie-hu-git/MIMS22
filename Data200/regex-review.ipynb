{
 "cells": [
  {
   "cell_type": "markdown",
   "metadata": {},
   "source": [
    "# Regular Expressions and EDA\n",
    "\n",
    "**Data 100 Spring 2021 Midterm Review Session**"
   ]
  },
  {
   "cell_type": "code",
   "execution_count": 3,
   "metadata": {},
   "outputs": [],
   "source": [
    "import re\n",
    "import numpy as np\n",
    "import matplotlib.pyplot as plt\n",
    "%matplotlib inline\n",
    "\n",
    "def get_xy():\n",
    "    np.random.seed(100)\n",
    "    x = np.random.uniform(0, 20, size=100)\n",
    "    y = (x + np.random.uniform(0, 1, size=100)) ** (1/3) + np.random.uniform(-.05, .05, size=100)\n",
    "    return x, y"
   ]
  },
  {
   "cell_type": "markdown",
   "metadata": {},
   "source": [
    "## Regular Expressions"
   ]
  },
  {
   "cell_type": "markdown",
   "metadata": {},
   "source": [
    "### Fall 2020 MT 5\n",
    "\n",
    "HTTP is a response-reply internet protocol and is used by web-browsers to request content from servers to\n",
    "display to the user. The first few lines of an HTTP request have the following format:\n",
    "\n",
    "```\n",
    "POST /fa20/syllabus HTTP/1.1\n",
    "User-Agent: Mozilla/4.0 (compatible; MSIE5.01; Windows NT)\n",
    "Host: ds100.org\n",
    "```\n",
    "\n",
    "The first line contains an HTTP \"verb\", usually `GET` or `POST`, the path on the host being requested (`/fa20/syllabus`\n",
    "above), and the HTTP version being used to send the request. The lines below that are HTTP request headers\n",
    "that define the required parameters so that the server can process the request. (There are typically more, but\n",
    "we’ve omitted them since they’re not relevant to this problem.)"
   ]
  },
  {
   "cell_type": "markdown",
   "metadata": {},
   "source": [
    "**(a)** In the string `extract_verb`, write a regular expression that extracts the HTTP verb from a\n",
    "request. Assume that all HTTP\n",
    "requests have \"HTTP\" in them."
   ]
  },
  {
   "cell_type": "code",
   "execution_count": 13,
   "metadata": {},
   "outputs": [],
   "source": [
    "extract_verb = r\"([A-Z]+)\\s+[/\\w]*\\s+HTTP/[\\d.]+\""
   ]
  },
  {
   "cell_type": "code",
   "execution_count": 14,
   "metadata": {},
   "outputs": [
    {
     "data": {
      "text/plain": [
       "['POST']"
      ]
     },
     "execution_count": 14,
     "metadata": {},
     "output_type": "execute_result"
    }
   ],
   "source": [
    "request_1 = \"\"\"POST /fa20/syllabus HTTP/1.1\n",
    "User-Agent: Mozilla/4.0 (compatible; MSIE5.01; Windows NT)\n",
    "Host: ds100.org\"\"\"\n",
    "\n",
    "re.findall(extract_verb, request_1)#[0]"
   ]
  },
  {
   "cell_type": "code",
   "execution_count": 15,
   "metadata": {},
   "outputs": [
    {
     "data": {
      "text/plain": [
       "'GET'"
      ]
     },
     "execution_count": 15,
     "metadata": {},
     "output_type": "execute_result"
    }
   ],
   "source": [
    "request_2 = \"\"\"GET /su19/syllabus HTTP/1.1\n",
    "User-Agent: Safari/13.1 (Macintosh; Intel Mac OS X 10_10)\n",
    "Host: data8.org\"\"\"\n",
    "\n",
    "re.findall(extract_verb, request_2)[0]"
   ]
  },
  {
   "cell_type": "code",
   "execution_count": 16,
   "metadata": {},
   "outputs": [
    {
     "data": {
      "text/plain": [
       "'GARBAGE'"
      ]
     },
     "execution_count": 16,
     "metadata": {},
     "output_type": "execute_result"
    }
   ],
   "source": [
    "request_3 = \"\"\"GARBAGE /useless HTTP/1.1\n",
    "User-Agent: Garbage/0.0 (garbage)\n",
    "Host: garbage.ca\"\"\"\n",
    "\n",
    "re.findall(extract_verb, request_3)[0]"
   ]
  },
  {
   "cell_type": "markdown",
   "metadata": {},
   "source": [
    "### Summer 2020 MT 1 6a"
   ]
  },
  {
   "cell_type": "markdown",
   "metadata": {},
   "source": [
    "**(i)** We work for a company called R Us that has many stores, but they all end with 'R Us' (eg.\n",
    "Toys R Us, Babies R Us, etc). Any store specific coupon can be used at any R Us store. Assume no\n",
    "store not owned by R Us ends with 'R Us'. Complete the Python function below that takes in a name\n",
    "and returns True if the store name is owned by the parent company and False if not."
   ]
  },
  {
   "cell_type": "code",
   "execution_count": null,
   "metadata": {},
   "outputs": [],
   "source": []
  },
  {
   "cell_type": "code",
   "execution_count": 22,
   "metadata": {},
   "outputs": [
    {
     "data": {
      "text/plain": [
       "[True, True, True, True, False, False, True]"
      ]
     },
     "execution_count": 22,
     "metadata": {},
     "output_type": "execute_result"
    }
   ],
   "source": [
    "names = ['Toys R Us', 'Babies R Us', 'Bagels R Us', 'We R Us', 'We R Usa', \n",
    "         'R Ussia', 'R UsR Us']\n",
    "\n",
    "def is_correct_company(name):\n",
    "    pattern = r'R Us$'\n",
    "    return len(re.findall(pattern, name)) > 0\n",
    "\n",
    "[is_correct_company(name) for name in names]"
   ]
  },
  {
   "cell_type": "markdown",
   "metadata": {},
   "source": [
    "**(ii)** We want to use the same scanner to scan both coupons and R Us (the company we work for)\n",
    "rewards member cards. Rewards member cards are interesting in that they have a bunch of characters,\n",
    "but the only ones the scanner cares about (the actual member id) are the ones between two 'r's. The\n",
    "member id must not contain an 'r'."
   ]
  },
  {
   "cell_type": "code",
   "execution_count": 25,
   "metadata": {},
   "outputs": [
    {
     "name": "stdout",
     "output_type": "stream",
     "text": [
      "['af9wh']\n",
      "['hahaha', 'hahahaha']\n",
      "[]\n",
      "['ealmembe', 'ealmembe']\n",
      "[]\n",
      "['a', 'wh']\n"
     ]
    }
   ],
   "source": [
    "members = ['kfhraf9whrv', 'rhahahararhahahahar', 'kansas', 'realmember1andrealmember2', \n",
    "           'decorumplease', 'kfhrarhellorwhrv']\n",
    "\n",
    "pattern = r'r([^r]*)r'\n",
    "for member in members:\n",
    "    print(re.findall(pattern, member))"
   ]
  },
  {
   "cell_type": "markdown",
   "metadata": {},
   "source": [
    "### Spring 2020 Checkpoint 16"
   ]
  },
  {
   "cell_type": "markdown",
   "metadata": {},
   "source": [
    "Suppose the TAs want to award partial credit to students who placed a Kleene closure after\n",
    "a `\\d`. A Kleene closure defines how many occurrences of something must be matched; see\n",
    "the code below for examples of Kleene closures. Which of the following regular expressions\n",
    "would work such that the following Python expression outputs correctly?"
   ]
  },
  {
   "cell_type": "code",
   "execution_count": 28,
   "metadata": {},
   "outputs": [
    {
     "data": {
      "text/plain": [
       "[True, True, True, True, False, False]"
      ]
     },
     "execution_count": 28,
     "metadata": {},
     "output_type": "execute_result"
    }
   ],
   "source": [
    "answers = [r\"ˆ\\d{16}$\", r\"\\d{14}|\\d\", r\"\\d+\", r\"[3]\\d*\", r\"\\d\", r\"\\d\\w\\dd+\"]\n",
    "\n",
    "pattern = r\"\\\\d[{+*]\"\n",
    "[bool(re.findall(pattern, answers[i])) for i in range(len(answers))]"
   ]
  },
  {
   "cell_type": "markdown",
   "metadata": {},
   "source": [
    "### Spring 2019 MT 1 3"
   ]
  },
  {
   "cell_type": "markdown",
   "metadata": {},
   "source": [
    "Which of the strings in `strings` match the regex `pattern`?"
   ]
  },
  {
   "cell_type": "code",
   "execution_count": 29,
   "metadata": {},
   "outputs": [
    {
     "data": {
      "text/plain": [
       "[False, True, False, True]"
      ]
     },
     "execution_count": 29,
     "metadata": {},
     "output_type": "execute_result"
    }
   ],
   "source": [
    "strings = [\"bar_chart\", \"group_by_x\", \"a_box_plot\", \"visualize_first\"]\n",
    "pattern = r\"[a-z]+_[a-z]{2}[_r]_?[a-z]+\"\n",
    "\n",
    "[bool(re.match(pattern, s)) for s in strings]"
   ]
  },
  {
   "cell_type": "markdown",
   "metadata": {},
   "source": [
    "## EDA"
   ]
  },
  {
   "cell_type": "markdown",
   "metadata": {},
   "source": [
    "### Fall 2019 MT 1 4a\n"
   ]
  },
  {
   "cell_type": "markdown",
   "metadata": {},
   "source": [
    "What kinds of transformations could help make the relationship in the plot below linear?\n",
    "\n",
    "* $\\log y$\n",
    "* $\\log x$\n",
    "* $e^x$\n",
    "* $y^3$\n",
    "* None of the above\n",
    "\n",
    "_Note:_ The plot is similar to, but not the same, as in the exam."
   ]
  },
  {
   "cell_type": "code",
   "execution_count": 32,
   "metadata": {},
   "outputs": [
    {
     "data": {
      "image/png": "[encoded data removed]",
      "text/plain": [
       "<Figure size 432x288 with 1 Axes>"
      ]
     },
     "metadata": {
      "needs_background": "light"
     },
     "output_type": "display_data"
    }
   ],
   "source": [
    "x, y = get_xy()\n",
    "plt.scatter(x, y);"
   ]
  },
  {
   "cell_type": "code",
   "execution_count": 36,
   "metadata": {},
   "outputs": [
    {
     "data": {
      "image/png": "[encoded data removed]",
      "text/plain": [
       "<Figure size 720x720 with 4 Axes>"
      ]
     },
     "metadata": {
      "needs_background": "light"
     },
     "output_type": "display_data"
    }
   ],
   "source": [
    "plt.figure(figsize=[10,10])\n",
    "plt.subplot(221)\n",
    "plt.scatter(x, np.log(y))\n",
    "plt.title(r\"$\\log y$\")\n",
    "plt.subplot(222)\n",
    "plt.scatter(np.log(x), y)\n",
    "plt.title(r\"$\\log x$\")\n",
    "plt.subplot(223)\n",
    "plt.scatter(np.exp(x), y)\n",
    "plt.title(r\"$e^x$\")\n",
    "plt.subplot(224)\n",
    "plt.scatter(x, y**3)\n",
    "plt.title(r\"$y^3$\");"
   ]
  },
  {
   "cell_type": "markdown",
   "metadata": {},
   "source": [
    "### Spring 2017 MT 4"
   ]
  },
  {
   "cell_type": "markdown",
   "metadata": {},
   "source": [
    "Which of the following are reliable ways to assess the granularity of a table? Select all that apply.\n",
    "\n",
    "* Build histograms on each column\n",
    "* Identify a primary key\n",
    "* Compare the number of rows in the table with the number of distinct values in subsets of the columns\n",
    "* Address outliers via trimming or winsorizing\n",
    "* All of the above\n",
    "* None of the above"
   ]
  },
  {
   "cell_type": "markdown",
   "metadata": {},
   "source": [
    "### Fall 2017 MT 8"
   ]
  },
  {
   "cell_type": "markdown",
   "metadata": {},
   "source": [
    "Consider the following data file:\n",
    "\n",
    "```\n",
    "\"business_id\",\"name\",\"address\",\"phone\"\n",
    "10,\"TIRAMISU KITCHEN\",\"033 BELDEN PL\",\"+14154217044\"\n",
    "19,\"LIFESTYLE CAFE\",\"1200 VAN NESS AVE\",\"+14157763262\"\n",
    "24,\"OMNI S.F. HOTEL\",\" \",\"9999999999999999\"\n",
    "42,\"The \"Best\", Food!\",\"500 CALIFORNIA ST\",\"+14156211114\"\n",
    "43,\"The \"Best\", Food!\",\"3716 Cesar Chavez\",\"+14156211114\"\n",
    "```"
   ]
  },
  {
   "cell_type": "markdown",
   "metadata": {},
   "source": [
    "**(1)** Which of the following best describes the format of this file?\n",
    "\n",
    "* Raw Text\n",
    "* Tab Separated Values\n",
    "* Comma Separated Values\n",
    "* JSON"
   ]
  },
  {
   "cell_type": "markdown",
   "metadata": {},
   "source": [
    "**(2)** Which of the following best describes the granularity of each record?\n",
    "\n",
    "* Restaurant Chains\n",
    "* Individual Restaurant Locations\n",
    "* Strings\n",
    "* Daily"
   ]
  },
  {
   "cell_type": "markdown",
   "metadata": {},
   "source": [
    "**(3)** Select all the true statements.\n",
    "\n",
    "* From the available data the business id appears to be a primary key.\n",
    "* There appear to be no missing values\n",
    "* While the data appears to be quoted there may be issues with the quote character.\n",
    "* There are nested records.\n",
    "* None of the above statements is true."
   ]
  },
  {
   "cell_type": "markdown",
   "metadata": {},
   "source": [
    " "
   ]
  }
 ],
 "metadata": {
  "kernelspec": {
   "display_name": "Python 3",
   "language": "python",
   "name": "python3"
  },
  "language_info": {
   "codemirror_mode": {
    "name": "ipython",
    "version": 3
   },
   "file_extension": ".py",
   "mimetype": "text/x-python",
   "name": "python",
   "nbconvert_exporter": "python",
   "pygments_lexer": "ipython3",
   "version": "3.8.3"
  }
 },
 "nbformat": 4,
 "nbformat_minor": 4
}
