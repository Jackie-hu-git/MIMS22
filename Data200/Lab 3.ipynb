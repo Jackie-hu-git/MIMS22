{
 "cells": [
  {
   "cell_type": "markdown",
   "metadata": {},
   "source": [
    "# Lab 3 - Computational Efficiency\n",
    "- **Author:** Qutub Khan Vajihi ([qutubkhan.vajihi@berkeley.edu](mailto:dimitri@berkeley.edu)) (based on Dimitris Papadimitriou's Lab)\n",
    "- **Date:** 10 February 2020\n",
    "- **Course:** INFO 251: Applied Machine Learning"
   ]
  },
  {
   "cell_type": "markdown",
   "metadata": {},
   "source": [
    "### Quick Announcements:\n",
    "\n",
    "* PS3 is out! Due on Feb 22 11:59pm\n",
    "* You'll have to implement most of the functions from scratch. Start early! :) "
   ]
  },
  {
   "cell_type": "markdown",
   "metadata": {},
   "source": [
    "### Learning Objectives:\n",
    "By the end of the lab, you will be able to:\n",
    "\n",
    "* Understand the trade-offs between 'For' loops and Vectorized computation\n",
    "* Be able to use vectorization for defining complex funtions\n",
    "* Understand NumPy broadcasting rules"
   ]
  },
  {
   "cell_type": "markdown",
   "metadata": {},
   "source": [
    "### References:\n",
    "* https://www.pythonlikeyoumeanit.com/Module3_IntroducingNumpy/VectorizedOperations.html\n",
    "* https://numpy.org/doc/stable/user/basics.broadcasting.html\n",
    "* https://stackoverflow.com/questions/36013063/what-is-the-purpose-of-meshgrid-in-python-numpy"
   ]
  },
  {
   "cell_type": "markdown",
   "metadata": {},
   "source": [
    "## Vectorized Operations using NumPy"
   ]
  },
  {
   "cell_type": "markdown",
   "metadata": {},
   "source": [
    "### Introduction"
   ]
  },
  {
   "cell_type": "markdown",
   "metadata": {},
   "source": [
    "\n",
    "* NumPy's ND-arrays are homogenous i.e. **an array can only contain data of a single type**. For instance, an array can contain 8-bit integers or 32-bit floats, not both mixed. This contrasts the traditional Python lists and tuples, which are unrestricted in the variety of contents they possess. \n",
    "\n",
    "\n",
    "* This restriction on an array’s contents comes at a great benefit; in “knowing” that an array’s contents are homogeneous in data type, NumPy is able to **delegate the task of performing mathematical operations on the array’s contents to optimized, compiled C code**. This is a process that is referred to as *vectorization*.\n",
    "\n",
    "\n",
    "* The outcome of this can be a **tremendous speedup** relative to the analogous computation performed in Python, which must painstakingly check the data type of every one of the items as it iterates over the arrays, since Python typically works with lists with unrestricted contents."
   ]
  },
  {
   "cell_type": "markdown",
   "metadata": {},
   "source": [
    "### Simple Examples\n",
    "Let's start off by looking at some simple examples to understand the benefits of vectorization - "
   ]
  },
  {
   "cell_type": "code",
   "execution_count": 167,
   "metadata": {},
   "outputs": [],
   "source": [
    "import numpy as np\n",
    "import time"
   ]
  },
  {
   "cell_type": "markdown",
   "metadata": {},
   "source": [
    "Let's take the sum from 0-9999 using a For loop - "
   ]
  },
  {
   "cell_type": "code",
   "execution_count": 168,
   "metadata": {},
   "outputs": [
    {
     "name": "stdout",
     "output_type": "stream",
     "text": [
      "The result is 49995000 computed in 0.0029914379119873047 seconds\n"
     ]
    }
   ],
   "source": [
    "t_start = time.time()\n",
    "total = 0\n",
    "for i in np.arange(10000):\n",
    "     total = i + total\n",
    "\n",
    "t1 = time.time() - t_start\n",
    "print('The result is {} computed in {} seconds'.format(total, t1))"
   ]
  },
  {
   "cell_type": "markdown",
   "metadata": {},
   "source": [
    "Not too bad, right? Lets try the same operation using NumPy!"
   ]
  },
  {
   "cell_type": "code",
   "execution_count": 169,
   "metadata": {},
   "outputs": [
    {
     "name": "stdout",
     "output_type": "stream",
     "text": [
      "The result is 49995000 computed in 0.0010259151458740234 seconds\n"
     ]
    }
   ],
   "source": [
    "t_start = time.time()\n",
    "total = np.sum(np.arange(10000))\n",
    "t2 = time.time() - t_start\n",
    "print('The result is {} computed in {} seconds'.format(total, t2))"
   ]
  },
  {
   "cell_type": "code",
   "execution_count": 170,
   "metadata": {},
   "outputs": [
    {
     "name": "stdout",
     "output_type": "stream",
     "text": [
      "3 times faster\n"
     ]
    }
   ],
   "source": [
    "print(\"{:.0f} times faster\".format(t1 / t2))"
   ]
  },
  {
   "cell_type": "markdown",
   "metadata": {},
   "source": [
    "**That's almost 3-5 times faster!**\n",
    "Let's look at some more concrete examples - "
   ]
  },
  {
   "cell_type": "code",
   "execution_count": 171,
   "metadata": {},
   "outputs": [],
   "source": [
    "x = np.arange(1e6)\n",
    "y = np.arange(1e6)"
   ]
  },
  {
   "cell_type": "code",
   "execution_count": 172,
   "metadata": {},
   "outputs": [
    {
     "name": "stdout",
     "output_type": "stream",
     "text": [
      "The result is 3.3333283333312755e+17 computed in 0.4363365173339844 seconds\n"
     ]
    }
   ],
   "source": [
    "def sum_product(x, y):\n",
    "    \"\"\"Return the sum of x[i] * y[i] for all indices.\"\"\"\n",
    "    \n",
    "    # using for loop here\n",
    "    s = 0\n",
    "    for i in range(len(x)):\n",
    "        s += x[i] * y[i]\n",
    "    return s\n",
    "\n",
    "t_start = time.time()\n",
    "r = sum_product(x, y)\n",
    "t_end = time.time()\n",
    "t1 = t_end - t_start\n",
    "print('The result is {} computed in {} seconds'.format(r, t1))"
   ]
  },
  {
   "cell_type": "code",
   "execution_count": 173,
   "metadata": {},
   "outputs": [
    {
     "name": "stdout",
     "output_type": "stream",
     "text": [
      "The result is 3.333328333335e+17 computed in 0.005983829498291016 seconds\n"
     ]
    }
   ],
   "source": [
    "t_start = time.time()\n",
    "r = np.sum(x * y)\n",
    "t_end = time.time()\n",
    "t2 = t_end - t_start\n",
    "print('The result is {} computed in {} seconds'.format(r, t2))"
   ]
  },
  {
   "cell_type": "code",
   "execution_count": 174,
   "metadata": {},
   "outputs": [
    {
     "name": "stdout",
     "output_type": "stream",
     "text": [
      "73 times faster\n"
     ]
    }
   ],
   "source": [
    "print(\"{:.0f} times faster\".format(t1 / t2))"
   ]
  },
  {
   "cell_type": "markdown",
   "metadata": {},
   "source": [
    "### A More Complex Example\n",
    "Let's use some slightly complex functions now - \n",
    "\n",
    "We want to maximize a function $f$ of two variables $(x,y)$:  $f(x, y) = \\frac{cos(x^2 + y^2)}{1 + x^2 + y^2}$\n",
    "\n",
    "To maximize it, we’re going to use a naive grid search:\n",
    "1. Evaluate $f$ for all $(x,y)$ in a grid on the square\n",
    "2. Return the maximum of observed values"
   ]
  },
  {
   "cell_type": "markdown",
   "metadata": {},
   "source": [
    "Before we start, let's just understand what a **meshgrid** is. This can be very useful sometimes. \n",
    "\n",
    "The purpose of meshgrid is to *create a rectangular grid out of an array of x values and an array of y values*.\n",
    "\n",
    "So, for example, say we want to create a grid where we have a point at each integer value between 0 and 4 in both the x and y directions. To create a rectangular grid, we need every combination of the x and y points."
   ]
  },
  {
   "cell_type": "code",
   "execution_count": 175,
   "metadata": {
    "collapsed": true
   },
   "outputs": [
    {
     "data": {
      "text/plain": [
       "'\\nx[0,0] = 0    y[0,0] = 0\\nx[0,1] = 1    y[0,1] = 0\\nx[0,2] = 2    y[0,2] = 0\\nx[0,3] = 3    y[0,3] = 0\\nx[0,4] = 4    y[0,4] = 0\\nx[1,0] = 0    y[1,0] = 1\\nx[1,1] = 1    y[1,1] = 1\\n...\\nx[4,3] = 3    y[4,3] = 4\\nx[4,4] = 4    y[4,4] = 4\\n\\n\\nx =   0 1 2 3 4        y =   0 0 0 0 0\\n      0 1 2 3 4              1 1 1 1 1\\n      0 1 2 3 4              2 2 2 2 2\\n      0 1 2 3 4              3 3 3 3 3\\n      0 1 2 3 4              4 4 4 4 4\\n'"
      ]
     },
     "execution_count": 175,
     "metadata": {},
     "output_type": "execute_result"
    }
   ],
   "source": [
    "\"\"\"\n",
    "x[0,0] = 0    y[0,0] = 0\n",
    "x[0,1] = 1    y[0,1] = 0\n",
    "x[0,2] = 2    y[0,2] = 0\n",
    "x[0,3] = 3    y[0,3] = 0\n",
    "x[0,4] = 4    y[0,4] = 0\n",
    "x[1,0] = 0    y[1,0] = 1\n",
    "x[1,1] = 1    y[1,1] = 1\n",
    "...\n",
    "x[4,3] = 3    y[4,3] = 4\n",
    "x[4,4] = 4    y[4,4] = 4\n",
    "\n",
    "\n",
    "x =   0 1 2 3 4        y =   0 0 0 0 0\n",
    "      0 1 2 3 4              1 1 1 1 1\n",
    "      0 1 2 3 4              2 2 2 2 2\n",
    "      0 1 2 3 4              3 3 3 3 3\n",
    "      0 1 2 3 4              4 4 4 4 4\n",
    "\"\"\""
   ]
  },
  {
   "cell_type": "markdown",
   "metadata": {},
   "source": [
    "This is cumbersome, and gets worst when the arrays are larger, or if you want arbitrary grids. Here is where meshgrid helps."
   ]
  },
  {
   "cell_type": "code",
   "execution_count": 176,
   "metadata": {},
   "outputs": [
    {
     "data": {
      "image/png": "[encoded data removed]",
      "text/plain": [
       "<Figure size 432x288 with 1 Axes>"
      ]
     },
     "metadata": {
      "needs_background": "light"
     },
     "output_type": "display_data"
    }
   ],
   "source": [
    "xvalues = np.array([0, 1, 2, 3, 4]);\n",
    "yvalues = np.array([0, 1, 2, 3, 4]);\n",
    "xx, yy = np.meshgrid(xvalues, yvalues)\n",
    "plt.plot(xx, yy, marker='.', color='k', linestyle='none');"
   ]
  },
  {
   "cell_type": "code",
   "execution_count": 177,
   "metadata": {},
   "outputs": [
    {
     "data": {
      "text/plain": [
       "array([0, 1, 2, 3, 4])"
      ]
     },
     "execution_count": 177,
     "metadata": {},
     "output_type": "execute_result"
    }
   ],
   "source": [
    "xvalues"
   ]
  },
  {
   "cell_type": "code",
   "execution_count": 178,
   "metadata": {},
   "outputs": [
    {
     "data": {
      "text/plain": [
       "array([[0, 1, 2, 3, 4],\n",
       "       [0, 1, 2, 3, 4],\n",
       "       [0, 1, 2, 3, 4],\n",
       "       [0, 1, 2, 3, 4],\n",
       "       [0, 1, 2, 3, 4]])"
      ]
     },
     "execution_count": 178,
     "metadata": {},
     "output_type": "execute_result"
    }
   ],
   "source": [
    "xx"
   ]
  },
  {
   "cell_type": "markdown",
   "metadata": {},
   "source": [
    "Now let's get back to our question for maximizing the function."
   ]
  },
  {
   "cell_type": "code",
   "execution_count": 52,
   "metadata": {},
   "outputs": [],
   "source": [
    "# Should be importing all these libraries at the start of the notebook, but doing this here for illustration purposes.\n",
    "import pandas as pd\n",
    "from mpl_toolkits.mplot3d import Axes3D\n",
    "from matplotlib import cm\n",
    "from matplotlib.ticker import LinearLocator, FormatStrFormatter\n",
    "import matplotlib.pyplot as plt\n",
    "%matplotlib inline"
   ]
  },
  {
   "cell_type": "code",
   "execution_count": 179,
   "metadata": {},
   "outputs": [],
   "source": [
    "def f(x, y):\n",
    "    return np.cos(x**2 + y**2) / (1 + x**2 + y**2)"
   ]
  },
  {
   "cell_type": "code",
   "execution_count": 180,
   "metadata": {},
   "outputs": [],
   "source": [
    "# Make data.\n",
    "X = np.arange(-5, 5, 0.1)\n",
    "Y = np.arange(-5, 5, 0.1)\n",
    "X, Y = np.meshgrid(X, Y)\n",
    "Z = f(X, Y)"
   ]
  },
  {
   "cell_type": "code",
   "execution_count": 181,
   "metadata": {},
   "outputs": [
    {
     "data": {
      "image/png": "[encoded data removed]",
      "text/plain": [
       "<Figure size 720x504 with 1 Axes>"
      ]
     },
     "metadata": {
      "needs_background": "light"
     },
     "output_type": "display_data"
    }
   ],
   "source": [
    "fig = plt.figure(figsize=(10,7))\n",
    "ax = fig.gca(projection='3d')\n",
    "\n",
    "# Plot the surface.\n",
    "surf = ax.plot_surface(X, Y, Z, facecolors=cm.jet(Z),\n",
    "                       linewidth=0, antialiased=False, shade=False)\n",
    "\n",
    "# Customize the z axis.\n",
    "ax.set_zlim(-0.4, 1.01)\n",
    "ax.zaxis.set_major_locator(LinearLocator(10))\n",
    "ax.zaxis.set_major_formatter(FormatStrFormatter('%.02f'))\n",
    "plt.show()"
   ]
  },
  {
   "cell_type": "markdown",
   "metadata": {},
   "source": [
    "What a pretty rainbow ripple!\n",
    "Now that you know what the function looks like, let's try and maximize it. First, using for loops - "
   ]
  },
  {
   "cell_type": "code",
   "execution_count": 184,
   "metadata": {},
   "outputs": [
    {
     "name": "stdout",
     "output_type": "stream",
     "text": [
      "The maximum value observed is: 1.0\n",
      "Time: 0.03727s\n"
     ]
    }
   ],
   "source": [
    "X = np.arange(-5, 5, 0.1)\n",
    "Y = np.arange(-5, 5, 0.1)\n",
    "m = -np.inf\n",
    "t_start = time.time()\n",
    "for x in X:\n",
    "    for y in Y:\n",
    "        z = f(x, y)\n",
    "        if z > m:\n",
    "            m = z\n",
    "print('The maximum value observed is:',m)\n",
    "t_end = time.time()\n",
    "t1 = t_end - t_start\n",
    "print(\"Time: {:.5f}s\".format(t1))"
   ]
  },
  {
   "cell_type": "markdown",
   "metadata": {},
   "source": [
    "Now the same maximization using vectorization - "
   ]
  },
  {
   "cell_type": "code",
   "execution_count": 185,
   "metadata": {},
   "outputs": [
    {
     "name": "stdout",
     "output_type": "stream",
     "text": [
      "The maximum value observed is: 1.0\n",
      "Time: 0.00102s\n"
     ]
    }
   ],
   "source": [
    "x, y = np.meshgrid(X, Y)\n",
    "t_start = time.time()\n",
    "Z= f(x, y)\n",
    "print('The maximum value observed is:',np.max(Z))\n",
    "t_end = time.time()\n",
    "t2 = t_end - t_start\n",
    "print(\"Time: {:.5f}s\".format(t2))"
   ]
  },
  {
   "cell_type": "code",
   "execution_count": 186,
   "metadata": {},
   "outputs": [
    {
     "name": "stdout",
     "output_type": "stream",
     "text": [
      "37 times faster\n"
     ]
    }
   ],
   "source": [
    "print(\"{:.0f} times faster\".format(t1 / t2))"
   ]
  },
  {
   "cell_type": "code",
   "execution_count": 202,
   "metadata": {},
   "outputs": [
    {
     "name": "stdout",
     "output_type": "stream",
     "text": [
      "The maximum value observed is: 1.0\n",
      "Time: 3.41975s\n",
      "The maximum value observed is: 1.0\n",
      "Time: 0.04840s\n",
      "71 times faster\n"
     ]
    }
   ],
   "source": [
    "X = np.arange(-5, 100, 0.1)\n",
    "Y = np.arange(-5, 100, 0.1)\n",
    "m = -np.inf\n",
    "t_start = time.time()\n",
    "for x in X:\n",
    "    for y in Y:\n",
    "        z = f(x, y)\n",
    "        if z > m:\n",
    "            m = z\n",
    "print('The maximum value observed is:',m)\n",
    "t_end = time.time()\n",
    "t1 = t_end - t_start\n",
    "print(\"Time: {:.5f}s\".format(t1))\n",
    "x, y = np.meshgrid(X, Y)\n",
    "t_start = time.time()\n",
    "Z= f(x, y)\n",
    "print('The maximum value observed is:',np.max(Z))\n",
    "t_end = time.time()\n",
    "t2 = t_end - t_start\n",
    "print(\"Time: {:.5f}s\".format(t2))\n",
    "print(\"{:.0f} times faster\".format(t1 / t2))"
   ]
  },
  {
   "cell_type": "markdown",
   "metadata": {},
   "source": [
    "### General Comparison between Numpy Vectorize and other operations"
   ]
  },
  {
   "cell_type": "markdown",
   "metadata": {},
   "source": [
    "<img src=\"Comparison.png\" width=700 height=700 />"
   ]
  },
  {
   "cell_type": "markdown",
   "metadata": {},
   "source": [
    "## Broadcasting"
   ]
  },
  {
   "cell_type": "markdown",
   "metadata": {},
   "source": [
    "* Basic operations on numpy arrays (addition, subtraction etc.) are element-wise. This works on arrays of the same size.\n",
    "\n",
    "\n",
    "* Nevertheless, it is also possible to do operations on arrays of different sizes if numpy can transform these arrays so that they all have the same size: this conversion is called **broadcasting**.\n",
    "\n",
    "\n",
    "* The term broadcasting describes how numpy treats arrays with different shapes during arithmetic operations. Subject to certain constraints, the smaller array is “broadcast” across the larger array so that they have compatible shapes. \n",
    "\n",
    "\n",
    "* There are, however, cases where broadcasting is a bad idea because it leads to inefficient use of memory that slows computation.\n",
    "\n",
    "\n",
    "When operating on two arrays, NumPy compares their shapes element-wise. Two dimensions are compatible when the size of the trailing axes for both arrays in an operation are - \n",
    "* Equal, or\n",
    "* One of them is 1\n",
    "\n",
    "\n",
    "If these conditions are not met, a *ValueError: operands could not be broadcast together* exception is thrown, indicating that the arrays have incompatible shapes. The size of the resulting array is the size that is not 1 along each axis of the inputs."
   ]
  },
  {
   "cell_type": "markdown",
   "metadata": {},
   "source": [
    "<img src=\"Br1.png\" width=700 height=700 />"
   ]
  },
  {
   "cell_type": "markdown",
   "metadata": {},
   "source": [
    "<img src=\"Br2.png\" width=700 height=700 />"
   ]
  },
  {
   "cell_type": "markdown",
   "metadata": {},
   "source": [
    "<img src=\"Illegal.gif\" width=500 height=500 />"
   ]
  },
  {
   "cell_type": "markdown",
   "metadata": {},
   "source": [
    "Let's try this out in code - "
   ]
  },
  {
   "cell_type": "code",
   "execution_count": 189,
   "metadata": {},
   "outputs": [
    {
     "name": "stdout",
     "output_type": "stream",
     "text": [
      "[[ 0  0  0]\n",
      " [10 10 10]\n",
      " [20 20 20]\n",
      " [30 30 30]]\n",
      "(4, 3)\n",
      "\n",
      "\n",
      "\n",
      " [[0 1 2]\n",
      " [0 1 2]\n",
      " [0 1 2]\n",
      " [0 1 2]]\n",
      "(4, 3)\n"
     ]
    }
   ],
   "source": [
    "a = np.array([[ 0,  0,  0],\n",
    "              [10, 10, 10],\n",
    "              [20, 20, 20],\n",
    "              [30, 30, 30]])\n",
    "print(a)\n",
    "print(a.shape)\n",
    "\n",
    "b = np.array([[0, 1, 2],\n",
    "              [0, 1, 2],\n",
    "              [0, 1, 2],\n",
    "              [0, 1, 2]])\n",
    "print('\\n\\n\\n',b)\n",
    "print(b.shape)"
   ]
  },
  {
   "cell_type": "code",
   "execution_count": 191,
   "metadata": {},
   "outputs": [
    {
     "data": {
      "text/plain": [
       "array([[ 0,  1,  2],\n",
       "       [10, 11, 12],\n",
       "       [20, 21, 22],\n",
       "       [30, 31, 32]])"
      ]
     },
     "execution_count": 191,
     "metadata": {},
     "output_type": "execute_result"
    }
   ],
   "source": [
    "a + b #Easy!"
   ]
  },
  {
   "cell_type": "code",
   "execution_count": 192,
   "metadata": {},
   "outputs": [
    {
     "name": "stdout",
     "output_type": "stream",
     "text": [
      "[0 1 2]\n",
      "(3,)\n"
     ]
    }
   ],
   "source": [
    "b1 = np.array([0,1,2])\n",
    "print(b1)\n",
    "print(b1.shape)"
   ]
  },
  {
   "cell_type": "code",
   "execution_count": 193,
   "metadata": {},
   "outputs": [
    {
     "data": {
      "text/plain": [
       "array([[ 0,  1,  2],\n",
       "       [10, 11, 12],\n",
       "       [20, 21, 22],\n",
       "       [30, 31, 32]])"
      ]
     },
     "execution_count": 193,
     "metadata": {},
     "output_type": "execute_result"
    }
   ],
   "source": [
    "a + b1 #b1 will be viewed as shape (1,3)"
   ]
  },
  {
   "cell_type": "code",
   "execution_count": 194,
   "metadata": {},
   "outputs": [
    {
     "data": {
      "text/plain": [
       "(4, 1)"
      ]
     },
     "execution_count": 194,
     "metadata": {},
     "output_type": "execute_result"
    }
   ],
   "source": [
    "a1 = np.array([0,10,20,30]).reshape((4,1)) \n",
    "#Should explicitly reshape using the command above or define it differently, like below - \n",
    "# a1 = np.array([[0],\n",
    "#                 [10],\n",
    "#                 [20],\n",
    "#                 [30]])\n",
    "a1.shape"
   ]
  },
  {
   "cell_type": "code",
   "execution_count": 195,
   "metadata": {},
   "outputs": [
    {
     "data": {
      "text/plain": [
       "array([[ 0,  1,  2],\n",
       "       [10, 11, 12],\n",
       "       [20, 21, 22],\n",
       "       [30, 31, 32]])"
      ]
     },
     "execution_count": 195,
     "metadata": {},
     "output_type": "execute_result"
    }
   ],
   "source": [
    "a1 + b1"
   ]
  },
  {
   "cell_type": "code",
   "execution_count": 196,
   "metadata": {},
   "outputs": [
    {
     "data": {
      "text/plain": [
       "array([[ 3,  3,  3],\n",
       "       [13, 13, 13],\n",
       "       [23, 23, 23],\n",
       "       [33, 33, 33]])"
      ]
     },
     "execution_count": 196,
     "metadata": {},
     "output_type": "execute_result"
    }
   ],
   "source": [
    "c = 3\n",
    "a + c"
   ]
  },
  {
   "cell_type": "code",
   "execution_count": 197,
   "metadata": {},
   "outputs": [
    {
     "data": {
      "text/plain": [
       "numpy.ndarray"
      ]
     },
     "execution_count": 197,
     "metadata": {},
     "output_type": "execute_result"
    }
   ],
   "source": [
    "type(a + c)"
   ]
  },
  {
   "cell_type": "markdown",
   "metadata": {},
   "source": [
    "Finally, let's try something illegal!"
   ]
  },
  {
   "cell_type": "code",
   "execution_count": 164,
   "metadata": {},
   "outputs": [
    {
     "ename": "ValueError",
     "evalue": "operands could not be broadcast together with shapes (4,) (5,) ",
     "output_type": "error",
     "traceback": [
      "\u001b[1;31m---------------------------------------------------------------------------\u001b[0m",
      "\u001b[1;31mValueError\u001b[0m                                Traceback (most recent call last)",
      "\u001b[1;32m<ipython-input-164-f43d0d8a047a>\u001b[0m in \u001b[0;36m<module>\u001b[1;34m\u001b[0m\n\u001b[0;32m      1\u001b[0m \u001b[0ma2\u001b[0m \u001b[1;33m=\u001b[0m \u001b[0mnp\u001b[0m\u001b[1;33m.\u001b[0m\u001b[0marray\u001b[0m\u001b[1;33m(\u001b[0m\u001b[1;33m[\u001b[0m\u001b[1;36m1\u001b[0m\u001b[1;33m,\u001b[0m\u001b[1;36m2\u001b[0m\u001b[1;33m,\u001b[0m\u001b[1;36m3\u001b[0m\u001b[1;33m,\u001b[0m\u001b[1;36m4\u001b[0m\u001b[1;33m]\u001b[0m\u001b[1;33m)\u001b[0m\u001b[1;33m\u001b[0m\u001b[1;33m\u001b[0m\u001b[0m\n\u001b[0;32m      2\u001b[0m \u001b[0mb2\u001b[0m \u001b[1;33m=\u001b[0m \u001b[0mnp\u001b[0m\u001b[1;33m.\u001b[0m\u001b[0marray\u001b[0m\u001b[1;33m(\u001b[0m\u001b[1;33m[\u001b[0m\u001b[1;36m1\u001b[0m\u001b[1;33m,\u001b[0m\u001b[1;36m2\u001b[0m\u001b[1;33m,\u001b[0m\u001b[1;36m3\u001b[0m\u001b[1;33m,\u001b[0m\u001b[1;36m4\u001b[0m\u001b[1;33m,\u001b[0m\u001b[1;36m5\u001b[0m\u001b[1;33m]\u001b[0m\u001b[1;33m)\u001b[0m\u001b[1;33m\u001b[0m\u001b[1;33m\u001b[0m\u001b[0m\n\u001b[1;32m----> 3\u001b[1;33m \u001b[0ma2\u001b[0m\u001b[1;33m+\u001b[0m\u001b[0mb2\u001b[0m\u001b[1;33m\u001b[0m\u001b[1;33m\u001b[0m\u001b[0m\n\u001b[0m",
      "\u001b[1;31mValueError\u001b[0m: operands could not be broadcast together with shapes (4,) (5,) "
     ]
    }
   ],
   "source": [
    "a2 = np.array([1,2,3,4])\n",
    "b2 = np.array([1,2,3,4,5])\n",
    "a2+b2"
   ]
  },
  {
   "cell_type": "markdown",
   "metadata": {},
   "source": [
    "How can we fix that? "
   ]
  },
  {
   "cell_type": "code",
   "execution_count": 198,
   "metadata": {},
   "outputs": [],
   "source": [
    "# Just to refresh your memory, Python lists will do something very different when you try similar operations\n",
    "\n",
    "aa = [1,2,3]\n",
    "bb = [4,5,6]"
   ]
  },
  {
   "cell_type": "code",
   "execution_count": 199,
   "metadata": {},
   "outputs": [
    {
     "data": {
      "text/plain": [
       "[1, 2, 3, 4, 5, 6]"
      ]
     },
     "execution_count": 199,
     "metadata": {},
     "output_type": "execute_result"
    }
   ],
   "source": [
    "aa + bb"
   ]
  },
  {
   "cell_type": "code",
   "execution_count": 200,
   "metadata": {},
   "outputs": [
    {
     "ename": "TypeError",
     "evalue": "unsupported operand type(s) for -: 'list' and 'list'",
     "output_type": "error",
     "traceback": [
      "\u001b[1;31m---------------------------------------------------------------------------\u001b[0m",
      "\u001b[1;31mTypeError\u001b[0m                                 Traceback (most recent call last)",
      "\u001b[1;32m<ipython-input-200-9e213e484731>\u001b[0m in \u001b[0;36m<module>\u001b[1;34m\u001b[0m\n\u001b[1;32m----> 1\u001b[1;33m \u001b[0maa\u001b[0m \u001b[1;33m-\u001b[0m \u001b[0mbb\u001b[0m\u001b[1;33m\u001b[0m\u001b[1;33m\u001b[0m\u001b[0m\n\u001b[0m",
      "\u001b[1;31mTypeError\u001b[0m: unsupported operand type(s) for -: 'list' and 'list'"
     ]
    }
   ],
   "source": [
    "aa - bb"
   ]
  },
  {
   "cell_type": "markdown",
   "metadata": {},
   "source": [
    "This is why NumPy arrays are super useful! "
   ]
  },
  {
   "cell_type": "markdown",
   "metadata": {},
   "source": [
    "## Other Useful NumPy Mathematical Functions"
   ]
  },
  {
   "cell_type": "markdown",
   "metadata": {},
   "source": [
    "### Unary Functions\n",
    "A mathematical function that only accepts one operand (i.e. argument): f(x)"
   ]
  },
  {
   "cell_type": "markdown",
   "metadata": {},
   "source": [
    "<img src=\"Unary.png\" width=500 height=500 />"
   ]
  },
  {
   "cell_type": "markdown",
   "metadata": {},
   "source": [
    "### Binary Functions\n",
    "A mathematical function that only accepts two operands: f(x,y).\n",
    "There are two cases that we must consider when working with binary functions, in the context of NumPy arrays:\n",
    "\n",
    "* When both operands of the function are arrays (of the same shape).\n",
    "* When one operand of the function is a scalar (i.e. a single number) and the other is an array."
   ]
  },
  {
   "cell_type": "markdown",
   "metadata": {},
   "source": [
    "<img src=\"Binary.png\" width=700 height=700 />"
   ]
  },
  {
   "cell_type": "markdown",
   "metadata": {},
   "source": [
    "### Sequential Functions\n",
    "A sequential function expects a variable-length sequence of numbers as an input, and produces a single number as an output."
   ]
  },
  {
   "cell_type": "markdown",
   "metadata": {},
   "source": [
    "<img src=\"Seq.png\" width=700 height=700 />"
   ]
  }
 ],
 "metadata": {
  "kernelspec": {
   "display_name": "Python 3",
   "language": "python",
   "name": "python3"
  },
  "language_info": {
   "codemirror_mode": {
    "name": "ipython",
    "version": 3
   },
   "file_extension": ".py",
   "mimetype": "text/x-python",
   "name": "python",
   "nbconvert_exporter": "python",
   "pygments_lexer": "ipython3",
   "version": "3.7.3"
  }
 },
 "nbformat": 4,
 "nbformat_minor": 4
}
