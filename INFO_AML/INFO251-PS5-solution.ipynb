{
 "cells": [
  {
   "cell_type": "markdown",
   "metadata": {},
   "source": [
    "### Problem Set 5\n",
    "\n",
    "As usual, you are highly encouraged to *start this problem set early!*  Our best guess (no guarantees!) is that Part 1 will be conceptually easy but perhaps time consuming.  Parts 2 and 3 are medium difficult, but there are plenty of opportunities to get confused with data structures, so if you're going to get stuck, get stuck (and unstuck) early!\n",
    "\n",
    "Note that the extra credit problems have the potential to be quite challenging and time consuming. Make sure to do everything else in the problem set before you tackle the extra credit.\n",
    "\n",
    "To get started, download the files \"reviews.csv\" and \"movies.dat\" from Canvas.\n",
    "\n",
    "In addition to numpy, pandas, sklearn and matplotlib, we suggest you familiarize yourself with the following aspects of these libraries, which are not required but which might make your life much easier:-\n",
    "\n",
    "* `DataFrame` and other basic [data structures](http://pandas.pydata.org/pandas-docs/stable/dsintro.html) in pandas\n",
    "* [`groupby`](http://pandas.pydata.org/pandas-docs/stable/groupby.html), `unique`,  and other simple aggregation functions\n",
    "* [`CountVectorizer`](http://scikit-learn.org/stable/modules/generated/sklearn.feature_extraction.text.CountVectorizer.html) for working with text in sklearn.\n",
    "* [`MultinomialNB`](http://scikit-learn.org/stable/modules/generated/sklearn.naive_bayes.MultinomialNB.html) for Naive Bayes\n",
    "* Simple tools for [Cross-Validation](http://scikit-learn.org/stable/modules/cross_validation.html) in sklearn\n",
    "\n",
    "Make sure they load properly with the following code block. You may also import additional functions/classes if you need them."
   ]
  },
  {
   "cell_type": "code",
   "execution_count": 1,
   "metadata": {},
   "outputs": [],
   "source": [
    "import pandas as pd\n",
    "import numpy as np\n",
    "import matplotlib.pyplot as plt\n",
    "\n",
    "#You can go over the scikit-learn documentation to learn more about what some of these functions and classes\n",
    "from  sklearn.model_selection import cross_val_score\n",
    "from sklearn.model_selection import train_test_split\n",
    "from sklearn.naive_bayes import MultinomialNB\n",
    "from sklearn.feature_extraction.text import CountVectorizer\n",
    "import IPython"
   ]
  },
  {
   "cell_type": "markdown",
   "metadata": {},
   "source": [
    "## Introduction to the assignment\n",
    "\n",
    "In this assignment, you'll be analyzing movie reviews in an attempt to determine whether movies are good or bad.  We have downloaded a large number of movie reviews from the [Rotten Tomatoes](http://www.rottentomatoes.com) website, which are available in the file \"reviews.csv\" on Canvas.  We have also put a file \"movies.dat\" on Canvas that contains metadata for ~65,000 different movies.\n",
    "\n",
    "If you've never seen Rotten Tomatoes before, go spend a few minutes familiarizing yourself with the website.  It's a meta-review website that aggregates movie reviews from a large number of critics.  Here's what the page for 2020's [Oscar winner](https://www.rottentomatoes.com/m/parasite_2019) looks like.  Note in particular the section on \"Critic Reviews\" at the bottom -- that's the content that has been scraped and put in the reviews.csv file.  Also note that each movie is given a quantitative score on the Tomatometer which is used to classify the movie as either Fresh (good) or Rotten (bad).\n",
    "\n",
    "Your mission is to develop a classifier to determine whether a movie is Fresh or Rotten based on the contents of the reviews given to the movie.  As usual, we'll start out with some exploratory data analysis."
   ]
  },
  {
   "cell_type": "markdown",
   "metadata": {},
   "source": [
    "---\n",
    "\n",
    "## Part 1: Descriptive analysis\n",
    "\n",
    "Before beginning the \"real\" work, dig into the data a bit do see what you're dealing with.  Let's start by loading the datasets and dropping rows that have missing data:"
   ]
  },
  {
   "cell_type": "code",
   "execution_count": 2,
   "metadata": {},
   "outputs": [],
   "source": [
    "reviews = pd.read_csv('reviews.csv')\n",
    "movies = pd.read_csv(\"movies.dat\", delimiter='\\t')\n",
    "movies = movies.dropna()\n",
    "reviews = reviews[~reviews.quote.isnull()]\n",
    "reviews = reviews[reviews.fresh != 'none']\n",
    "reviews = reviews[reviews.quote.str.len() > 0]\n",
    "reviews = reviews[~reviews.critic.isna()]"
   ]
  },
  {
   "cell_type": "markdown",
   "metadata": {},
   "source": [
    "### 1.1: Basic features of the dataset\n",
    "\n",
    "Answer the following questions by having your Python code directly print the answers:\n",
    "\n",
    "* How many unique reviews (quotes) are in the `reviews` dataset?\n",
    "* How many unique reviewers (critics) are in the `reviews` dataset?\n",
    "* How many unique movies are in the `reviews` dataset?\n",
    "* How many different publications have reviews in the `reviews` dataset?\n",
    "* How many unique movies are in the `movies` dataset?\n",
    "* What is the year range in the `movies` dataset? \n",
    "* What is the lowest `rtAudienceScore` for the year 1995 in the `movies` dataset?\n"
   ]
  },
  {
   "cell_type": "code",
   "execution_count": 3,
   "metadata": {},
   "outputs": [
    {
     "name": "stdout",
     "output_type": "stream",
     "text": [
      "Number of unique reviews are: 12149\n",
      "Number of unique critics: 540\n",
      "Number of unique movies in reviews: 1715\n",
      "Number of Publication in reviews df: 64\n",
      "Number of unique movies in movies: 8959\n",
      "Year Range in movies: 108 years\n",
      "Lowest rtAudienceScore 1995 : 0\n"
     ]
    }
   ],
   "source": [
    "# enter your code below\n",
    "\n",
    "print(\"Number of unique reviews are: {}\".format(reviews['quote'].nunique()))\n",
    "print(\"Number of unique critics: {}\".format(reviews.critic.nunique()))\n",
    "print(\"Number of unique movies in reviews: {}\".format(reviews.imdb.nunique()))\n",
    "print(\"Number of Publication in reviews df: {}\".format(reviews.publication.nunique()))\n",
    "print(\"Number of unique movies in movies: {}\".format(movies.title.nunique()))\n",
    "print(\"Year Range in movies: {} years\".format(max(movies.year)-min(movies.year)))\n",
    "print(\"Lowest rtAudienceScore 1995 : {}\".format(min(movies[movies.year==1995].rtAudienceScore)))"
   ]
  },
  {
   "cell_type": "markdown",
   "metadata": {},
   "source": [
    "### 1.2 Number of reviews per critic\n",
    "\n",
    "Using the `reviews` dataset, create a histogram showing the distribution of the number of reviews per critic.  Have the bin width (x-axis) be 5 units wide, and the range of the x-axis to be from 0 to 100.  Scale the y-axis to show the logarithm of the (count of) the number of critics.  Also add a vertical line at the average number of reviews per critic. \n",
    "\n",
    "Label your axes and make your histogram look professional."
   ]
  },
  {
   "cell_type": "code",
   "execution_count": 4,
   "metadata": {},
   "outputs": [
    {
     "data": {
      "image/png": "[encoded data removed]",
      "text/plain": [
       "<Figure size 640x480 with 1 Axes>"
      ]
     },
     "metadata": {},
     "output_type": "display_data"
    }
   ],
   "source": [
    "plt.style.use('default')\n",
    "\n",
    "rev_per = reviews.groupby('critic').rtid.count()\n",
    "rev_per.hist(log=True, bins=np.arange(0, 100, 5), edgecolor='white')\n",
    "plt.axvline(np.mean(reviews.groupby('critic').rtid.count()), color='k', linestyle='--')\n",
    "plt.xlabel(\"Number of reviews per critic\")\n",
    "plt.ylabel(\"N\")\n",
    "plt.xlim([0,100])\n",
    "plt.grid(False)"
   ]
  },
  {
   "cell_type": "markdown",
   "metadata": {},
   "source": [
    "### 1.3 Zoom in on a few reviewers\n",
    "Find the 25 critics with the most reviews, and list their names in a table along with -\n",
    "\n",
    "* (a) The name(s) of *all* the publications they work for. If a critic happens to work for more than one publication, you should have a comma-separated string that contains all publications for that critic.\n",
    "* (b) The date of their first review.\n",
    "* (c) The date of their last review.\n",
    "* (d) The total number of reviews (count).\n",
    "\n",
    "Sort the table in descending order of the number of reviews.\n",
    "\n",
    "*Hint: The `apply`, `merge` and `groupby` functions can be useful here*"
   ]
  },
  {
   "cell_type": "code",
   "execution_count": 5,
   "metadata": {},
   "outputs": [
    {
     "data": {
      "text/html": [
       "<div>\n",
       "<style scoped>\n",
       "    .dataframe tbody tr th:only-of-type {\n",
       "        vertical-align: middle;\n",
       "    }\n",
       "\n",
       "    .dataframe tbody tr th {\n",
       "        vertical-align: top;\n",
       "    }\n",
       "\n",
       "    .dataframe thead th {\n",
       "        text-align: right;\n",
       "    }\n",
       "</style>\n",
       "<table border=\"1\" class=\"dataframe\">\n",
       "  <thead>\n",
       "    <tr style=\"text-align: right;\">\n",
       "      <th></th>\n",
       "      <th>critic</th>\n",
       "      <th>publication</th>\n",
       "      <th>first_review</th>\n",
       "      <th>last_review</th>\n",
       "      <th>count</th>\n",
       "    </tr>\n",
       "  </thead>\n",
       "  <tbody>\n",
       "    <tr>\n",
       "      <th>19</th>\n",
       "      <td>Roger Ebert</td>\n",
       "      <td>At the Movies, Chicago Sun-Times</td>\n",
       "      <td>2000-01-01 00:00:00</td>\n",
       "      <td>2013-06-11 00:00:00</td>\n",
       "      <td>1150</td>\n",
       "    </tr>\n",
       "    <tr>\n",
       "      <th>7</th>\n",
       "      <td>James Berardinelli</td>\n",
       "      <td>ReelViews</td>\n",
       "      <td>1800-01-01 00:00:00</td>\n",
       "      <td>2012-02-07 00:00:00</td>\n",
       "      <td>833</td>\n",
       "    </tr>\n",
       "    <tr>\n",
       "      <th>8</th>\n",
       "      <td>Janet Maslin</td>\n",
       "      <td>New York Times</td>\n",
       "      <td>2000-01-01 00:00:00</td>\n",
       "      <td>2010-09-07 00:00:00</td>\n",
       "      <td>526</td>\n",
       "    </tr>\n",
       "    <tr>\n",
       "      <th>23</th>\n",
       "      <td>Variety Staff</td>\n",
       "      <td>Variety</td>\n",
       "      <td>2001-02-13 00:00:00</td>\n",
       "      <td>2012-08-15 00:00:00</td>\n",
       "      <td>449</td>\n",
       "    </tr>\n",
       "    <tr>\n",
       "      <th>10</th>\n",
       "      <td>Jonathan Rosenbaum</td>\n",
       "      <td>Chicago Reader</td>\n",
       "      <td>1988-07-11 00:00:00</td>\n",
       "      <td>2013-10-22 00:00:00</td>\n",
       "      <td>420</td>\n",
       "    </tr>\n",
       "    <tr>\n",
       "      <th>3</th>\n",
       "      <td>Desson Thomson</td>\n",
       "      <td>Washington Post</td>\n",
       "      <td>2000-01-01 00:00:00</td>\n",
       "      <td>2012-10-08 00:00:00</td>\n",
       "      <td>373</td>\n",
       "    </tr>\n",
       "    <tr>\n",
       "      <th>5</th>\n",
       "      <td>Geoff Andrew</td>\n",
       "      <td>Time Out</td>\n",
       "      <td>2005-08-11 00:00:00</td>\n",
       "      <td>2012-04-05 00:00:00</td>\n",
       "      <td>361</td>\n",
       "    </tr>\n",
       "    <tr>\n",
       "      <th>1</th>\n",
       "      <td>Dave Kehr</td>\n",
       "      <td>Chicago Reader, Chicago Tribune, New York Dail...</td>\n",
       "      <td>2000-01-01 00:00:00</td>\n",
       "      <td>2013-11-20 00:00:00</td>\n",
       "      <td>360</td>\n",
       "    </tr>\n",
       "    <tr>\n",
       "      <th>11</th>\n",
       "      <td>Kenneth Turan</td>\n",
       "      <td>Los Angeles Times</td>\n",
       "      <td>2000-01-01 00:00:00</td>\n",
       "      <td>2013-10-05 00:00:00</td>\n",
       "      <td>282</td>\n",
       "    </tr>\n",
       "    <tr>\n",
       "      <th>14</th>\n",
       "      <td>Mick LaSalle</td>\n",
       "      <td>San Francisco Chronicle</td>\n",
       "      <td>2000-01-01 00:00:00</td>\n",
       "      <td>2009-11-25 00:00:00</td>\n",
       "      <td>280</td>\n",
       "    </tr>\n",
       "    <tr>\n",
       "      <th>15</th>\n",
       "      <td>Owen Gleiberman</td>\n",
       "      <td>Entertainment Weekly</td>\n",
       "      <td>1800-01-01 00:00:00</td>\n",
       "      <td>2011-09-07 00:00:00</td>\n",
       "      <td>241</td>\n",
       "    </tr>\n",
       "    <tr>\n",
       "      <th>18</th>\n",
       "      <td>Rita Kempley</td>\n",
       "      <td>Washington Post</td>\n",
       "      <td>2000-01-01 00:00:00</td>\n",
       "      <td>2013-11-02 00:00:00</td>\n",
       "      <td>236</td>\n",
       "    </tr>\n",
       "    <tr>\n",
       "      <th>9</th>\n",
       "      <td>Joe Baltake</td>\n",
       "      <td>Passionate Moviegoer, Philadelphia Daily News,...</td>\n",
       "      <td>2000-01-01 00:00:00</td>\n",
       "      <td>2013-08-04 00:00:00</td>\n",
       "      <td>231</td>\n",
       "    </tr>\n",
       "    <tr>\n",
       "      <th>22</th>\n",
       "      <td>Todd McCarthy</td>\n",
       "      <td>Variety</td>\n",
       "      <td>2000-01-01 00:00:00</td>\n",
       "      <td>2012-10-09 00:00:00</td>\n",
       "      <td>223</td>\n",
       "    </tr>\n",
       "    <tr>\n",
       "      <th>24</th>\n",
       "      <td>Vincent Canby</td>\n",
       "      <td>New York Times</td>\n",
       "      <td>2000-01-01 00:00:00</td>\n",
       "      <td>2013-07-29 00:00:00</td>\n",
       "      <td>207</td>\n",
       "    </tr>\n",
       "    <tr>\n",
       "      <th>6</th>\n",
       "      <td>Hal Hinson</td>\n",
       "      <td>Washington Post</td>\n",
       "      <td>2000-01-01 00:00:00</td>\n",
       "      <td>2013-06-26 00:00:00</td>\n",
       "      <td>174</td>\n",
       "    </tr>\n",
       "    <tr>\n",
       "      <th>21</th>\n",
       "      <td>Susan Stark</td>\n",
       "      <td>Detroit News</td>\n",
       "      <td>2000-01-01 00:00:00</td>\n",
       "      <td>2002-10-25 00:00:00</td>\n",
       "      <td>167</td>\n",
       "    </tr>\n",
       "    <tr>\n",
       "      <th>20</th>\n",
       "      <td>Stephen Holden</td>\n",
       "      <td>New York Times</td>\n",
       "      <td>2000-01-01 00:00:00</td>\n",
       "      <td>2009-02-06 00:00:00</td>\n",
       "      <td>166</td>\n",
       "    </tr>\n",
       "    <tr>\n",
       "      <th>2</th>\n",
       "      <td>Derek Adams</td>\n",
       "      <td>Time Out</td>\n",
       "      <td>2006-01-26 00:00:00</td>\n",
       "      <td>2009-10-04 00:00:00</td>\n",
       "      <td>154</td>\n",
       "    </tr>\n",
       "    <tr>\n",
       "      <th>12</th>\n",
       "      <td>Kevin Thomas</td>\n",
       "      <td>Los Angeles Times</td>\n",
       "      <td>2000-01-01 00:00:00</td>\n",
       "      <td>2013-11-02 00:00:00</td>\n",
       "      <td>145</td>\n",
       "    </tr>\n",
       "    <tr>\n",
       "      <th>16</th>\n",
       "      <td>Peter Stack</td>\n",
       "      <td>San Francisco Chronicle</td>\n",
       "      <td>2000-01-01 00:00:00</td>\n",
       "      <td>2002-06-18 00:00:00</td>\n",
       "      <td>138</td>\n",
       "    </tr>\n",
       "    <tr>\n",
       "      <th>0</th>\n",
       "      <td>Bosley Crowther</td>\n",
       "      <td>New York Times</td>\n",
       "      <td>2000-01-01 00:00:00</td>\n",
       "      <td>2008-05-06 00:00:00</td>\n",
       "      <td>137</td>\n",
       "    </tr>\n",
       "    <tr>\n",
       "      <th>17</th>\n",
       "      <td>Rick Groen</td>\n",
       "      <td>Globe and Mail</td>\n",
       "      <td>2002-03-19 00:00:00</td>\n",
       "      <td>2009-08-14 00:00:00</td>\n",
       "      <td>129</td>\n",
       "    </tr>\n",
       "    <tr>\n",
       "      <th>4</th>\n",
       "      <td>Edward Guthmann</td>\n",
       "      <td>San Francisco Chronicle</td>\n",
       "      <td>2000-01-01 00:00:00</td>\n",
       "      <td>2003-04-04 00:00:00</td>\n",
       "      <td>121</td>\n",
       "    </tr>\n",
       "    <tr>\n",
       "      <th>13</th>\n",
       "      <td>Lisa Schwarzbaum</td>\n",
       "      <td>Entertainment Weekly</td>\n",
       "      <td>1979-01-01 00:00:00</td>\n",
       "      <td>2012-08-15 00:00:00</td>\n",
       "      <td>117</td>\n",
       "    </tr>\n",
       "  </tbody>\n",
       "</table>\n",
       "</div>"
      ],
      "text/plain": [
       "                critic                                        publication  \\\n",
       "19         Roger Ebert                   At the Movies, Chicago Sun-Times   \n",
       "7   James Berardinelli                                          ReelViews   \n",
       "8         Janet Maslin                                     New York Times   \n",
       "23       Variety Staff                                            Variety   \n",
       "10  Jonathan Rosenbaum                                     Chicago Reader   \n",
       "3       Desson Thomson                                    Washington Post   \n",
       "5         Geoff Andrew                                           Time Out   \n",
       "1            Dave Kehr  Chicago Reader, Chicago Tribune, New York Dail...   \n",
       "11       Kenneth Turan                                  Los Angeles Times   \n",
       "14        Mick LaSalle                            San Francisco Chronicle   \n",
       "15     Owen Gleiberman                               Entertainment Weekly   \n",
       "18        Rita Kempley                                    Washington Post   \n",
       "9          Joe Baltake  Passionate Moviegoer, Philadelphia Daily News,...   \n",
       "22       Todd McCarthy                                            Variety   \n",
       "24       Vincent Canby                                     New York Times   \n",
       "6           Hal Hinson                                    Washington Post   \n",
       "21         Susan Stark                                       Detroit News   \n",
       "20      Stephen Holden                                     New York Times   \n",
       "2          Derek Adams                                           Time Out   \n",
       "12        Kevin Thomas                                  Los Angeles Times   \n",
       "16         Peter Stack                            San Francisco Chronicle   \n",
       "0      Bosley Crowther                                     New York Times   \n",
       "17          Rick Groen                                     Globe and Mail   \n",
       "4      Edward Guthmann                            San Francisco Chronicle   \n",
       "13    Lisa Schwarzbaum                               Entertainment Weekly   \n",
       "\n",
       "           first_review          last_review  count  \n",
       "19  2000-01-01 00:00:00  2013-06-11 00:00:00   1150  \n",
       "7   1800-01-01 00:00:00  2012-02-07 00:00:00    833  \n",
       "8   2000-01-01 00:00:00  2010-09-07 00:00:00    526  \n",
       "23  2001-02-13 00:00:00  2012-08-15 00:00:00    449  \n",
       "10  1988-07-11 00:00:00  2013-10-22 00:00:00    420  \n",
       "3   2000-01-01 00:00:00  2012-10-08 00:00:00    373  \n",
       "5   2005-08-11 00:00:00  2012-04-05 00:00:00    361  \n",
       "1   2000-01-01 00:00:00  2013-11-20 00:00:00    360  \n",
       "11  2000-01-01 00:00:00  2013-10-05 00:00:00    282  \n",
       "14  2000-01-01 00:00:00  2009-11-25 00:00:00    280  \n",
       "15  1800-01-01 00:00:00  2011-09-07 00:00:00    241  \n",
       "18  2000-01-01 00:00:00  2013-11-02 00:00:00    236  \n",
       "9   2000-01-01 00:00:00  2013-08-04 00:00:00    231  \n",
       "22  2000-01-01 00:00:00  2012-10-09 00:00:00    223  \n",
       "24  2000-01-01 00:00:00  2013-07-29 00:00:00    207  \n",
       "6   2000-01-01 00:00:00  2013-06-26 00:00:00    174  \n",
       "21  2000-01-01 00:00:00  2002-10-25 00:00:00    167  \n",
       "20  2000-01-01 00:00:00  2009-02-06 00:00:00    166  \n",
       "2   2006-01-26 00:00:00  2009-10-04 00:00:00    154  \n",
       "12  2000-01-01 00:00:00  2013-11-02 00:00:00    145  \n",
       "16  2000-01-01 00:00:00  2002-06-18 00:00:00    138  \n",
       "0   2000-01-01 00:00:00  2008-05-06 00:00:00    137  \n",
       "17  2002-03-19 00:00:00  2009-08-14 00:00:00    129  \n",
       "4   2000-01-01 00:00:00  2003-04-04 00:00:00    121  \n",
       "13  1979-01-01 00:00:00  2012-08-15 00:00:00    117  "
      ]
     },
     "execution_count": 5,
     "metadata": {},
     "output_type": "execute_result"
    }
   ],
   "source": [
    "# enter your code here\n",
    "reviewer_top_25 = rev_per.sort_values(ascending=False)[:25].index.tolist()\n",
    "review_top_25 = reviews[reviews.critic.isin(reviewer_top_25)]\n",
    "reviewer_group_1 = review_top_25.groupby(['critic','publication']).size().reset_index()\n",
    "reviewer_group_2 = reviewer_group_1.groupby('critic').apply(lambda x: ', '.join(x['publication'])).reset_index()\n",
    "reviewer_group_2.columns = ['critic', 'publication']\n",
    "review_date = review_top_25.groupby('critic')['review_date'].agg(first_review='min', last_review='max', count = 'count').reset_index()\n",
    "review_date.merge(reviewer_group_2, on='critic', how='inner')[['critic', 'publication', 'first_review', 'last_review', 'count']].sort_values(by='count', ascending=False)"
   ]
  },
  {
   "cell_type": "markdown",
   "metadata": {},
   "source": [
    "### 1.4 Ratings over time\n",
    "\n",
    "Using the `movies` dataset, create a plot that shows how the average movie rating has evolved over time. Refer to `rtAllCriticsRating` for each movie's rating. \n",
    "\n",
    "Do this by creating a scatterplot where the x-axis is the year in which the movie was released and the y-axis is `rtAllCriticsRating`.  Drop movies with 0 or unknown values to simplify the analysis.  Then, create a scatterplot that has one <year,rating> point for each remaining movie, and pick an appropriate size/color/transparency for these points to ensure that the graph looks professional.  In other words, do not simply use the default settings, as this will produce a dense mess of dots that will be hard to interpret.  Finally, overlay on this scatterplot a line graph in red showing how the average movie rating (the average of `rtAllCriticsRating` across all movies in a year) has changed over time.  \n",
    "\n",
    "Do you notice a trend?  What do you think it means?"
   ]
  },
  {
   "cell_type": "code",
   "execution_count": 6,
   "metadata": {},
   "outputs": [
    {
     "data": {
      "image/png": "[encoded data removed]",
      "text/plain": [
       "<Figure size 800x600 with 1 Axes>"
      ]
     },
     "metadata": {},
     "output_type": "display_data"
    }
   ],
   "source": [
    "# enter your code here\n",
    "movies_2 = movies[movies.rtAllCriticsRating != '\\\\N']\n",
    "movies_2.loc[:,'rtAllCriticsRating'] = movies_2['rtAllCriticsRating'].astype(float)\n",
    "movies_2 = movies_2[movies_2.rtAllCriticsRating > 0]\n",
    "\n",
    "a = movies_2.groupby('year')['rtAllCriticsRating'].mean()\n",
    "movies_3 = pd.DataFrame({'year': a.index.tolist(), 'avg_rate': a.tolist()})\n",
    "fig, ax = plt.subplots(figsize=(8,6))\n",
    "ax.plot(movies_2['year'], movies_2['rtAllCriticsRating'], 'o', c='g', markersize=2, markeredgecolor='none', alpha=0.5)\n",
    "ax.plot(movies_3['year'], movies_3['avg_rate'], '-', c='red')\n",
    "plt.xlabel('Year')\n",
    "plt.ylabel('Average Rating')\n",
    "ax.set_xlim(1900,2011)\n",
    "ax.spines['right'].set_visible(False)\n",
    "ax.spines['top'].set_visible(False)\n",
    "ax.yaxis.set_ticks_position('left')\n",
    "ax.xaxis.set_ticks_position('bottom')"
   ]
  },
  {
   "cell_type": "markdown",
   "metadata": {},
   "source": [
    "This graph shows a trend towards a lower average rating, as well as a greater abundance of low ratings, with time. This is probably at least partially a selection effect -- Rotten Tomatoes probably doesn't archive reviews for all movies, especially ones that came out before the website existed. Thus, reviews of old movies are more often \"the classics\". Mediocre old movies have been partially forgotten, and are underrepresented in the data. It's also possible the critics have gotten more critical -- without further anaylsis, it's hard to know what is causing the trend."
   ]
  },
  {
   "cell_type": "markdown",
   "metadata": {},
   "source": [
    "---\n",
    "\n",
    "## Part 2: Naive Bayes\n",
    "\n",
    "Now it gets fun!  You are going to use a [Naive Bayes Classifier](https://en.wikipedia.org/wiki/Naive_Bayes_classifier) to build a prediction model for whether a review is fresh or rotten, depending on the text of the review. Review the assigned readings on Canvas, as well as the relevant lecture notes before embarking on this journey.\n",
    "\n",
    "### Using CountVectorizer\n",
    "\n",
    "One thing that may help you in the following problems is the [CountVectorizer](http://scikit-learn.org/stable/modules/generated/sklearn.feature_extraction.text.CountVectorizer.html) class in Scikit-learn.  This will help you convert your raw text fields into \"bag of words\" vectors, i.e. a data structure that tells you how many times a particular word appears in a blurb.  Here's a simple example, make sure you understand what's going on!"
   ]
  },
  {
   "cell_type": "code",
   "execution_count": 7,
   "metadata": {},
   "outputs": [
    {
     "name": "stdout",
     "output_type": "stream",
     "text": [
      "Original text is:-\n",
      " machine learning rocks\n",
      "machine learning rules\n",
      "rocks rocks rules\n",
      "\n",
      "Transformed text vector is \n",
      " [[1 1 1 0]\n",
      " [1 1 0 1]\n",
      " [0 0 2 1]]\n",
      "\n",
      "Words for each feature:-\n",
      "['learning', 'machine', 'rocks', 'rules']\n"
     ]
    }
   ],
   "source": [
    "from sklearn.feature_extraction.text import CountVectorizer\n",
    "\n",
    "text = ['machine learning rocks', 'machine learning rules', 'rocks rocks rules']\n",
    "print(\"Original text is:-\\n\", '\\n'.join(text))\n",
    "print()\n",
    "vectorizer = CountVectorizer(min_df=0)\n",
    "\n",
    "# call `fit` to build the vocabulary\n",
    "vectorizer.fit(text)\n",
    "\n",
    "# call `transform` to convert text to a bag of words\n",
    "x = vectorizer.transform(text)\n",
    "\n",
    "# CountVectorizer uses a sparse array to save memory, but it's easier in this assignment to \n",
    "# convert back to a \"normal\" numpy array\n",
    "x = x.toarray()\n",
    "\n",
    "print(\"Transformed text vector is \\n\", x)\n",
    "print()\n",
    "# `get_feature_names` tracks which word is associated with each column of the transformed x\n",
    "print(\"Words for each feature:-\")\n",
    "print(vectorizer.get_feature_names())"
   ]
  },
  {
   "cell_type": "markdown",
   "metadata": {},
   "source": [
    "### 2.1 Create your X input and Y output\n",
    "\n",
    "Using the `reviews` dataframe, compute a pair of numerical X, Y arrays where -\n",
    "    \n",
    " * X is an **(nreview, nwords)** array. Each row corresponds to a bag-of-words representation for a single review. This will be the *input* to your model.\n",
    " * Y is an **nreview**-element 1/0 array, encoding whether a review is Fresh (1) or Rotten (0). This is the desired *output* from your model.\n",
    " \n",
    "Make sure to remove items with no review text, if any."
   ]
  },
  {
   "cell_type": "code",
   "execution_count": 8,
   "metadata": {},
   "outputs": [],
   "source": [
    "\"\"\"\n",
    "Function\n",
    "--------\n",
    "make_xy\n",
    "\n",
    "Build a bag-of-words training set for the review data\n",
    "\n",
    "Parameters\n",
    "-----------\n",
    "reviews : pandas DataFrame\n",
    "    The review data from above\n",
    "    \n",
    "vectorizer : CountVectorizer object (optional)\n",
    "    A CountVectorizer object to use. If None,\n",
    "    then create and fit a new CountVectorizer.\n",
    "    Otherwise, re-fit the provided CountVectorizer\n",
    "    using the reviews data\n",
    "    \n",
    "Returns\n",
    "-------\n",
    "X : numpy array (dims: nreview, nwords)\n",
    "    Bag-of-words representation for each review.\n",
    "Y : numpy array (dims: nreview)\n",
    "    1/0 array. 1 = fresh review, 0 = rotten review\n",
    "\n",
    "Examples\n",
    "--------\n",
    "X, Y = make_xy(reviews)\n",
    "\"\"\"\n",
    "def make_xy(reviews, vectorizer=None):\n",
    "    #Your code here \n",
    "    if vectorizer is None:\n",
    "        vectorizer = CountVectorizer()\n",
    "    X = vectorizer.fit_transform(reviews.quote)\n",
    "    X = X.toarray() \n",
    "    Y = (reviews.fresh == 'fresh').values.astype(np.int)\n",
    "    return X, Y\n"
   ]
  },
  {
   "cell_type": "code",
   "execution_count": 9,
   "metadata": {},
   "outputs": [
    {
     "data": {
      "text/plain": [
       "(array([[0, 0, 0, ..., 0, 0, 0],\n",
       "        [0, 0, 0, ..., 0, 0, 0],\n",
       "        [0, 0, 0, ..., 0, 0, 0],\n",
       "        ...,\n",
       "        [0, 0, 0, ..., 0, 0, 0],\n",
       "        [0, 0, 0, ..., 0, 0, 0],\n",
       "        [0, 0, 0, ..., 0, 0, 0]], dtype=int64),\n",
       " array([1, 1, 1, ..., 0, 0, 0]))"
      ]
     },
     "execution_count": 9,
     "metadata": {},
     "output_type": "execute_result"
    }
   ],
   "source": [
    "X, Y = make_xy(reviews)\n",
    "X,Y"
   ]
  },
  {
   "cell_type": "markdown",
   "metadata": {},
   "source": [
    "### 2.2 Test-Train split\n",
    "\n",
    "Next, randomly split the data into two groups: a training set (80%) and a validation set (20%).  You can do this manually, as you did in the prior problem set, or use [`train_test_split`](http://scikit-learn.org/stable/modules/generated/sklearn.cross_validation.train_test_split.html) to do this auto-magically.  If you use `train_test_split`, set the `random_state` to 42, and have the split be stratified."
   ]
  },
  {
   "cell_type": "code",
   "execution_count": 10,
   "metadata": {},
   "outputs": [
    {
     "name": "stdout",
     "output_type": "stream",
     "text": [
      "(10174, 20267) (2544, 20267)\n",
      "(2544, 20267) (2544,)\n"
     ]
    }
   ],
   "source": [
    "# enter your code here\n",
    "xtrain, xtest, ytrain, ytest = train_test_split(X, Y, test_size=0.2, random_state=42, stratify=Y)\n",
    "print(xtrain.shape, xtest.shape)\n",
    "print(xtest.shape,ytest.shape)"
   ]
  },
  {
   "cell_type": "markdown",
   "metadata": {},
   "source": [
    "### 2.3 Naive Bayes with `MultinomialNB`\n",
    "Use the training set to train a Naive Bayes classifier using [`MultinomialNB`](http://scikit-learn.org/stable/modules/generated/sklearn.naive_bayes.MultinomialNB.html).  Report the accuracy of this model on both the training and testing data.  What do you observe?  Interpret these results.\n",
    "\n",
    "*Hint: This shouldn't take more than 5-10 lines of code to accomplish*\n",
    "\n"
   ]
  },
  {
   "cell_type": "code",
   "execution_count": 11,
   "metadata": {},
   "outputs": [
    {
     "name": "stdout",
     "output_type": "stream",
     "text": [
      "Accuracy on training data: 0.9270689994102614\n",
      "Precision on training data: 0.9663469098914924\n",
      "Recall on training data: 0.9208751685898396\n",
      "\n",
      "Accuracy on test data: 0.7669025157232704\n",
      "Precision on test data: 0.8522012578616353\n",
      "Recall on test data: 0.791009924109749\n"
     ]
    }
   ],
   "source": [
    "from sklearn.metrics import accuracy_score, precision_score, recall_score\n",
    "# enter your code here\n",
    "\n",
    "# call the fitted model fitted_model, for future reference:\n",
    "clf = MultinomialNB()\n",
    "fitted_model = clf.fit(xtrain, ytrain)\n",
    "\n",
    "print(\"Accuracy on training data:\",accuracy_score(clf.predict(xtrain),ytrain))\n",
    "print(\"Precision on training data:\",precision_score(clf.predict(xtrain),ytrain))\n",
    "print(\"Recall on training data:\",recall_score(clf.predict(xtrain),ytrain))\n",
    "print()\n",
    "print(\"Accuracy on test data:\",accuracy_score(clf.predict(xtest),ytest))\n",
    "print(\"Precision on test data:\",precision_score(clf.predict(xtest),ytest))\n",
    "print(\"Recall on test data:\",recall_score(clf.predict(xtest),ytest))"
   ]
  },
  {
   "cell_type": "markdown",
   "metadata": {},
   "source": [
    "The substantial gap in performance between training and testing datasets suggests that we are likely overfitting our model."
   ]
  },
  {
   "cell_type": "markdown",
   "metadata": {},
   "source": [
    "### 2.4 (EXTRA CREDIT) Naive Bayes from Scratch!\n",
    "That was almost too easy, right?  Right.\n",
    "\n",
    "Your next mission, should you choose to accept it, is to write your own Naive Bayes classifier without relying on `MultinomialNB` or a similar pre-written package.  In addition to the lecture notes and assigned readings, I recommend that you review Michael Collin’s lecture notes on Naïve Bayes before starting (available on bcourses).  \n",
    "\n",
    "**Note:**\n",
    "You should do this extra credit assignment *after* you have finished the rest of the problem set.  It is very rewarding, but can also be quite time-consuming!\n",
    "\n",
    "*Hint: You will benefit most from this exercise if you attempt to write the algorithm directly from the lecture notes.  That said, if you really get stuck, Krishnamurthy Viswanathan has written a simple version of [NB in python](http://ebiquity.umbc.edu/blogger/2010/12/07/naive-bayes-classifier-in-50-lines/), which you can peek at if you really get stuck.*"
   ]
  },
  {
   "cell_type": "code",
   "execution_count": 12,
   "metadata": {},
   "outputs": [],
   "source": [
    "# Your code here"
   ]
  },
  {
   "cell_type": "markdown",
   "metadata": {},
   "source": [
    "--------------------------------------------\n",
    "\n",
    "## Part 3: Evaluation\n",
    "\n",
    "### 3.1 Estimate the likelihood of your data\n",
    "\n",
    "Given a fitted model, you can compute the log-likelihood of your data as a way to assess the performance of your model.  Using `fitted_model.predict_logproba`, the idea is to write a function that computes the log-likelihood of a dataset, so that we can inspect the log-likelihood of your training and testing data given your fitted model from part 2.\n",
    "\n",
    "To help you out a little bit, we'll do this part for you. But make sure you understand it, because you'll need to use this later!"
   ]
  },
  {
   "cell_type": "code",
   "execution_count": 13,
   "metadata": {},
   "outputs": [
    {
     "data": {
      "text/plain": [
       "-1484.6226919350697"
      ]
     },
     "execution_count": 13,
     "metadata": {},
     "output_type": "execute_result"
    }
   ],
   "source": [
    "\"\"\"\n",
    "Function\n",
    "--------\n",
    "log_likelihood\n",
    "\n",
    "Compute the log likelihood of a dataset according to a bayesian classifier. \n",
    "The Log Likelihood is defined by\n",
    "\n",
    "L = Sum_fresh(logP(fresh)) + Sum_rotten(logP(rotten))\n",
    "\n",
    "Where Sum_fresh indicates a sum over all fresh reviews, \n",
    "and Sum_rotten indicates a sum over rotten reviews\n",
    "    \n",
    "Parameters\n",
    "----------\n",
    "model : Bayesian classifier\n",
    "x : (nexample, nfeature) array\n",
    "    The input data\n",
    "y : (nexample) integer array\n",
    "    Whether each review is Fresh\n",
    "\"\"\"\n",
    "\n",
    "def log_likelihood(model, x, y):\n",
    "    prob = model.predict_log_proba(x)\n",
    "    rotten = y == 0\n",
    "    fresh = ~rotten\n",
    "    return prob[rotten, 0].sum() + prob[fresh, 1].sum()\n",
    "\n",
    "# output the likelihood of your test data (example - you may need to \n",
    "# change the names of the variables below to match your code in 2.2 and 2.3\n",
    "log_likelihood(fitted_model, xtest, ytest)"
   ]
  },
  {
   "cell_type": "markdown",
   "metadata": {},
   "source": [
    "### 3.2 Cross-Validation\n",
    "\n",
    "Why do we care about the log-likelihood of our data?  You guessed it: Cross-Validation.\n",
    "\n",
    "Our methods have a few hyperparameters. The two most important are:\n",
    "\n",
    " 1. The `min_df` keyword in `CountVectorizer`, which will ignore words which appear in fewer than `min_df` fraction of reviews. Words that appear only once or twice can lead to overfitting, since words which occur only a few times might correlate very well with Fresh/Rotten reviews by chance in the training dataset.\n",
    " \n",
    " 2. The [`alpha`](http://scikit-learn.org/stable/modules/naive_bayes.html#multinomial-naive-bayes) keyword in the Bayesian classifier is the \"smoothing parameter\" that we discussed in class -- increasing the value decreases the sensitivity to any single feature, and tends to pull prediction probabilities closer to 50%. \n",
    "\n",
    "How are we are going to use cross-validation to tune these hyperparameters?  The objective function we want to maximize is the log-likelihood of our data.  Fill in the remaining code in this block, to loop over many values of `alpha` and `min_df` to determine which settings are \"best\" in the sense of maximizing the cross-validated log-likelihood.\n",
    "\n",
    "How does the choice of these hyperparameters affect the performance of the model?\n",
    "\n",
    "*Hints:* \n",
    "* sklearn has a built-in function, `sklearn.cross_validation.cross_val_score`, that might save you a lot of time here. You can use 5-fold CV. If you go this route, you'll want to  the scoring function to be the custom likelihood function defined earlier.\n",
    "* For CV we only use the training set. This means in every iteration, for every combination of alpha and min_df, you will need to re-split into training and test sets. "
   ]
  },
  {
   "cell_type": "code",
   "execution_count": 14,
   "metadata": {},
   "outputs": [
    {
     "name": "stdout",
     "output_type": "stream",
     "text": [
      "alpha: 0.00, min_df: 0.000100, L: -12041.87\n",
      "alpha: 0.00, min_df: 0.001000, L: -1969.26\n",
      "alpha: 0.00, min_df: 0.010000, L: -1266.58\n",
      "alpha: 0.00, min_df: 0.100000, L: -1323.94\n",
      "alpha: 0.00, min_df: 0.200000, L: -1330.68\n",
      "alpha: 1.00, min_df: 0.000100, L: -1126.97\n",
      "alpha: 1.00, min_df: 0.001000, L: -1150.83\n",
      "alpha: 1.00, min_df: 0.010000, L: -1265.55\n",
      "alpha: 1.00, min_df: 0.100000, L: -1323.94\n",
      "alpha: 1.00, min_df: 0.200000, L: -1330.68\n",
      "alpha: 5.00, min_df: 0.000100, L: -1478.95\n",
      "alpha: 5.00, min_df: 0.001000, L: -1095.86\n",
      "alpha: 5.00, min_df: 0.010000, L: -1262.56\n",
      "alpha: 5.00, min_df: 0.100000, L: -1323.91\n",
      "alpha: 5.00, min_df: 0.200000, L: -1330.69\n",
      "alpha: 10.00, min_df: 0.000100, L: -2138.36\n",
      "alpha: 10.00, min_df: 0.001000, L: -1138.96\n",
      "alpha: 10.00, min_df: 0.010000, L: -1260.68\n",
      "alpha: 10.00, min_df: 0.100000, L: -1323.89\n",
      "alpha: 10.00, min_df: 0.200000, L: -1330.69\n",
      "alpha: 50.00, min_df: 0.000100, L: -3192.36\n",
      "alpha: 50.00, min_df: 0.001000, L: -1949.58\n",
      "alpha: 50.00, min_df: 0.010000, L: -1280.73\n",
      "alpha: 50.00, min_df: 0.100000, L: -1323.94\n",
      "alpha: 50.00, min_df: 0.200000, L: -1330.74\n",
      "best alpha, best min_dfs:  5 0.001\n"
     ]
    }
   ],
   "source": [
    "#You will want to suppress the warnings, since there might be a lot of them in this block. If you want to view them, change\n",
    "# the 'ignore' to 'default' or 'once'\n",
    "import warnings\n",
    "warnings.filterwarnings('ignore')\n",
    "\n",
    "\n",
    "#the grid of parameters to search over\n",
    "alphas = [0, 1, 5, 10, 50]\n",
    "min_dfs = [0.0001,0.001,0.01, 0.1, 0.2]\n",
    "\n",
    "#Find the best value for alpha and min_df, and the best classifier\n",
    "best_alpha = None\n",
    "best_min_df = None\n",
    "max_loglike = -np.inf\n",
    "\n",
    "for alpha in alphas:\n",
    "    for min_df in min_dfs:         \n",
    "        vectorizer = CountVectorizer(min_df = min_df)       \n",
    "        X, Y = make_xy(reviews, vectorizer)\n",
    "        \n",
    "        #your code here\n",
    "        xtrain, _, ytrain , _ = train_test_split(X, Y, test_size=0.2, random_state=42, stratify=Y)\n",
    "        model = MultinomialNB(alpha = alpha)\n",
    "        score = cross_val_score(model, xtrain, ytrain, scoring=log_likelihood, cv=5).mean()\n",
    "        print(\"alpha: {:.2f}, min_df: {:.6f}, L: {:.2f}\".format(alpha, min_df, score))\n",
    "        if score > max_loglike : \n",
    "            max_loglike = score\n",
    "            best_alpha = alpha\n",
    "            best_min_df = min_df\n",
    "\n",
    "print(\"best alpha, best min_dfs: \",best_alpha, best_min_df)"
   ]
  },
  {
   "cell_type": "markdown",
   "metadata": {},
   "source": [
    "We obtain the best alpha at 5, and best min_df at 0.001. Note how min_df does not affect model performance a lot, while an alpha value from 0-5 shows an improvement but beyond 5 it mostly reduces performances. There is no directly observable trend, except for the point at which we have the best performance."
   ]
  },
  {
   "cell_type": "markdown",
   "metadata": {},
   "source": [
    "### 3.3 Putting it together\n",
    "\n",
    "Now that you've determined values for alpha and min_df that optimize the cross-validated log-likelihood, repeat the steps in 2.1-2.3 to train a final classifier with these parameters and re-evaluate the accuracy on training and test sets.  Discuss the various ways in which cross-validation has affected the model. Is the new model more or less accurate? Is overfitting better or worse?"
   ]
  },
  {
   "cell_type": "code",
   "execution_count": 15,
   "metadata": {},
   "outputs": [
    {
     "name": "stdout",
     "output_type": "stream",
     "text": [
      "Accuracy on training data: 0.7972282288185571\n",
      "Precision on training data: 0.8748230853907847\n",
      "Recall on training data: 0.8144948755490483\n",
      "\n",
      "Accuracy on test data: 0.726808176100629\n",
      "Precision on test data: 0.8182389937106919\n",
      "Recall on test data: 0.7621558289396603\n"
     ]
    }
   ],
   "source": [
    "#Enter your code here\n",
    "\n",
    "vectorizer = CountVectorizer(min_df=best_min_df)\n",
    "X, Y = make_xy(reviews, vectorizer)\n",
    "xtrain, xtest, ytrain, ytest = train_test_split(X, Y, test_size=0.2, random_state=42, stratify=Y)\n",
    "\n",
    "clf = MultinomialNB(alpha=best_alpha).fit(xtrain, ytrain)\n",
    "\n",
    "print(\"Accuracy on training data:\",accuracy_score(clf.predict(xtrain),ytrain))\n",
    "print(\"Precision on training data:\",precision_score(clf.predict(xtrain),ytrain))\n",
    "print(\"Recall on training data:\",recall_score(clf.predict(xtrain),ytrain))\n",
    "print()\n",
    "print(\"Accuracy on test data:\",accuracy_score(clf.predict(xtest),ytest))\n",
    "print(\"Precision on test data:\",precision_score(clf.predict(xtest),ytest))\n",
    "print(\"Recall on test data:\",recall_score(clf.predict(xtest),ytest))"
   ]
  },
  {
   "cell_type": "markdown",
   "metadata": {},
   "source": [
    "We observe that the accuracy is lower of this tuned model than it was prior to implementing cross-validation. This may be due to the fact that less data is available to train the model than in the setting without cross-validation. It is also partly due to the fact that we are optimizing for log-likelihood here, which is not quite the same as accuracy -- more on this below.  Also noteworthy is the fact that the performance on the training and testing datasets has converged significantly, suggesting that overfitting, while not eliminated, is better than it was absent cross-validation."
   ]
  },
  {
   "cell_type": "markdown",
   "metadata": {},
   "source": [
    "### 3.4 (Extra Credit)\n",
    "\n",
    "What happens if you tried this again using a function besides the log-likelihood -- for example, the classification accuracy?  Interpret these results"
   ]
  },
  {
   "cell_type": "code",
   "execution_count": 16,
   "metadata": {},
   "outputs": [
    {
     "name": "stdout",
     "output_type": "stream",
     "text": [
      "alpha: 0.00, min_df: 0.000100, L: 0.73\n",
      "alpha: 0.00, min_df: 0.001000, L: 0.74\n",
      "alpha: 0.00, min_df: 0.010000, L: 0.66\n",
      "alpha: 0.00, min_df: 0.100000, L: 0.62\n",
      "alpha: 0.00, min_df: 0.200000, L: 0.62\n",
      "alpha: 1.00, min_df: 0.000100, L: 0.77\n",
      "alpha: 1.00, min_df: 0.001000, L: 0.74\n",
      "alpha: 1.00, min_df: 0.010000, L: 0.66\n",
      "alpha: 1.00, min_df: 0.100000, L: 0.62\n",
      "alpha: 1.00, min_df: 0.200000, L: 0.62\n",
      "alpha: 5.00, min_df: 0.000100, L: 0.71\n",
      "alpha: 5.00, min_df: 0.001000, L: 0.74\n",
      "alpha: 5.00, min_df: 0.010000, L: 0.66\n",
      "alpha: 5.00, min_df: 0.100000, L: 0.62\n",
      "alpha: 5.00, min_df: 0.200000, L: 0.62\n",
      "alpha: 10.00, min_df: 0.000100, L: 0.66\n",
      "alpha: 10.00, min_df: 0.001000, L: 0.73\n",
      "alpha: 10.00, min_df: 0.010000, L: 0.66\n",
      "alpha: 10.00, min_df: 0.100000, L: 0.62\n",
      "alpha: 10.00, min_df: 0.200000, L: 0.62\n",
      "alpha: 50.00, min_df: 0.000100, L: 0.63\n",
      "alpha: 50.00, min_df: 0.001000, L: 0.63\n",
      "alpha: 50.00, min_df: 0.010000, L: 0.66\n",
      "alpha: 50.00, min_df: 0.100000, L: 0.62\n",
      "alpha: 50.00, min_df: 0.200000, L: 0.62\n",
      "best alpha, best min_dfs:  1 0.0001\n"
     ]
    }
   ],
   "source": [
    "#Enter your code here\n",
    "best_alpha2 = None\n",
    "best_min_df2 = None\n",
    "acc = -np.inf\n",
    "\n",
    "for alpha in alphas:\n",
    "    for min_df in min_dfs:         \n",
    "        vectorizertemp = CountVectorizer(min_df = min_df)       \n",
    "        X, Y = make_xy(reviews, vectorizertemp)\n",
    "        \n",
    "        #your code here\n",
    "        xtraint, _, ytraint , _ = train_test_split(X, Y, test_size=0.2, random_state=42, stratify=Y)\n",
    "        model = MultinomialNB(alpha = alpha)\n",
    "        score = cross_val_score(model, xtraint, ytraint, scoring=\"accuracy\", cv=5).mean()\n",
    "        print(\"alpha: {:.2f}, min_df: {:.6f}, L: {:.2f}\".format(alpha, min_df, score))\n",
    "        if score > acc : \n",
    "            acc = score\n",
    "            best_alpha = alpha\n",
    "            best_min_df = min_df\n",
    "\n",
    "print(\"best alpha, best min_dfs: \",best_alpha, best_min_df)"
   ]
  },
  {
   "cell_type": "code",
   "execution_count": 17,
   "metadata": {},
   "outputs": [
    {
     "name": "stdout",
     "output_type": "stream",
     "text": [
      "Accuracy on training data: 0.9081973658344801\n",
      "Precision on training data: 0.9344236515175341\n",
      "Recall on training data: 0.9199566496361666\n",
      "\n",
      "Accuracy on test data: 0.7641509433962265\n",
      "Precision on test data: 0.8220125786163522\n",
      "Recall on test data: 0.8048029556650246\n"
     ]
    }
   ],
   "source": [
    "#Enter your code here\n",
    "\n",
    "vectorizer1 = CountVectorizer(min_df=best_min_df)\n",
    "X1, Y1 = make_xy(reviews, vectorizer1)\n",
    "xtrain1, xtest1, ytrain1, ytest1 = train_test_split(X1, Y1, test_size=0.2, random_state=42, stratify=Y)\n",
    "\n",
    "clf2 = MultinomialNB(alpha=best_alpha).fit(xtrain1, ytrain1)\n",
    "\n",
    "print(\"Accuracy on training data:\",accuracy_score(clf2.predict(xtrain1),ytrain1))\n",
    "print(\"Precision on training data:\",precision_score(clf2.predict(xtrain1),ytrain1))\n",
    "print(\"Recall on training data:\",recall_score(clf2.predict(xtrain1),ytrain1))\n",
    "print()\n",
    "print(\"Accuracy on test data:\",accuracy_score(clf2.predict(xtest1),ytest1))\n",
    "print(\"Precision on test data:\",precision_score(clf2.predict(xtest1),ytest1))\n",
    "print(\"Recall on test data:\",recall_score(clf2.predict(xtest1),ytest1))"
   ]
  },
  {
   "cell_type": "markdown",
   "metadata": {},
   "source": [
    "We see better performance on the test set when compared to 3.3, which means the classification accuracy might be a better scoring function as compared to log-likelihood."
   ]
  },
  {
   "cell_type": "markdown",
   "metadata": {},
   "source": [
    "### 3.5 Interpretation\n",
    "\n",
    "What words best predict a fresh or rotten review?  Using your classifier and the `vectorizer.get_feature_names` method (classifier and vectorizer from 3.3), determine which words best predict a positive or negative review. Print the 10 words that best predict a \"fresh\" review, and the 10 words that best predict a \"rotten\" review. For each word, what is the model's probability of freshness if the word appears one time?\n",
    "\n",
    "#### Hints\n",
    "* In thinking about how to measure the impact of a word on freshness rating, consider computing the classification probability for a feature vector which consists of all 0s, except for a single 1. What does this probability refer to?\n",
    "* `numpy.identity` generates an identity matrix, where all values are zero except the diagonal elements which have a value of one"
   ]
  },
  {
   "cell_type": "code",
   "execution_count": 19,
   "metadata": {},
   "outputs": [
    {
     "name": "stdout",
     "output_type": "stream",
     "text": [
      "Good words\tP(fresh | word)\n",
      "delight             \t0.90\n",
      "masterpiece         \t0.89\n",
      "extraordinary       \t0.89\n",
      "touching            \t0.88\n",
      "succeeds            \t0.87\n",
      "moving              \t0.87\n",
      "beautifully         \t0.86\n",
      "complex             \t0.86\n",
      "intelligent         \t0.86\n",
      "intimate            \t0.86\n",
      "Bad words\tP(fresh | word)\n",
      "worst               \t0.24\n",
      "formulaic           \t0.23\n",
      "tiresome            \t0.22\n",
      "pointless           \t0.21\n",
      "uninspired          \t0.20\n",
      "disappointment      \t0.19\n",
      "bland               \t0.17\n",
      "lame                \t0.16\n",
      "dull                \t0.16\n",
      "unfortunately       \t0.13\n"
     ]
    }
   ],
   "source": [
    "# Enter your code here\n",
    "words = np.array(vectorizer.get_feature_names())\n",
    "\n",
    "x = np.identity(xtest.shape[1])\n",
    "\n",
    "probs = clf.predict_proba(x)[:, 0]\n",
    "ind = np.argsort(probs)\n",
    "\n",
    "good_words = words[ind[:10]]\n",
    "bad_words = words[ind[-10:]]\n",
    "\n",
    "good_prob = probs[ind[:10]]\n",
    "bad_prob = probs[ind[-10:]]\n",
    "\n",
    "print(\"Good words\\tP(fresh | word)\")\n",
    "for w, p in zip(good_words, good_prob):\n",
    "    print(\"{:20s}\\t{:.2f}\".format(w, 1 - p))\n",
    "    \n",
    "print(\"Bad words\\tP(fresh | word)\")\n",
    "for w, p in zip(bad_words, bad_prob):\n",
    "    print(\"{:20s}\\t{:.2f}\".format(w, 1 - p))"
   ]
  },
  {
   "cell_type": "code",
   "execution_count": 18,
   "metadata": {},
   "outputs": [
    {
     "name": "stdout",
     "output_type": "stream",
     "text": [
      "Good words\tP(fresh | word)\n",
      "delight             \t0.90\n",
      "masterpiece         \t0.89\n",
      "extraordinary       \t0.89\n",
      "touching            \t0.88\n",
      "succeeds            \t0.87\n",
      "moving              \t0.87\n",
      "beautifully         \t0.86\n",
      "complex             \t0.86\n",
      "intelligent         \t0.86\n",
      "intimate            \t0.86\n",
      "Bad words\tP(fresh | word)\n",
      "worst               \t0.24\n",
      "formulaic           \t0.23\n",
      "tiresome            \t0.22\n",
      "pointless           \t0.21\n",
      "uninspired          \t0.20\n",
      "disappointment      \t0.19\n",
      "bland               \t0.17\n",
      "lame                \t0.16\n",
      "dull                \t0.16\n",
      "unfortunately       \t0.13\n"
     ]
    }
   ],
   "source": [
    "# Enter your code here\n",
    "words = np.array(vectorizer.get_feature_names())\n",
    "\n",
    "x = np.identity(xtest.shape[1])\n",
    "\n",
    "probs = clf.predict_log_proba(x)[:, 0]\n",
    "ind = np.argsort(probs)\n",
    "\n",
    "good_words = words[ind[:10]]\n",
    "bad_words = words[ind[-10:]]\n",
    "\n",
    "good_prob = probs[ind[:10]]\n",
    "bad_prob = probs[ind[-10:]]\n",
    "\n",
    "print(\"Good words\\tP(fresh | word)\")\n",
    "for w, p in zip(good_words, good_prob):\n",
    "    print(\"{:20s}\\t{:.2f}\".format(w, 1 - np.exp(p)))\n",
    "    \n",
    "print(\"Bad words\\tP(fresh | word)\")\n",
    "for w, p in zip(bad_words, bad_prob):\n",
    "    print(\"{:20s}\\t{:.2f}\".format(w, 1 - np.exp(p)))"
   ]
  },
  {
   "cell_type": "markdown",
   "metadata": {},
   "source": [
    "The ten words predicting rotten review and the 10 words predicting fresh reveiws make sense. The rotten reviews usually cover negative words, while fresh reviews cover positive words."
   ]
  },
  {
   "cell_type": "markdown",
   "metadata": {},
   "source": [
    "### 3.6 Error Analysis\n",
    "\n",
    "One of the best sources for inspiration when trying to improve a model is to look at examples where the model performs poorly.  Find 5 fresh and rotten reviews where your model performs particularly poorly. Print each review.\n",
    "\n",
    "What do you notice about these mis-predictions? Naive Bayes classifiers assume that every word affects the probability independently of other words. In what way is this a bad assumption? In your answer, report your classifier's Freshness probability for the review \"This movie is not remarkable, touching, or superb in any way\"."
   ]
  },
  {
   "cell_type": "code",
   "execution_count": 20,
   "metadata": {},
   "outputs": [
    {
     "name": "stdout",
     "output_type": "stream",
     "text": [
      "Mis-predicted Rotten quotes\n",
      "---------------------------\n",
      "It survives today only as an unusually pure example of a typical 50s art-film strategy: the attempt to make the most modern and most popular of art forms acceptable to the intelligentsia by forcing it into an arcane, antique mold.\n",
      "\n",
      "It's a sad day when an actor who's totally, beautifully in touch with his dark side finds himself stuck in a movie that's scared of its own shadow.\n",
      "\n",
      "Benefits from a lively lead performance by the miscast Denzel Washington but doesn't come within light years of the book, one of the greatest American autobiographies.\n",
      "\n",
      "It is sometimes funny in a puzzling kind of way, it is generally overwrought in an irritating kind of way, and once in a while it is inappropriately touching.\n",
      "\n",
      "Walken is one of the few undeniably charismatic male villains of recent years; he can generate a snakelike charm that makes his worst characters the most memorable, and here he operates on pure style.\n",
      "\n",
      "Mis-predicted Fresh quotes\n",
      "--------------------------\n",
      "A good half-hour's worth of nonsense in the middle keeps Bad Boys from being little better than a break- even proposition.\n",
      "\n",
      "The gangland plot is flimsy (bad guy Peter Greene wears too much eyeliner), and the jokes are erratic, but it's a far better showcase for Carrey's comic-from-Uranus talent than Ace Ventura.\n",
      "\n",
      "There's too much talent and too strong a story to mess it up. There was potential for more here, but this incarnation is nothing to be ashamed of, and some of the actors answer the bell.\n",
      "\n",
      "Though it's a good half hour too long, this overblown 1993 spin-off of the 60s TV show otherwise adds up to a pretty good suspense thriller.\n",
      "\n",
      "Some of the gags don't work, but fewer than in any previous Brooks film that I've seen, and when the jokes are meant to be bad, they are riotously poor. What more can one ask of Mel Brooks?\n",
      "\n"
     ]
    },
    {
     "data": {
      "text/plain": [
       "array([[0.02231255, 0.97768745]])"
      ]
     },
     "execution_count": 20,
     "metadata": {},
     "output_type": "execute_result"
    }
   ],
   "source": [
    "#Your code here\n",
    "x, y = make_xy(reviews, vectorizer)\n",
    "\n",
    "prob = clf.predict_proba(x)[:, 0]\n",
    "predict = clf.predict(x)\n",
    "\n",
    "bad_rotten = np.argsort(prob[y == 0])[:5]\n",
    "bad_fresh = np.argsort(prob[y == 1])[-5:]\n",
    "\n",
    "print(\"Mis-predicted Rotten quotes\")\n",
    "print('---------------------------')\n",
    "for row in bad_rotten:\n",
    "    print(reviews[y == 0].reset_index()['quote'][row])\n",
    "    print()\n",
    "\n",
    "print(\"Mis-predicted Fresh quotes\")\n",
    "print('--------------------------')\n",
    "for row in bad_fresh:\n",
    "    print(reviews[y == 1].reset_index()['quote'][row])\n",
    "    print()\n",
    "    \n",
    "clf.predict_proba(vectorizer.transform(['This movie is not remarkable, touching, or superb in any way']))"
   ]
  },
  {
   "cell_type": "markdown",
   "metadata": {},
   "source": [
    "Many mis-predictions seem due to the fact that the quotes use more ambivalent language -- quotes along the lines of \"this should have been a good movie, but it wasn't\". Words like \"but\", \"not\", etc. act to negate the sentiment of words. However, because Naive Bayes treats each word separately, it isn't able to capture these kind of word interactions. Because the quote \"this movie is not remarkable, touching, or superb in any way\" contains typically positive words like remarkabke/touching/superb, the classifier gives it P(Fresh)=0.98, and it completely misses the context in the presence of the word 'not' before them. "
   ]
  },
  {
   "cell_type": "markdown",
   "metadata": {},
   "source": [
    "### 3.7 (Extra Credit) Word2Vec"
   ]
  },
  {
   "cell_type": "markdown",
   "metadata": {},
   "source": [
    "Let's try something different now.\n",
    "\n",
    "[Word2Vec](https://en.wikipedia.org/wiki/Word2vec) is a popular algorithm based on a shallow neural network, that can use large amounts of unannotated plain text, to learn relationships between words automatically. This is often very useful in recommender systems, text tagging or machine translation. Let's try to implement a basic version of this for our reviews data and observe some interesting (and natural) relationships between words. \n",
    "\n",
    "You will be using a new dataset which contains IMDB reviews, since we need a sufficiently large dataset and the Rotten Tomatoes dataset we have won't suffice. Download the data from [here](https://www.kaggle.com/lakshmi25npathi/imdb-dataset-of-50k-movie-reviews). Train a Word2Vec model on these reviews and try to do the following - \n",
    "\n",
    "* From 3.5, pick 3 words that best predict a \"fresh\" review, and another 3 words that best predict a \"rotten\" review. For each of these words, find and print the top 10 most similar words from the vocabulary. \n",
    "* Spot the odd one out! Use the model to find the odd word from each of these input lists of words- \n",
    "    * 'amazing','great','awesome','horrible'\n",
    "    * 'movie','cinema','theater','box'\n",
    "    * 'car','bike','ball','bus'\n",
    "    \n",
    "    \n",
    "Do you think this model is able to learn representations of words within a given context? Feel free to play around with the model and report any other interesting findings.\n",
    "\n",
    "\n",
    "NOTE - \n",
    "* You should use the [*gensim*](https://radimrehurek.com/gensim/index.html) library for this question. [This](https://radimrehurek.com/gensim/auto_examples/tutorials/run_word2vec.html) link contains all the details you need to get familarized with Word2Vec.\n",
    "* It is highly recommended to pre-process your input data before feeding it to the model. Most common pre-processing steps include changing to lower case, removing punctuations, removing non-alphabetic tokens and removing stop words. You may find the [*nltk*](https://www.nltk.org/) library very useful for this, but feel free to use any other library. You can run the below block to import these libraries (you may have to pip install if you do not have these already installed).\n",
    "* gensim provides access to pre-trained models ; **do not use a pre-trained model**. You should train the model yourself, and this will not take too long to run.\n",
    "* We recommend you set an embedding size of 100-200 and a window of 4 or 5 for the model."
   ]
  },
  {
   "cell_type": "code",
   "execution_count": 33,
   "metadata": {},
   "outputs": [],
   "source": [
    "import string\n",
    "import gensim\n",
    "from nltk.tokenize import word_tokenize\n",
    "from nltk.corpus import stopwords\n",
    "from nltk import *"
   ]
  },
  {
   "cell_type": "code",
   "execution_count": 22,
   "metadata": {},
   "outputs": [],
   "source": [
    "#your code below"
   ]
  },
  {
   "cell_type": "code",
   "execution_count": 47,
   "metadata": {},
   "outputs": [],
   "source": [
    "review_all = []\n",
    "text = reviews_imdb['review'].values.tolist()\n",
    "\n",
    "for line in text : \n",
    "    tokens = word_tokenize(line)\n",
    "    tokens = [w.lower() for w in tokens] #to lower case\n",
    "    table = str.maketrans('','', string.punctuation) #remove punctuations\n",
    "    stripped = [w.translate(table) for w in tokens] \n",
    "    words = [word for word in stripped if word.isalpha()] #remove remaining tokens that are not alphabetic\n",
    "    stop_words = set(stopwords.words('english')) #remove stop words\n",
    "    words = [w for w in words if not w in stop_words]\n",
    "    review_all.append(words)"
   ]
  },
  {
   "cell_type": "code",
   "execution_count": 48,
   "metadata": {},
   "outputs": [
    {
     "data": {
      "text/plain": [
       "50000"
      ]
     },
     "execution_count": 48,
     "metadata": {},
     "output_type": "execute_result"
    }
   ],
   "source": [
    "len(review_all)"
   ]
  },
  {
   "cell_type": "code",
   "execution_count": 49,
   "metadata": {},
   "outputs": [
    {
     "name": "stdout",
     "output_type": "stream",
     "text": [
      "Vocab Size: 40744\n"
     ]
    }
   ],
   "source": [
    "model = gensim.models.Word2Vec(sentences=review_all, size=500, window=5, workers=4, min_count=5)\n",
    "words = list(model.wv.vocab)\n",
    "print('Vocab Size:', len(words))"
   ]
  },
  {
   "cell_type": "code",
   "execution_count": 56,
   "metadata": {},
   "outputs": [
    {
     "name": "stdout",
     "output_type": "stream",
     "text": [
      "delight\n"
     ]
    },
    {
     "data": {
      "text/plain": [
       "[('delightful', 0.7209144234657288),\n",
       " ('joy', 0.7046644687652588),\n",
       " ('pleasure', 0.611587405204773),\n",
       " ('unforgettable', 0.6008260846138),\n",
       " ('enchanting', 0.5998257398605347),\n",
       " ('treat', 0.5903377532958984),\n",
       " ('joyful', 0.5851457118988037),\n",
       " ('wonderful', 0.5827125310897827),\n",
       " ('showcases', 0.57830411195755),\n",
       " ('heartwarming', 0.5736860036849976)]"
      ]
     },
     "metadata": {},
     "output_type": "display_data"
    },
    {
     "name": "stdout",
     "output_type": "stream",
     "text": [
      "\n",
      "\n",
      "\n",
      "masterpiece\n"
     ]
    },
    {
     "data": {
      "text/plain": [
       "[('kurosawa', 0.7120881080627441),\n",
       " ('cinematic', 0.7097176909446716),\n",
       " ('epic', 0.7085784673690796),\n",
       " ('kubrick', 0.6827366352081299),\n",
       " ('achievement', 0.6715531349182129),\n",
       " ('mustsee', 0.6635087728500366),\n",
       " ('miyazaki', 0.6472912430763245),\n",
       " ('gem', 0.6348357200622559),\n",
       " ('definitive', 0.633341908454895),\n",
       " ('argento', 0.620615541934967)]"
      ]
     },
     "metadata": {},
     "output_type": "display_data"
    },
    {
     "name": "stdout",
     "output_type": "stream",
     "text": [
      "\n",
      "\n",
      "\n",
      "extraordinary\n"
     ]
    },
    {
     "data": {
      "text/plain": [
       "[('remarkable', 0.8298016786575317),\n",
       " ('astonishing', 0.7606353759765625),\n",
       " ('masterful', 0.7428362369537354),\n",
       " ('powerful', 0.726060152053833),\n",
       " ('delicate', 0.7238725423812866),\n",
       " ('vivid', 0.7223660945892334),\n",
       " ('exceptional', 0.7221299409866333),\n",
       " ('inspiring', 0.7198083996772766),\n",
       " ('astounding', 0.7172242403030396),\n",
       " ('splendid', 0.7168548107147217)]"
      ]
     },
     "metadata": {},
     "output_type": "display_data"
    },
    {
     "name": "stdout",
     "output_type": "stream",
     "text": [
      "\n",
      "\n",
      "\n",
      "worst\n"
     ]
    },
    {
     "data": {
      "text/plain": [
       "[('stupidest', 0.7903246879577637),\n",
       " ('scariest', 0.7274532318115234),\n",
       " ('dumbest', 0.7063261270523071),\n",
       " ('funniest', 0.6859517097473145),\n",
       " ('best', 0.6812798976898193),\n",
       " ('lamest', 0.6583494544029236),\n",
       " ('cheesiest', 0.6148443818092346),\n",
       " ('greatest', 0.6095564961433411),\n",
       " ('weirdest', 0.5994590520858765),\n",
       " ('poorest', 0.5898404121398926)]"
      ]
     },
     "metadata": {},
     "output_type": "display_data"
    },
    {
     "name": "stdout",
     "output_type": "stream",
     "text": [
      "\n",
      "\n",
      "\n",
      "formulaic\n"
     ]
    },
    {
     "data": {
      "text/plain": [
       "[('unoriginal', 0.8802440166473389),\n",
       " ('derivative', 0.8738350868225098),\n",
       " ('clichéd', 0.8702373504638672),\n",
       " ('hackneyed', 0.8616941571235657),\n",
       " ('trite', 0.8518995046615601),\n",
       " ('predictability', 0.8277497887611389),\n",
       " ('unimaginative', 0.821486234664917),\n",
       " ('melodramatic', 0.8204681873321533),\n",
       " ('uninspired', 0.8080410957336426),\n",
       " ('simplistic', 0.8023625612258911)]"
      ]
     },
     "metadata": {},
     "output_type": "display_data"
    },
    {
     "name": "stdout",
     "output_type": "stream",
     "text": [
      "\n",
      "\n",
      "\n",
      "tiresome\n"
     ]
    },
    {
     "data": {
      "text/plain": [
       "[('monotonous', 0.8240743279457092),\n",
       " ('tedious', 0.8212651014328003),\n",
       " ('repetitive', 0.801179051399231),\n",
       " ('repetitious', 0.785454511642456),\n",
       " ('plodding', 0.752043604850769),\n",
       " ('melodramatic', 0.7461220026016235),\n",
       " ('muddled', 0.7460613250732422),\n",
       " ('stale', 0.7450498342514038),\n",
       " ('uninteresting', 0.7353368997573853),\n",
       " ('dull', 0.7352632284164429)]"
      ]
     },
     "metadata": {},
     "output_type": "display_data"
    },
    {
     "name": "stdout",
     "output_type": "stream",
     "text": [
      "\n",
      "\n",
      "\n"
     ]
    }
   ],
   "source": [
    "for word in ['delight','masterpiece','extraordinary','worst','formulaic','tiresome']:\n",
    "    print(word)\n",
    "    display(model.wv.most_similar(word))\n",
    "    print('\\n\\n')"
   ]
  },
  {
   "cell_type": "code",
   "execution_count": 57,
   "metadata": {},
   "outputs": [
    {
     "data": {
      "text/plain": [
       "'horrible'"
      ]
     },
     "execution_count": 57,
     "metadata": {},
     "output_type": "execute_result"
    }
   ],
   "source": [
    "model.wv.doesnt_match(\"amazing great awesome horrible\".split())"
   ]
  },
  {
   "cell_type": "code",
   "execution_count": 58,
   "metadata": {},
   "outputs": [
    {
     "data": {
      "text/plain": [
       "'box'"
      ]
     },
     "execution_count": 58,
     "metadata": {},
     "output_type": "execute_result"
    }
   ],
   "source": [
    "model.wv.doesnt_match(\"movie cinema theater box\".split())"
   ]
  },
  {
   "cell_type": "code",
   "execution_count": 59,
   "metadata": {},
   "outputs": [
    {
     "data": {
      "text/plain": [
       "'ball'"
      ]
     },
     "execution_count": 59,
     "metadata": {},
     "output_type": "execute_result"
    }
   ],
   "source": [
    "model.wv.doesnt_match(\"car bike ball bus\".split())"
   ]
  }
 ],
 "metadata": {
  "anaconda-cloud": {},
  "kernelspec": {
   "display_name": "Python 3",
   "language": "python",
   "name": "python3"
  },
  "language_info": {
   "codemirror_mode": {
    "name": "ipython",
    "version": 3
   },
   "file_extension": ".py",
   "mimetype": "text/x-python",
   "name": "python",
   "nbconvert_exporter": "python",
   "pygments_lexer": "ipython3",
   "version": "3.8.3"
  }
 },
 "nbformat": 4,
 "nbformat_minor": 1
}
