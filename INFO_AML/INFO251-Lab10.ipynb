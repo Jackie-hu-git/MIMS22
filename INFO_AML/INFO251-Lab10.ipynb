{
 "cells": [
  {
   "cell_type": "markdown",
   "metadata": {},
   "source": [
    "# Lab 10 - SVMs - Decision Trees - Random Forests\n",
    "- **Author:** Qutub Khan Vajihi\n",
    "- **Date:** 7th April 2021\n",
    "- **Course:** INFO 251: Applied machine learning"
   ]
  },
  {
   "cell_type": "code",
   "execution_count": 1,
   "metadata": {},
   "outputs": [],
   "source": [
    "import pandas as pd\n",
    "import numpy as np\n",
    "import os\n",
    "import time\n",
    "from matplotlib import gridspec\n",
    "import matplotlib.image as mpimg\n",
    "import matplotlib.pyplot as plt\n",
    "from sklearn import datasets\n",
    "from sklearn.model_selection import train_test_split\n",
    "import IPython\n",
    "\n",
    "%matplotlib inline\n"
   ]
  },
  {
   "cell_type": "markdown",
   "metadata": {},
   "source": [
    "### Topics:\n",
    "1. Support vector machines (SVMs)\n",
    "2. Decision Trees\n",
    "3. Random Forests\n"
   ]
  },
  {
   "cell_type": "markdown",
   "metadata": {},
   "source": [
    "## Data: \n",
    "Cancer dataset. Labels malignant or benign. Features include mean radius, mean texture, mean perimeter etc "
   ]
  },
  {
   "cell_type": "code",
   "execution_count": 2,
   "metadata": {},
   "outputs": [
    {
     "name": "stdout",
     "output_type": "stream",
     "text": [
      "######## Features ########\n",
      "Features:  ['mean radius' 'mean texture' 'mean perimeter' 'mean area'\n",
      " 'mean smoothness' 'mean compactness' 'mean concavity'\n",
      " 'mean concave points' 'mean symmetry' 'mean fractal dimension'\n",
      " 'radius error' 'texture error' 'perimeter error' 'area error'\n",
      " 'smoothness error' 'compactness error' 'concavity error'\n",
      " 'concave points error' 'symmetry error' 'fractal dimension error'\n",
      " 'worst radius' 'worst texture' 'worst perimeter' 'worst area'\n",
      " 'worst smoothness' 'worst compactness' 'worst concavity'\n",
      " 'worst concave points' 'worst symmetry' 'worst fractal dimension']\n"
     ]
    }
   ],
   "source": [
    "cancer = datasets.load_breast_cancer()\n",
    "print(\"######## Features ########\")\n",
    "print(\"Features: \", cancer.feature_names)\n"
   ]
  },
  {
   "cell_type": "code",
   "execution_count": 3,
   "metadata": {},
   "outputs": [
    {
     "data": {
      "text/plain": [
       "{'data': array([[1.799e+01, 1.038e+01, 1.228e+02, ..., 2.654e-01, 4.601e-01,\n",
       "         1.189e-01],\n",
       "        [2.057e+01, 1.777e+01, 1.329e+02, ..., 1.860e-01, 2.750e-01,\n",
       "         8.902e-02],\n",
       "        [1.969e+01, 2.125e+01, 1.300e+02, ..., 2.430e-01, 3.613e-01,\n",
       "         8.758e-02],\n",
       "        ...,\n",
       "        [1.660e+01, 2.808e+01, 1.083e+02, ..., 1.418e-01, 2.218e-01,\n",
       "         7.820e-02],\n",
       "        [2.060e+01, 2.933e+01, 1.401e+02, ..., 2.650e-01, 4.087e-01,\n",
       "         1.240e-01],\n",
       "        [7.760e+00, 2.454e+01, 4.792e+01, ..., 0.000e+00, 2.871e-01,\n",
       "         7.039e-02]]),\n",
       " 'target': array([0, 0, 0, 0, 0, 0, 0, 0, 0, 0, 0, 0, 0, 0, 0, 0, 0, 0, 0, 1, 1, 1,\n",
       "        0, 0, 0, 0, 0, 0, 0, 0, 0, 0, 0, 0, 0, 0, 0, 1, 0, 0, 0, 0, 0, 0,\n",
       "        0, 0, 1, 0, 1, 1, 1, 1, 1, 0, 0, 1, 0, 0, 1, 1, 1, 1, 0, 1, 0, 0,\n",
       "        1, 1, 1, 1, 0, 1, 0, 0, 1, 0, 1, 0, 0, 1, 1, 1, 0, 0, 1, 0, 0, 0,\n",
       "        1, 1, 1, 0, 1, 1, 0, 0, 1, 1, 1, 0, 0, 1, 1, 1, 1, 0, 1, 1, 0, 1,\n",
       "        1, 1, 1, 1, 1, 1, 1, 0, 0, 0, 1, 0, 0, 1, 1, 1, 0, 0, 1, 0, 1, 0,\n",
       "        0, 1, 0, 0, 1, 1, 0, 1, 1, 0, 1, 1, 1, 1, 0, 1, 1, 1, 1, 1, 1, 1,\n",
       "        1, 1, 0, 1, 1, 1, 1, 0, 0, 1, 0, 1, 1, 0, 0, 1, 1, 0, 0, 1, 1, 1,\n",
       "        1, 0, 1, 1, 0, 0, 0, 1, 0, 1, 0, 1, 1, 1, 0, 1, 1, 0, 0, 1, 0, 0,\n",
       "        0, 0, 1, 0, 0, 0, 1, 0, 1, 0, 1, 1, 0, 1, 0, 0, 0, 0, 1, 1, 0, 0,\n",
       "        1, 1, 1, 0, 1, 1, 1, 1, 1, 0, 0, 1, 1, 0, 1, 1, 0, 0, 1, 0, 1, 1,\n",
       "        1, 1, 0, 1, 1, 1, 1, 1, 0, 1, 0, 0, 0, 0, 0, 0, 0, 0, 0, 0, 0, 0,\n",
       "        0, 0, 1, 1, 1, 1, 1, 1, 0, 1, 0, 1, 1, 0, 1, 1, 0, 1, 0, 0, 1, 1,\n",
       "        1, 1, 1, 1, 1, 1, 1, 1, 1, 1, 1, 0, 1, 1, 0, 1, 0, 1, 1, 1, 1, 1,\n",
       "        1, 1, 1, 1, 1, 1, 1, 1, 1, 0, 1, 1, 1, 0, 1, 0, 1, 1, 1, 1, 0, 0,\n",
       "        0, 1, 1, 1, 1, 0, 1, 0, 1, 0, 1, 1, 1, 0, 1, 1, 1, 1, 1, 1, 1, 0,\n",
       "        0, 0, 1, 1, 1, 1, 1, 1, 1, 1, 1, 1, 1, 0, 0, 1, 0, 0, 0, 1, 0, 0,\n",
       "        1, 1, 1, 1, 1, 0, 1, 1, 1, 1, 1, 0, 1, 1, 1, 0, 1, 1, 0, 0, 1, 1,\n",
       "        1, 1, 1, 1, 0, 1, 1, 1, 1, 1, 1, 1, 0, 1, 1, 1, 1, 1, 0, 1, 1, 0,\n",
       "        1, 1, 1, 1, 1, 1, 1, 1, 1, 1, 1, 1, 0, 1, 0, 0, 1, 0, 1, 1, 1, 1,\n",
       "        1, 0, 1, 1, 0, 1, 0, 1, 1, 0, 1, 0, 1, 1, 1, 1, 1, 1, 1, 1, 0, 0,\n",
       "        1, 1, 1, 1, 1, 1, 0, 1, 1, 1, 1, 1, 1, 1, 1, 1, 1, 0, 1, 1, 1, 1,\n",
       "        1, 1, 1, 0, 1, 0, 1, 1, 0, 1, 1, 1, 1, 1, 0, 0, 1, 0, 1, 0, 1, 1,\n",
       "        1, 1, 1, 0, 1, 1, 0, 1, 0, 1, 0, 0, 1, 1, 1, 0, 1, 1, 1, 1, 1, 1,\n",
       "        1, 1, 1, 1, 1, 0, 1, 0, 0, 1, 1, 1, 1, 1, 1, 1, 1, 1, 1, 1, 1, 1,\n",
       "        1, 1, 1, 1, 1, 1, 1, 1, 1, 1, 1, 1, 0, 0, 0, 0, 0, 0, 1]),\n",
       " 'frame': None,\n",
       " 'target_names': array(['malignant', 'benign'], dtype='<U9'),\n",
       " 'DESCR': '.. _breast_cancer_dataset:\\n\\nBreast cancer wisconsin (diagnostic) dataset\\n--------------------------------------------\\n\\n**Data Set Characteristics:**\\n\\n    :Number of Instances: 569\\n\\n    :Number of Attributes: 30 numeric, predictive attributes and the class\\n\\n    :Attribute Information:\\n        - radius (mean of distances from center to points on the perimeter)\\n        - texture (standard deviation of gray-scale values)\\n        - perimeter\\n        - area\\n        - smoothness (local variation in radius lengths)\\n        - compactness (perimeter^2 / area - 1.0)\\n        - concavity (severity of concave portions of the contour)\\n        - concave points (number of concave portions of the contour)\\n        - symmetry\\n        - fractal dimension (\"coastline approximation\" - 1)\\n\\n        The mean, standard error, and \"worst\" or largest (mean of the three\\n        worst/largest values) of these features were computed for each image,\\n        resulting in 30 features.  For instance, field 0 is Mean Radius, field\\n        10 is Radius SE, field 20 is Worst Radius.\\n\\n        - class:\\n                - WDBC-Malignant\\n                - WDBC-Benign\\n\\n    :Summary Statistics:\\n\\n    ===================================== ====== ======\\n                                           Min    Max\\n    ===================================== ====== ======\\n    radius (mean):                        6.981  28.11\\n    texture (mean):                       9.71   39.28\\n    perimeter (mean):                     43.79  188.5\\n    area (mean):                          143.5  2501.0\\n    smoothness (mean):                    0.053  0.163\\n    compactness (mean):                   0.019  0.345\\n    concavity (mean):                     0.0    0.427\\n    concave points (mean):                0.0    0.201\\n    symmetry (mean):                      0.106  0.304\\n    fractal dimension (mean):             0.05   0.097\\n    radius (standard error):              0.112  2.873\\n    texture (standard error):             0.36   4.885\\n    perimeter (standard error):           0.757  21.98\\n    area (standard error):                6.802  542.2\\n    smoothness (standard error):          0.002  0.031\\n    compactness (standard error):         0.002  0.135\\n    concavity (standard error):           0.0    0.396\\n    concave points (standard error):      0.0    0.053\\n    symmetry (standard error):            0.008  0.079\\n    fractal dimension (standard error):   0.001  0.03\\n    radius (worst):                       7.93   36.04\\n    texture (worst):                      12.02  49.54\\n    perimeter (worst):                    50.41  251.2\\n    area (worst):                         185.2  4254.0\\n    smoothness (worst):                   0.071  0.223\\n    compactness (worst):                  0.027  1.058\\n    concavity (worst):                    0.0    1.252\\n    concave points (worst):               0.0    0.291\\n    symmetry (worst):                     0.156  0.664\\n    fractal dimension (worst):            0.055  0.208\\n    ===================================== ====== ======\\n\\n    :Missing Attribute Values: None\\n\\n    :Class Distribution: 212 - Malignant, 357 - Benign\\n\\n    :Creator:  Dr. William H. Wolberg, W. Nick Street, Olvi L. Mangasarian\\n\\n    :Donor: Nick Street\\n\\n    :Date: November, 1995\\n\\nThis is a copy of UCI ML Breast Cancer Wisconsin (Diagnostic) datasets.\\nhttps://goo.gl/U2Uwz2\\n\\nFeatures are computed from a digitized image of a fine needle\\naspirate (FNA) of a breast mass.  They describe\\ncharacteristics of the cell nuclei present in the image.\\n\\nSeparating plane described above was obtained using\\nMultisurface Method-Tree (MSM-T) [K. P. Bennett, \"Decision Tree\\nConstruction Via Linear Programming.\" Proceedings of the 4th\\nMidwest Artificial Intelligence and Cognitive Science Society,\\npp. 97-101, 1992], a classification method which uses linear\\nprogramming to construct a decision tree.  Relevant features\\nwere selected using an exhaustive search in the space of 1-4\\nfeatures and 1-3 separating planes.\\n\\nThe actual linear program used to obtain the separating plane\\nin the 3-dimensional space is that described in:\\n[K. P. Bennett and O. L. Mangasarian: \"Robust Linear\\nProgramming Discrimination of Two Linearly Inseparable Sets\",\\nOptimization Methods and Software 1, 1992, 23-34].\\n\\nThis database is also available through the UW CS ftp server:\\n\\nftp ftp.cs.wisc.edu\\ncd math-prog/cpo-dataset/machine-learn/WDBC/\\n\\n.. topic:: References\\n\\n   - W.N. Street, W.H. Wolberg and O.L. Mangasarian. Nuclear feature extraction \\n     for breast tumor diagnosis. IS&T/SPIE 1993 International Symposium on \\n     Electronic Imaging: Science and Technology, volume 1905, pages 861-870,\\n     San Jose, CA, 1993.\\n   - O.L. Mangasarian, W.N. Street and W.H. Wolberg. Breast cancer diagnosis and \\n     prognosis via linear programming. Operations Research, 43(4), pages 570-577, \\n     July-August 1995.\\n   - W.H. Wolberg, W.N. Street, and O.L. Mangasarian. Machine learning techniques\\n     to diagnose breast cancer from fine-needle aspirates. Cancer Letters 77 (1994) \\n     163-171.',\n",
       " 'feature_names': array(['mean radius', 'mean texture', 'mean perimeter', 'mean area',\n",
       "        'mean smoothness', 'mean compactness', 'mean concavity',\n",
       "        'mean concave points', 'mean symmetry', 'mean fractal dimension',\n",
       "        'radius error', 'texture error', 'perimeter error', 'area error',\n",
       "        'smoothness error', 'compactness error', 'concavity error',\n",
       "        'concave points error', 'symmetry error',\n",
       "        'fractal dimension error', 'worst radius', 'worst texture',\n",
       "        'worst perimeter', 'worst area', 'worst smoothness',\n",
       "        'worst compactness', 'worst concavity', 'worst concave points',\n",
       "        'worst symmetry', 'worst fractal dimension'], dtype='<U23'),\n",
       " 'filename': 'C:\\\\Users\\\\12062\\\\Anaconda3\\\\lib\\\\site-packages\\\\sklearn\\\\datasets\\\\data\\\\breast_cancer.csv'}"
      ]
     },
     "execution_count": 3,
     "metadata": {},
     "output_type": "execute_result"
    }
   ],
   "source": [
    "cancer"
   ]
  },
  {
   "cell_type": "code",
   "execution_count": 4,
   "metadata": {},
   "outputs": [
    {
     "name": "stdout",
     "output_type": "stream",
     "text": [
      "######## Labels ########\n",
      "Labels:  ['malignant' 'benign']\n",
      "######## Size ########\n",
      "569 data points and with 30 features\n"
     ]
    }
   ],
   "source": [
    "print(\"######## Labels ########\")\n",
    "# 0-malignant, 1-benign\n",
    "print(\"Labels: \", cancer.target_names)\n",
    "print(\"######## Size ########\")\n",
    "print(\"{} data points and with {} features\".format(cancer.data.shape[0],cancer.data.shape[1]))"
   ]
  },
  {
   "cell_type": "markdown",
   "metadata": {},
   "source": [
    "## Feature selection\n",
    "\n",
    "**SelectKBest** selects the k highest scoring features according to a specified criterion.\n",
    "\n",
    "For example, in a classification scenario with mutual information criterion:\n",
    "\n",
    "* SelectKBest computes a score between each feature of X and y\n",
    "\n",
    "* Score: Mutual information between two random variables is a non-negative value, which measures the dependency between the variables. It is equal to zero if and only if two random variables are independent, and higher values mean higher dependency.\n",
    "\n",
    "Read more :-\n",
    "* https://en.wikipedia.org/wiki/Mutual_information \n",
    "* https://scikit-learn.org/stable/modules/generated/sklearn.feature_selection.mutual_info_classif.html#sklearn.feature_selection.mutual_info_classif\n",
    "* https://scikit-learn.org/stable/modules/generated/sklearn.feature_selection.SelectKBest.html\n",
    "\n"
   ]
  },
  {
   "cell_type": "code",
   "execution_count": 5,
   "metadata": {},
   "outputs": [
    {
     "data": {
      "text/plain": [
       "(455, 5)"
      ]
     },
     "execution_count": 5,
     "metadata": {},
     "output_type": "execute_result"
    }
   ],
   "source": [
    "from sklearn.feature_selection import SelectKBest\n",
    "from sklearn.feature_selection import mutual_info_classif\n",
    "# Split data in train and test sets\n",
    "# 80% train 20% test\n",
    "\n",
    "X_total = cancer.data\n",
    "y = cancer.target\n",
    "# \n",
    "selector = SelectKBest(mutual_info_classif, k=5)\n",
    "X = selector.fit_transform(X_total, y)\n",
    "# Chosen features selector.get_support()\n",
    "\n",
    "features = cancer.feature_names[selector.get_support()]\n",
    "#IPython.embed()\n",
    "\n",
    "#X = X_total[:, 0:10]\n",
    "#IPython.embed()\n",
    "X_train, X_test, y_train, y_test = train_test_split(X, y, test_size=0.2,random_state=109) \n",
    "X_train.shape"
   ]
  },
  {
   "cell_type": "code",
   "execution_count": 6,
   "metadata": {},
   "outputs": [
    {
     "data": {
      "text/plain": [
       "array([[1.799e+01, 1.038e+01, 1.228e+02, ..., 2.654e-01, 4.601e-01,\n",
       "        1.189e-01],\n",
       "       [2.057e+01, 1.777e+01, 1.329e+02, ..., 1.860e-01, 2.750e-01,\n",
       "        8.902e-02],\n",
       "       [1.969e+01, 2.125e+01, 1.300e+02, ..., 2.430e-01, 3.613e-01,\n",
       "        8.758e-02],\n",
       "       ...,\n",
       "       [1.660e+01, 2.808e+01, 1.083e+02, ..., 1.418e-01, 2.218e-01,\n",
       "        7.820e-02],\n",
       "       [2.060e+01, 2.933e+01, 1.401e+02, ..., 2.650e-01, 4.087e-01,\n",
       "        1.240e-01],\n",
       "       [7.760e+00, 2.454e+01, 4.792e+01, ..., 0.000e+00, 2.871e-01,\n",
       "        7.039e-02]])"
      ]
     },
     "execution_count": 6,
     "metadata": {},
     "output_type": "execute_result"
    }
   ],
   "source": [
    "cancer.data"
   ]
  },
  {
   "cell_type": "markdown",
   "metadata": {},
   "source": [
    "## SVMs"
   ]
  },
  {
   "cell_type": "markdown",
   "metadata": {},
   "source": [
    "We will use the standard sklearn function. Here are some important parameters - \n",
    "* C : float, default=1.0\n",
    "    * Regularization parameter. The strength of the regularization is inversely proportional to C. Must be strictly positive.\n",
    "\n",
    "* kernel : {‘linear’, ‘poly’, ‘rbf’, ‘sigmoid’, ‘precomputed’}, default=’rbf’\n",
    "    * Specifies the kernel type to be used in the algorithm. \n",
    "\n",
    "* degree: int, default=3\n",
    "    * Degree of the polynomial kernel function (‘poly’). Ignored by all other kernels."
   ]
  },
  {
   "cell_type": "code",
   "execution_count": 7,
   "metadata": {},
   "outputs": [
    {
     "name": "stdout",
     "output_type": "stream",
     "text": [
      "[[-0.90930223  0.44257531 -0.11789705 -0.00222053 -2.18356368]]\n",
      "[7.86276766]\n",
      "Accuracy of SVM is 0.956140350877193\n"
     ]
    }
   ],
   "source": [
    "from sklearn import svm\n",
    "# Create a model\n",
    "clf = svm.SVC(kernel='linear') \n",
    "# SVC params: C (regularization penalty)\n",
    "\n",
    "# Train model\n",
    "clf.fit(X_train, y_train)\n",
    "# Get coefficient and intercept\n",
    "print(clf.coef_)\n",
    "print(clf.intercept_)\n",
    "# Predict response \n",
    "y_pred = clf.predict(X_test)\n",
    "print(\"Accuracy of SVM is {}\".format(sum(y_pred==y_test)/len(y_test)))"
   ]
  },
  {
   "cell_type": "code",
   "execution_count": 8,
   "metadata": {},
   "outputs": [
    {
     "name": "stdout",
     "output_type": "stream",
     "text": [
      "[1.04505854]\n",
      "Accuracy of SVM is 0.9385964912280702\n"
     ]
    }
   ],
   "source": [
    "from sklearn import svm\n",
    "# Create a model\n",
    "clf = svm.SVC(kernel='poly', degree=10) \n",
    "# SVC params: C (regularization penalty)\n",
    "\n",
    "# Train model\n",
    "clf.fit(X_train, y_train)\n",
    "# Get coefficient and intercept\n",
    "#print(clf.coef_)\n",
    "print(clf.intercept_)\n",
    "# Predict response \n",
    "y_pred = clf.predict(X_test)\n",
    "print(\"Accuracy of SVM is {}\".format(sum(y_pred==y_test)/len(y_test)))"
   ]
  },
  {
   "cell_type": "code",
   "execution_count": 9,
   "metadata": {},
   "outputs": [
    {
     "name": "stdout",
     "output_type": "stream",
     "text": [
      "[-0.67859131]\n",
      "Accuracy of SVM is 0.956140350877193\n"
     ]
    }
   ],
   "source": [
    "from sklearn import svm\n",
    "# Create a model\n",
    "clf = svm.SVC(kernel='rbf') \n",
    "# SVC params: C (regularization penalty)\n",
    "\n",
    "# Train model\n",
    "clf.fit(X_train, y_train)\n",
    "print(clf.intercept_)\n",
    "# Predict response \n",
    "y_pred = clf.predict(X_test)\n",
    "print(\"Accuracy of SVM is {}\".format(sum(y_pred==y_test)/len(y_test)))"
   ]
  },
  {
   "cell_type": "markdown",
   "metadata": {},
   "source": [
    "## Decision Trees"
   ]
  },
  {
   "cell_type": "markdown",
   "metadata": {},
   "source": [
    "Again, let's try the sklearn implementation for Decision Tree Classifier. Note that DT can also be used for regression. \n",
    "\n",
    "For the quality of split, we usually use Gini Index or Information Gain. Here are some differences - \n",
    "* Gini’s maximum impurity is 0.5 and maximum purity is 0\n",
    "* Entropy’s maximum impurity is 1 and maximum purity is 0\n",
    "* Different decision tree algorithms utilize different impurity metrics: CART uses Gini; ID3 and C4.5 use Entropy. This is worth looking into before you use decision trees /random forests in your model."
   ]
  },
  {
   "cell_type": "code",
   "execution_count": 10,
   "metadata": {},
   "outputs": [],
   "source": [
    "from sklearn import tree\n",
    "from sklearn.model_selection import KFold, train_test_split"
   ]
  },
  {
   "cell_type": "code",
   "execution_count": 11,
   "metadata": {},
   "outputs": [
    {
     "name": "stdout",
     "output_type": "stream",
     "text": [
      "31\n",
      "8\n",
      "Accuracy of decision tree is 0.9298245614035088\n"
     ]
    }
   ],
   "source": [
    "# useful params: criterion='entropy', max_depth (for prunning)\n",
    "model = tree.DecisionTreeClassifier(criterion='gini')\n",
    "model.fit(X_train, y_train)\n",
    "print(model.get_n_leaves())\n",
    "print(model.get_depth())\n",
    "predict_labels = model.predict(X_test)\n",
    "print(\"Accuracy of decision tree is {}\".format(sum(predict_labels==y_test)/len(y_test)))"
   ]
  },
  {
   "cell_type": "code",
   "execution_count": 12,
   "metadata": {},
   "outputs": [
    {
     "name": "stdout",
     "output_type": "stream",
     "text": [
      "8\n",
      "3\n",
      "Accuracy of decision tree is 0.956140350877193\n"
     ]
    }
   ],
   "source": [
    "# useful params: criterion='entropy', max_depth (for prunning)\n",
    "model = tree.DecisionTreeClassifier(criterion='gini', max_depth=3)\n",
    "model.fit(X_train, y_train)\n",
    "print(model.get_n_leaves())\n",
    "print(model.get_depth())\n",
    "predict_labels = model.predict(X_test)\n",
    "print(\"Accuracy of decision tree is {}\".format(sum(predict_labels==y_test)/len(y_test)))"
   ]
  },
  {
   "cell_type": "markdown",
   "metadata": {},
   "source": [
    "Let's also try Entropy once :-"
   ]
  },
  {
   "cell_type": "code",
   "execution_count": 13,
   "metadata": {},
   "outputs": [
    {
     "name": "stdout",
     "output_type": "stream",
     "text": [
      "30\n",
      "11\n",
      "Accuracy of decision tree is 0.9473684210526315\n"
     ]
    }
   ],
   "source": [
    "# useful params: criterion='entropy', max_depth (for prunning)\n",
    "model = tree.DecisionTreeClassifier(criterion='entropy')\n",
    "model.fit(X_train, y_train)\n",
    "print(model.get_n_leaves())\n",
    "print(model.get_depth())\n",
    "predict_labels = model.predict(X_test)\n",
    "print(\"Accuracy of decision tree is {}\".format(sum(predict_labels==y_test)/len(y_test)))"
   ]
  },
  {
   "cell_type": "markdown",
   "metadata": {},
   "source": [
    "## Plot tree"
   ]
  },
  {
   "cell_type": "code",
   "execution_count": 14,
   "metadata": {},
   "outputs": [
    {
     "data": {
      "image/svg+xml": [
       "<?xml version=\"1.0\" encoding=\"UTF-8\" standalone=\"no\"?>\r\n",
       "<!DOCTYPE svg PUBLIC \"-//W3C//DTD SVG 1.1//EN\"\r\n",
       " \"http://www.w3.org/Graphics/SVG/1.1/DTD/svg11.dtd\">\r\n",
       "<!-- Generated by graphviz version 2.38.0 (20140413.2041)\r\n",
       " -->\r\n",
       "<!-- Title: Tree Pages: 1 -->\r\n",
       "<svg width=\"904pt\" height=\"520pt\"\r\n",
       " viewBox=\"0.00 0.00 903.50 520.00\" xmlns=\"http://www.w3.org/2000/svg\" xmlns:xlink=\"http://www.w3.org/1999/xlink\">\r\n",
       "<g id=\"graph0\" class=\"graph\" transform=\"scale(1 1) rotate(0) translate(4 516)\">\r\n",
       "<title>Tree</title>\r\n",
       "<polygon fill=\"white\" stroke=\"none\" points=\"-4,4 -4,-516 899.5,-516 899.5,4 -4,4\"/>\r\n",
       "<!-- 0 -->\r\n",
       "<g id=\"node1\" class=\"node\"><title>0</title>\r\n",
       "<polygon fill=\"none\" stroke=\"black\" points=\"646.5,-512 466.5,-512 466.5,-429 646.5,-429 646.5,-512\"/>\r\n",
       "<text text-anchor=\"start\" x=\"474.5\" y=\"-496.8\" font-family=\"Times New Roman,serif\" font-size=\"14.00\">mean concave points ≤ 0.049</text>\r\n",
       "<text text-anchor=\"start\" x=\"511.5\" y=\"-481.8\" font-family=\"Times New Roman,serif\" font-size=\"14.00\">entropy = 0.957</text>\r\n",
       "<text text-anchor=\"start\" x=\"515.5\" y=\"-466.8\" font-family=\"Times New Roman,serif\" font-size=\"14.00\">samples = 455</text>\r\n",
       "<text text-anchor=\"start\" x=\"505.5\" y=\"-451.8\" font-family=\"Times New Roman,serif\" font-size=\"14.00\">value = [172, 283]</text>\r\n",
       "<text text-anchor=\"start\" x=\"508\" y=\"-436.8\" font-family=\"Times New Roman,serif\" font-size=\"14.00\">class = malignant</text>\r\n",
       "</g>\r\n",
       "<!-- 1 -->\r\n",
       "<g id=\"node2\" class=\"node\"><title>1</title>\r\n",
       "<polygon fill=\"none\" stroke=\"black\" points=\"495,-393 368,-393 368,-310 495,-310 495,-393\"/>\r\n",
       "<text text-anchor=\"start\" x=\"376\" y=\"-377.8\" font-family=\"Times New Roman,serif\" font-size=\"14.00\">worst area ≤ 893.65</text>\r\n",
       "<text text-anchor=\"start\" x=\"386.5\" y=\"-362.8\" font-family=\"Times New Roman,serif\" font-size=\"14.00\">entropy = 0.293</text>\r\n",
       "<text text-anchor=\"start\" x=\"390.5\" y=\"-347.8\" font-family=\"Times New Roman,serif\" font-size=\"14.00\">samples = 272</text>\r\n",
       "<text text-anchor=\"start\" x=\"384\" y=\"-332.8\" font-family=\"Times New Roman,serif\" font-size=\"14.00\">value = [14, 258]</text>\r\n",
       "<text text-anchor=\"start\" x=\"383\" y=\"-317.8\" font-family=\"Times New Roman,serif\" font-size=\"14.00\">class = malignant</text>\r\n",
       "</g>\r\n",
       "<!-- 0&#45;&gt;1 -->\r\n",
       "<g id=\"edge1\" class=\"edge\"><title>0&#45;&gt;1</title>\r\n",
       "<path fill=\"none\" stroke=\"black\" d=\"M513.132,-428.907C503.145,-419.56 492.438,-409.538 482.172,-399.929\"/>\r\n",
       "<polygon fill=\"black\" stroke=\"black\" points=\"484.484,-397.299 474.791,-393.021 479.701,-402.41 484.484,-397.299\"/>\r\n",
       "<text text-anchor=\"middle\" x=\"475.617\" y=\"-414.307\" font-family=\"Times New Roman,serif\" font-size=\"14.00\">True</text>\r\n",
       "</g>\r\n",
       "<!-- 36 -->\r\n",
       "<g id=\"node13\" class=\"node\"><title>36</title>\r\n",
       "<polygon fill=\"none\" stroke=\"black\" points=\"742.5,-393 622.5,-393 622.5,-310 742.5,-310 742.5,-393\"/>\r\n",
       "<text text-anchor=\"start\" x=\"630.5\" y=\"-377.8\" font-family=\"Times New Roman,serif\" font-size=\"14.00\">worst area ≤ 865.4</text>\r\n",
       "<text text-anchor=\"start\" x=\"637.5\" y=\"-362.8\" font-family=\"Times New Roman,serif\" font-size=\"14.00\">entropy = 0.575</text>\r\n",
       "<text text-anchor=\"start\" x=\"641.5\" y=\"-347.8\" font-family=\"Times New Roman,serif\" font-size=\"14.00\">samples = 183</text>\r\n",
       "<text text-anchor=\"start\" x=\"635\" y=\"-332.8\" font-family=\"Times New Roman,serif\" font-size=\"14.00\">value = [158, 25]</text>\r\n",
       "<text text-anchor=\"start\" x=\"642\" y=\"-317.8\" font-family=\"Times New Roman,serif\" font-size=\"14.00\">class = benign</text>\r\n",
       "</g>\r\n",
       "<!-- 0&#45;&gt;36 -->\r\n",
       "<g id=\"edge12\" class=\"edge\"><title>0&#45;&gt;36</title>\r\n",
       "<path fill=\"none\" stroke=\"black\" d=\"M600.215,-428.907C610.281,-419.56 621.075,-409.538 631.423,-399.929\"/>\r\n",
       "<polygon fill=\"black\" stroke=\"black\" points=\"633.916,-402.39 638.862,-393.021 629.153,-397.261 633.916,-402.39\"/>\r\n",
       "<text text-anchor=\"middle\" x=\"637.937\" y=\"-414.304\" font-family=\"Times New Roman,serif\" font-size=\"14.00\">False</text>\r\n",
       "</g>\r\n",
       "<!-- 2 -->\r\n",
       "<g id=\"node3\" class=\"node\"><title>2</title>\r\n",
       "<polygon fill=\"none\" stroke=\"black\" points=\"260.5,-274 140.5,-274 140.5,-191 260.5,-191 260.5,-274\"/>\r\n",
       "<text text-anchor=\"start\" x=\"148.5\" y=\"-258.8\" font-family=\"Times New Roman,serif\" font-size=\"14.00\">worst area ≤ 553.3</text>\r\n",
       "<text text-anchor=\"start\" x=\"155.5\" y=\"-243.8\" font-family=\"Times New Roman,serif\" font-size=\"14.00\">entropy = 0.138</text>\r\n",
       "<text text-anchor=\"start\" x=\"159.5\" y=\"-228.8\" font-family=\"Times New Roman,serif\" font-size=\"14.00\">samples = 257</text>\r\n",
       "<text text-anchor=\"start\" x=\"156.5\" y=\"-213.8\" font-family=\"Times New Roman,serif\" font-size=\"14.00\">value = [5, 252]</text>\r\n",
       "<text text-anchor=\"start\" x=\"152\" y=\"-198.8\" font-family=\"Times New Roman,serif\" font-size=\"14.00\">class = malignant</text>\r\n",
       "</g>\r\n",
       "<!-- 1&#45;&gt;2 -->\r\n",
       "<g id=\"edge2\" class=\"edge\"><title>1&#45;&gt;2</title>\r\n",
       "<path fill=\"none\" stroke=\"black\" d=\"M367.767,-318.22C337.38,-302.829 300.966,-284.386 269.884,-268.643\"/>\r\n",
       "<polygon fill=\"black\" stroke=\"black\" points=\"271.349,-265.461 260.846,-264.065 268.186,-271.706 271.349,-265.461\"/>\r\n",
       "</g>\r\n",
       "<!-- 23 -->\r\n",
       "<g id=\"node8\" class=\"node\"><title>23</title>\r\n",
       "<polygon fill=\"none\" stroke=\"black\" points=\"521.5,-274 341.5,-274 341.5,-191 521.5,-191 521.5,-274\"/>\r\n",
       "<text text-anchor=\"start\" x=\"349.5\" y=\"-258.8\" font-family=\"Times New Roman,serif\" font-size=\"14.00\">mean concave points ≤ 0.045</text>\r\n",
       "<text text-anchor=\"start\" x=\"386.5\" y=\"-243.8\" font-family=\"Times New Roman,serif\" font-size=\"14.00\">entropy = 0.971</text>\r\n",
       "<text text-anchor=\"start\" x=\"394\" y=\"-228.8\" font-family=\"Times New Roman,serif\" font-size=\"14.00\">samples = 15</text>\r\n",
       "<text text-anchor=\"start\" x=\"394\" y=\"-213.8\" font-family=\"Times New Roman,serif\" font-size=\"14.00\">value = [9, 6]</text>\r\n",
       "<text text-anchor=\"start\" x=\"391\" y=\"-198.8\" font-family=\"Times New Roman,serif\" font-size=\"14.00\">class = benign</text>\r\n",
       "</g>\r\n",
       "<!-- 1&#45;&gt;23 -->\r\n",
       "<g id=\"edge7\" class=\"edge\"><title>1&#45;&gt;23</title>\r\n",
       "<path fill=\"none\" stroke=\"black\" d=\"M431.5,-309.907C431.5,-301.649 431.5,-292.864 431.5,-284.302\"/>\r\n",
       "<polygon fill=\"black\" stroke=\"black\" points=\"435,-284.021 431.5,-274.021 428,-284.021 435,-284.021\"/>\r\n",
       "</g>\r\n",
       "<!-- 3 -->\r\n",
       "<g id=\"node4\" class=\"node\"><title>3</title>\r\n",
       "<polygon fill=\"none\" stroke=\"black\" points=\"113,-147.5 0,-147.5 0,-79.5 113,-79.5 113,-147.5\"/>\r\n",
       "<text text-anchor=\"start\" x=\"18.5\" y=\"-132.3\" font-family=\"Times New Roman,serif\" font-size=\"14.00\">entropy = 0.0</text>\r\n",
       "<text text-anchor=\"start\" x=\"15.5\" y=\"-117.3\" font-family=\"Times New Roman,serif\" font-size=\"14.00\">samples = 145</text>\r\n",
       "<text text-anchor=\"start\" x=\"12.5\" y=\"-102.3\" font-family=\"Times New Roman,serif\" font-size=\"14.00\">value = [0, 145]</text>\r\n",
       "<text text-anchor=\"start\" x=\"8\" y=\"-87.3\" font-family=\"Times New Roman,serif\" font-size=\"14.00\">class = malignant</text>\r\n",
       "</g>\r\n",
       "<!-- 2&#45;&gt;3 -->\r\n",
       "<g id=\"edge3\" class=\"edge\"><title>2&#45;&gt;3</title>\r\n",
       "<path fill=\"none\" stroke=\"black\" d=\"M150.54,-190.907C135.873,-178.99 119.855,-165.976 105.263,-154.12\"/>\r\n",
       "<polygon fill=\"black\" stroke=\"black\" points=\"107.289,-151.256 97.3208,-147.667 102.875,-156.689 107.289,-151.256\"/>\r\n",
       "</g>\r\n",
       "<!-- 4 -->\r\n",
       "<g id=\"node5\" class=\"node\"><title>4</title>\r\n",
       "<polygon fill=\"none\" stroke=\"black\" points=\"269.5,-155 131.5,-155 131.5,-72 269.5,-72 269.5,-155\"/>\r\n",
       "<text text-anchor=\"start\" x=\"139.5\" y=\"-139.8\" font-family=\"Times New Roman,serif\" font-size=\"14.00\">worst radius ≤ 13.405</text>\r\n",
       "<text text-anchor=\"start\" x=\"155.5\" y=\"-124.8\" font-family=\"Times New Roman,serif\" font-size=\"14.00\">entropy = 0.263</text>\r\n",
       "<text text-anchor=\"start\" x=\"159.5\" y=\"-109.8\" font-family=\"Times New Roman,serif\" font-size=\"14.00\">samples = 112</text>\r\n",
       "<text text-anchor=\"start\" x=\"156.5\" y=\"-94.8\" font-family=\"Times New Roman,serif\" font-size=\"14.00\">value = [5, 107]</text>\r\n",
       "<text text-anchor=\"start\" x=\"152\" y=\"-79.8\" font-family=\"Times New Roman,serif\" font-size=\"14.00\">class = malignant</text>\r\n",
       "</g>\r\n",
       "<!-- 2&#45;&gt;4 -->\r\n",
       "<g id=\"edge4\" class=\"edge\"><title>2&#45;&gt;4</title>\r\n",
       "<path fill=\"none\" stroke=\"black\" d=\"M200.5,-190.907C200.5,-182.649 200.5,-173.864 200.5,-165.302\"/>\r\n",
       "<polygon fill=\"black\" stroke=\"black\" points=\"204,-165.021 200.5,-155.021 197,-165.021 204,-165.021\"/>\r\n",
       "</g>\r\n",
       "<!-- 5 -->\r\n",
       "<g id=\"node6\" class=\"node\"><title>5</title>\r\n",
       "<polygon fill=\"none\" stroke=\"black\" points=\"172.5,-36 118.5,-36 118.5,-0 172.5,-0 172.5,-36\"/>\r\n",
       "<text text-anchor=\"middle\" x=\"145.5\" y=\"-14.3\" font-family=\"Times New Roman,serif\" font-size=\"14.00\">(...)</text>\r\n",
       "</g>\r\n",
       "<!-- 4&#45;&gt;5 -->\r\n",
       "<g id=\"edge5\" class=\"edge\"><title>4&#45;&gt;5</title>\r\n",
       "<path fill=\"none\" stroke=\"black\" d=\"M176.536,-71.7615C171.236,-62.7512 165.758,-53.4379 160.906,-45.1906\"/>\r\n",
       "<polygon fill=\"black\" stroke=\"black\" points=\"163.825,-43.2499 155.738,-36.4051 157.792,-46.799 163.825,-43.2499\"/>\r\n",
       "</g>\r\n",
       "<!-- 6 -->\r\n",
       "<g id=\"node7\" class=\"node\"><title>6</title>\r\n",
       "<polygon fill=\"none\" stroke=\"black\" points=\"244.5,-36 190.5,-36 190.5,-0 244.5,-0 244.5,-36\"/>\r\n",
       "<text text-anchor=\"middle\" x=\"217.5\" y=\"-14.3\" font-family=\"Times New Roman,serif\" font-size=\"14.00\">(...)</text>\r\n",
       "</g>\r\n",
       "<!-- 4&#45;&gt;6 -->\r\n",
       "<g id=\"edge6\" class=\"edge\"><title>4&#45;&gt;6</title>\r\n",
       "<path fill=\"none\" stroke=\"black\" d=\"M207.907,-71.7615C209.475,-63.1387 211.093,-54.2385 212.544,-46.2606\"/>\r\n",
       "<polygon fill=\"black\" stroke=\"black\" points=\"215.99,-46.8699 214.335,-36.4051 209.103,-45.6177 215.99,-46.8699\"/>\r\n",
       "</g>\r\n",
       "<!-- 24 -->\r\n",
       "<g id=\"node9\" class=\"node\"><title>24</title>\r\n",
       "<polygon fill=\"none\" stroke=\"black\" points=\"469.5,-155 287.5,-155 287.5,-72 469.5,-72 469.5,-155\"/>\r\n",
       "<text text-anchor=\"start\" x=\"295.5\" y=\"-139.8\" font-family=\"Times New Roman,serif\" font-size=\"14.00\">worst concave points ≤ 0.108</text>\r\n",
       "<text text-anchor=\"start\" x=\"333.5\" y=\"-124.8\" font-family=\"Times New Roman,serif\" font-size=\"14.00\">entropy = 0.811</text>\r\n",
       "<text text-anchor=\"start\" x=\"341\" y=\"-109.8\" font-family=\"Times New Roman,serif\" font-size=\"14.00\">samples = 12</text>\r\n",
       "<text text-anchor=\"start\" x=\"341\" y=\"-94.8\" font-family=\"Times New Roman,serif\" font-size=\"14.00\">value = [9, 3]</text>\r\n",
       "<text text-anchor=\"start\" x=\"338\" y=\"-79.8\" font-family=\"Times New Roman,serif\" font-size=\"14.00\">class = benign</text>\r\n",
       "</g>\r\n",
       "<!-- 23&#45;&gt;24 -->\r\n",
       "<g id=\"edge8\" class=\"edge\"><title>23&#45;&gt;24</title>\r\n",
       "<path fill=\"none\" stroke=\"black\" d=\"M413.112,-190.907C409.207,-182.286 405.041,-173.09 401.002,-164.175\"/>\r\n",
       "<polygon fill=\"black\" stroke=\"black\" points=\"404.17,-162.686 396.856,-155.021 397.794,-165.574 404.17,-162.686\"/>\r\n",
       "</g>\r\n",
       "<!-- 35 -->\r\n",
       "<g id=\"node12\" class=\"node\"><title>35</title>\r\n",
       "<polygon fill=\"none\" stroke=\"black\" points=\"601,-147.5 488,-147.5 488,-79.5 601,-79.5 601,-147.5\"/>\r\n",
       "<text text-anchor=\"start\" x=\"506.5\" y=\"-132.3\" font-family=\"Times New Roman,serif\" font-size=\"14.00\">entropy = 0.0</text>\r\n",
       "<text text-anchor=\"start\" x=\"510.5\" y=\"-117.3\" font-family=\"Times New Roman,serif\" font-size=\"14.00\">samples = 3</text>\r\n",
       "<text text-anchor=\"start\" x=\"507\" y=\"-102.3\" font-family=\"Times New Roman,serif\" font-size=\"14.00\">value = [0, 3]</text>\r\n",
       "<text text-anchor=\"start\" x=\"496\" y=\"-87.3\" font-family=\"Times New Roman,serif\" font-size=\"14.00\">class = malignant</text>\r\n",
       "</g>\r\n",
       "<!-- 23&#45;&gt;35 -->\r\n",
       "<g id=\"edge11\" class=\"edge\"><title>23&#45;&gt;35</title>\r\n",
       "<path fill=\"none\" stroke=\"black\" d=\"M470.705,-190.907C481.895,-179.321 494.087,-166.698 505.278,-155.111\"/>\r\n",
       "<polygon fill=\"black\" stroke=\"black\" points=\"508.037,-157.291 512.467,-147.667 503.002,-152.428 508.037,-157.291\"/>\r\n",
       "</g>\r\n",
       "<!-- 25 -->\r\n",
       "<g id=\"node10\" class=\"node\"><title>25</title>\r\n",
       "<polygon fill=\"none\" stroke=\"black\" points=\"369.5,-36 315.5,-36 315.5,-0 369.5,-0 369.5,-36\"/>\r\n",
       "<text text-anchor=\"middle\" x=\"342.5\" y=\"-14.3\" font-family=\"Times New Roman,serif\" font-size=\"14.00\">(...)</text>\r\n",
       "</g>\r\n",
       "<!-- 24&#45;&gt;25 -->\r\n",
       "<g id=\"edge9\" class=\"edge\"><title>24&#45;&gt;25</title>\r\n",
       "<path fill=\"none\" stroke=\"black\" d=\"M362.815,-71.7615C359.457,-63.0419 355.991,-54.0385 352.893,-45.9921\"/>\r\n",
       "<polygon fill=\"black\" stroke=\"black\" points=\"356.061,-44.4797 349.201,-36.4051 349.528,-46.9949 356.061,-44.4797\"/>\r\n",
       "</g>\r\n",
       "<!-- 34 -->\r\n",
       "<g id=\"node11\" class=\"node\"><title>34</title>\r\n",
       "<polygon fill=\"none\" stroke=\"black\" points=\"441.5,-36 387.5,-36 387.5,-0 441.5,-0 441.5,-36\"/>\r\n",
       "<text text-anchor=\"middle\" x=\"414.5\" y=\"-14.3\" font-family=\"Times New Roman,serif\" font-size=\"14.00\">(...)</text>\r\n",
       "</g>\r\n",
       "<!-- 24&#45;&gt;34 -->\r\n",
       "<g id=\"edge10\" class=\"edge\"><title>24&#45;&gt;34</title>\r\n",
       "<path fill=\"none\" stroke=\"black\" d=\"M394.185,-71.7615C397.543,-63.0419 401.009,-54.0385 404.107,-45.9921\"/>\r\n",
       "<polygon fill=\"black\" stroke=\"black\" points=\"407.472,-46.9949 407.799,-36.4051 400.939,-44.4797 407.472,-46.9949\"/>\r\n",
       "</g>\r\n",
       "<!-- 37 -->\r\n",
       "<g id=\"node14\" class=\"node\"><title>37</title>\r\n",
       "<polygon fill=\"none\" stroke=\"black\" points=\"773.5,-274 591.5,-274 591.5,-191 773.5,-191 773.5,-274\"/>\r\n",
       "<text text-anchor=\"start\" x=\"599.5\" y=\"-258.8\" font-family=\"Times New Roman,serif\" font-size=\"14.00\">worst concave points ≤ 0.172</text>\r\n",
       "<text text-anchor=\"start\" x=\"637.5\" y=\"-243.8\" font-family=\"Times New Roman,serif\" font-size=\"14.00\">entropy = 0.998</text>\r\n",
       "<text text-anchor=\"start\" x=\"645\" y=\"-228.8\" font-family=\"Times New Roman,serif\" font-size=\"14.00\">samples = 53</text>\r\n",
       "<text text-anchor=\"start\" x=\"638.5\" y=\"-213.8\" font-family=\"Times New Roman,serif\" font-size=\"14.00\">value = [28, 25]</text>\r\n",
       "<text text-anchor=\"start\" x=\"642\" y=\"-198.8\" font-family=\"Times New Roman,serif\" font-size=\"14.00\">class = benign</text>\r\n",
       "</g>\r\n",
       "<!-- 36&#45;&gt;37 -->\r\n",
       "<g id=\"edge13\" class=\"edge\"><title>36&#45;&gt;37</title>\r\n",
       "<path fill=\"none\" stroke=\"black\" d=\"M682.5,-309.907C682.5,-301.649 682.5,-292.864 682.5,-284.302\"/>\r\n",
       "<polygon fill=\"black\" stroke=\"black\" points=\"686,-284.021 682.5,-274.021 679,-284.021 686,-284.021\"/>\r\n",
       "</g>\r\n",
       "<!-- 58 -->\r\n",
       "<g id=\"node19\" class=\"node\"><title>58</title>\r\n",
       "<polygon fill=\"none\" stroke=\"black\" points=\"895.5,-266.5 791.5,-266.5 791.5,-198.5 895.5,-198.5 895.5,-266.5\"/>\r\n",
       "<text text-anchor=\"start\" x=\"805.5\" y=\"-251.3\" font-family=\"Times New Roman,serif\" font-size=\"14.00\">entropy = 0.0</text>\r\n",
       "<text text-anchor=\"start\" x=\"802.5\" y=\"-236.3\" font-family=\"Times New Roman,serif\" font-size=\"14.00\">samples = 130</text>\r\n",
       "<text text-anchor=\"start\" x=\"799.5\" y=\"-221.3\" font-family=\"Times New Roman,serif\" font-size=\"14.00\">value = [130, 0]</text>\r\n",
       "<text text-anchor=\"start\" x=\"803\" y=\"-206.3\" font-family=\"Times New Roman,serif\" font-size=\"14.00\">class = benign</text>\r\n",
       "</g>\r\n",
       "<!-- 36&#45;&gt;58 -->\r\n",
       "<g id=\"edge18\" class=\"edge\"><title>36&#45;&gt;58</title>\r\n",
       "<path fill=\"none\" stroke=\"black\" d=\"M738.358,-309.907C754.909,-297.88 772.998,-284.735 789.433,-272.791\"/>\r\n",
       "<polygon fill=\"black\" stroke=\"black\" points=\"791.828,-275.377 797.86,-266.667 787.713,-269.714 791.828,-275.377\"/>\r\n",
       "</g>\r\n",
       "<!-- 38 -->\r\n",
       "<g id=\"node15\" class=\"node\"><title>38</title>\r\n",
       "<polygon fill=\"none\" stroke=\"black\" points=\"746,-155 619,-155 619,-72 746,-72 746,-155\"/>\r\n",
       "<text text-anchor=\"start\" x=\"627\" y=\"-139.8\" font-family=\"Times New Roman,serif\" font-size=\"14.00\">worst area ≤ 718.65</text>\r\n",
       "<text text-anchor=\"start\" x=\"637.5\" y=\"-124.8\" font-family=\"Times New Roman,serif\" font-size=\"14.00\">entropy = 0.927</text>\r\n",
       "<text text-anchor=\"start\" x=\"645\" y=\"-109.8\" font-family=\"Times New Roman,serif\" font-size=\"14.00\">samples = 38</text>\r\n",
       "<text text-anchor=\"start\" x=\"638.5\" y=\"-94.8\" font-family=\"Times New Roman,serif\" font-size=\"14.00\">value = [13, 25]</text>\r\n",
       "<text text-anchor=\"start\" x=\"634\" y=\"-79.8\" font-family=\"Times New Roman,serif\" font-size=\"14.00\">class = malignant</text>\r\n",
       "</g>\r\n",
       "<!-- 37&#45;&gt;38 -->\r\n",
       "<g id=\"edge14\" class=\"edge\"><title>37&#45;&gt;38</title>\r\n",
       "<path fill=\"none\" stroke=\"black\" d=\"M682.5,-190.907C682.5,-182.649 682.5,-173.864 682.5,-165.302\"/>\r\n",
       "<polygon fill=\"black\" stroke=\"black\" points=\"686,-165.021 682.5,-155.021 679,-165.021 686,-165.021\"/>\r\n",
       "</g>\r\n",
       "<!-- 57 -->\r\n",
       "<g id=\"node18\" class=\"node\"><title>57</title>\r\n",
       "<polygon fill=\"none\" stroke=\"black\" points=\"862.5,-147.5 764.5,-147.5 764.5,-79.5 862.5,-79.5 862.5,-147.5\"/>\r\n",
       "<text text-anchor=\"start\" x=\"775.5\" y=\"-132.3\" font-family=\"Times New Roman,serif\" font-size=\"14.00\">entropy = 0.0</text>\r\n",
       "<text text-anchor=\"start\" x=\"776\" y=\"-117.3\" font-family=\"Times New Roman,serif\" font-size=\"14.00\">samples = 15</text>\r\n",
       "<text text-anchor=\"start\" x=\"772.5\" y=\"-102.3\" font-family=\"Times New Roman,serif\" font-size=\"14.00\">value = [15, 0]</text>\r\n",
       "<text text-anchor=\"start\" x=\"773\" y=\"-87.3\" font-family=\"Times New Roman,serif\" font-size=\"14.00\">class = benign</text>\r\n",
       "</g>\r\n",
       "<!-- 37&#45;&gt;57 -->\r\n",
       "<g id=\"edge17\" class=\"edge\"><title>37&#45;&gt;57</title>\r\n",
       "<path fill=\"none\" stroke=\"black\" d=\"M727.95,-190.907C741.17,-179.101 755.595,-166.217 768.77,-154.45\"/>\r\n",
       "<polygon fill=\"black\" stroke=\"black\" points=\"771.237,-156.939 776.364,-147.667 766.575,-151.718 771.237,-156.939\"/>\r\n",
       "</g>\r\n",
       "<!-- 39 -->\r\n",
       "<g id=\"node16\" class=\"node\"><title>39</title>\r\n",
       "<polygon fill=\"none\" stroke=\"black\" points=\"673.5,-36 619.5,-36 619.5,-0 673.5,-0 673.5,-36\"/>\r\n",
       "<text text-anchor=\"middle\" x=\"646.5\" y=\"-14.3\" font-family=\"Times New Roman,serif\" font-size=\"14.00\">(...)</text>\r\n",
       "</g>\r\n",
       "<!-- 38&#45;&gt;39 -->\r\n",
       "<g id=\"edge15\" class=\"edge\"><title>38&#45;&gt;39</title>\r\n",
       "<path fill=\"none\" stroke=\"black\" d=\"M666.815,-71.7615C663.457,-63.0419 659.991,-54.0385 656.893,-45.9921\"/>\r\n",
       "<polygon fill=\"black\" stroke=\"black\" points=\"660.061,-44.4797 653.201,-36.4051 653.528,-46.9949 660.061,-44.4797\"/>\r\n",
       "</g>\r\n",
       "<!-- 44 -->\r\n",
       "<g id=\"node17\" class=\"node\"><title>44</title>\r\n",
       "<polygon fill=\"none\" stroke=\"black\" points=\"745.5,-36 691.5,-36 691.5,-0 745.5,-0 745.5,-36\"/>\r\n",
       "<text text-anchor=\"middle\" x=\"718.5\" y=\"-14.3\" font-family=\"Times New Roman,serif\" font-size=\"14.00\">(...)</text>\r\n",
       "</g>\r\n",
       "<!-- 38&#45;&gt;44 -->\r\n",
       "<g id=\"edge16\" class=\"edge\"><title>38&#45;&gt;44</title>\r\n",
       "<path fill=\"none\" stroke=\"black\" d=\"M698.185,-71.7615C701.543,-63.0419 705.009,-54.0385 708.107,-45.9921\"/>\r\n",
       "<polygon fill=\"black\" stroke=\"black\" points=\"711.472,-46.9949 711.799,-36.4051 704.939,-44.4797 711.472,-46.9949\"/>\r\n",
       "</g>\r\n",
       "</g>\r\n",
       "</svg>\r\n"
      ],
      "text/plain": [
       "<graphviz.files.Source at 0x23d6dd8f340>"
      ]
     },
     "execution_count": 14,
     "metadata": {},
     "output_type": "execute_result"
    }
   ],
   "source": [
    "import graphviz \n",
    "\n",
    "# this package is helpful in plotting the trees\n",
    "dot_data = tree.export_graphviz(model, out_file=None,\n",
    "                                class_names=['benign','malignant'], \n",
    "                                feature_names=features,\n",
    "                                special_characters=True, max_depth=3)\n",
    "graph = graphviz.Source(dot_data)\n",
    "graph"
   ]
  },
  {
   "cell_type": "code",
   "execution_count": null,
   "metadata": {},
   "outputs": [],
   "source": [
    "X"
   ]
  },
  {
   "cell_type": "markdown",
   "metadata": {},
   "source": [
    "## Random Forests\n",
    "Finally, let's try the Random Forest model. "
   ]
  },
  {
   "cell_type": "code",
   "execution_count": 15,
   "metadata": {},
   "outputs": [
    {
     "name": "stdout",
     "output_type": "stream",
     "text": [
      "Accuracy of decision tree is 0.9736842105263158\n"
     ]
    }
   ],
   "source": [
    "from sklearn.ensemble import RandomForestClassifier\n",
    "k = 5\n",
    "clf = RandomForestClassifier(criterion='entropy', max_depth=k)\n",
    "# params: n_estimators=100 (number of trees in the forest), criterion (eg entropy),\n",
    "# max_features how many features at each split defualt max_features=sqrt(n_features)\n",
    "clf.fit(X_train, y_train)\n",
    "predict_labels = clf.predict(X_test)\n",
    "print(\"Accuracy of decision tree is {}\".format(sum(predict_labels==y_test)/len(y_test)))\n"
   ]
  },
  {
   "cell_type": "code",
   "execution_count": null,
   "metadata": {},
   "outputs": [],
   "source": []
  },
  {
   "cell_type": "code",
   "execution_count": null,
   "metadata": {},
   "outputs": [],
   "source": []
  }
 ],
 "metadata": {
  "anaconda-cloud": {},
  "kernelspec": {
   "display_name": "Python 3",
   "language": "python",
   "name": "python3"
  },
  "language_info": {
   "codemirror_mode": {
    "name": "ipython",
    "version": 3
   },
   "file_extension": ".py",
   "mimetype": "text/x-python",
   "name": "python",
   "nbconvert_exporter": "python",
   "pygments_lexer": "ipython3",
   "version": "3.8.3"
  }
 },
 "nbformat": 4,
 "nbformat_minor": 1
}
