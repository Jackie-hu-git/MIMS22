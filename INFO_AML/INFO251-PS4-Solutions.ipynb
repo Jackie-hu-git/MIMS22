{
 "cells": [
  {
   "cell_type": "markdown",
   "metadata": {},
   "source": [
    "# Problem Set 4\n",
    "\n",
    "### Before You Start\n",
    "\n",
    "This is a fun but challenging problem set. It will test your python skills, as well as your understanding of the material in class and in the readings. Start early and debug often! Some notes:\n",
    "\n",
    "* Part 1 is meant to be easy, so get through it quickly.\n",
    "* Part 2 (especially 2.1) will be difficult, but it is the lynchpin of this problem set so make sure to do it well and understand what you've done. If you find your gradient descent algorithm is taking more than a few minutes to complete, debug more, compare notes with others, and go to the TA sessions (especially the sections on vectorized computation and computational efficiency).\n",
    "* Depending on how well you've done 2.1, parts 2.3 and 3.3 will be relatively painless or incredibly painful. \n",
    "* Do the extra credit problems last!"
   ]
  },
  {
   "cell_type": "markdown",
   "metadata": {},
   "source": [
    "---\n",
    "\n",
    "## Introduction to the assignment\n",
    "\n",
    "As with the last assignment, you will be using the Boston Housing Prices Data Set."
   ]
  },
  {
   "cell_type": "code",
   "execution_count": 11,
   "metadata": {},
   "outputs": [],
   "source": [
    "import IPython\n",
    "import numpy as np\n",
    "import scipy as sp\n",
    "import pandas as pd\n",
    "import matplotlib\n",
    "import sklearn\n",
    "import random\n",
    "%matplotlib inline   \n",
    "import matplotlib.pyplot as plt  \n",
    "import statsmodels.api as sm\n",
    "from sklearn.linear_model import LinearRegression\n",
    "from sklearn.metrics import mean_squared_error\n",
    "import statsmodels.formula.api as smf\n",
    "from sklearn.model_selection import train_test_split"
   ]
  },
  {
   "cell_type": "code",
   "execution_count": 12,
   "metadata": {},
   "outputs": [],
   "source": [
    "# Load the Boston Housing data into a dataframe\n",
    "# Target.txt contains the median house values and Data.txt contains the other 13 features\n",
    "# in order [\"CRIM\", \"ZN\", \"INDUS\", \"CHAS\", \"NOX\",\"RM\",\"AGE\",\"DIS\",\"RAD\",\"TAX\",\"PTRATIO\",\"B\",\"LSTAT\"]\n",
    "data = np.loadtxt('data.txt')\n",
    "target = np.loadtxt('target.txt')"
   ]
  },
  {
   "cell_type": "markdown",
   "metadata": {},
   "source": [
    "---\n",
    "\n",
    "## Part 1: Getting Oriented\n",
    "\n",
    "\n",
    "### 1.1 Use existing libraries\n",
    "\n",
    "Soon, you will write your own gradient descent algorithm, which you will then use to minimize the squared error cost function.  First, however, let's use the canned versions that come with Python, to make sure we understand what we're aiming to achieve.\n",
    "\n",
    "Using the same Boston housing prices dataset, explore the relationship between  median housing price and the percentage of lower status of the population using a linear regression model. Do this by - \n",
    "- (a) Regressing the `MEDV` (median housing price) on `LSTAT` (Percentage of lower status of the population)\n",
    "- (b) Regressing the `MEDV` (median housing price) on `LSTAT` **and** the natural log transformed value of `LSTAT`\n",
    "\n",
    "Interpret the results of both models by comparing them in terms of coefficients, their statistical significance and the variance explained by each model.\n",
    "\n",
    "\n",
    "*Hint-*\n",
    "* *You can use the [Linear Regression class](http://scikit-learn.org/stable/modules/generated/sklearn.linear_model.LinearRegression.html) from sklearn and OLS model from stats package.*"
   ]
  },
  {
   "cell_type": "code",
   "execution_count": 13,
   "metadata": {},
   "outputs": [
    {
     "name": "stdout",
     "output_type": "stream",
     "text": [
      "First regression\n",
      "Coefficient: -0.95\n",
      "Intercept: 34.93\n",
      "R square: 0.54\n",
      "\n",
      "Second regression\n",
      "Coefficient of LSTAT: 0.43\n",
      "Coefficient of log of LSTAT: -18.11\n",
      "Intercept: 60.68\n",
      "R square: 0.67\n"
     ]
    }
   ],
   "source": [
    "# Your code here\n",
    "\n",
    "df = pd.DataFrame(data)\n",
    "df.columns = ['CRIM', 'ZN', 'INDUS', 'CHAS', 'NOX', 'RM', 'AGE', 'DIS', 'RAD','TAX', 'PTRATIO', 'B', 'LSTAT']\n",
    "df['MEDV'] = target\n",
    "\n",
    "regr_1 = LinearRegression()\n",
    "regr_1.fit(df[['LSTAT']], df['MEDV'])\n",
    "r_1 = regr_1.score(df[['LSTAT']], df['MEDV'])\n",
    "\n",
    "print('First regression')\n",
    "print('Coefficient: {:.2f}'.format(regr_1.coef_[0]))\n",
    "print('Intercept: {:.2f}'.format(regr_1.intercept_))\n",
    "print('R square: {:.2f}'.format(r_1))\n",
    "\n",
    "df_2 = df.copy()\n",
    "df_2['LSTAT_log'] = np.log(df_2['LSTAT'])\n",
    "\n",
    "regr_2 = LinearRegression()\n",
    "regr_2.fit(df_2[['LSTAT', 'LSTAT_log']], df_2['MEDV'])\n",
    "r_2 = regr_2.score(df_2[['LSTAT', 'LSTAT_log']], df_2['MEDV'])\n",
    "print('\\nSecond regression')\n",
    "print('Coefficient of LSTAT: {:.2f}'.format(regr_2.coef_[0]))\n",
    "print('Coefficient of log of LSTAT: {:.2f}'.format(regr_2.coef_[1]))\n",
    "print('Intercept: {:.2f}'.format(regr_2.intercept_))\n",
    "print('R square: {:.2f}'.format(r_2))"
   ]
  },
  {
   "cell_type": "code",
   "execution_count": 14,
   "metadata": {},
   "outputs": [
    {
     "name": "stdout",
     "output_type": "stream",
     "text": [
      "                            OLS Regression Results                            \n",
      "==============================================================================\n",
      "Dep. Variable:                   MEDV   R-squared:                       0.542\n",
      "Model:                            OLS   Adj. R-squared:                  0.541\n",
      "Method:                 Least Squares   F-statistic:                     597.1\n",
      "Date:                Tue, 16 Mar 2021   Prob (F-statistic):           1.42e-87\n",
      "Time:                        15:37:18   Log-Likelihood:                -1642.5\n",
      "No. Observations:                 506   AIC:                             3289.\n",
      "Df Residuals:                     504   BIC:                             3297.\n",
      "Df Model:                           1                                         \n",
      "Covariance Type:            nonrobust                                         \n",
      "==============================================================================\n",
      "                 coef    std err          t      P>|t|      [0.025      0.975]\n",
      "------------------------------------------------------------------------------\n",
      "const         34.9327      0.578     60.430      0.000      33.797      36.068\n",
      "LSTAT         -0.9488      0.039    -24.436      0.000      -1.025      -0.872\n",
      "==============================================================================\n",
      "Omnibus:                      134.617   Durbin-Watson:                   0.899\n",
      "Prob(Omnibus):                  0.000   Jarque-Bera (JB):              281.769\n",
      "Skew:                           1.436   Prob(JB):                     6.53e-62\n",
      "Kurtosis:                       5.262   Cond. No.                         31.2\n",
      "==============================================================================\n",
      "\n",
      "Warnings:\n",
      "[1] Standard Errors assume that the covariance matrix of the errors is correctly specified.\n",
      "                            OLS Regression Results                            \n",
      "==============================================================================\n",
      "Dep. Variable:                   MEDV   R-squared:                       0.667\n",
      "Model:                            OLS   Adj. R-squared:                  0.666\n",
      "Method:                 Least Squares   F-statistic:                     504.2\n",
      "Date:                Tue, 16 Mar 2021   Prob (F-statistic):          6.71e-121\n",
      "Time:                        15:37:18   Log-Likelihood:                -1561.9\n",
      "No. Observations:                 506   AIC:                             3130.\n",
      "Df Residuals:                     503   BIC:                             3142.\n",
      "Df Model:                           2                                         \n",
      "Covariance Type:            nonrobust                                         \n",
      "==============================================================================\n",
      "                 coef    std err          t      P>|t|      [0.025      0.975]\n",
      "------------------------------------------------------------------------------\n",
      "const         60.6770      1.937     31.318      0.000      56.871      64.484\n",
      "LSTAT          0.4307      0.106      4.074      0.000       0.223       0.638\n",
      "LSTAT_log    -18.1144      1.318    -13.741      0.000     -20.704     -15.524\n",
      "==============================================================================\n",
      "Omnibus:                      111.176   Durbin-Watson:                   0.950\n",
      "Prob(Omnibus):                  0.000   Jarque-Bera (JB):              290.715\n",
      "Skew:                           1.084   Prob(JB):                     7.45e-64\n",
      "Kurtosis:                       6.015   Cond. No.                         149.\n",
      "==============================================================================\n",
      "\n",
      "Warnings:\n",
      "[1] Standard Errors assume that the covariance matrix of the errors is correctly specified.\n"
     ]
    }
   ],
   "source": [
    "from statsmodels.stats.outliers_influence import summary_table\n",
    "x = df['LSTAT']\n",
    "y = df['MEDV']\n",
    "X = sm.add_constant(x)\n",
    "\n",
    "ols = sm.OLS(y, X).fit()\n",
    "print(ols.summary())\n",
    "\n",
    "\n",
    "x = df_2[['LSTAT', 'LSTAT_log']]\n",
    "y = df_2['MEDV']\n",
    "X = sm.add_constant(x)\n",
    "\n",
    "ols1 = sm.OLS(y, X).fit()\n",
    "print(ols1.summary())"
   ]
  },
  {
   "cell_type": "markdown",
   "metadata": {},
   "source": [
    "The univariate linear regression implies that, on average, median housing price decreases by $9500 for each percentage point increase in the fraction of the population that is of lower status. The second model implies that there is some curvature to this relationship -- see the figure below.  In both models, the coefficients are statistically significant. The latter model explains substantially more variation in median housing price than the former model.\n"
   ]
  },
  {
   "cell_type": "markdown",
   "metadata": {},
   "source": [
    "### 1.2 Regression lines\n",
    "\n",
    "Create a scatterplot of `MEDV` on the x-axis and `LSTAT` on the y-axis, and add the two regression lines from 1.1. Show the linear regression line in red, and the linear+log regression line (which may have curvature) in blue.  Label these two regression lines with the corresponding regression equations (i.e. the slope and intercept of the line).\n",
    "\n",
    "**Bonus**: Add the 95% confidence bands (i.e.  the area that has a 95% chance of containing the true regression line) to each of these lines."
   ]
  },
  {
   "cell_type": "code",
   "execution_count": 15,
   "metadata": {},
   "outputs": [
    {
     "data": {
      "image/png": "[encoded data removed]",
      "text/plain": [
       "<Figure size 576x432 with 1 Axes>"
      ]
     },
     "metadata": {
      "needs_background": "light"
     },
     "output_type": "display_data"
    }
   ],
   "source": [
    "from statsmodels.stats.outliers_influence import summary_table\n",
    "import statsmodels.api as sm\n",
    "df_2 = df_2.sort_values(by='LSTAT')\n",
    "x = df_2['LSTAT']\n",
    "y = df_2['MEDV']\n",
    "X = sm.add_constant(x)\n",
    "\n",
    "ols = sm.OLS(y, X).fit()\n",
    "st, dataa, ss2 = summary_table(ols, alpha=0.05)\n",
    "fittedvalues = dataa[:,2]\n",
    "predict_mean_se  = dataa[:,3]\n",
    "predict_mean_ci_low, predict_mean_ci_upp = dataa[:,4:6].T\n",
    "predict_ci_low, predict_ci_upp = dataa[:,6:8].T\n",
    "\n",
    "linear_eq = 'Y = {:.2f} + {:.2f}*x'.format(regr_1.intercept_, regr_1.coef_[0])\n",
    "quad_eq = 'Y = {:.2f} + {:.2f}*x + {:.2f}*log(x)'.format(regr_2.intercept_, regr_2.coef_[0], regr_2.coef_[1])\n",
    "\n",
    "fig, ax = plt.subplots(figsize=(8,6))\n",
    "ax.plot(x, y, 'o', c='g', markersize=5, markeredgecolor='none', alpha=0.5)\n",
    "ax.plot(X, fittedvalues, 'r-', label='OLS')\n",
    "ax.plot(X, predict_mean_ci_low, 'r--')\n",
    "ax.plot(X, predict_mean_ci_upp, 'r--')\n",
    "\n",
    "x = df_2[['LSTAT', 'LSTAT_log']]\n",
    "y = df_2['MEDV']\n",
    "X = sm.add_constant(x)\n",
    "\n",
    "ols = sm.OLS(y, X).fit()\n",
    "\n",
    "st, dataaa, ss2 = summary_table(ols, alpha=0.05)\n",
    "fittedvalues = dataaa[:,2]\n",
    "predict_mean_se  = dataaa[:,3]\n",
    "predict_mean_ci_low, predict_mean_ci_upp = dataaa[:,4:6].T\n",
    "predict_ci_low, predict_ci_upp = dataaa[:,6:8].T\n",
    "\n",
    "#print(type(X['RM']))\n",
    "ax.plot(X['LSTAT'], fittedvalues, 'b-', label='OLS')\n",
    "ax.plot(X['LSTAT'], predict_mean_ci_low, 'b--')\n",
    "ax.plot(X['LSTAT'], predict_mean_ci_upp, 'b--')\n",
    "plt.xlabel('Percentage of lower status of the population')\n",
    "plt.ylabel('Median value of owner-occupied homes ($1000)')\n",
    "ax.set_xlim(3,9)\n",
    "ax.set_ylim(0,60)\n",
    "ax.spines['right'].set_visible(False)\n",
    "ax.spines['top'].set_visible(False)\n",
    "ax.yaxis.set_ticks_position('left')\n",
    "ax.xaxis.set_ticks_position('bottom')\n",
    "ax.text(4.5, 2, r'$' + linear_eq + '$', fontsize=15, color='r')\n",
    "ax.text(5.1, 52, r'$' + quad_eq + '$', fontsize=15, color='b')\n",
    "plt.show()"
   ]
  },
  {
   "cell_type": "markdown",
   "metadata": {},
   "source": [
    "### 1.3 Cross-Validation\n",
    "\n",
    "Chances are, for the above problem you used all of your data to fit the regression line. In some circumstances this is a reasonable thing to do, but often this will result in overfitting. Let's redo the above results the ML way, using careful cross-validation.  Since you are now experts in cross-validation, and have written your own cross-validation algorithm from scratch, you can now take a shortcut and use the libraries that others have built for you.\n",
    "\n",
    "Before you proceed with cross-validation, split your dataset into training and test sets, using a 90-10 split. You can use the [train-test split](https://scikit-learn.org/stable/modules/generated/sklearn.model_selection.train_test_split.html) functions from sklearn. After that, using the [cross-validation functions](http://scikit-learn.org/stable/modules/cross_validation.html) from scikit-learn, use 40-fold cross-validation to fit regression (a) from above, i.e. the linear fit of `MEDV` on `LSTAT`. Remember to use the **training set only**. We'll touch the test set only later. Each fold of cross-validation will give you one slope coefficient and one intercept coefficient.  Plot the distribution of the 40 slope coefficients using a histogram, then draw a vertical line at the value of the slope coefficient that you estimated in 1.1 using the full dataset.  What do you notice?\n",
    "\n",
    "\n",
    "*NOTE - In the `train_test_split` function be sure to set a random_state of 42.*"
   ]
  },
  {
   "cell_type": "code",
   "execution_count": 16,
   "metadata": {},
   "outputs": [],
   "source": [
    "from sklearn.model_selection import KFold\n",
    "\n",
    "# your code here\n",
    "\n",
    "X_train, X_test, y_train, y_test = train_test_split(\n",
    "    data, target, test_size=0.1, random_state=42)\n",
    "\n",
    "df_train = pd.DataFrame(X_train)\n",
    "df_train.columns = ['CRIM', 'ZN', 'INDUS', 'CHAS', 'NOX', 'RM', 'AGE', 'DIS', 'RAD','TAX', 'PTRATIO', 'B', 'LSTAT']\n",
    "df_train['MEDV'] = y_train\n",
    "\n",
    "df_test = pd.DataFrame(X_test)\n",
    "df_test.columns = ['CRIM', 'ZN', 'INDUS', 'CHAS', 'NOX', 'RM', 'AGE', 'DIS', 'RAD','TAX', 'PTRATIO', 'B', 'LSTAT']\n",
    "df_test['MEDV'] = y_test\n",
    "\n",
    "\n",
    "kf = KFold(n_splits=40)\n",
    "slope = []\n",
    "for train_index, test_index in kf.split(df_train):\n",
    "    regr = LinearRegression()\n",
    "    dff = df_train.iloc[train_index]\n",
    "    regr.fit(dff[['LSTAT']], dff['MEDV'])\n",
    "    slope.append(regr.coef_[0])"
   ]
  },
  {
   "cell_type": "code",
   "execution_count": 17,
   "metadata": {},
   "outputs": [
    {
     "data": {
      "text/plain": [
       "<matplotlib.lines.Line2D at 0x14a7ef759b0>"
      ]
     },
     "execution_count": 17,
     "metadata": {},
     "output_type": "execute_result"
    },
    {
     "data": {
      "image/png": "[encoded data removed]",
      "text/plain": [
       "<Figure size 432x288 with 1 Axes>"
      ]
     },
     "metadata": {
      "needs_background": "light"
     },
     "output_type": "display_data"
    }
   ],
   "source": [
    "ax = plt.subplot(111)\n",
    "ax.hist(slope,color='g')\n",
    "plt.xlabel('Slope')\n",
    "plt.ylabel('Number')\n",
    "ax.spines['right'].set_visible(False)\n",
    "ax.spines['top'].set_visible(False)\n",
    "ax.yaxis.set_ticks_position('left')\n",
    "ax.xaxis.set_ticks_position('bottom')\n",
    "ax.axvline(regr_1.coef_[0], color='k', linestyle='--')"
   ]
  },
  {
   "cell_type": "code",
   "execution_count": 18,
   "metadata": {},
   "outputs": [
    {
     "data": {
      "text/plain": [
       "(-0.967325504469232,\n",
       " -0.9352900735859123,\n",
       " -0.9535173915855782,\n",
       " 0.008082196302153037)"
      ]
     },
     "execution_count": 18,
     "metadata": {},
     "output_type": "execute_result"
    }
   ],
   "source": [
    "np.min(slope), np.max(slope), np.mean(slope), np.std(slope)"
   ]
  },
  {
   "cell_type": "markdown",
   "metadata": {},
   "source": [
    "The distribution of slope coefficients estimated with k-fold cross validation range from -0.96 to -0.93, with an average value of -0.95 and standard deviation of 0.008.  Our previous estimate of the slope from 1.1 falls in the middle of this distribution"
   ]
  },
  {
   "cell_type": "markdown",
   "metadata": {},
   "source": [
    "\n"
   ]
  },
  {
   "cell_type": "markdown",
   "metadata": {},
   "source": [
    "## Part 2: Gradient Descent: Linear Regression\n",
    "\n",
    "This is where it gets fun!\n",
    "\n",
    "*Note - For all of part 2, only use your training set that you created in 1.3*\n",
    "\n",
    "### 2.1 Implement gradient descent with one independent variable (LSTAT)\n",
    "\n",
    "Implement the batch gradient descent algorithm that we discussed in class. Use the version you implement to regress the housing price on the percentage of lower status of the population i.e. `MEDV`~`LSTAT`. Experiment with 3-4 different values of the learning rate *R*, and do the following for each *R*:\n",
    "\n",
    "* Report the values of alpha and beta that minimize the loss function\n",
    "* Report the number of iterations it takes for your algorithm to converge\n",
    "* Report the total running time of your algorithm, in seconds\n",
    "\n",
    "How do your coefficients compare to the ones estimated through standard libraries? Does this depend on *R*?\n",
    "\n",
    "Some skeleton code is provided below, but you should feel free to delete this code and start from scratch if you prefer.\n",
    "\n",
    "\n",
    "*HINTS-*\n",
    "* Don't forget to implement a stopping condition, so that at every iteration you check whether your results have converged. Common approaches to this are to - \n",
    "    * (a) check to see if the loss has stopped decreasing,\n",
    "    * (b) check if both your current parameter estimates are close to the estimates from the previous iteration.  In both cases, \"close\" should not be ==0, it should be <=epsilon, where epsilon is something very small (like 1e-6).\n",
    "* We recommend you include a MaxIterations parameter in your gradient descent algorithm, to prevent divergence."
   ]
  },
  {
   "cell_type": "code",
   "execution_count": 19,
   "metadata": {},
   "outputs": [
    {
     "name": "stdout",
     "output_type": "stream",
     "text": [
      "OLS  model parameters\n",
      " intercept: 34.93, coefficient: -0.95\n",
      "\n",
      "Test 1\n",
      "Did not converge / Diverged\n",
      "Time taken: 0.00 seconds\n",
      "(-27.38434879586854, -490.0999983233098)\n",
      "\n",
      "Test 2\n",
      "Did not converge / Diverged\n",
      "Time taken: 0.00 seconds\n",
      "(0.13465761094241352, -0.49410142883658903)\n",
      "\n",
      "Test 3\n",
      "cost < 0.0001 stopped after iteration times: 38532\n",
      "Time taken: 0.76 seconds\n",
      "(35.03451684415056, -0.9532408619349316)\n",
      "\n",
      "Test 4\n",
      "cost < 0.0001 stopped after iteration times: 286862\n",
      "Time taken: 8.97 seconds\n",
      "(34.9960191900755, -0.950962415760394)\n"
     ]
    }
   ],
   "source": [
    "import time\n",
    "\n",
    "\"\"\"\n",
    "Function\n",
    "--------\n",
    "bivariate_ols\n",
    "    Gradient Descent to minimize OLS. Used to find co-efficients of bivariate OLS Linear regression\n",
    "\n",
    "Parameters\n",
    "----------\n",
    "xvalues, yvalues : narray\n",
    "    xvalues: independent variable\n",
    "    yvalues: dependent variable\n",
    "    \n",
    "R: float\n",
    "    Learning rate\n",
    "    \n",
    "MaxIterations: Int\n",
    "    maximum number of iterations\n",
    "    \n",
    "\n",
    "Returns\n",
    "-------\n",
    "alpha: float\n",
    "    intercept\n",
    "    \n",
    "beta: float\n",
    "    coefficient\n",
    "\"\"\"\n",
    "def bivariate_ols(xvalues, yvalues, R=0.01, MaxIterations=1000):\n",
    "    start_time = time.time()\n",
    "    alpha = 0.0\n",
    "    beta = 0.0\n",
    "    n = len(xvalues)\n",
    "    cost = np.inf\n",
    "    epsilon = 1e-6\n",
    "    xvaluest = np.array(xvalues)\n",
    "    yvaluest = np.array(yvalues)\n",
    "    for i in range(MaxIterations):\n",
    "        alpha_old = alpha\n",
    "        beta_old = beta\n",
    "        cost_old = cost\n",
    "        #IPython.embed()\n",
    "#         idx = np.random.choice(len(xvaluesg), 30, replace  =False)\n",
    "#         xvaluest=xvaluesg[idx]\n",
    "#         yvaluest=yvaluesg[idx]\n",
    "        #IPython.embed()\n",
    "        #print(i)\n",
    "        alpha -= R / n * ((alpha + beta * xvaluest - yvaluest).sum())\n",
    "        beta -= R / n * (((alpha_old + beta * xvaluest - yvaluest) * xvaluest).sum())\n",
    "        cost = 1.0 / (2 * n) * (((alpha + beta * xvaluest - yvaluest) ** 2).sum())\n",
    "        if cost_old - cost < 0:\n",
    "            print('Did not converge / Diverged')\n",
    "            break\n",
    "        if abs(alpha - alpha_old) < epsilon and abs(beta - beta_old) < epsilon:\n",
    "            print('cost < 0.0001 stopped after iteration times: {}'.format(i))\n",
    "            break\n",
    "    print(\"Time taken: {:.2f} seconds\".format(time.time() - start_time))\n",
    "    return alpha, beta\n",
    "\n",
    "\n",
    "print(\"OLS  model parameters\\n intercept: {:.2f}, coefficient: {:.2f}\".format(regr_1.intercept_, regr_1.coef_[0]))\n",
    "\n",
    "print('\\nTest 1')\n",
    "print(bivariate_ols(df_train['LSTAT'], df_train['MEDV'], 0.1, 1000000))\n",
    "\n",
    "print('\\nTest 2')\n",
    "print(bivariate_ols(df_train['LSTAT'], df_train['MEDV'], 0.01, 1000000))\n",
    "\n",
    "print('\\nTest 3')\n",
    "print(bivariate_ols(df_train['LSTAT'], df_train['MEDV'], 0.001, 1000000))\n",
    "\n",
    "print('\\nTest 4')\n",
    "print(bivariate_ols(df_train['LSTAT'], df_train['MEDV'], 0.0001, 1000000))\n",
    "\n"
   ]
  },
  {
   "cell_type": "markdown",
   "metadata": {},
   "source": [
    "Gradient descent failed to converge with a learning rate of 0.1 and 0.01. However, with smaller learning rates, gradient descent converged to parameter values very similar to the coefficients computed via the OLS packages. Smaller learning rates require more iterations and thus take longer to complete."
   ]
  },
  {
   "cell_type": "markdown",
   "metadata": {},
   "source": [
    "### 2.2 Data normalization (done for you!)\n",
    "\n",
    "Soon, you will implement a version of gradient descent that can use an arbitrary number of independent variables. Before doing this, we want to give you some code in case you want to standardize your features."
   ]
  },
  {
   "cell_type": "code",
   "execution_count": 20,
   "metadata": {},
   "outputs": [],
   "source": [
    "def standardize(raw_data):\n",
    "    return ((raw_data - np.mean(raw_data, axis = 0)) / np.std(raw_data, axis = 0))"
   ]
  },
  {
   "cell_type": "markdown",
   "metadata": {},
   "source": [
    "### 2.3 Implement gradient descent with an arbitrary number of independent variables\n",
    "\n",
    "Now that you have a simple version of gradient descent working, create a version of gradient descent that can take more than one independent variable.  Assume all independent variables will be continuous.  Test your algorithm using `CRIM` and `LSTAT` as independent variables. **Standardize the variables before inputting them to the gradient descent algorithm**. \n",
    "\n",
    "As before,  report and interpret your estimated coefficients, the number of iterations before convergence, and the total running time of your algorithm. Experiment with 2-3 different values of R.\n",
    "\n",
    "*Hint: Be careful to implement this efficiently, otherwise it might take a long time for your code to run. Commands like `np.dot` can be a good friend to you on this problem.*"
   ]
  },
  {
   "cell_type": "code",
   "execution_count": 21,
   "metadata": {},
   "outputs": [],
   "source": [
    "\"\"\"\n",
    "Function\n",
    "--------\n",
    "multivariate_ols\n",
    "    Gradient Descent to minimize OLS. Used to find coefficients of bivariate OLS Linear regression\n",
    "\n",
    "Parameters\n",
    "----------\n",
    "xvalue_matrix, yvalues : narray\n",
    "    xvalue_matrix: independent variable\n",
    "    yvalues: dependent variable\n",
    "    \n",
    "R: float\n",
    "    Learning rate\n",
    "    \n",
    "MaxIterations: Int\n",
    "    maximum number of iterations\n",
    "    \n",
    "\n",
    "Returns\n",
    "-------\n",
    "alpha: float\n",
    "    intercept\n",
    "    \n",
    "beta_array: array[float]\n",
    "    co-efficient\n",
    "\"\"\"\n",
    "\n",
    "def multivariate_ols(xvalue_matrix, yvalues, R=0.01, MaxIterations=1000):\n",
    "    start_time = time.time()\n",
    "    xvalue_matrix = np.array(xvalue_matrix)\n",
    "    yvalues = np.array(yvalues)[:, np.newaxis]\n",
    "    n, variable_n = xvalue_matrix.shape # sample number, varaibels number\n",
    "    alpha = 0.0\n",
    "    beta_array = np.transpose(np.array([[0.0] * variable_n]))\n",
    "    cost = np.inf\n",
    "    epsilon = 1e-6\n",
    "    for i in range(MaxIterations):\n",
    "        cost_old = cost\n",
    "        alpha_old = alpha\n",
    "        beta_array_old = np.copy(beta_array)\n",
    "        # part_1: alpha + beta*x - y\n",
    "        part_1 = alpha_old + np.dot(xvalue_matrix, beta_array_old) - yvalues\n",
    "        alpha -= R / n * (part_1.sum())\n",
    "        beta_array -= R / n * (np.dot(xvalue_matrix.T, part_1))\n",
    "        part_2 = alpha + np.dot(xvalue_matrix, beta_array) - yvalues\n",
    "        cost = 1.0 / (2 * n) * ((part_2 ** 2).sum())\n",
    "        if cost_old - cost < 0:\n",
    "            print('not converge stopped after iteration times: {}'.format(i))\n",
    "            break\n",
    "        if abs(alpha-alpha_old) < epsilon and max(abs(beta_array-beta_array_old)) < epsilon:\n",
    "            print('cost < 0.00001 stopped after iteration times: {}'.format(i))\n",
    "            break\n",
    "    print(\"Time taken: {:.2f} seconds\".format(time.time() - start_time))\n",
    "    return alpha, beta_array"
   ]
  },
  {
   "cell_type": "code",
   "execution_count": 22,
   "metadata": {},
   "outputs": [
    {
     "name": "stdout",
     "output_type": "stream",
     "text": [
      "Test 1\n",
      "cost < 0.00001 stopped after iteration times: 209\n",
      "Time taken: 0.01 seconds\n",
      "(22.694505488922747, array([[-0.71632478],\n",
      "       [-6.51928474]]))\n",
      "\n",
      "Test 2\n",
      "cost < 0.00001 stopped after iteration times: 1726\n",
      "Time taken: 0.04 seconds\n",
      "(22.69450483699636, array([[-0.71648559],\n",
      "       [-6.51912393]]))\n",
      "\n",
      "Test 3\n",
      "cost < 0.00001 stopped after iteration times: 13190\n",
      "Time taken: 0.33 seconds\n",
      "(22.694463395104854, array([[-0.71809157],\n",
      "       [-6.51751791]]))\n"
     ]
    }
   ],
   "source": [
    "df_cp = df_train.copy()\n",
    "df_norm = standardize(df_cp)\n",
    "df_norm['MEDV'] = df_train['MEDV']\n",
    "print('Test 1')\n",
    "print(multivariate_ols(df_norm[['CRIM', 'LSTAT']], df_norm['MEDV'], 0.1, 1000000))\n",
    "\n",
    "print('\\nTest 2')\n",
    "print(multivariate_ols(df_norm[['CRIM', 'LSTAT']], df_norm['MEDV'], 0.01, 1000000))\n",
    "\n",
    "print('\\nTest 3')\n",
    "print(multivariate_ols(df_norm[['CRIM', 'LSTAT']], df_norm['MEDV'], 0.001, 1000000))"
   ]
  },
  {
   "cell_type": "code",
   "execution_count": 23,
   "metadata": {},
   "outputs": [
    {
     "name": "stdout",
     "output_type": "stream",
     "text": [
      "Intercept: 22.69\n",
      "Coefficient of CRIM: -0.72\n",
      "Coefficient of LSTAT: -6.52\n"
     ]
    }
   ],
   "source": [
    "regr_3 = LinearRegression()\n",
    "regr_3.fit(df_norm[['CRIM', 'LSTAT']], df_norm['MEDV'])\n",
    "print('Intercept: {:.2f}'.format(regr_3.intercept_))\n",
    "print('Coefficient of CRIM: {:.2f}'.format(regr_3.coef_[0]))\n",
    "print('Coefficient of LSTAT: {:.2f}'.format(regr_3.coef_[1]))"
   ]
  },
  {
   "cell_type": "markdown",
   "metadata": {},
   "source": [
    "When the features are standardized, the algorithm converges quickly. However, with standardized features, it is harder to literally interpret the coefficients, as they relate to a 1-SD increase in our independent variable."
   ]
  },
  {
   "cell_type": "markdown",
   "metadata": {},
   "source": [
    "### 2.4 Compare standardized vs. non-standardized results\n",
    "\n",
    "Repeat the analysis from 2.3, but this time do not standardize your variables - i.e., use the original training data. Use these three values of R - (0.1, 0.01, and 0.001). What do you notice about the running time and convergence properties of your algorithm?"
   ]
  },
  {
   "cell_type": "code",
   "execution_count": 24,
   "metadata": {},
   "outputs": [
    {
     "name": "stdout",
     "output_type": "stream",
     "text": [
      "Test 1\n",
      "not converge stopped after iteration times: 1\n",
      "Time taken: 0.00 seconds\n",
      "(-29.557719540017057, array([[-230.46156989],\n",
      "       [-533.71780415]]))\n",
      "\n",
      "Test 2\n",
      "not converge stopped after iteration times: 1\n",
      "Time taken: 0.00 seconds\n",
      "(0.11292390350092829, array([[-1.29079271],\n",
      "       [-0.93027949]]))\n",
      "\n",
      "Test 3\n",
      "cost < 0.00001 stopped after iteration times: 39748\n",
      "Time taken: 0.95 seconds\n",
      "(34.782473821363986, array([[-0.08215959],\n",
      "       [-0.90928457]]))\n"
     ]
    }
   ],
   "source": [
    "print('Test 1')\n",
    "print(multivariate_ols(df_train[['CRIM', 'LSTAT']], df_train['MEDV'], 0.1, int(1e6)))\n",
    "\n",
    "print('\\nTest 2')\n",
    "print(multivariate_ols(df_train[['CRIM', 'LSTAT']], df_train['MEDV'], 0.01, int(1e6)))\n",
    "\n",
    "print('\\nTest 3')\n",
    "print(multivariate_ols(df_train[['CRIM', 'LSTAT']], df_train['MEDV'], 0.001, int(1e6)))"
   ]
  },
  {
   "cell_type": "code",
   "execution_count": 25,
   "metadata": {},
   "outputs": [
    {
     "name": "stdout",
     "output_type": "stream",
     "text": [
      "Intercept: 34.787\n",
      "Coefficient of CRIM: -0.082\n",
      "Coefficient of LSTAT: -0.910\n"
     ]
    }
   ],
   "source": [
    "regr_4 = LinearRegression()\n",
    "regr_4.fit(df_train[['CRIM', 'LSTAT']], df_train['MEDV'])\n",
    "print('Intercept: {:.3f}'.format(regr_4.intercept_))\n",
    "print('Coefficient of CRIM: {:.3f}'.format(regr_4.coef_[0]))\n",
    "print('Coefficient of LSTAT: {:.3f}'.format(regr_4.coef_[1]))"
   ]
  },
  {
   "cell_type": "markdown",
   "metadata": {},
   "source": [
    "When we do not standardize our features, our algorithm does not always converge, or it takes a very long time to do so. However, for an appropriate learning rate (e.g., R=0.001), we observe convergence to the same coefficients estimated through standard statistical packages (such as sklearn). In this case, the relationship indicates that an increase in the crime rate of one unit is associated with a decrease in housing prices of \\\\$82, while controlling for LSTAT ; and a one-unit increase in the percentage of lower status of the population is associated with a decrease in prices of \\\\$910, while controlling for CRIM. Note that when controlling for CRIM, the relationship between LSTAT and MEDV is different than it was in the 1.1. "
   ]
  },
  {
   "cell_type": "markdown",
   "metadata": {},
   "source": [
    "### 2.5 Extra Credit 1 :  Implement  Mini-Batch Gradient Descent (MB-GD)\n",
    "MB-GD is a Gradient Descent variant that in large data sets can converge faster and is computationally less intensive. Implement MB-GD for question 2.3 (ensure you're using standardized data). Experiment with different values for the learning rate, number of iterations and \"mini-batch\" size\n",
    "so that you compute the estimates within a 1e-3 tolerance. Do not use a batch-size greater than 32.\n",
    "MB-GD is similar to Stochastic Gradient Descent but instead of using one sample to compute the gradient we use a batch of samples at each iteration. "
   ]
  },
  {
   "cell_type": "code",
   "execution_count": 26,
   "metadata": {},
   "outputs": [],
   "source": [
    "from sklearn.utils import shuffle\n",
    "\n",
    "\"\"\"\n",
    "Function\n",
    "--------\n",
    "multivariate_ols\n",
    "    Gradient Decent to minimize OLS. Used to find co-efficients of bivariate OLS Linear regression\n",
    "\n",
    "Parameters\n",
    "----------\n",
    "xvalue_matrix, yvalues : narray\n",
    "    xvalue_matrix: independent variable\n",
    "    yvalues: dependent variable\n",
    "    \n",
    "R: float\n",
    "    Learning rate\n",
    "    \n",
    "MaxIterations: Int\n",
    "    maximum number of iterations\n",
    "    \n",
    "Batch_Size : Int\n",
    "    batch size of mini-batches\n",
    "\n",
    "Returns\n",
    "-------\n",
    "alpha: float\n",
    "    intercept\n",
    "    \n",
    "beta_array: array[float]\n",
    "    co-efficient\n",
    "\"\"\"\n",
    "\n",
    "def MBGD_multivariate_ols(xvalue_matrix, yvalues, R, MaxIterations, BATCH_SIZE):\n",
    "    start_time = time.time()\n",
    "    xvalue_matrix = np.array(xvalue_matrix)\n",
    "    yvalues = np.array(yvalues)[:, np.newaxis]\n",
    "    N, variable_n = xvalue_matrix.shape \n",
    "    alpha = 0.0\n",
    "    beta_array = np.transpose(np.array([[0.0] * variable_n]))\n",
    "    cost = np.inf\n",
    "    epsilon = 1e-6\n",
    "    cost_l = []\n",
    "    for i in range(MaxIterations):\n",
    "        cost_old = cost\n",
    "        alpha_old = alpha\n",
    "        beta_array_old = np.copy(beta_array) \n",
    "        X, y = shuffle(xvalue_matrix, yvalues)\n",
    "        for offset in range(0, N, BATCH_SIZE):\n",
    "            end = offset + BATCH_SIZE\n",
    "            batch_x, batch_y = X[offset:end], y[offset:end]\n",
    "            part_1 = alpha_old + np.dot(batch_x, beta_array_old) - batch_y \n",
    "            n = BATCH_SIZE\n",
    "            alpha -= R / n * (part_1.sum())\n",
    "            beta_array -= R / n * (np.dot(batch_x.T, part_1))\n",
    "            part_2 = alpha + np.dot(batch_x, beta_array) - batch_y \n",
    "            cost = 1.0 / (2 * n) * ((part_2 ** 2).sum())\n",
    "            cost_l.append(cost)\n",
    "#         if cost_old - cost < 0:\n",
    "#             print('not converge stopped after iteration times: {}'.format(i))\n",
    "#             break\n",
    "        if abs(alpha-alpha_old) < epsilon and max(abs(beta_array-beta_array_old)) < epsilon:\n",
    "            print('cost < 0.00001 stopped after iteration times: {}'.format(i))\n",
    "            break\n",
    "    print(\"Time taken: {:.2f} seconds\".format(time.time() - start_time))\n",
    "    return alpha, beta_array"
   ]
  },
  {
   "cell_type": "code",
   "execution_count": 27,
   "metadata": {},
   "outputs": [
    {
     "name": "stdout",
     "output_type": "stream",
     "text": [
      "MBGD Test 1\n"
     ]
    },
    {
     "name": "stderr",
     "output_type": "stream",
     "text": [
      "C:\\Users\\qkava\\Anaconda3\\lib\\site-packages\\numpy\\core\\_methods.py:47: RuntimeWarning: overflow encountered in reduce\n",
      "  return umr_sum(a, axis, dtype, out, keepdims, initial, where)\n",
      "C:\\Users\\qkava\\Anaconda3\\lib\\site-packages\\ipykernel_launcher.py:56: RuntimeWarning: overflow encountered in square\n",
      "C:\\Users\\qkava\\Anaconda3\\lib\\site-packages\\numpy\\core\\_methods.py:47: RuntimeWarning: invalid value encountered in reduce\n",
      "  return umr_sum(a, axis, dtype, out, keepdims, initial, where)\n",
      "C:\\Users\\qkava\\Anaconda3\\lib\\site-packages\\ipykernel_launcher.py:54: RuntimeWarning: invalid value encountered in subtract\n"
     ]
    },
    {
     "name": "stdout",
     "output_type": "stream",
     "text": [
      "Time taken: 57.14 seconds\n",
      "(nan, array([[nan],\n",
      "       [nan]]))\n",
      "MBGD Test 2\n",
      "Time taken: 32.56 seconds\n",
      "(nan, array([[nan],\n",
      "       [nan]]))\n",
      "MBGD Test 3\n",
      "cost < 0.00001 stopped after iteration times: 76\n",
      "Time taken: 0.04 seconds\n",
      "(22.694505494358694, array([[-0.71631338],\n",
      "       [-6.51929614]]))\n",
      "MBGD Test 4\n",
      "cost < 0.00001 stopped after iteration times: 149\n",
      "Time taken: 0.05 seconds\n",
      "(22.694505492189293, array([[-0.71632013],\n",
      "       [-6.51928938]]))\n",
      "MBGD Test 5\n",
      "cost < 0.00001 stopped after iteration times: 669\n",
      "Time taken: 0.39 seconds\n",
      "(22.694505403026998, array([[-0.71637019],\n",
      "       [-6.51923933]]))\n",
      "MBGD Test 6\n",
      "cost < 0.00001 stopped after iteration times: 1256\n",
      "Time taken: 0.41 seconds\n",
      "(22.694505149301058, array([[-0.71643329],\n",
      "       [-6.51917623]]))\n"
     ]
    }
   ],
   "source": [
    "df_cp = df_train.copy()\n",
    "df_norm = standardize(df_cp)\n",
    "df_norm['MEDV'] = df_train['MEDV']\n",
    "\n",
    "print('MBGD Test 1')\n",
    "print(MBGD_multivariate_ols(df_norm[['CRIM', 'LSTAT']], df_norm['MEDV'], 0.1, int(1e5), 16))\n",
    "\n",
    "print('MBGD Test 2')\n",
    "print(MBGD_multivariate_ols(df_norm[['CRIM', 'LSTAT']], df_norm['MEDV'], 0.1, int(1e5), 32))\n",
    "\n",
    "print('MBGD Test 3')\n",
    "print(MBGD_multivariate_ols(df_norm[['CRIM', 'LSTAT']], df_norm['MEDV'], 0.01, int(1e5), 16))\n",
    "\n",
    "print('MBGD Test 4')\n",
    "print(MBGD_multivariate_ols(df_norm[['CRIM', 'LSTAT']], df_norm['MEDV'], 0.01, int(1e5), 32))\n",
    "\n",
    "print('MBGD Test 5')\n",
    "print(MBGD_multivariate_ols(df_norm[['CRIM', 'LSTAT']], df_norm['MEDV'], 0.001, int(1e5), 16))\n",
    "\n",
    "print('MBGD Test 6')\n",
    "print(MBGD_multivariate_ols(df_norm[['CRIM', 'LSTAT']], df_norm['MEDV'], 0.001, int(1e5), 32))"
   ]
  },
  {
   "cell_type": "markdown",
   "metadata": {},
   "source": [
    "### 2.6 Extra Credit 2: Logistic Regression\n",
    "\n",
    "For extra credit, implement logistic regression using gradient descent. Create a new variable (EXPENSIVE) to indicate whether the median housing price is more than $40,000. Use your model to estimate a logistic regression of EXPENSIVE on CHAS and RM. Report your results and interpret the coefficients (i.e., explain what they imply in a sentence that your parents would understand)."
   ]
  },
  {
   "cell_type": "code",
   "execution_count": 28,
   "metadata": {},
   "outputs": [
    {
     "name": "stdout",
     "output_type": "stream",
     "text": [
      "cost < 0.00001 stopped after iteration times: 2691\n",
      "Time taken: 0.18 seconds\n"
     ]
    },
    {
     "data": {
      "text/plain": [
       "(-4.200024497328655,\n",
       " array([[0.32822603],\n",
       "        [1.95170989]]))"
      ]
     },
     "execution_count": 28,
     "metadata": {},
     "output_type": "execute_result"
    }
   ],
   "source": [
    "df_norm['EXPENSIVE'] = df_norm.apply(lambda x: 1 if x['MEDV']>40 else 0, axis=1)\n",
    "\n",
    "def multivariate_lg(xvalue_matrix, yvalues, R=0.01, MaxIterations=1000):\n",
    "    start_time = time.time()\n",
    "    xvalue_matrix = np.array(xvalue_matrix)\n",
    "    yvalues = np.array(yvalues)[:, np.newaxis]\n",
    "    n, variable_n = xvalue_matrix.shape # sample number, varaibels number\n",
    "    alpha = 0.0\n",
    "    beta_array = np.transpose(np.array([[0.0] * variable_n]))\n",
    "    cost = np.inf\n",
    "    epsilon = 0.0001\n",
    "    for i in range(MaxIterations):\n",
    "        cost_old = cost\n",
    "        alpha_old = alpha\n",
    "        beta_array_old = np.copy(beta_array)\n",
    "        part_1 = 1.0 /(1 + np.exp(-(alpha_old + np.dot(xvalue_matrix, beta_array_old)))) - yvalues\n",
    "        alpha -= R / n * (part_1.sum())\n",
    "        beta_array -= R / n * (np.dot(np.transpose(xvalue_matrix), part_1))\n",
    "        part_2 = 1.0 /(1 + np.exp(-(alpha + np.dot(xvalue_matrix, beta_array)))) - yvalues\n",
    "        y_predict = 1.0 /(1 + np.exp(-(alpha + np.dot(xvalue_matrix, beta_array))))\n",
    "        cost = np.sum(- yvalues * np.log(y_predict) - (1 - yvalues) * np.log(1 - y_predict))\n",
    "        if cost_old - cost < 0:\n",
    "            print('not converge stopped after iteration times: {}'.format(i))\n",
    "            break\n",
    "        if abs(alpha-alpha_old) < epsilon and max(abs(beta_array-beta_array_old)) < epsilon:\n",
    "            print('cost < 0.00001 stopped after iteration times: {}'.format(i))\n",
    "            break\n",
    "    print(\"Time taken: {:.2f} seconds\".format(time.time() - start_time))\n",
    "    return alpha, beta_array\n",
    "\n",
    "multivariate_lg(df_norm[['CHAS','RM']], df_norm['EXPENSIVE'], 0.1, 100000)"
   ]
  },
  {
   "cell_type": "code",
   "execution_count": 29,
   "metadata": {},
   "outputs": [
    {
     "name": "stdout",
     "output_type": "stream",
     "text": [
      "[-4.13442909]\n",
      "[[0.32305322 1.87523552]]\n"
     ]
    }
   ],
   "source": [
    "from sklearn.linear_model import LogisticRegression\n",
    "\n",
    "clf = LogisticRegression().fit(df_norm[['CHAS','RM']], df_norm['EXPENSIVE'])\n",
    "print(clf.intercept_)\n",
    "print(clf.coef_)"
   ]
  },
  {
   "cell_type": "markdown",
   "metadata": {},
   "source": [
    "Our logistic regression results imply that the log odds ratio of being expensive increases by 0.32 for houses near the Charles river, and by 1.95 for each additional room. In other words, the probability of being expensive is ZZZ% higher for houses near the Charles river, and AAAA% higher for each additional room."
   ]
  },
  {
   "cell_type": "markdown",
   "metadata": {},
   "source": [
    "## 3 Regularization \n",
    "\n",
    "### 3.1 Get prepped\n",
    "\n",
    "Using the non-standardized train and test sets you created in 1.3, for each set create new interaction variables between each possible pair of the features. If you originally had *K* features, you should now have K+(K*(K+1))/2 features. Now standardize all of your features. For expediency, it is okay if you standardize the training and test sets separately, i.e., you do not need to use the mean and standard deviation of the training set to also standardize the test set."
   ]
  },
  {
   "cell_type": "code",
   "execution_count": 30,
   "metadata": {},
   "outputs": [],
   "source": [
    "bdfc = df_train.iloc[:,:-1].copy()\n",
    "\n",
    "cols = list(bdfc.columns.values)\n",
    "cols_n = len(cols)\n",
    "for i in range(cols_n):\n",
    "    for j in range(i+1):\n",
    "        c_name = cols[i] + '_' + cols[j]\n",
    "        bdfc[c_name] = bdfc[cols[i]] * bdfc[cols[j]]\n",
    "\n",
    "\n",
    "# poly = PolynomialFeatures(interaction_only=True, include_bias=False)\n",
    "# bdfcc = poly.fit_transform(bdfc)\n",
    "bdf_tr=pd.DataFrame(standardize(bdfc))\n",
    "bdf_tr['MEDV'] = df_train['MEDV']\n",
    "\n",
    "\n",
    "#Create test set's features\n",
    "bdfc1 = df_test.iloc[:,:-1].copy()\n",
    "\n",
    "cols = list(bdfc1.columns.values)\n",
    "cols_n = len(cols)\n",
    "for i in range(cols_n):\n",
    "    for j in range(i + 1):\n",
    "        c_name = cols[i] + '_' + cols[j]\n",
    "        bdfc1[c_name] = bdfc1[cols[i]] * bdfc1[cols[j]]\n",
    "\n",
    "# poly = PolynomialFeatures(interaction_only=True, include_bias=False)\n",
    "# bdfcc1 = poly.fit_transform(bdfc1)\n",
    "\n",
    "bdf_test=pd.DataFrame(standardize(bdfc1))\n",
    "bdf_test['MEDV'] = df_test['MEDV']"
   ]
  },
  {
   "cell_type": "code",
   "execution_count": 31,
   "metadata": {},
   "outputs": [
    {
     "data": {
      "text/plain": [
       "((455, 105), (455,))"
      ]
     },
     "execution_count": 31,
     "metadata": {},
     "output_type": "execute_result"
    }
   ],
   "source": [
    "bdf_tr.shape, bdf_tr.MEDV.shape"
   ]
  },
  {
   "cell_type": "code",
   "execution_count": 32,
   "metadata": {},
   "outputs": [
    {
     "data": {
      "text/plain": [
       "array(['CRIM', 'ZN', 'INDUS', 'CHAS', 'NOX', 'RM', 'AGE', 'DIS', 'RAD',\n",
       "       'TAX', 'PTRATIO', 'B', 'LSTAT', 'CRIM_CRIM', 'ZN_CRIM', 'ZN_ZN',\n",
       "       'INDUS_CRIM', 'INDUS_ZN', 'INDUS_INDUS', 'CHAS_CRIM', 'CHAS_ZN',\n",
       "       'CHAS_INDUS', 'CHAS_CHAS', 'NOX_CRIM', 'NOX_ZN', 'NOX_INDUS',\n",
       "       'NOX_CHAS', 'NOX_NOX', 'RM_CRIM', 'RM_ZN', 'RM_INDUS', 'RM_CHAS',\n",
       "       'RM_NOX', 'RM_RM', 'AGE_CRIM', 'AGE_ZN', 'AGE_INDUS', 'AGE_CHAS',\n",
       "       'AGE_NOX', 'AGE_RM', 'AGE_AGE', 'DIS_CRIM', 'DIS_ZN', 'DIS_INDUS',\n",
       "       'DIS_CHAS', 'DIS_NOX', 'DIS_RM', 'DIS_AGE', 'DIS_DIS', 'RAD_CRIM',\n",
       "       'RAD_ZN', 'RAD_INDUS', 'RAD_CHAS', 'RAD_NOX', 'RAD_RM', 'RAD_AGE',\n",
       "       'RAD_DIS', 'RAD_RAD', 'TAX_CRIM', 'TAX_ZN', 'TAX_INDUS',\n",
       "       'TAX_CHAS', 'TAX_NOX', 'TAX_RM', 'TAX_AGE', 'TAX_DIS', 'TAX_RAD',\n",
       "       'TAX_TAX', 'PTRATIO_CRIM', 'PTRATIO_ZN', 'PTRATIO_INDUS',\n",
       "       'PTRATIO_CHAS', 'PTRATIO_NOX', 'PTRATIO_RM', 'PTRATIO_AGE',\n",
       "       'PTRATIO_DIS', 'PTRATIO_RAD', 'PTRATIO_TAX', 'PTRATIO_PTRATIO',\n",
       "       'B_CRIM', 'B_ZN', 'B_INDUS', 'B_CHAS', 'B_NOX', 'B_RM', 'B_AGE',\n",
       "       'B_DIS', 'B_RAD', 'B_TAX', 'B_PTRATIO', 'B_B', 'LSTAT_CRIM',\n",
       "       'LSTAT_ZN', 'LSTAT_INDUS', 'LSTAT_CHAS', 'LSTAT_NOX', 'LSTAT_RM',\n",
       "       'LSTAT_AGE', 'LSTAT_DIS', 'LSTAT_RAD', 'LSTAT_TAX',\n",
       "       'LSTAT_PTRATIO', 'LSTAT_B', 'LSTAT_LSTAT', 'MEDV'], dtype=object)"
      ]
     },
     "execution_count": 32,
     "metadata": {},
     "output_type": "execute_result"
    }
   ],
   "source": [
    "bdf_tr.columns.values"
   ]
  },
  {
   "cell_type": "code",
   "execution_count": 33,
   "metadata": {},
   "outputs": [
    {
     "data": {
      "text/plain": [
       "((51, 105), (51,))"
      ]
     },
     "execution_count": 33,
     "metadata": {},
     "output_type": "execute_result"
    }
   ],
   "source": [
    "bdf_test.shape, bdf_test.MEDV.shape"
   ]
  },
  {
   "cell_type": "markdown",
   "metadata": {},
   "source": [
    "### 3.2 Overfitting (sort of)\n",
    "Now, using your version of multivariate regression from 2.3, let's overfit the training data. Using your training set, regress housing price on as many of those K+(K*(K+1))/2 features as you can. If you get too greedy, it's possible this will take a long time to compute, so start with 5-10 features, and if you have the time, add more features.\n",
    "\n",
    "Keep track of the training RMSE each time you add a new feature. Plot a line graph with number of features on the x-axis and training RMSE on the y-axis. \n",
    "\n",
    "*NOTE-*\n",
    "* *You can set the MaxIterations as 1e5*"
   ]
  },
  {
   "cell_type": "code",
   "execution_count": 34,
   "metadata": {},
   "outputs": [],
   "source": [
    "def compute_rmse(predictions, yvalues):\n",
    "    pre = np.asarray(predictions)\n",
    "    y = np.asarray(yvalues)\n",
    "    rmse = np.sqrt(np.sum((pre-y) ** 2) / float(len(y)))\n",
    "    return rmse"
   ]
  },
  {
   "cell_type": "code",
   "execution_count": 35,
   "metadata": {},
   "outputs": [
    {
     "name": "stdout",
     "output_type": "stream",
     "text": [
      "cost < 0.00001 stopped after iteration times: 1228\n",
      "Time taken: 0.03 seconds\n",
      "cost < 0.00001 stopped after iteration times: 1952\n",
      "Time taken: 0.05 seconds\n",
      "cost < 0.00001 stopped after iteration times: 2035\n",
      "Time taken: 0.05 seconds\n",
      "cost < 0.00001 stopped after iteration times: 2424\n",
      "Time taken: 0.07 seconds\n",
      "cost < 0.00001 stopped after iteration times: 2280\n",
      "Time taken: 0.07 seconds\n",
      "cost < 0.00001 stopped after iteration times: 2539\n",
      "Time taken: 0.07 seconds\n",
      "cost < 0.00001 stopped after iteration times: 4380\n",
      "Time taken: 0.13 seconds\n",
      "cost < 0.00001 stopped after iteration times: 4399\n",
      "Time taken: 0.14 seconds\n",
      "cost < 0.00001 stopped after iteration times: 10914\n",
      "Time taken: 0.36 seconds\n",
      "cost < 0.00001 stopped after iteration times: 10962\n",
      "Time taken: 0.38 seconds\n",
      "cost < 0.00001 stopped after iteration times: 11081\n",
      "Time taken: 0.37 seconds\n",
      "cost < 0.00001 stopped after iteration times: 11297\n",
      "Time taken: 0.40 seconds\n",
      "cost < 0.00001 stopped after iteration times: 14459\n",
      "Time taken: 0.52 seconds\n",
      "cost < 0.00001 stopped after iteration times: 14555\n",
      "Time taken: 0.54 seconds\n",
      "cost < 0.00001 stopped after iteration times: 20742\n",
      "Time taken: 0.78 seconds\n",
      "cost < 0.00001 stopped after iteration times: 20779\n",
      "Time taken: 0.80 seconds\n",
      "cost < 0.00001 stopped after iteration times: 38967\n",
      "Time taken: 1.54 seconds\n",
      "Time taken: 40.78 seconds\n"
     ]
    }
   ],
   "source": [
    "lst=[]\n",
    "for j in range(2, 20):\n",
    "    features=[each for each in bdf_tr.columns[:j]]\n",
    "    x_tr=bdf_tr[features]\n",
    "    x_test=bdf_test[features]     \n",
    "    alpha, beta_array = multivariate_ols(x_tr, bdf_tr.MEDV, 0.01, int(1e6))\n",
    "    predict = np.zeros(shape=(len(bdf_tr.MEDV)))\n",
    "    predict= np.dot(x_tr,beta_array.squeeze(axis=1))\n",
    "    predict += alpha\n",
    "    rmse_tr = compute_rmse(np.array(predict), bdf_tr.MEDV)\n",
    "    \n",
    "    \n",
    "    predict_test = np.zeros(shape=(len(bdf_test.MEDV)))\n",
    "    predict_test= np.dot(x_test,beta_array.squeeze(axis=1))\n",
    "    predict_test += alpha\n",
    "    rmse_test = compute_rmse(np.array(predict_test), bdf_test.MEDV)\n",
    "    \n",
    "    \n",
    "    \n",
    "    dc={}\n",
    "    dc['NumberFeatures']=j\n",
    "    dc['RMSE_Training']=rmse_tr\n",
    "    dc['RMSE_Testing']=rmse_test\n",
    "    lst.append(dc)"
   ]
  },
  {
   "cell_type": "code",
   "execution_count": 36,
   "metadata": {},
   "outputs": [
    {
     "data": {
      "text/html": [
       "<div>\n",
       "<style scoped>\n",
       "    .dataframe tbody tr th:only-of-type {\n",
       "        vertical-align: middle;\n",
       "    }\n",
       "\n",
       "    .dataframe tbody tr th {\n",
       "        vertical-align: top;\n",
       "    }\n",
       "\n",
       "    .dataframe thead th {\n",
       "        text-align: right;\n",
       "    }\n",
       "</style>\n",
       "<table border=\"1\" class=\"dataframe\">\n",
       "  <thead>\n",
       "    <tr style=\"text-align: right;\">\n",
       "      <th></th>\n",
       "      <th>NumberFeatures</th>\n",
       "      <th>RMSE_Training</th>\n",
       "      <th>RMSE_Testing</th>\n",
       "    </tr>\n",
       "  </thead>\n",
       "  <tbody>\n",
       "    <tr>\n",
       "      <th>0</th>\n",
       "      <td>2</td>\n",
       "      <td>8.265741</td>\n",
       "      <td>5.652394</td>\n",
       "    </tr>\n",
       "    <tr>\n",
       "      <th>1</th>\n",
       "      <td>3</td>\n",
       "      <td>7.912296</td>\n",
       "      <td>5.909360</td>\n",
       "    </tr>\n",
       "    <tr>\n",
       "      <th>2</th>\n",
       "      <td>4</td>\n",
       "      <td>7.689532</td>\n",
       "      <td>5.988461</td>\n",
       "    </tr>\n",
       "    <tr>\n",
       "      <th>3</th>\n",
       "      <td>5</td>\n",
       "      <td>7.688834</td>\n",
       "      <td>5.984038</td>\n",
       "    </tr>\n",
       "    <tr>\n",
       "      <th>4</th>\n",
       "      <td>6</td>\n",
       "      <td>6.142582</td>\n",
       "      <td>4.403738</td>\n",
       "    </tr>\n",
       "    <tr>\n",
       "      <th>5</th>\n",
       "      <td>7</td>\n",
       "      <td>6.127639</td>\n",
       "      <td>4.347528</td>\n",
       "    </tr>\n",
       "    <tr>\n",
       "      <th>6</th>\n",
       "      <td>8</td>\n",
       "      <td>5.862309</td>\n",
       "      <td>4.508963</td>\n",
       "    </tr>\n",
       "    <tr>\n",
       "      <th>7</th>\n",
       "      <td>9</td>\n",
       "      <td>5.844632</td>\n",
       "      <td>4.494985</td>\n",
       "    </tr>\n",
       "    <tr>\n",
       "      <th>8</th>\n",
       "      <td>10</td>\n",
       "      <td>5.780320</td>\n",
       "      <td>4.415250</td>\n",
       "    </tr>\n",
       "    <tr>\n",
       "      <th>9</th>\n",
       "      <td>11</td>\n",
       "      <td>5.626921</td>\n",
       "      <td>3.942250</td>\n",
       "    </tr>\n",
       "    <tr>\n",
       "      <th>10</th>\n",
       "      <td>12</td>\n",
       "      <td>5.465781</td>\n",
       "      <td>4.175380</td>\n",
       "    </tr>\n",
       "    <tr>\n",
       "      <th>11</th>\n",
       "      <td>13</td>\n",
       "      <td>4.852266</td>\n",
       "      <td>4.495923</td>\n",
       "    </tr>\n",
       "    <tr>\n",
       "      <th>12</th>\n",
       "      <td>14</td>\n",
       "      <td>4.848581</td>\n",
       "      <td>4.573822</td>\n",
       "    </tr>\n",
       "    <tr>\n",
       "      <th>13</th>\n",
       "      <td>15</td>\n",
       "      <td>4.848091</td>\n",
       "      <td>4.574292</td>\n",
       "    </tr>\n",
       "    <tr>\n",
       "      <th>14</th>\n",
       "      <td>16</td>\n",
       "      <td>4.835202</td>\n",
       "      <td>4.468585</td>\n",
       "    </tr>\n",
       "    <tr>\n",
       "      <th>15</th>\n",
       "      <td>17</td>\n",
       "      <td>4.835206</td>\n",
       "      <td>4.468544</td>\n",
       "    </tr>\n",
       "    <tr>\n",
       "      <th>16</th>\n",
       "      <td>18</td>\n",
       "      <td>4.814131</td>\n",
       "      <td>4.492202</td>\n",
       "    </tr>\n",
       "    <tr>\n",
       "      <th>17</th>\n",
       "      <td>19</td>\n",
       "      <td>4.761322</td>\n",
       "      <td>4.619335</td>\n",
       "    </tr>\n",
       "  </tbody>\n",
       "</table>\n",
       "</div>"
      ],
      "text/plain": [
       "    NumberFeatures  RMSE_Training  RMSE_Testing\n",
       "0                2       8.265741      5.652394\n",
       "1                3       7.912296      5.909360\n",
       "2                4       7.689532      5.988461\n",
       "3                5       7.688834      5.984038\n",
       "4                6       6.142582      4.403738\n",
       "5                7       6.127639      4.347528\n",
       "6                8       5.862309      4.508963\n",
       "7                9       5.844632      4.494985\n",
       "8               10       5.780320      4.415250\n",
       "9               11       5.626921      3.942250\n",
       "10              12       5.465781      4.175380\n",
       "11              13       4.852266      4.495923\n",
       "12              14       4.848581      4.573822\n",
       "13              15       4.848091      4.574292\n",
       "14              16       4.835202      4.468585\n",
       "15              17       4.835206      4.468544\n",
       "16              18       4.814131      4.492202\n",
       "17              19       4.761322      4.619335"
      ]
     },
     "execution_count": 36,
     "metadata": {},
     "output_type": "execute_result"
    }
   ],
   "source": [
    "pd.DataFrame(lst)"
   ]
  },
  {
   "cell_type": "code",
   "execution_count": 37,
   "metadata": {},
   "outputs": [
    {
     "data": {
      "text/plain": [
       "<matplotlib.axes._subplots.AxesSubplot at 0x14a200dbe10>"
      ]
     },
     "execution_count": 37,
     "metadata": {},
     "output_type": "execute_result"
    },
    {
     "data": {
      "image/png": "[encoded data removed]",
      "text/plain": [
       "<Figure size 432x288 with 1 Axes>"
      ]
     },
     "metadata": {
      "needs_background": "light"
     },
     "output_type": "display_data"
    }
   ],
   "source": [
    "df_42=pd.DataFrame(lst).set_index('NumberFeatures')\n",
    "# df_42['RMSE_Training'].plot(figsize=(8,6))\n",
    "# plt.show()\n",
    "# df_42['RMSE_Testing'].plot(figsize=(8,6))\n",
    "df_42['RMSE_Training'].plot()"
   ]
  },
  {
   "cell_type": "markdown",
   "metadata": {},
   "source": [
    "As we increase the number of features, our RMSE drops in the training set. This is expected behaviour and is a sign of potential overfitting!"
   ]
  },
  {
   "cell_type": "markdown",
   "metadata": {},
   "source": [
    "### 3.3 Ridge regularization\n",
    "Incorporate L2 (Ridge) regularization into your `multivariate_ols` regression. Write a new version of your gradient descent algorithm that includes a regularization term \"lambda\" to penalize excessive complexity. \n",
    "\n",
    "Use your regularized regression to re-fit the model using all features from the training data. Try this for several different values of lambda, and report your RMSE for each lambda separately for your training set. How do these numbers compare to each other, to the RMSE from 3.2?\n",
    "\n",
    "Go brag to your friends about how you just implemented ridge-regularized multivariate regression using gradient descent optimization, from scratch. If you still have friends."
   ]
  },
  {
   "cell_type": "code",
   "execution_count": 38,
   "metadata": {},
   "outputs": [],
   "source": [
    "# incorporate alpha in the beta\n",
    "# adding a new column with same value one into the X\n",
    "\n",
    "def multivariate_regularized_ols(xvalue_matrix, y, R=0.01, MaxIterations=1000, lbd=1):\n",
    "    # initialize the parameters\n",
    "    yvalues = np.array(y)\n",
    "    start_time = time.time()\n",
    "    n = xvalue_matrix.shape[0]                                      #number of (training) data points\n",
    "    features = xvalue_matrix.shape[1]                               #number of features\n",
    "    iterr = 0\n",
    "    epsilon = 1e-6       \n",
    "    beta_array = np.random.random(features) \n",
    "    cost= np.inf\n",
    "    #beta_array = np.zeros((features))\n",
    "    alpha = 0.0\n",
    "    convergence=False\n",
    "    for i in range(MaxIterations):\n",
    "        iterr += 1\n",
    "\n",
    "        cost_old = cost\n",
    "        alpha_old = alpha\n",
    "        beta_array_old = beta_array\n",
    "        part_1 = alpha_old + np.dot(xvalue_matrix, beta_array_old) - yvalues\n",
    "        alpha -= R / n * (part_1.sum())\n",
    "        beta_array -= R / n * (np.dot(xvalue_matrix.T, part_1)+np.dot(lbd,beta_array_old))\n",
    "        part_2 = alpha + np.dot(xvalue_matrix, beta_array) - yvalues\n",
    "        cost = 1.0 / (2 * n) * ((part_2 ** 2).sum() + (lbd*(np.sum(beta_array**2))))\n",
    "        if cost_old - cost < 0:\n",
    "            break\n",
    "        \n",
    "#         g_b=np.dot(xvalue_matrix.T,np.dot(xvalue_matrix,beta_array)-y )+np.dot(lbd,beta_array)\n",
    "#         beta_array = beta_array - R/n *g_b \n",
    "\n",
    "        if abs(alpha-alpha_old) < epsilon and max(abs(beta_array-beta_array_old)) < epsilon:\n",
    "            convergence=True\n",
    "            ttaken=str(round(time.time() - start_time,2)) \n",
    "            break\n",
    "\n",
    "    ttaken=str(round(time.time() - start_time,2)) \n",
    "    return alpha,beta_array,ttaken,iterr,convergence"
   ]
  },
  {
   "cell_type": "code",
   "execution_count": 39,
   "metadata": {},
   "outputs": [],
   "source": [
    "def f(x,alpha,betas):\n",
    "    return alpha + np.dot(x,betas)"
   ]
  },
  {
   "cell_type": "code",
   "execution_count": 40,
   "metadata": {},
   "outputs": [
    {
     "name": "stdout",
     "output_type": "stream",
     "text": [
      "lambda=0.001, R=0.01, timetaken=0.72, iterations=1229, convergence=True\n",
      "RMSE of training set: 3.75\n",
      "lambda=0.1, R=0.01, timetaken=0.72, iterations=1229, convergence=True\n",
      "RMSE of training set: 3.74\n",
      "lambda=1, R=0.01, timetaken=0.71, iterations=1229, convergence=True\n",
      "RMSE of training set: 3.75\n",
      "lambda=10, R=0.01, timetaken=0.72, iterations=1229, convergence=True\n",
      "RMSE of training set: 3.82\n"
     ]
    }
   ],
   "source": [
    "\n",
    "\n",
    "x_train = bdf_tr.iloc[:,:-1]\n",
    "x_train_tar = bdf_tr.MEDV\n",
    "\n",
    "\n",
    "x_test = bdf_test.iloc[:,:-1]\n",
    "x_test_tar = bdf_test.MEDV\n",
    "\n",
    "R = 0.01\n",
    "lbd = 0.001\n",
    "alpha,beta, timetaken, iterations, convergence = multivariate_regularized_ols(x_train, x_train_tar, R, 1000000,lbd)\n",
    "print(\"lambda={}, R={}, timetaken={}, iterations={}, convergence={}\".format(lbd,R,\n",
    "      timetaken,iterations,convergence))\n",
    "yhat_train = f(x_train,alpha,beta)\n",
    "yhat_test = f(x_test,alpha,beta)\n",
    "rmse_train = compute_rmse(yhat_train,x_train_tar)\n",
    "rmse_test = compute_rmse(yhat_test,x_test_tar)\n",
    "print(\"RMSE of training set: {:.2f}\".format(rmse_train))\n",
    "# print('Coeff:',beta)\n",
    "\n",
    "lbd = 0.1\n",
    "alpha,beta, timetaken, iterations, convergence = multivariate_regularized_ols(x_train, x_train_tar, R, 1000000,lbd)\n",
    "print(\"lambda={}, R={}, timetaken={}, iterations={}, convergence={}\".format(lbd, R,\n",
    "      timetaken,iterations,convergence))\n",
    "yhat_train = f(x_train,alpha,beta)\n",
    "yhat_test = f(x_test,alpha,beta)\n",
    "rmse_train = compute_rmse(yhat_train,x_train_tar)\n",
    "rmse_test = compute_rmse(yhat_test,x_test_tar)\n",
    "print(\"RMSE of training set: {:.2f}\".format(rmse_train))\n",
    "# print('Coeff:',beta)\n",
    "\n",
    "lbd = 1\n",
    "alpha,beta, timetaken, iterations, convergence = multivariate_regularized_ols(x_train, x_train_tar, R, 1000000,lbd)\n",
    "print(\"lambda={}, R={}, timetaken={}, iterations={}, convergence={}\".format(lbd,R,\n",
    "      timetaken,iterations,convergence))\n",
    "yhat_train = f(x_train,alpha,beta)\n",
    "yhat_test = f(x_test,alpha,beta)\n",
    "rmse_train = compute_rmse(yhat_train,x_train_tar)\n",
    "rmse_test = compute_rmse(yhat_test,x_test_tar)\n",
    "print(\"RMSE of training set: {:.2f}\".format(rmse_train))\n",
    "# print('Coeff:',beta)\n",
    "\n",
    "lbd = 10\n",
    "alpha,beta, timetaken, iterations, convergence = multivariate_regularized_ols(x_train, x_train_tar, R, 1000000,lbd)\n",
    "print(\"lambda={}, R={}, timetaken={}, iterations={}, convergence={}\".format(lbd,R,\n",
    "      timetaken,iterations,convergence))\n",
    "yhat_train = f(x_train,alpha,beta)\n",
    "yhat_test = f(x_test,alpha,beta)\n",
    "rmse_train = compute_rmse(yhat_train,x_train_tar)\n",
    "rmse_test = compute_rmse(yhat_test,x_test_tar)\n",
    "print(\"RMSE of training set: {:.2f}\".format(rmse_train))\n",
    "# print('Coeff:',beta)"
   ]
  },
  {
   "cell_type": "markdown",
   "metadata": {},
   "source": [
    "### 3.4 Cross-validate lambda\n",
    "\n",
    "Up to this point, you have been fitting models and performing regularization (and basic tuning of the lambda hyperparameter) without cross-validation. This could easily lead to overfitting. Fix this by using 5-fold cross-validation on your training set to repeat 3.3 in a more systematic way.\n",
    "\n",
    "Specifically, use 5-fold cross-validation to select the optimal value of lambda, using the lambda values `[0.0001,0.001,0.01,0.1,1,10,100,1000,10000,100000]`. For each value of lambda, you should run 5-fold cross-validation, and report the average cross-validated RMSE across the 5 validation folds.  Create a figure that plots the average cross-validated RMSE (y-axis) as a function of lambda (x-axis).\n",
    "\n",
    "Finally, select the value of lambda that minimizes cross-validated RMSE, and use it to evaluate test performance (remember, this is your holdout set from 1.3!). How does the test RMSE compare to the cross-validated RMSE? How does it compare to RMSE from nearest neighbors in PS3?\n",
    "\n",
    "\n",
    "*Note-*:\n",
    "* Don't forget to use standardized data!\n",
    "* Your plot might be prettier if you show the x-axis in log scale."
   ]
  },
  {
   "cell_type": "code",
   "execution_count": 41,
   "metadata": {},
   "outputs": [
    {
     "name": "stdout",
     "output_type": "stream",
     "text": [
      "[0.0001, 0.001, 0.01, 0.1, 1, 10, 100, 1000, 10000, 100000]\n"
     ]
    }
   ],
   "source": [
    "#lambdas = [0] + list(np.linspace(0.1, 1, num=10))+list(np.linspace(2, 10, num=9))+list(np.linspace(15, 100, num=18))\n",
    "lambdas = [0.0001,0.001,0.01,0.1,1,10,100,1000,10000,100000]\n",
    "print(lambdas)"
   ]
  },
  {
   "cell_type": "code",
   "execution_count": 42,
   "metadata": {},
   "outputs": [
    {
     "name": "stdout",
     "output_type": "stream",
     "text": [
      "Cross Validated RMSE: 3.99\n",
      "\n",
      "Cross Validated RMSE: 4.02\n",
      "\n",
      "Cross Validated RMSE: 4.03\n",
      "\n",
      "Cross Validated RMSE: 3.99\n",
      "\n",
      "Cross Validated RMSE: 4.03\n",
      "\n",
      "Cross Validated RMSE: 4.09\n",
      "\n",
      "Cross Validated RMSE: 4.62\n",
      "\n",
      "Cross Validated RMSE: 5.32\n",
      "\n",
      "Cross Validated RMSE: 7.23\n",
      "\n",
      "Cross Validated RMSE: 88.18\n",
      "\n"
     ]
    }
   ],
   "source": [
    "\n",
    "x_train = bdf_tr.iloc[:,:-1]\n",
    "x_train_tar = bdf_tr.MEDV\n",
    "\n",
    "\n",
    "x_test = bdf_test.iloc[:,:-1]\n",
    "x_test_tar = bdf_test.MEDV\n",
    "\n",
    "dict_lbd_rmse_train = {}\n",
    "dict_lbd_rmse_test = {}\n",
    "for lbd in lambdas:\n",
    "    counter = 0.0\n",
    "    rmse_train_sum = 0\n",
    "    rmse_test_sum = 0\n",
    "    kf = KFold(n_splits=5)\n",
    "    for train_index, val_index in kf.split(x_train):\n",
    "        df_trainn = x_train.iloc[train_index]\n",
    "        df_val = x_train.iloc[val_index]\n",
    "        df_trainn_tar = x_train_tar.iloc[train_index]\n",
    "        df_val_tar = x_train_tar.iloc[val_index]\n",
    "        \n",
    "        R = 0.01\n",
    "        alpha,beta, timetaken, iterations, convergence = multivariate_regularized_ols(df_trainn, df_trainn_tar, R, 100000,lbd)\n",
    "\n",
    "        \n",
    "#         yhat = f(df_trainn,beta)\n",
    "        \n",
    "#         rmse_train = compute_rmse(yhat,df_trainn_tar)\n",
    "#         rmse_train_sum += rmse_train\n",
    "\n",
    "        yhat1 = f(df_val,alpha,beta)\n",
    "        rmse_test = compute_rmse(yhat1,df_val_tar)\n",
    "        rmse_test_sum += rmse_test\n",
    "        counter += 1.0\n",
    "\n",
    "#     dict_lbd_rmse_train[lbd] = rmse_train_sum / counter\n",
    "    dict_lbd_rmse_test[lbd] = rmse_test_sum / counter\n",
    "    print(\"Cross Validated RMSE: {:.2f}\\n\".format(rmse_test_sum / counter))"
   ]
  },
  {
   "cell_type": "code",
   "execution_count": 43,
   "metadata": {},
   "outputs": [
    {
     "data": {
      "text/plain": [
       "<matplotlib.axes._subplots.AxesSubplot at 0x14a2015b198>"
      ]
     },
     "execution_count": 43,
     "metadata": {},
     "output_type": "execute_result"
    },
    {
     "data": {
      "image/png": "[encoded data removed]",
      "text/plain": [
       "<Figure size 432x288 with 1 Axes>"
      ]
     },
     "metadata": {
      "needs_background": "light"
     },
     "output_type": "display_data"
    }
   ],
   "source": [
    "import matplotlib as plt\n",
    "\n",
    "rmse_test_df=pd.DataFrame.from_dict(dict_lbd_rmse_test,orient='index').sort_index().reset_index()\n",
    "rmse_test_df.columns=['lambda','rmse_validation']\n",
    "rmse_test_df.set_index('lambda').plot(logx=True)"
   ]
  },
  {
   "cell_type": "markdown",
   "metadata": {},
   "source": [
    "From 10e-3 to 10 we do not see much change in the RMSE (except for minor deviations), but beyond this the RMSE increases rapidly. The best lambda in this case is 0.001."
   ]
  },
  {
   "cell_type": "code",
   "execution_count": 44,
   "metadata": {},
   "outputs": [
    {
     "data": {
      "text/plain": [
       "3.771801993103173"
      ]
     },
     "execution_count": 44,
     "metadata": {},
     "output_type": "execute_result"
    }
   ],
   "source": [
    "alpha,beta, timetaken, iterations, convergence = multivariate_regularized_ols(x_train, x_train_tar, 0.001, 100000,0.01)\n",
    "yhat1 = f(x_test,alpha,beta)\n",
    "rmse_test = compute_rmse(yhat1,x_test_tar)\n",
    "rmse_test"
   ]
  },
  {
   "cell_type": "markdown",
   "metadata": {},
   "source": [
    "###  Extra Credit 3: AdaGrad\n",
    "\n",
    "AdaGrad is a method to implement gradient descent with different learning rates for each feature. Adaptive algorithms like this one are being extensively used especially in deep learning applications. Implement AdaGrad on 2.3 but now use CRIM, RM and DIS as independent variables. Standardize these variables before before inputting them to the gradient descent algorithm."
   ]
  },
  {
   "cell_type": "code",
   "execution_count": 342,
   "metadata": {},
   "outputs": [],
   "source": [
    "\"\"\"\n",
    "Function\n",
    "--------\n",
    "multivariate_ols\n",
    "    Gradient Decent to minimize OLS. \n",
    "    \n",
    "Parameters\n",
    "----------\n",
    "xvalue_matrix, yvalues : narray\n",
    "    xvalue_matrix: independent variable\n",
    "    yvalues: dependent variable\n",
    "    \n",
    "R: float\n",
    "    Learning rate\n",
    "    \n",
    "MaxIterations: Int\n",
    "    maximum number of iterations\n",
    "    \n",
    "\n",
    "Returns\n",
    "-------\n",
    "alpha: float\n",
    "    intercept\n",
    "    \n",
    "beta_array: array[float]\n",
    "    co-efficient\n",
    "\"\"\"\n",
    "\n",
    "def AdaGrad_ols(xvalue_matrix, yvalues, R=0.00001, MaxIterations=10000):\n",
    "    start_time = time.time()\n",
    "    xvalue_matrix = np.array(xvalue_matrix)\n",
    "    yvalues = np.array(yvalues)[:, np.newaxis]\n",
    "    n, variable_n = xvalue_matrix.shape # sample number, varaibels number\n",
    "    # initialize parameters\n",
    "    params = np.random.randn(variable_n + 1, 1)\n",
    "    cost = np.inf\n",
    "    epsilon = 0.00001\n",
    "    G = np.zeros((variable_n + 1, variable_n + 1))\n",
    "    for i in range(MaxIterations):\n",
    "        g = np.zeros((variable_n + 1, 1))\n",
    "        cost_old = cost\n",
    "        part_1 = params[0] + np.dot(xvalue_matrix, params[1:variable_n + 1]) - yvalues\n",
    "        # populate gradient vector\n",
    "        g[0] = part_1.sum()\n",
    "        g[1:variable_n + 1] = np.dot(xvalue_matrix.T, part_1)\n",
    "        # store outer product of past values of gradients \n",
    "        G += np.outer(g, g)\n",
    "        # update parameters (gd steps)\n",
    "        for j in range(variable_n + 1):\n",
    "            params[j] -= R / n * g[j]/np.sqrt(np.diag(G)[j])\n",
    "        part_2 = params[0] + np.dot(xvalue_matrix, params[1:variable_n + 1]) - yvalues\n",
    "        #print(params[2])\n",
    "        cost = 1.0 / (2 * n) * ((part_2 ** 2).sum())\n",
    "    print(\"Time taken: {:.2f} seconds\".format(time.time() - start_time))\n",
    "    return params"
   ]
  },
  {
   "cell_type": "code",
   "execution_count": 343,
   "metadata": {},
   "outputs": [
    {
     "name": "stdout",
     "output_type": "stream",
     "text": [
      "Test 1\n",
      "Time taken: 1.71 seconds\n",
      "[[22.56145211]\n",
      " [ 5.78244049]\n",
      " [-2.23526742]\n",
      " [ 0.22097372]]\n"
     ]
    }
   ],
   "source": [
    "df_cp = df_train.copy()\n",
    "df_norm = standardize(df_cp)\n",
    "#IPython.embed()\n",
    "df_norm['MEDV'] = df_train['MEDV']\n",
    "print('Test 1')\n",
    "print(AdaGrad_ols(df_norm[['RM', 'CRIM', 'DIS']], df_norm['MEDV'], 100.5, 10000))\n"
   ]
  },
  {
   "cell_type": "code",
   "execution_count": 344,
   "metadata": {},
   "outputs": [
    {
     "name": "stdout",
     "output_type": "stream",
     "text": [
      "Intercept: 22.69\n",
      "Coefficient of RM: 5.78\n",
      "Coefficient of CRIM: -2.24\n",
      "Coefficient of DIS: 0.22\n"
     ]
    }
   ],
   "source": [
    "regr_4 = LinearRegression()\n",
    "regr_4.fit(df_norm[['RM', 'CRIM','DIS']], df_norm['MEDV'])\n",
    "print('Intercept: {:.2f}'.format(regr_4.intercept_))\n",
    "print('Coefficient of RM: {:.2f}'.format(regr_4.coef_[0]))\n",
    "print('Coefficient of CRIM: {:.2f}'.format(regr_4.coef_[1]))\n",
    "print('Coefficient of DIS: {:.2f}'.format(regr_4.coef_[2]))"
   ]
  },
  {
   "cell_type": "code",
   "execution_count": null,
   "metadata": {},
   "outputs": [],
   "source": []
  }
 ],
 "metadata": {
  "anaconda-cloud": {},
  "kernelspec": {
   "display_name": "Python 3",
   "language": "python",
   "name": "python3"
  },
  "language_info": {
   "codemirror_mode": {
    "name": "ipython",
    "version": 3
   },
   "file_extension": ".py",
   "mimetype": "text/x-python",
   "name": "python",
   "nbconvert_exporter": "python",
   "pygments_lexer": "ipython3",
   "version": "3.7.3"
  }
 },
 "nbformat": 4,
 "nbformat_minor": 1
}
