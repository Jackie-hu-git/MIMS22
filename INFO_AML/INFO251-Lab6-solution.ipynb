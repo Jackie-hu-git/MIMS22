{
 "cells": [
  {
   "cell_type": "markdown",
   "metadata": {},
   "source": [
    "# Lab 6 - Gradient descent \n",
    "- **Author:** Qutub Khan Vajihi \n",
    "- **Date:** 3 March 2021\n",
    "- **Course:** INFO 251: Applied machine learning"
   ]
  },
  {
   "cell_type": "markdown",
   "metadata": {},
   "source": [
    "### Topics:\n",
    "1. Batch Gradient Descent for OLS\n",
    "2. Batch Gradient Descent for OLS in Matrix Form\n",
    "2. Mini-Batch Gradient Descent\n"
   ]
  },
  {
   "cell_type": "code",
   "execution_count": 1,
   "metadata": {},
   "outputs": [],
   "source": [
    "import pandas as pd\n",
    "import numpy as np\n",
    "import time\n",
    "import matplotlib.pyplot as plt\n",
    "import IPython\n",
    "from matplotlib import animation\n",
    "from mpl_toolkits.mplot3d import Axes3D\n",
    "from matplotlib import cm\n",
    "from matplotlib.ticker import LinearLocator, FormatStrFormatter\n",
    "import statsmodels.api as sm\n",
    "from sklearn.linear_model import LinearRegression\n",
    "from sklearn.metrics import mean_squared_error\n",
    "import statsmodels.formula.api as smf\n",
    "from scipy import stats\n",
    "%matplotlib inline"
   ]
  },
  {
   "cell_type": "markdown",
   "metadata": {},
   "source": [
    "### Regression on Boston data"
   ]
  },
  {
   "cell_type": "markdown",
   "metadata": {},
   "source": [
    "For this lab, let's keep using the [Boston Housing Prices Data Set](http://www.kellogg.northwestern.edu/faculty/weber/emp/_session_3/boston.htm)."
   ]
  },
  {
   "cell_type": "code",
   "execution_count": 2,
   "metadata": {},
   "outputs": [],
   "source": [
    "from sklearn.datasets import load_boston\n",
    "data = load_boston()\n",
    "X = data.data\n",
    "y = X[:,1] #target variable is ZN"
   ]
  },
  {
   "cell_type": "markdown",
   "metadata": {},
   "source": [
    "##### For expediency, we're skipping the train-test splits here, but you should be doing those splits while working on the problem sets. "
   ]
  },
  {
   "cell_type": "code",
   "execution_count": 3,
   "metadata": {},
   "outputs": [
    {
     "name": "stdout",
     "output_type": "stream",
     "text": [
      "intercept and slope from closed form solution [  69.038459   -103.97572805]\n"
     ]
    }
   ],
   "source": [
    "# regress ZN on nitric oxides concentration \n",
    "X_NOX = X[:,4] #nitric oxides concentration (parts per 10 million)\n",
    "Y = y \n",
    "n = len(y)\n",
    "Xr = np.column_stack((np.ones(n), X_NOX))\n",
    "# Get OLS closed form solution\n",
    "beta_tilde = np.linalg.inv(np.matmul(Xr.T,Xr))@Xr.T@y\n",
    "print(\"intercept and slope from closed form solution {}\".format(beta_tilde))\n"
   ]
  },
  {
   "cell_type": "code",
   "execution_count": 4,
   "metadata": {},
   "outputs": [
    {
     "name": "stdout",
     "output_type": "stream",
     "text": [
      "intercept and slope from scipy stats 69.03845900050108, -103.97572805288645\n"
     ]
    }
   ],
   "source": [
    "# Check with statsmodels\n",
    "slope, intercept, r_value, p_value, std_err = stats.linregress(X_NOX,Y)\n",
    "print(\"intercept and slope from scipy stats {}, {}\".format(intercept, slope))"
   ]
  },
  {
   "cell_type": "markdown",
   "metadata": {},
   "source": [
    "Both approaches give the same solution. Let's try it from scratch using Gradient Descent!"
   ]
  },
  {
   "cell_type": "markdown",
   "metadata": {},
   "source": [
    "### Batch GD For OLS - \n",
    "OLS objective is $J(\\alpha,\\beta)=\\frac{1}{2N}\\sum_{i=1}^{N}(\\alpha+\\beta x_i-y_i)^2$ and its gradients are: \n",
    "\\begin{align*}\n",
    "&\\frac{\\partial J(\\alpha,\\beta)}{\\partial \\alpha}=\\frac{1}{N}\\sum_{i=1}^{N}(\\alpha+\\beta x_i -y_i)\\\\\n",
    "&\\frac{\\partial J(\\alpha,\\beta)}{\\partial \\beta}=\\frac{1}{N}\\sum_{i=1}^{N}(\\alpha+\\beta x_i-y_i)x_i\n",
    "\\end{align*}\n",
    "\n",
    "The GD update steps are:\n",
    "\\begin{align*}\n",
    "&\\alpha\\leftarrow \\alpha-R \\frac{\\partial J(\\alpha,\\beta)}{\\partial \\alpha}\\\\\n",
    "&\\beta\\leftarrow \\beta -R\\frac{\\partial J(\\alpha,\\beta)}{\\partial \\beta}\n",
    "\\end{align*}"
   ]
  },
  {
   "cell_type": "code",
   "execution_count": 5,
   "metadata": {},
   "outputs": [],
   "source": [
    "# learning rate R, run GD for at most MaxIterations\n",
    "def bivariate_ols(xvalues, yvalues, R=0.01, MaxIterations=1000):  \n",
    "    # Initialize variablse\n",
    "    xvalues = np.array(xvalues)\n",
    "    yvalues = np.array(yvalues)\n",
    "    alpha_new = 0.0\n",
    "    beta_new = 0.0\n",
    "    n = len(xvalues)\n",
    "    # tolerance and iteration counter\n",
    "    epsilon = 1e-6\n",
    "    cnt = 0\n",
    "    cost = np.inf\n",
    "    for i in range(MaxIterations) : \n",
    "        # take GD update steps for as long as the values have not converged,\n",
    "        alpha_old = alpha_new\n",
    "        beta_old = beta_new\n",
    "        cost_old = cost\n",
    "        alpha_new = alpha_old - R / n * ((alpha_old + beta_old * xvalues - yvalues).sum())\n",
    "        beta_new = beta_old - R / n * (((alpha_old + beta_old * xvalues - yvalues) * xvalues).sum())\n",
    "        # you might want to print the cost to check it is descreasing\n",
    "        cost = 1.0 / (2* n) * (((alpha_new + beta_new * xvalues - yvalues) ** 2).sum())\n",
    "        # Here are the other stopping conditions\n",
    "        if cost_old - cost < 0:\n",
    "            print('Did not converge / Diverged')\n",
    "            break\n",
    "        if abs(alpha_new - alpha_old) < epsilon and abs(beta_new - beta_old) < epsilon:\n",
    "            print('cost < epsilon stopped after iterations: {}'.format(i))\n",
    "            break\n",
    "        cnt += 1\n",
    "        \n",
    "    return alpha_new, beta_new, cnt"
   ]
  },
  {
   "cell_type": "code",
   "execution_count": 6,
   "metadata": {},
   "outputs": [
    {
     "name": "stdout",
     "output_type": "stream",
     "text": [
      "cost < epsilon stopped after iterations: 91109\n",
      "intercept is 69.03297777184711 and slope is -103.96594755562221\n"
     ]
    }
   ],
   "source": [
    "inter, slope, iters = bivariate_ols(X_NOX, Y, 0.01, 1000000)\n",
    "print('intercept is {} and slope is {}'.format(inter, slope))\n"
   ]
  },
  {
   "cell_type": "code",
   "execution_count": 7,
   "metadata": {},
   "outputs": [
    {
     "name": "stdout",
     "output_type": "stream",
     "text": [
      "cost < epsilon stopped after iterations: 11358\n",
      "intercept is 69.03791144260042 and slope is -103.97475101126177\n"
     ]
    }
   ],
   "source": [
    "inter, slope, iters = bivariate_ols(X_NOX, Y, 0.1, 1000000)\n",
    "print('intercept is {} and slope is {}'.format(inter, slope))\n"
   ]
  },
  {
   "cell_type": "code",
   "execution_count": 8,
   "metadata": {},
   "outputs": [
    {
     "name": "stdout",
     "output_type": "stream",
     "text": [
      "Did not converge / Diverged\n",
      "intercept is -138598.96371176216 and slope is -77816.82731818825\n"
     ]
    }
   ],
   "source": [
    "inter, slope, iters = bivariate_ols(X_NOX, Y, 100, 1000000)\n",
    "print('intercept is {} and slope is {}'.format(inter, slope))\n"
   ]
  },
  {
   "cell_type": "markdown",
   "metadata": {},
   "source": [
    "### Batch GD For OLS in Matrix Form -\n",
    "OLS objective is $J(\\alpha,\\beta)=\\frac{1}{2N}||Y-\\alpha-X\\beta||^2$ and its gradients are: \n",
    "\\begin{align*}\n",
    "&\\frac{\\partial J(\\alpha,\\beta)}{\\partial \\alpha}=\\frac{1}{N}(Y-\\alpha -X\\boldsymbol\\beta).sum() \\\\\n",
    "&\\frac{\\partial J(\\alpha,\\beta)}{\\partial \\beta}=\\frac{1}{N}(X^TY-X^T\\alpha-X^TX\\boldsymbol\\beta)=\\frac{1}{N}X^T\t(Y-\\alpha -X\\boldsymbol\\beta)\n",
    "\\end{align*}\n",
    "\n",
    "The GD update steps are:\n",
    "\\begin{align*}\n",
    "&\\alpha\\leftarrow \\alpha-R \\frac{\\partial J(\\alpha,\\beta)}{\\partial \\alpha}\\\\\n",
    "&\\beta\\leftarrow \\beta -R\\frac{\\partial J(\\alpha,\\beta)}{\\partial \\beta}\n",
    "\\end{align*}"
   ]
  },
  {
   "cell_type": "code",
   "execution_count": 12,
   "metadata": {},
   "outputs": [],
   "source": [
    "def multivariate_ols(xvalue_matrix, yvalues, R=0.01, MaxIterations=1000):\n",
    "    start_time = time.time()\n",
    "    xvalue_matrix = np.array(xvalue_matrix)\n",
    "    yvalues = np.array(yvalues)[:, np.newaxis]\n",
    "    n, variable_n = xvalue_matrix.shape\n",
    "    alpha = 0.0\n",
    "    beta_array = np.transpose(np.array([[0.0] * variable_n]))\n",
    "    cost = np.inf\n",
    "    epsilon = 1e-6\n",
    "    for i in range(MaxIterations):\n",
    "        cost_old = cost\n",
    "        alpha_old = alpha\n",
    "        beta_array_old = np.copy(beta_array)\n",
    "        \n",
    "        part_1 = alpha_old + np.dot(xvalue_matrix, beta_array_old) - yvalues\n",
    "        \n",
    "        alpha -= R / n * (part_1.sum())\n",
    "        beta_array -= R / n * (np.dot(xvalue_matrix.T, part_1))\n",
    "        \n",
    "        part_2 = alpha + np.dot(xvalue_matrix, beta_array) - yvalues\n",
    "        cost = 1.0 / (2 * n) * ((part_2 ** 2).sum())\n",
    "        \n",
    "        if cost_old - cost < 0:\n",
    "            print('not converge stopped after iteration times: {}'.format(i))\n",
    "            break\n",
    "        if abs(alpha-alpha_old) < epsilon and max(abs(beta_array-beta_array_old)) < epsilon:\n",
    "            print('cost < epsilon stopped after iteration times: {}'.format(i))\n",
    "            break\n",
    "    print(\"Time taken: {:.2f} seconds\".format(time.time() - start_time))\n",
    "    return alpha, beta_array"
   ]
  },
  {
   "cell_type": "code",
   "execution_count": 13,
   "metadata": {},
   "outputs": [
    {
     "name": "stdout",
     "output_type": "stream",
     "text": [
      "intercept and slope from closed form solution [ 27.465243   -93.54228584   5.69417964]\n"
     ]
    }
   ],
   "source": [
    "X = data.data\n",
    "X = np.array(X[:,[4,5]])\n",
    "Xr = np.column_stack((np.ones(n), X))\n",
    "# Get OLS closed form solution\n",
    "beta_tilde = np.linalg.inv(np.matmul(Xr.T,Xr))@Xr.T@y\n",
    "print(\"intercept and slope from closed form solution {}\".format(beta_tilde))"
   ]
  },
  {
   "cell_type": "code",
   "execution_count": 17,
   "metadata": {},
   "outputs": [
    {
     "data": {
      "text/plain": [
       "array([[0.538, 6.575],\n",
       "       [0.469, 6.421],\n",
       "       [0.469, 7.185],\n",
       "       ...,\n",
       "       [0.573, 6.976],\n",
       "       [0.573, 6.794],\n",
       "       [0.573, 6.03 ]])"
      ]
     },
     "execution_count": 17,
     "metadata": {},
     "output_type": "execute_result"
    }
   ],
   "source": [
    "X"
   ]
  },
  {
   "cell_type": "code",
   "execution_count": 14,
   "metadata": {},
   "outputs": [
    {
     "name": "stdout",
     "output_type": "stream",
     "text": [
      "not converge stopped after iteration times: 1\n",
      "Time taken: 0.00 seconds\n",
      "intercept is -2.6770655473826137 and slope is [[ -1.74550179]\n",
      " [-16.17969466]]\n"
     ]
    }
   ],
   "source": [
    "alpha, beta_array = multivariate_ols(X, Y, 0.1, 1000000)\n",
    "print('intercept is {} and slope is {}'.format(alpha, beta_array))"
   ]
  },
  {
   "cell_type": "code",
   "execution_count": 131,
   "metadata": {},
   "outputs": [
    {
     "name": "stdout",
     "output_type": "stream",
     "text": [
      "cost < epsilon stopped after iteration times: 154486\n",
      "Time taken: 3.51 seconds\n",
      "intercept is 27.44610341120165 and slope is [[-93.52973197]\n",
      " [  5.69610115]]\n"
     ]
    }
   ],
   "source": [
    "alpha, beta_array = multivariate_ols(X, Y, 0.01, 1000000)\n",
    "print('intercept is {} and slope is {}'.format(alpha, beta_array))"
   ]
  },
  {
   "cell_type": "markdown",
   "metadata": {},
   "source": [
    "### Mini-Batch GD for OLS in Matrix Form - \n"
   ]
  },
  {
   "cell_type": "code",
   "execution_count": 18,
   "metadata": {},
   "outputs": [],
   "source": [
    "from sklearn.utils import shuffle\n",
    "def MBGD_multivariate_ols(xvalue_matrix, yvalues, R, MaxIterations, BATCH_SIZE):\n",
    "    start_time = time.time()\n",
    "    xvalue_matrix = np.array(xvalue_matrix)\n",
    "    yvalues = np.array(yvalues)[:, np.newaxis]\n",
    "    n, variable_n = xvalue_matrix.shape \n",
    "    alpha = 0.0\n",
    "    beta_array = np.transpose(np.array([[0.0] * variable_n]))\n",
    "    cost = np.inf\n",
    "    epsilon = 1e-6\n",
    "    cost_l = []\n",
    "    for i in range(MaxIterations):\n",
    "        cost_old = cost\n",
    "        alpha_old = alpha\n",
    "        beta_array_old = np.copy(beta_array) \n",
    "        X, y = shuffle(xvalue_matrix, yvalues)\n",
    "        for offset in range(0, n, BATCH_SIZE):\n",
    "            end = offset + BATCH_SIZE\n",
    "            batch_x, batch_y = X[offset:end], y[offset:end]\n",
    "            part_1 = alpha_old + np.dot(batch_x, beta_array_old) - batch_y \n",
    "            alpha -= R / n * (part_1.sum())\n",
    "            beta_array -= R / n * (np.dot(batch_x.T, part_1))\n",
    "            part_2 = alpha + np.dot(batch_x, beta_array) - batch_y \n",
    "            cost = 1.0 / (2 * n) * ((part_2 ** 2).sum())\n",
    "            cost_l.append(cost)\n",
    "        if abs(alpha-alpha_old) < epsilon and max(abs(beta_array-beta_array_old)) < epsilon:\n",
    "            print('cost < epsilon stopped after iteration times: {}'.format(i))\n",
    "            break\n",
    "    print(\"Time taken: {:.2f} seconds\".format(time.time() - start_time))\n",
    "    return alpha, beta_array"
   ]
  },
  {
   "cell_type": "markdown",
   "metadata": {},
   "source": [
    "#### Let's standardize this time before proceeding"
   ]
  },
  {
   "cell_type": "code",
   "execution_count": 134,
   "metadata": {},
   "outputs": [],
   "source": [
    "def standardize(raw_data):\n",
    "    return ((raw_data - np.mean(raw_data, axis = 0)) / np.std(raw_data, axis = 0))"
   ]
  },
  {
   "cell_type": "code",
   "execution_count": 135,
   "metadata": {},
   "outputs": [
    {
     "name": "stdout",
     "output_type": "stream",
     "text": [
      "intercept and slope from closed form solution [ 11.36363636 -10.82874643   3.99687289]\n"
     ]
    }
   ],
   "source": [
    "X = data.data\n",
    "X = np.array(X[:,[4,5]])\n",
    "X = standardize(X)\n",
    "Xr = np.column_stack((np.ones(n), X))\n",
    "# Get OLS closed form solution\n",
    "beta_tilde = np.linalg.inv(np.matmul(Xr.T,Xr))@Xr.T@y\n",
    "print(\"intercept and slope from closed form solution {}\".format(beta_tilde))"
   ]
  },
  {
   "cell_type": "code",
   "execution_count": 136,
   "metadata": {},
   "outputs": [
    {
     "name": "stdout",
     "output_type": "stream",
     "text": [
      "cost < epsilon stopped after iteration times: 172\n",
      "Time taken: 0.10 seconds\n",
      "intercept is 11.363636225765829 and slope is [[-10.82873388]\n",
      " [  3.99688544]]\n"
     ]
    }
   ],
   "source": [
    "batch_size = 16\n",
    "X = data.data\n",
    "X = np.array(X[:,[4,5]])\n",
    "X = standardize(X)\n",
    "alpha, beta_array = MBGD_multivariate_ols(X, Y, 0.1, 1000000, batch_size)\n",
    "print('intercept is {} and slope is {}'.format(alpha, beta_array))"
   ]
  },
  {
   "cell_type": "markdown",
   "metadata": {},
   "source": [
    "### EXTRA - Simple 2D Example of GD\n",
    "Feel free to try your own two input function to build intuition on GD.\n",
    "\n",
    "$J=J_1(x,y)=\\frac{x^2}{8}+y^2$  where I use $x,y$ for $x$ and $y$ coordinate or $z_1,z_2$ as in slides\n",
    "\n",
    "perform gradeint descent on this function.\n",
    "Gradients are :\n",
    "$\\frac{\\partial J_1(x,y)}{\\partial x}=2x/8$ and  $\\frac{\\partial J_1(x,y)}{\\partial y}=2y$\n",
    "\n",
    "Also provided $J_2(x,y) = (1.5-x-xy)^2+(2.25-x-xy^2)^2+(2.626-x-xy^3)^3$"
   ]
  },
  {
   "cell_type": "code",
   "execution_count": 97,
   "metadata": {},
   "outputs": [],
   "source": [
    "def func_z(x, y):\n",
    "    # Simple function with 2 inputs\n",
    "    # Calculate values of Z from the created grid\n",
    "    # feel free to check other functions too\n",
    "    z = x**2/8+y**2 # call this f1\n",
    "    #z = (1.5-x+x*y)**2+(2.25-x+x*y**2)**2+(2.625-x+x*y**3)**2 # call this f2\n",
    "    return z\n",
    "\n",
    "def gradient_descent(px, py, learning_rate, epoch):\n",
    "    x_gd = []\n",
    "    y_gd = []\n",
    "    z_gd = []\n",
    "    x_gd.append(px) # 1st coordinate\n",
    "    y_gd.append(py)  # 2nd coordinate\n",
    "    z_gd.append(func_z(px, py)) # value of function\n",
    "    # begin the loops to update x, y and z\n",
    "    for i in range(epoch):\n",
    "        #der_x = 2*(1.5-px+px*py)*(py-1)+2*(2.25-px+px*py**2)*(py**2-1)+2*(2.625-px+px*py**3)*(py**3-1) # for f2\n",
    "        #der_y = 2*(1.5-px+px*py)*px+2*(2.25-px+px*py**2)*(2*py*px)+2*(2.625-px+px*py**3)*(3*py**2*px) # for f2\n",
    "        der_x = 2*px/8\n",
    "        der_y = 2*py\n",
    "        px = px - learning_rate * der_x\n",
    "        x_gd.append(px)\n",
    "        py = py - learning_rate * der_y\n",
    "        y_gd.append(py)\n",
    "        z_gd.append(func_z(px, py))\n",
    "    return x_gd, y_gd, z_gd"
   ]
  },
  {
   "cell_type": "code",
   "execution_count": 98,
   "metadata": {},
   "outputs": [],
   "source": [
    "x0 = 2.1\n",
    "y0 = 2\n",
    "learning_rate = 0.92\n",
    "epoch = 1500\n",
    "''' Plot our function '''\n",
    "a = np.arange(-4, 4, 0.05)\n",
    "b = np.arange(-4, 4, 0.05)\n",
    "\n",
    "x, y = np.meshgrid(a, b)\n",
    "z = func_z(x, y)\n",
    "\n"
   ]
  },
  {
   "cell_type": "markdown",
   "metadata": {},
   "source": [
    "### Plot the function"
   ]
  },
  {
   "cell_type": "code",
   "execution_count": 99,
   "metadata": {},
   "outputs": [
    {
     "data": {
      "image/png": "[encoded data removed]",
      "text/plain": [
       "<Figure size 432x288 with 2 Axes>"
      ]
     },
     "metadata": {
      "needs_background": "light"
     },
     "output_type": "display_data"
    }
   ],
   "source": [
    "fig = plt.figure()\n",
    "ax = fig.gca(projection='3d')\n",
    "\n",
    "surf = ax.plot_surface(x, y, z, cmap=cm.coolwarm,\n",
    "                       linewidth=0, antialiased=False)\n",
    "\n",
    " # Customize the z axis.\n",
    "\n",
    "ax.set_zlim(-0.0, 10.01)\n",
    "ax.zaxis.set_major_locator(LinearLocator(10))\n",
    "ax.zaxis.set_major_formatter(FormatStrFormatter('%.02f'))\n",
    "\n",
    "#Add a color bar which maps values to colors.\n",
    "fig.colorbar(surf, shrink=0.5, aspect=5)\n",
    "\n",
    "plt.show()"
   ]
  },
  {
   "cell_type": "markdown",
   "metadata": {},
   "source": [
    "### Plot the convergence of GD"
   ]
  },
  {
   "cell_type": "code",
   "execution_count": 100,
   "metadata": {},
   "outputs": [
    {
     "data": {
      "image/png": "[encoded data removed]",
      "text/plain": [
       "<Figure size 432x288 with 1 Axes>"
      ]
     },
     "metadata": {
      "needs_background": "light"
     },
     "output_type": "display_data"
    }
   ],
   "source": [
    "\n",
    "fig1, ax1 = plt.subplots()\n",
    "ax1.contour(x, y, z, levels=np.logspace(-4, 4, 35), cmap='jet')\n",
    "#Plot target (the minimum of the function)\n",
    "min_point = np.array([3.0, 0.5])\n",
    "min_point_ = min_point[:, np.newaxis]\n",
    "ax1.plot(0.0, 0.0, 'r*', markersize=12) #This is the min for f1\n",
    "#ax1.plot(3.0, 0.5, 'r*', markersize=12) #This is the min for f2\n",
    "ax1.set_xlabel(r'x')\n",
    "ax1.set_ylabel(r'y')\n",
    "x_gd, y_gd, z_gd = gradient_descent(x0, y0, learning_rate, epoch)\n",
    "for i in range(1, epoch+1):\n",
    "   ax1.annotate('', xy=(x_gd[i], y_gd[i]), xytext=(x_gd[i-1], y_gd[i-1]),\n",
    "                  arrowprops={'arrowstyle': '->', 'color': 'r', 'lw': 1},\n",
    "                  va='center', ha='center')\n",
    "\n",
    "''' Animation '''\n",
    "# Create animation\n",
    "line, = ax1.plot([], [], 'r', label = 'Gradient descent', lw = 1.5)\n",
    "point, = ax1.plot([], [], 'bo')\n",
    "value_display = ax1.text(0.02, 0.02, '', transform=ax1.transAxes)\n",
    "\n",
    "plt.show()"
   ]
  },
  {
   "cell_type": "code",
   "execution_count": null,
   "metadata": {},
   "outputs": [],
   "source": []
  }
 ],
 "metadata": {
  "anaconda-cloud": {},
  "kernelspec": {
   "display_name": "Python 3",
   "language": "python",
   "name": "python3"
  },
  "language_info": {
   "codemirror_mode": {
    "name": "ipython",
    "version": 3
   },
   "file_extension": ".py",
   "mimetype": "text/x-python",
   "name": "python",
   "nbconvert_exporter": "python",
   "pygments_lexer": "ipython3",
   "version": "3.8.3"
  }
 },
 "nbformat": 4,
 "nbformat_minor": 1
}
