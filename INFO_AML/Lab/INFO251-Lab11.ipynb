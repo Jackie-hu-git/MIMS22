{
 "cells": [
  {
   "cell_type": "markdown",
   "metadata": {},
   "source": [
    "# Lab 11  Neural Networks\n",
    "- **Author:** Qutub Khan Vajihi\n",
    "- **Date:** 14 April 2021\n",
    "- **Course:** INFO 251: Applied machine learning"
   ]
  },
  {
   "cell_type": "code",
   "execution_count": 1,
   "metadata": {},
   "outputs": [],
   "source": [
    "import pandas as pd\n",
    "import numpy as np\n",
    "import os\n",
    "import time\n",
    "from matplotlib import gridspec\n",
    "import matplotlib.image as mpimg\n",
    "import matplotlib.pyplot as plt\n",
    "from sklearn import datasets\n",
    "from sklearn.model_selection import train_test_split\n",
    "import IPython\n",
    "import tensorflow as tf\n",
    "import graphviz \n",
    "from sklearn.preprocessing import LabelEncoder\n",
    "from sklearn.preprocessing import OneHotEncoder\n",
    "%matplotlib inline\n"
   ]
  },
  {
   "cell_type": "markdown",
   "metadata": {},
   "source": [
    "### Tensorflow \n",
    "TensorFlow is a free and open-source software library for machine learning. It can be used across a range of tasks but has a particular focus on training and inference of deep neural networks."
   ]
  },
  {
   "cell_type": "markdown",
   "metadata": {},
   "source": [
    "#### Basics"
   ]
  },
  {
   "cell_type": "markdown",
   "metadata": {},
   "source": [
    " A tensor is a generalization of vectors and matrices to potentially higher dimensions. Internally, TensorFlow represents tensors as n-dimensional arrays of base datatypes. Each element in the Tensor has the same data type, and the data type is always known. \n",
    "\n",
    "Writing and running programs in TensorFlow has the following steps:\n",
    "\n",
    "1. Create Tensors (variables) that are not yet executed/evaluated. \n",
    "2. Write operations between those Tensors.\n",
    "3. Initialize your Tensors. \n",
    "4. Create a Session. \n",
    "5. Run the Session. This will run the operations you'd written above. "
   ]
  },
  {
   "cell_type": "code",
   "execution_count": 2,
   "metadata": {},
   "outputs": [
    {
     "name": "stdout",
     "output_type": "stream",
     "text": [
      "WARNING:tensorflow:From C:\\Users\\12062\\Anaconda3\\lib\\site-packages\\tensorflow\\python\\compat\\v2_compat.py:96: disable_resource_variables (from tensorflow.python.ops.variable_scope) is deprecated and will be removed in a future version.\n",
      "Instructions for updating:\n",
      "non-resource variables are not supported in the long term\n"
     ]
    }
   ],
   "source": [
    "import tensorflow as tf\n",
    "tf.compat.v1.disable_v2_behavior() #We are doing this in order to avoid using the v2 functionality"
   ]
  },
  {
   "cell_type": "code",
   "execution_count": 9,
   "metadata": {},
   "outputs": [
    {
     "data": {
      "text/plain": [
       "<tensorflow.python.client.session.Session at 0x171c6e2d070>"
      ]
     },
     "execution_count": 9,
     "metadata": {},
     "output_type": "execute_result"
    }
   ],
   "source": [
    "import tensorflow.compat.v1 as tf\n",
    "tf.Session()"
   ]
  },
  {
   "cell_type": "code",
   "execution_count": 10,
   "metadata": {},
   "outputs": [
    {
     "name": "stdout",
     "output_type": "stream",
     "text": [
      "Tensor(\"Mul_1:0\", shape=(), dtype=int32)\n"
     ]
    }
   ],
   "source": [
    "a = tf.constant(2)\n",
    "b = tf.constant(3)\n",
    "c = tf.multiply(a,b)\n",
    "print(c)"
   ]
  },
  {
   "cell_type": "markdown",
   "metadata": {},
   "source": [
    "As expected, you will not see 6! You got a tensor saying that the result is a tensor that does not have the shape attribute, and is of type \"int32\". All you did was put in the 'computation graph', but you have not run this computation yet. In order to actually multiply the two numbers, you will have to create a session and run it."
   ]
  },
  {
   "cell_type": "code",
   "execution_count": 11,
   "metadata": {},
   "outputs": [
    {
     "name": "stdout",
     "output_type": "stream",
     "text": [
      "6\n"
     ]
    }
   ],
   "source": [
    "sess = tf.Session()\n",
    "print(sess.run(c))"
   ]
  },
  {
   "cell_type": "code",
   "execution_count": 12,
   "metadata": {},
   "outputs": [
    {
     "name": "stdout",
     "output_type": "stream",
     "text": [
      "a=2, b=3\n",
      "Addition with constants: 5\n",
      "Multiplication with constants: 6\n",
      "Addition with constants: 6\n"
     ]
    }
   ],
   "source": [
    "# Basic constant operations\n",
    "a = tf.constant(2)\n",
    "b = tf.constant(3)\n",
    "# or like this, although its recommended to stick with tf constants in this case\n",
    "c = 4\n",
    "\n",
    "# Launch the default graph.\n",
    "with tf.Session() as sess:\n",
    "    print(\"a=2, b=3\")\n",
    "    print(\"Addition with constants: %i\" % sess.run(a+b))\n",
    "    print(\"Multiplication with constants: %i\" % sess.run(a*b))\n",
    "    print(\"Addition with constants: %i\" % sess.run(a+c))\n",
    "\n"
   ]
  },
  {
   "cell_type": "code",
   "execution_count": 13,
   "metadata": {},
   "outputs": [
    {
     "name": "stdout",
     "output_type": "stream",
     "text": [
      "WARNING:tensorflow:From C:\\Users\\12062\\Anaconda3\\lib\\site-packages\\tensorflow\\python\\util\\tf_should_use.py:247: initialize_all_variables (from tensorflow.python.ops.variables) is deprecated and will be removed after 2017-03-02.\n",
      "Instructions for updating:\n",
      "Use `tf.global_variables_initializer` instead.\n",
      "random uniform from 0 to 10 [-9  3  8 -5  3]\n",
      "random uniform  from -10 to 10 [-9  3  8 -5  3]\n",
      "constant [[0. 0. 0.]\n",
      " [0. 0. 0.]]\n",
      "\n",
      "relu activation [0 3 8 0 3]\n"
     ]
    }
   ],
   "source": [
    "# Random variables and variable initialization\n",
    "rand_t = tf.random_uniform([5], -10, 10, dtype=tf.int32, seed=0) #we saw something very similar for numpy too!\n",
    "rand_var_1 = tf.Variable(rand_t)\n",
    "rand_var_2 = tf.Variable(rand_t)\n",
    "\n",
    "# or array of zeros (similar for array of ones etc)\n",
    "rand_var_3 = tf.Variable(tf.zeros([2, 3]))\n",
    "\n",
    "init = tf.initialize_all_variables()\n",
    "\n",
    "with tf.Session() as sess:\n",
    "    # Run every operation with variable input\n",
    "    sess.run(init)  \n",
    "    print(\"random uniform from 0 to 10 {}\".format(sess.run(rand_var_1)))\n",
    "    print(\"random uniform  from -10 to 10 {}\".format(sess.run(rand_var_2)))\n",
    "    print(\"constant {}\".format(sess.run(rand_var_3)))\n",
    "    print()\n",
    "    print(\"relu activation {}\".format(sess.run(tf.nn.relu(rand_var_2))))\n"
   ]
  },
  {
   "cell_type": "code",
   "execution_count": 14,
   "metadata": {},
   "outputs": [
    {
     "name": "stdout",
     "output_type": "stream",
     "text": [
      "(Using tf sqrt function) relu activation [[0.3804715 ]\n",
      " [0.84138408]\n",
      " [0.88304709]\n",
      " [0.52715652]]\n",
      "(Using np sqrt function) relu activation [[0.3804715 ]\n",
      " [0.84138408]\n",
      " [0.88304709]\n",
      " [0.52715652]]\n"
     ]
    }
   ],
   "source": [
    "# Bad practice, but you can switch between numpy and tensorflow operations\n",
    "# Random variables\n",
    "rand_var_1 = np.random.rand(4,1)\n",
    "with tf.Session() as sess:\n",
    "    print(\"(Using tf sqrt function) relu activation {}\".format(sess.run(tf.nn.relu(tf.sqrt(rand_var_1)))))\n",
    "    print(\"(Using np sqrt function) relu activation {}\".format(sess.run(tf.nn.relu(np.sqrt(rand_var_1)))))\n"
   ]
  },
  {
   "cell_type": "markdown",
   "metadata": {},
   "source": [
    "Next, you'll also have to know about **placeholders**. A placeholder is an object whose value you can specify only later. To specify values for a placeholder, you can pass in values by using a \"feed dictionary\" (feed_dict variable). Below, we created a placeholder for x. This allows us to pass in a number later when we run the session."
   ]
  },
  {
   "cell_type": "code",
   "execution_count": 120,
   "metadata": {},
   "outputs": [
    {
     "name": "stdout",
     "output_type": "stream",
     "text": [
      "6\n"
     ]
    }
   ],
   "source": [
    "# Basic Operations\n",
    "x = tf.placeholder(tf.int64, name = 'x')\n",
    "with tf.Session() as sess:\n",
    "    print(sess.run(2 * x, feed_dict = {x: 3}))"
   ]
  },
  {
   "cell_type": "code",
   "execution_count": 121,
   "metadata": {},
   "outputs": [
    {
     "name": "stdout",
     "output_type": "stream",
     "text": [
      "Addition with variables: 5\n",
      "Multiplication with variables: 6\n"
     ]
    }
   ],
   "source": [
    "# Some more basic Operations with variable as graph input\n",
    "a = tf.placeholder(tf.int16)\n",
    "b = tf.placeholder(tf.int16)\n",
    "\n",
    "# Define some operations\n",
    "add = tf.add(a, b)\n",
    "mul = tf.multiply(a, b)\n",
    "\n",
    "# Launch the default graph.\n",
    "with tf.Session() as sess:\n",
    "    # Run every operation with variable input\n",
    "    print(\"Addition with variables: %i\" % sess.run(add, feed_dict={a: 2, b: 3}))\n",
    "    print(\"Multiplication with variables: %i\" % sess.run(mul, feed_dict={a: 2, b: 3}))\n"
   ]
  },
  {
   "cell_type": "code",
   "execution_count": 122,
   "metadata": {},
   "outputs": [
    {
     "name": "stdout",
     "output_type": "stream",
     "text": [
      "[[18.]]\n"
     ]
    }
   ],
   "source": [
    "matrix1 = tf.constant([[3., 3.]])\n",
    "matrix2 = tf.constant([[2.],[4.]])\n",
    "\n",
    "\n",
    "product1 = tf.matmul(matrix1, matrix2)\n",
    "\n",
    "with tf.Session() as sess:\n",
    "    result1 = sess.run(product1)\n",
    "    print(result1)\n",
    "    "
   ]
  },
  {
   "cell_type": "code",
   "execution_count": 123,
   "metadata": {},
   "outputs": [
    {
     "name": "stdout",
     "output_type": "stream",
     "text": [
      "[[0.11920292]\n",
      " [0.98201376]]\n"
     ]
    }
   ],
   "source": [
    "# more functions    \n",
    "matrix2 = tf.constant([[-2.],[4.]])\n",
    "product2 = tf.nn.sigmoid(matrix2)\n",
    "\n",
    "with tf.Session() as sess:\n",
    "    result2 = sess.run(product2)\n",
    "    print(result2)"
   ]
  },
  {
   "cell_type": "markdown",
   "metadata": {},
   "source": [
    "#### Tensorflow Regression Example"
   ]
  },
  {
   "cell_type": "code",
   "execution_count": 127,
   "metadata": {},
   "outputs": [
    {
     "data": {
      "image/png": "[encoded data removed]",
      "text/plain": [
       "<Figure size 432x288 with 1 Axes>"
      ]
     },
     "metadata": {
      "needs_background": "light"
     },
     "output_type": "display_data"
    }
   ],
   "source": [
    "# Example taken from GeeksforGeeks.com\n",
    "import numpy as np \n",
    "# import tensorflow as tf \n",
    "import matplotlib.pyplot as plt \n",
    "\n",
    "np.random.seed(101) \n",
    "tf.set_random_seed(101) \n",
    "\n",
    "\n",
    "# Genrating random linear data \n",
    "# There will be 50 data points ranging from 0 to 50 \n",
    "x = np.linspace(0, 50, 50) \n",
    "y = np.linspace(0, 50, 50) \n",
    "  \n",
    "# Adding noise to the random linear data \n",
    "x += np.random.uniform(-4, 4, 50) \n",
    "y += np.random.uniform(-4, 4, 50) \n",
    "  \n",
    "n = len(x) # Number of data points \n",
    "\n",
    "# Plot of Training Data \n",
    "plt.scatter(x, y) \n",
    "plt.xlabel('x') \n",
    "plt.xlabel('y') \n",
    "plt.title(\"Training Data\") \n",
    "plt.show() "
   ]
  },
  {
   "cell_type": "code",
   "execution_count": 128,
   "metadata": {},
   "outputs": [],
   "source": [
    "X = tf.placeholder(tf.float32) \n",
    "Y = tf.placeholder(tf.float32) \n",
    "# W and b will be random variables. Since these are variables, we will have to initialize.\n",
    "W = tf.Variable(np.random.randn(), name = \"W\") \n",
    "b = tf.Variable(np.random.randn(), name = \"b\") \n",
    "learning_rate = 0.01\n",
    "training_epochs = 1000"
   ]
  },
  {
   "cell_type": "code",
   "execution_count": 131,
   "metadata": {},
   "outputs": [],
   "source": [
    "# Hypothesis \n",
    "y_pred = tf.add(tf.multiply(X, W), b) \n",
    "  \n",
    "# Mean Squared Error Cost Function \n",
    "cost = tf.reduce_sum(tf.pow(y_pred-Y, 2)) / (2 * n) \n",
    "  \n",
    "# Gradient Descent Optimizer \n",
    "optimizer = tf.train.GradientDescentOptimizer(learning_rate).minimize(cost) \n",
    "  \n",
    "# Global Variables Initializer \n",
    "init = tf.initialize_all_variables() #tf.global_variables_initializer() can also be used for tf v2"
   ]
  },
  {
   "cell_type": "code",
   "execution_count": 132,
   "metadata": {},
   "outputs": [
    {
     "name": "stdout",
     "output_type": "stream",
     "text": [
      "Epoch 50 : cost = 5.8868036 W = 0.9951241 b = 1.238105\n",
      "Epoch 100 : cost = 5.79127 W = 0.99812365 b = 1.0914395\n",
      "Epoch 150 : cost = 5.7119684 W = 1.0008028 b = 0.96044284\n",
      "Epoch 200 : cost = 5.6459413 W = 1.0031956 b = 0.84343934\n",
      "Epoch 250 : cost = 5.5907993 W = 1.0053328 b = 0.7389355\n",
      "Epoch 300 : cost = 5.544608 W = 1.007242 b = 0.6455921\n",
      "Epoch 350 : cost = 5.5057893 W = 1.008947 b = 0.56221986\n",
      "Epoch 400 : cost = 5.473066 W = 1.01047 b = 0.48775342\n",
      "Epoch 450 : cost = 5.445385 W = 1.0118302 b = 0.42124158\n",
      "Epoch 500 : cost = 5.4219036 W = 1.0130452 b = 0.36183482\n",
      "Epoch 550 : cost = 5.4019227 W = 1.0141305 b = 0.30877408\n",
      "Epoch 600 : cost = 5.3848557 W = 1.0150996 b = 0.2613811\n",
      "Epoch 650 : cost = 5.370246 W = 1.0159653 b = 0.21905078\n",
      "Epoch 700 : cost = 5.3576994 W = 1.0167387 b = 0.18124203\n",
      "Epoch 750 : cost = 5.3468933 W = 1.0174294 b = 0.14747237\n",
      "Epoch 800 : cost = 5.337558 W = 1.0180461 b = 0.11730931\n",
      "Epoch 850 : cost = 5.3294754 W = 1.0185971 b = 0.090368524\n",
      "Epoch 900 : cost = 5.322459 W = 1.0190892 b = 0.06630575\n",
      "Epoch 950 : cost = 5.3163586 W = 1.0195289 b = 0.044813294\n",
      "Epoch 1000 : cost = 5.3110332 W = 1.0199214 b = 0.02561658\n"
     ]
    }
   ],
   "source": [
    "# Starting the Tensorflow Session \n",
    "with tf.Session() as sess: \n",
    "      \n",
    "    # Initializing the Variables \n",
    "    sess.run(init) \n",
    "      \n",
    "    # Iterating through all the epochs \n",
    "    for epoch in range(training_epochs): \n",
    "          \n",
    "        # Feeding each data point into the optimizer using Feed Dictionary \n",
    "        # stochastic, in practice remember to shuffle your data or sample randomly and not sequentially\n",
    "        for (_x, _y) in zip(x, y): \n",
    "            sess.run(optimizer, feed_dict = {X : _x, Y : _y}) \n",
    "\n",
    "        # sess.run(optimizer, feed_dict = {X : x, Y : y}) \n",
    "    \n",
    "        # Displaying the result after every 50 epochs \n",
    "        if (epoch + 1) % 50 == 0: \n",
    "            # Calculating the cost a every epoch \n",
    "            c = sess.run(cost, feed_dict = {X : x, Y : y}) \n",
    "            print(\"Epoch\", (epoch + 1), \": cost =\", c, \"W =\", sess.run(W), \"b =\", sess.run(b)) \n",
    "      \n",
    "    # Storing necessary values to be used outside the Session \n",
    "    training_cost = sess.run(cost, feed_dict ={X: x, Y: y}) \n",
    "    weight = sess.run(W) \n",
    "    bias = sess.run(b) "
   ]
  },
  {
   "cell_type": "markdown",
   "metadata": {},
   "source": [
    "#### Tensorflow Neural Network Example"
   ]
  },
  {
   "cell_type": "code",
   "execution_count": 133,
   "metadata": {},
   "outputs": [],
   "source": [
    "from sklearn.preprocessing import LabelEncoder\n",
    "from sklearn.preprocessing import OneHotEncoder"
   ]
  },
  {
   "cell_type": "code",
   "execution_count": 134,
   "metadata": {},
   "outputs": [],
   "source": [
    "## Import Spiral Data \n",
    "fname = 'spiral.txt'\n",
    "data_points = np.genfromtxt('spiral.txt', usecols=(0, 1))\n",
    "data_labels = np.genfromtxt('spiral.txt', dtype=str, usecols=(2))\n",
    "colors = np.zeros(len(data_labels))\n",
    "for i in range(len(data_labels)):\n",
    "    if(data_labels[i] == 'Red'):\n",
    "        colors[i] = 1\n",
    "        \n",
    "# One hot encoding of labels\n",
    "label_encoder = LabelEncoder()\n",
    "integer_encoded = label_encoder.fit_transform(data_labels)\n",
    "onehot_encoder = OneHotEncoder(sparse=False)\n",
    "integer_encoded = integer_encoded.reshape(len(integer_encoded), 1)\n",
    "onehot_encoded = onehot_encoder.fit_transform(integer_encoded)\n",
    "\n",
    "# Just for plotting purposes later on\n",
    "data_labels_temp = onehot_encoded \n",
    "colors = np.zeros(len(data_labels_temp))\n",
    "for i in range(len(data_labels_temp)):\n",
    "    if(str(int(data_labels_temp[i, 1])) == '1'):\n",
    "        colors[i] = 1\n"
   ]
  },
  {
   "cell_type": "code",
   "execution_count": 136,
   "metadata": {},
   "outputs": [
    {
     "data": {
      "image/png": "[encoded data removed]",
      "text/plain": [
       "<Figure size 432x288 with 1 Axes>"
      ]
     },
     "metadata": {
      "needs_background": "light"
     },
     "output_type": "display_data"
    }
   ],
   "source": [
    "# Plot Spiral        \n",
    "plt.scatter(data_points[:,0], data_points[:,1], c=colors)\n",
    "axes = plt.gca()\n",
    "axes.set_ylim([-1.5,1.5])\n",
    "plt.show()"
   ]
  },
  {
   "cell_type": "code",
   "execution_count": 185,
   "metadata": {},
   "outputs": [
    {
     "name": "stdout",
     "output_type": "stream",
     "text": [
      "train X size is (160, 2)\n",
      "test X size is (40, 2)\n"
     ]
    }
   ],
   "source": [
    "# train test split\n",
    "from sklearn.model_selection import train_test_split\n",
    "\n",
    "\n",
    "train_x, test_x, train_y, test_y = train_test_split(\n",
    "     data_points, onehot_encoded, test_size=0.2, random_state=42)\n",
    "\n",
    "print(\"train X size is {}\".format(train_x.shape))\n",
    "print(\"test X size is {}\".format(test_x.shape))\n"
   ]
  },
  {
   "cell_type": "code",
   "execution_count": 186,
   "metadata": {},
   "outputs": [],
   "source": [
    "## Initialize Training Parameters\n",
    "learning_rate = 0.1\n",
    "num_steps = 4\n",
    "batch_size = 40\n",
    "EPOCHS = 100\n",
    "\n",
    "# Neural Network Parameters\n",
    "n_hidden_1 = 80 # 1st layer number of neurons\n",
    "num_input = 2 # Spiral data input 2-D points\n",
    "num_classes = 2 # Total classes (red or black)\n",
    "\n",
    "# tf Graph input\n",
    "X = tf.placeholder(\"float\", [None, num_input])\n",
    "Y = tf.placeholder(\"float\", [None, num_classes])"
   ]
  },
  {
   "cell_type": "code",
   "execution_count": 187,
   "metadata": {},
   "outputs": [],
   "source": [
    "## Initialize Layer Weights\n",
    "# Store layers weight & bias\n",
    "weights = {\n",
    "    'w1': tf.Variable(tf.random_normal([num_input, n_hidden_1])),\n",
    "    'out': tf.Variable(tf.random_normal([n_hidden_1, num_classes]))\n",
    "}\n",
    "biases = {\n",
    "    'b1': tf.Variable(tf.random_normal([n_hidden_1])),\n",
    "    'out': tf.Variable(tf.random_normal([num_classes]))\n",
    "}\n",
    "\n",
    "## Create model\n",
    "def neural_net(x):\n",
    "    # Hidden fully connected layer. You can use different activation functions here apart from tanh. \n",
    "    layer_1 = tf.nn.tanh(tf.add(tf.matmul(x, weights['w1']), biases['b1']))\n",
    "    # Output fully connected layer with a neuron for each class\n",
    "    out_layer = tf.matmul(layer_1, weights['out']) + biases['out']\n",
    "    return out_layer\n",
    "\n"
   ]
  },
  {
   "cell_type": "code",
   "execution_count": 188,
   "metadata": {},
   "outputs": [],
   "source": [
    "## Construct model\n",
    "logits = neural_net(X)\n",
    "\n",
    "# Define loss\n",
    "loss_op = tf.reduce_mean(tf.nn.softmax_cross_entropy_with_logits(logits=logits, labels=Y))\n",
    "\n",
    "# Set the optimizer as Adam. Adam optimizer is a SGD method that is based on adaptive estimation \n",
    "# of first-order and second-order moments. This is the most commonly used one in DL. There are many more optimizers out there. \n",
    "# Refer to this for more information - https://www.tensorflow.org/versions/r1.15/api_docs/python/tf/keras/optimizers\n",
    "optimizer = tf.train.AdamOptimizer(learning_rate=learning_rate) \n",
    "train_op = optimizer.minimize(loss_op)\n",
    "\n",
    "# Evaluate model\n",
    "correct_pred = tf.equal(tf.argmax(logits, 1), tf.argmax(Y, 1))\n",
    "#accuracy = tf.reduce_mean(tf.cast(correct_pred, tf.float32))# cast to new data type\n"
   ]
  },
  {
   "cell_type": "code",
   "execution_count": 189,
   "metadata": {},
   "outputs": [
    {
     "name": "stdout",
     "output_type": "stream",
     "text": [
      "Epoch 1, Training Loss= 1.9482\n",
      "Training Accuracy=0.63125\n",
      "Test Accuracy=0.6\n",
      "Epoch 2, Training Loss= 1.1528\n",
      "Training Accuracy=0.58125\n",
      "Test Accuracy=0.5\n",
      "Epoch 3, Training Loss= 1.1029\n",
      "Training Accuracy=0.56875\n",
      "Test Accuracy=0.6\n",
      "Epoch 4, Training Loss= 0.8659\n",
      "Training Accuracy=0.61875\n",
      "Test Accuracy=0.625\n",
      "Epoch 5, Training Loss= 0.8328\n",
      "Training Accuracy=0.56875\n",
      "Test Accuracy=0.525\n",
      "Epoch 6, Training Loss= 0.9880\n",
      "Training Accuracy=0.63125\n",
      "Test Accuracy=0.575\n",
      "Epoch 7, Training Loss= 0.7292\n",
      "Training Accuracy=0.6125\n",
      "Test Accuracy=0.575\n",
      "Epoch 8, Training Loss= 0.6887\n",
      "Training Accuracy=0.6625\n",
      "Test Accuracy=0.575\n",
      "Epoch 9, Training Loss= 0.6454\n",
      "Training Accuracy=0.675\n",
      "Test Accuracy=0.7\n",
      "Epoch 10, Training Loss= 0.6186\n",
      "Training Accuracy=0.6375\n",
      "Test Accuracy=0.525\n",
      "Epoch 11, Training Loss= 0.6232\n",
      "Training Accuracy=0.675\n",
      "Test Accuracy=0.7\n",
      "Epoch 12, Training Loss= 0.6019\n",
      "Training Accuracy=0.6625\n",
      "Test Accuracy=0.55\n",
      "Epoch 13, Training Loss= 0.6281\n",
      "Training Accuracy=0.66875\n",
      "Test Accuracy=0.65\n",
      "Epoch 14, Training Loss= 0.6176\n",
      "Training Accuracy=0.60625\n",
      "Test Accuracy=0.475\n",
      "Epoch 15, Training Loss= 0.6430\n",
      "Training Accuracy=0.66875\n",
      "Test Accuracy=0.65\n",
      "Epoch 16, Training Loss= 0.6059\n",
      "Training Accuracy=0.68125\n",
      "Test Accuracy=0.45\n",
      "Epoch 17, Training Loss= 0.6379\n",
      "Training Accuracy=0.66875\n",
      "Test Accuracy=0.675\n",
      "Epoch 18, Training Loss= 0.5887\n",
      "Training Accuracy=0.70625\n",
      "Test Accuracy=0.55\n",
      "Epoch 19, Training Loss= 0.6119\n",
      "Training Accuracy=0.6625\n",
      "Test Accuracy=0.675\n",
      "Epoch 20, Training Loss= 0.5694\n",
      "Training Accuracy=0.70625\n",
      "Test Accuracy=0.525\n",
      "Epoch 21, Training Loss= 0.5842\n",
      "Training Accuracy=0.66875\n",
      "Test Accuracy=0.675\n",
      "Epoch 22, Training Loss= 0.5490\n",
      "Training Accuracy=0.75\n",
      "Test Accuracy=0.55\n",
      "Epoch 23, Training Loss= 0.5598\n",
      "Training Accuracy=0.69375\n",
      "Test Accuracy=0.675\n",
      "Epoch 24, Training Loss= 0.5291\n",
      "Training Accuracy=0.7625\n",
      "Test Accuracy=0.575\n",
      "Epoch 25, Training Loss= 0.5371\n",
      "Training Accuracy=0.70625\n",
      "Test Accuracy=0.65\n",
      "Epoch 26, Training Loss= 0.5138\n",
      "Training Accuracy=0.76875\n",
      "Test Accuracy=0.625\n",
      "Epoch 27, Training Loss= 0.5186\n",
      "Training Accuracy=0.73125\n",
      "Test Accuracy=0.625\n",
      "Epoch 28, Training Loss= 0.5009\n",
      "Training Accuracy=0.75\n",
      "Test Accuracy=0.65\n",
      "Epoch 29, Training Loss= 0.5039\n",
      "Training Accuracy=0.7375\n",
      "Test Accuracy=0.65\n",
      "Epoch 30, Training Loss= 0.4910\n",
      "Training Accuracy=0.75625\n",
      "Test Accuracy=0.65\n",
      "Epoch 31, Training Loss= 0.4902\n",
      "Training Accuracy=0.75\n",
      "Test Accuracy=0.65\n",
      "Epoch 32, Training Loss= 0.4823\n",
      "Training Accuracy=0.7625\n",
      "Test Accuracy=0.65\n",
      "Epoch 33, Training Loss= 0.4772\n",
      "Training Accuracy=0.75\n",
      "Test Accuracy=0.65\n",
      "Epoch 34, Training Loss= 0.4729\n",
      "Training Accuracy=0.75625\n",
      "Test Accuracy=0.65\n",
      "Epoch 35, Training Loss= 0.4648\n",
      "Training Accuracy=0.7625\n",
      "Test Accuracy=0.65\n",
      "Epoch 36, Training Loss= 0.4624\n",
      "Training Accuracy=0.75625\n",
      "Test Accuracy=0.65\n",
      "Epoch 37, Training Loss= 0.4534\n",
      "Training Accuracy=0.76875\n",
      "Test Accuracy=0.65\n",
      "Epoch 38, Training Loss= 0.4502\n",
      "Training Accuracy=0.76875\n",
      "Test Accuracy=0.65\n",
      "Epoch 39, Training Loss= 0.4427\n",
      "Training Accuracy=0.78125\n",
      "Test Accuracy=0.65\n",
      "Epoch 40, Training Loss= 0.4377\n",
      "Training Accuracy=0.78125\n",
      "Test Accuracy=0.65\n",
      "Epoch 41, Training Loss= 0.4322\n",
      "Training Accuracy=0.78125\n",
      "Test Accuracy=0.65\n",
      "Epoch 42, Training Loss= 0.4259\n",
      "Training Accuracy=0.78125\n",
      "Test Accuracy=0.65\n",
      "Epoch 43, Training Loss= 0.4213\n",
      "Training Accuracy=0.78125\n",
      "Test Accuracy=0.65\n",
      "Epoch 44, Training Loss= 0.4151\n",
      "Training Accuracy=0.8\n",
      "Test Accuracy=0.65\n",
      "Epoch 45, Training Loss= 0.4103\n",
      "Training Accuracy=0.80625\n",
      "Test Accuracy=0.65\n",
      "Epoch 46, Training Loss= 0.4049\n",
      "Training Accuracy=0.8\n",
      "Test Accuracy=0.65\n",
      "Epoch 47, Training Loss= 0.3995\n",
      "Training Accuracy=0.79375\n",
      "Test Accuracy=0.65\n",
      "Epoch 48, Training Loss= 0.3947\n",
      "Training Accuracy=0.80625\n",
      "Test Accuracy=0.65\n",
      "Epoch 49, Training Loss= 0.3893\n",
      "Training Accuracy=0.81875\n",
      "Test Accuracy=0.65\n",
      "Epoch 50, Training Loss= 0.3845\n",
      "Training Accuracy=0.83125\n",
      "Test Accuracy=0.65\n",
      "Epoch 51, Training Loss= 0.3795\n",
      "Training Accuracy=0.83125\n",
      "Test Accuracy=0.65\n",
      "Epoch 52, Training Loss= 0.3744\n",
      "Training Accuracy=0.8625\n",
      "Test Accuracy=0.65\n",
      "Epoch 53, Training Loss= 0.3695\n",
      "Training Accuracy=0.8625\n",
      "Test Accuracy=0.65\n",
      "Epoch 54, Training Loss= 0.3643\n",
      "Training Accuracy=0.8625\n",
      "Test Accuracy=0.65\n",
      "Epoch 55, Training Loss= 0.3593\n",
      "Training Accuracy=0.8625\n",
      "Test Accuracy=0.65\n",
      "Epoch 56, Training Loss= 0.3543\n",
      "Training Accuracy=0.8625\n",
      "Test Accuracy=0.65\n",
      "Epoch 57, Training Loss= 0.3496\n",
      "Training Accuracy=0.8625\n",
      "Test Accuracy=0.675\n",
      "Epoch 58, Training Loss= 0.3451\n",
      "Training Accuracy=0.86875\n",
      "Test Accuracy=0.675\n",
      "Epoch 59, Training Loss= 0.3409\n",
      "Training Accuracy=0.875\n",
      "Test Accuracy=0.675\n",
      "Epoch 60, Training Loss= 0.3369\n",
      "Training Accuracy=0.875\n",
      "Test Accuracy=0.675\n",
      "Epoch 61, Training Loss= 0.3330\n",
      "Training Accuracy=0.875\n",
      "Test Accuracy=0.675\n",
      "Epoch 62, Training Loss= 0.3291\n",
      "Training Accuracy=0.875\n",
      "Test Accuracy=0.675\n",
      "Epoch 63, Training Loss= 0.3253\n",
      "Training Accuracy=0.875\n",
      "Test Accuracy=0.675\n",
      "Epoch 64, Training Loss= 0.3216\n",
      "Training Accuracy=0.88125\n",
      "Test Accuracy=0.675\n",
      "Epoch 65, Training Loss= 0.3179\n",
      "Training Accuracy=0.88125\n",
      "Test Accuracy=0.675\n",
      "Epoch 66, Training Loss= 0.3143\n",
      "Training Accuracy=0.88125\n",
      "Test Accuracy=0.675\n",
      "Epoch 67, Training Loss= 0.3108\n",
      "Training Accuracy=0.89375\n",
      "Test Accuracy=0.675\n",
      "Epoch 68, Training Loss= 0.3073\n",
      "Training Accuracy=0.89375\n",
      "Test Accuracy=0.675\n",
      "Epoch 69, Training Loss= 0.3039\n",
      "Training Accuracy=0.89375\n",
      "Test Accuracy=0.675\n",
      "Epoch 70, Training Loss= 0.3005\n",
      "Training Accuracy=0.89375\n",
      "Test Accuracy=0.675\n",
      "Epoch 71, Training Loss= 0.2972\n",
      "Training Accuracy=0.89375\n",
      "Test Accuracy=0.675\n",
      "Epoch 72, Training Loss= 0.2940\n",
      "Training Accuracy=0.9\n",
      "Test Accuracy=0.675\n",
      "Epoch 73, Training Loss= 0.2908\n",
      "Training Accuracy=0.90625\n",
      "Test Accuracy=0.675\n",
      "Epoch 74, Training Loss= 0.2876\n",
      "Training Accuracy=0.9125\n",
      "Test Accuracy=0.675\n",
      "Epoch 75, Training Loss= 0.2845\n",
      "Training Accuracy=0.9125\n",
      "Test Accuracy=0.675\n",
      "Epoch 76, Training Loss= 0.2815\n",
      "Training Accuracy=0.9125\n",
      "Test Accuracy=0.675\n",
      "Epoch 77, Training Loss= 0.2785\n",
      "Training Accuracy=0.9125\n",
      "Test Accuracy=0.7\n",
      "Epoch 78, Training Loss= 0.2755\n",
      "Training Accuracy=0.91875\n",
      "Test Accuracy=0.7\n",
      "Epoch 79, Training Loss= 0.2726\n",
      "Training Accuracy=0.91875\n",
      "Test Accuracy=0.7\n",
      "Epoch 80, Training Loss= 0.2698\n",
      "Training Accuracy=0.91875\n",
      "Test Accuracy=0.675\n",
      "Epoch 81, Training Loss= 0.2670\n",
      "Training Accuracy=0.91875\n",
      "Test Accuracy=0.675\n",
      "Epoch 82, Training Loss= 0.2642\n",
      "Training Accuracy=0.91875\n",
      "Test Accuracy=0.675\n",
      "Epoch 83, Training Loss= 0.2615\n",
      "Training Accuracy=0.925\n",
      "Test Accuracy=0.65\n",
      "Epoch 84, Training Loss= 0.2588\n",
      "Training Accuracy=0.925\n",
      "Test Accuracy=0.65\n",
      "Epoch 85, Training Loss= 0.2562\n",
      "Training Accuracy=0.925\n",
      "Test Accuracy=0.625\n",
      "Epoch 86, Training Loss= 0.2537\n",
      "Training Accuracy=0.925\n",
      "Test Accuracy=0.65\n",
      "Epoch 87, Training Loss= 0.2511\n",
      "Training Accuracy=0.925\n",
      "Test Accuracy=0.65\n",
      "Epoch 88, Training Loss= 0.2487\n",
      "Training Accuracy=0.925\n",
      "Test Accuracy=0.65\n",
      "Epoch 89, Training Loss= 0.2463\n",
      "Training Accuracy=0.93125\n",
      "Test Accuracy=0.65\n",
      "Epoch 90, Training Loss= 0.2439\n",
      "Training Accuracy=0.93125\n",
      "Test Accuracy=0.65\n",
      "Epoch 91, Training Loss= 0.2416\n",
      "Training Accuracy=0.93125\n",
      "Test Accuracy=0.65\n",
      "Epoch 92, Training Loss= 0.2394\n",
      "Training Accuracy=0.93125\n",
      "Test Accuracy=0.65\n",
      "Epoch 93, Training Loss= 0.2371\n",
      "Training Accuracy=0.93125\n",
      "Test Accuracy=0.65\n",
      "Epoch 94, Training Loss= 0.2349\n",
      "Training Accuracy=0.93125\n",
      "Test Accuracy=0.65\n",
      "Epoch 95, Training Loss= 0.2328\n",
      "Training Accuracy=0.93125\n",
      "Test Accuracy=0.675\n",
      "Epoch 96, Training Loss= 0.2307\n",
      "Training Accuracy=0.93125\n",
      "Test Accuracy=0.675\n",
      "Epoch 97, Training Loss= 0.2286\n",
      "Training Accuracy=0.93125\n",
      "Test Accuracy=0.675\n",
      "Epoch 98, Training Loss= 0.2266\n",
      "Training Accuracy=0.93125\n",
      "Test Accuracy=0.7\n",
      "Epoch 99, Training Loss= 0.2246\n",
      "Training Accuracy=0.93125\n",
      "Test Accuracy=0.7\n"
     ]
    }
   ],
   "source": [
    "# Initialize the variables (i.e. assign their default value)\n",
    "init = tf.global_variables_initializer()\n",
    "\n",
    "\n",
    "## Start training\n",
    "sess=tf.Session()\n",
    "test_acc = []\n",
    "train_acc = []\n",
    "\n",
    "\n",
    "# Run the initializer\n",
    "sess.run(init)\n",
    "for kk in range(1,EPOCHS):\n",
    "    for step in range(1, num_steps+1):\n",
    "        batch_x, batch_y = train_x[(batch_size)*(step-1)+1:batch_size*(step),],train_y[(batch_size)*(step-1)+1:batch_size*(step),]  #mnist.train.next_batch(batch_size)\n",
    "        # Run optimization (backprop)\n",
    "        sess.run(train_op, feed_dict={X: batch_x, Y: batch_y})\n",
    "\n",
    "    loss = sess.run(loss_op, feed_dict={X: train_x, Y: train_y})\n",
    "    print(\"Epoch \" + str(kk) + \", Training Loss= \" + \"{:.4f}\".format(loss))\n",
    "    acc_train = sess.run(correct_pred, feed_dict={X: train_x, Y: train_y})\n",
    "    acc_train = np.sum(acc_train)/len(acc_train)\n",
    "    train_acc.append(acc_train)\n",
    "    print(\"Training Accuracy=\" + str(acc_train))\n",
    "    acc_test = sess.run(correct_pred, feed_dict={X: test_x, Y: test_y})\n",
    "    acc_test = np.sum(acc_test)/len(acc_test)\n",
    "    test_acc.append(acc_test)\n",
    "    print(\"Test Accuracy=\" + str(acc_test))\n"
   ]
  },
  {
   "cell_type": "code",
   "execution_count": 184,
   "metadata": {},
   "outputs": [
    {
     "data": {
      "image/png": "[encoded data removed]",
      "text/plain": [
       "<Figure size 432x288 with 1 Axes>"
      ]
     },
     "metadata": {
      "needs_background": "light"
     },
     "output_type": "display_data"
    }
   ],
   "source": [
    "X = data_points\n",
    "W0 = sess.run(weights)['w1']\n",
    "B0 = sess.run(biases)['b1']\n",
    "W1 = sess.run(weights)['out']\n",
    "B1 = sess.run(biases)['out']\n",
    "def neural_net_plot(X, W0, W1, B0, B1):\n",
    "    # Hidden fully connected layer \n",
    "    layer_1 = np.maximum(np.matmul(X, W0) + B0, 0)\n",
    "    # Output fully connected layer with a neuron for each class\n",
    "    logits = np.matmul(layer_1, W1) + B1\n",
    "    out_layer = np.argmax(logits, 1)\n",
    "    return out_layer\n",
    "\n",
    "\n",
    "# Helper function to plot a decision boundary.\n",
    "def plot_decision_boundary(neural_net_plot, X, W0,W1, B0,B1, col):\n",
    "    # Set min and max values and give it some padding\n",
    "    x_min, x_max = X[:, 0].min() - .5, X[:, 0].max() + .5\n",
    "    y_min, y_max = X[:, 1].min() - .5, X[:, 1].max() + .5\n",
    "    x_min = np.float32(x_min)\n",
    "    x_max = np.float32(x_max)\n",
    "    y_min = np.float32(y_min)\n",
    "    y_max = np.float32(y_max)\n",
    "    h = 0.1\n",
    "    # Generate a grid of points with distance h between them\n",
    "    xx, yy = np.meshgrid(np.arange(x_min, x_max, h), np.arange(y_min, y_max, h))\n",
    "    # Predict the function value for the whole gid\n",
    "    xx = np.float32(xx)\n",
    "    yy = np.float32(yy)\n",
    "    Z = neural_net_plot(np.c_[xx.ravel(), yy.ravel()], W0,W1, B0,B1)\n",
    "    Z = Z.reshape(xx.shape)\n",
    "    # Plot the contour and training examples\n",
    "    plt.contourf(xx, yy, Z, cmap=plt.cm.Spectral)\n",
    "    plt.scatter(X[:, 0], X[:, 1], s=1.5, c=col)\n",
    "    plt.show()\n",
    "\n",
    "\n",
    "plot_decision_boundary(neural_net_plot, X, W0,W1, B0,B1, colors)"
   ]
  },
  {
   "cell_type": "markdown",
   "metadata": {},
   "source": [
    "There are many hyperparameters you should be tuning for a net. Most important ones being learning rate, number of layers, their size, choice of activation function and many more. Above is a simple version without any careful cross-validation, but you should refer to documentation and find efficient ways for tuning our model to get the best results. \n",
    "\n",
    "Neural Networks are great models but can turn into a black box very very soon if you do not understand what is happening under the hood. Also, as a sidenote, there are many other modern ML/DL libraries like Torch and keras that abstract away many of steps we showed above. Feel free to try them out too to build some exciting DL models :)"
   ]
  }
 ],
 "metadata": {
  "anaconda-cloud": {},
  "kernelspec": {
   "display_name": "Python 3",
   "language": "python",
   "name": "python3"
  },
  "language_info": {
   "codemirror_mode": {
    "name": "ipython",
    "version": 3
   },
   "file_extension": ".py",
   "mimetype": "text/x-python",
   "name": "python",
   "nbconvert_exporter": "python",
   "pygments_lexer": "ipython3",
   "version": "3.8.3"
  }
 },
 "nbformat": 4,
 "nbformat_minor": 1
}
