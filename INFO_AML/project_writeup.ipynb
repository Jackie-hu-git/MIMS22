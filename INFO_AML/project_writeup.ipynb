{
 "cells": [
  {
   "cell_type": "markdown",
   "metadata": {},
   "source": [
    "# The length of the report should be 8+/-2 pages when it is printed as a PDF, excluding figures and code.\n",
    "\n",
    "# Clearly stated research question - why interesting and Important\n",
    "\n",
    " Include at least one research question involving at least one or more of the datasets from one of the topics we provided\n",
    "brief survey or related work on the topic of your analysis and how the project differs from or complements existing research\n",
    "## If applicable, descriptions of additional datasets you gathered to support your Analysis\n",
    "\n",
    "# Methodology\n",
    "### Brief overview of causal inference\n",
    " which should be written in a way such that another student in Data 100 who has never been exposed to the concept can carry out the analyses involving the datasets in your project.\n",
    "### Detailed Description of MOdeling \n",
    "including inference or prediction methods used, feature engineering and regularization if applicable, and cross-validation or test data as appropriate for model selection and evaluation.\n",
    "\n",
    "# Interesting findings\n",
    "###  Visualizations\n",
    "### descriptions of data cleaning and data transformation to perform analysis\n",
    "Interesting data distributions and trends, correlations between different features, the relationship between the data distribution for the general population and specific datasets\n",
    "\n",
    "# Analysis of findings \n",
    "### Include visualizations and specific results.\n",
    "If your research questions contain a modeling component, you must compare the results using different inference or prediction methods (e.g., linear regression, logistic regression, or classification and regression trees). Can you explain why some methods performed better than others?\n",
    "\n",
    "# Evaluation of approach\n",
    "### discuss any limitations of the methods you used.\n",
    "\n",
    "# Surprising Discoveries"
   ]
  },
  {
   "cell_type": "code",
   "execution_count": null,
   "metadata": {},
   "outputs": [],
   "source": []
  }
 ],
 "metadata": {
  "kernelspec": {
   "display_name": "Python 3",
   "language": "python",
   "name": "python3"
  },
  "language_info": {
   "codemirror_mode": {
    "name": "ipython",
    "version": 3
   },
   "file_extension": ".py",
   "mimetype": "text/x-python",
   "name": "python",
   "nbconvert_exporter": "python",
   "pygments_lexer": "ipython3",
   "version": "3.8.3"
  }
 },
 "nbformat": 4,
 "nbformat_minor": 4
}
