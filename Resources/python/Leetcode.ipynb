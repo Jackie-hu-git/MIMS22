{
 "cells": [
  {
   "cell_type": "markdown",
   "metadata": {},
   "source": [
    "# Cutting metal"
   ]
  },
  {
   "cell_type": "code",
   "execution_count": 228,
   "metadata": {},
   "outputs": [],
   "source": [
    "def maxProfit (lengths, costpercut, saleprice):\n",
    "    n = len(lengths)\n",
    "    max_rev = 0\n",
    "    sale_length = min(lengths)\n",
    "    \n",
    "    for fac in range(sale_length, 0, -1):\n",
    "                   \n",
    "        if sale_length % fac == 0: #\n",
    "            cur_rev = 0\n",
    "\n",
    "            for i in range (n):\n",
    "                rod = lengths[i]\n",
    "\n",
    "                if rod % fac == 0:\n",
    "                        cur_rev += ((rod//fac) * saleprice * fac) - (((rod//fac) - 1) *costpercut)\n",
    "\n",
    "                else:\n",
    "                    cur_rev += ((rod//fac) * saleprice * fac) - ((rod//fac)*costpercut)\n",
    "\n",
    "            print(fac, cur_rev)\n",
    "\n",
    "            if cur_rev < max_rev:\n",
    "                return max_rev\n",
    "\n",
    "            max_rev = max(max_rev, cur_rev)\n",
    "        \n",
    "    return max_rev\n",
    "                "
   ]
  },
  {
   "cell_type": "code",
   "execution_count": 229,
   "metadata": {},
   "outputs": [],
   "source": [
    "lengths = [30,59,110]\n",
    "costpercut = 1\n",
    "saleprice = 10"
   ]
  },
  {
   "cell_type": "code",
   "execution_count": 230,
   "metadata": {},
   "outputs": [
    {
     "name": "stdout",
     "output_type": "stream",
     "text": [
      "30 1496\n",
      "15 1789\n",
      "10 1883\n",
      "6 1889\n",
      "5 1913\n",
      "3 1886\n"
     ]
    },
    {
     "data": {
      "text/plain": [
       "1913"
      ]
     },
     "execution_count": 230,
     "metadata": {},
     "output_type": "execute_result"
    }
   ],
   "source": [
    "maxProfit(lengths, costpercut, saleprice)"
   ]
  },
  {
   "cell_type": "markdown",
   "metadata": {},
   "source": [
    "# Efficient Janitor"
   ]
  },
  {
   "cell_type": "code",
   "execution_count": 37,
   "metadata": {},
   "outputs": [],
   "source": [
    "# 1.01 - 3, sum <= 3 \n"
   ]
  },
  {
   "cell_type": "code",
   "execution_count": 41,
   "metadata": {},
   "outputs": [],
   "source": [
    "\n",
    "weight= [1.01, 1.99, 2.5, 1.5, 1.01]\n",
    "\n",
    "# 1.01 + 1.99 -> 2.5 -> 1.5 + 1.01"
   ]
  },
  {
   "cell_type": "code",
   "execution_count": 42,
   "metadata": {},
   "outputs": [],
   "source": [
    "def efficient (weight):\n",
    "    \n",
    "    weight.sort()\n",
    "    \n",
    "    lightest = 0\n",
    "    heavy = len(weight) - 1\n",
    "    \n",
    "    trip = 0\n",
    "    \n",
    "    while lightest <= heavy:\n",
    "        trip += 1\n",
    "        \n",
    "        if weight[lightest] + weight[heavy] <= 3:\n",
    "            lightest += 1\n",
    "            \n",
    "        heavy -= 1\n",
    "        \n",
    "    return trip\n",
    "        \n",
    "    "
   ]
  },
  {
   "cell_type": "code",
   "execution_count": 43,
   "metadata": {},
   "outputs": [
    {
     "data": {
      "text/plain": [
       "3"
      ]
     },
     "execution_count": 43,
     "metadata": {},
     "output_type": "execute_result"
    }
   ],
   "source": [
    "efficient(weight)"
   ]
  },
  {
   "cell_type": "markdown",
   "metadata": {},
   "source": [
    "# Common Prefix Length"
   ]
  },
  {
   "cell_type": "code",
   "execution_count": 44,
   "metadata": {},
   "outputs": [],
   "source": [
    "inputs = ['ababaa']"
   ]
  },
  {
   "cell_type": "code",
   "execution_count": 66,
   "metadata": {},
   "outputs": [],
   "source": [
    "def commonPrefix2 (inputs):\n",
    "\n",
    "    length = len(inputs)\n",
    "    \n",
    "    total = length\n",
    "    pointer = 1 #current remove string's length, total - pointer = suffix length\n",
    "\n",
    "    while pointer < length:\n",
    "        prefix = pointer\n",
    "        suffix = pointer\n",
    "        \n",
    "        while suffix < length and inputs[suffix] == inputs[suffix - prefix]:\n",
    "            suffix += 1\n",
    "        \n",
    "        total += suffix - pointer\n",
    "        \n",
    "        pointer += 1\n",
    "    \n",
    "    return total"
   ]
  },
  {
   "cell_type": "code",
   "execution_count": 111,
   "metadata": {},
   "outputs": [
    {
     "data": {
      "text/plain": [
       "11"
      ]
     },
     "execution_count": 111,
     "metadata": {},
     "output_type": "execute_result"
    }
   ],
   "source": [
    "commonPrefix2('ababaa')"
   ]
  },
  {
   "cell_type": "markdown",
   "metadata": {},
   "source": [
    "# Name"
   ]
  },
  {
   "cell_type": "code",
   "execution_count": 588,
   "metadata": {},
   "outputs": [],
   "source": [
    "def romanToInt(roman):\n",
    "        values = {\n",
    "            'I' : 1,\n",
    "            'V' : 5,\n",
    "            'X' : 10,\n",
    "            'L' : 50,       \n",
    "        }\n",
    "        \n",
    "        pre = 0\n",
    "        ans = 0\n",
    "        n = len(roman)\n",
    "        \n",
    "        for i in range(n-1, -1, -1):\n",
    "            if values[roman[i]] >= pre:\n",
    "                ans += values[roman[i]]\n",
    "                \n",
    "            else:\n",
    "                ans -= values[roman[i]]\n",
    "                \n",
    "            pre = values[roman[i]]\n",
    "            \n",
    "        return ans"
   ]
  },
  {
   "cell_type": "code",
   "execution_count": 607,
   "metadata": {},
   "outputs": [],
   "source": [
    "def solve(names):\n",
    "\n",
    "    new_name = []\n",
    "\n",
    "    for i in names:\n",
    "        \n",
    "        name, num = i.split()\n",
    "        num_int = romanToInt(num)\n",
    "        new_name.append((name, num_int, i))\n",
    "    \n",
    "    new_name = sorted(new_name, key= lambda x:(x[0], x[1]))\n",
    "    \n",
    "    for j in range(len(new_name)):\n",
    "        print(new_name[j][2])\n",
    "    \n",
    "    \n",
    "    return new_name"
   ]
  },
  {
   "cell_type": "code",
   "execution_count": 608,
   "metadata": {},
   "outputs": [
    {
     "name": "stdout",
     "output_type": "stream",
     "text": [
      "David IX\n",
      "Mary XIII\n",
      "Mary XV\n",
      "Mary XX\n",
      "Steven XVI\n",
      "Steven XL\n"
     ]
    },
    {
     "data": {
      "text/plain": [
       "[('David', 9, 'David IX'),\n",
       " ('Mary', 13, 'Mary XIII'),\n",
       " ('Mary', 15, 'Mary XV'),\n",
       " ('Mary', 20, 'Mary XX'),\n",
       " ('Steven', 16, 'Steven XVI'),\n",
       " ('Steven', 40, 'Steven XL')]"
      ]
     },
     "execution_count": 608,
     "metadata": {},
     "output_type": "execute_result"
    }
   ],
   "source": [
    "solve(names)"
   ]
  },
  {
   "cell_type": "code",
   "execution_count": 271,
   "metadata": {},
   "outputs": [],
   "source": []
  },
  {
   "cell_type": "code",
   "execution_count": 283,
   "metadata": {},
   "outputs": [],
   "source": [
    "def romanToIntF(roman):\n",
    "    \n",
    "    values = {\n",
    "            \"I\": 1,\n",
    "            \"V\": 5,\n",
    "            \"X\": 10,\n",
    "            \"L\": 50,\n",
    "        }\n",
    "    \n",
    "    i = 0\n",
    "    ans = 0\n",
    "    n = len(roman)\n",
    "\n",
    "\n",
    "    while i < n:\n",
    "        #first element\n",
    "        \n",
    "        s1 = values[roman[i]]\n",
    "        \n",
    "        if (i + 1 < n):\n",
    "            \n",
    "            #next element\n",
    "            s2 = values[roman[i + 1]]\n",
    "            \n",
    "            #compare \n",
    "            if (s1 >= s2):\n",
    "                ans = s1+s2\n",
    "                i += 1\n",
    "            \n",
    "            else:\n",
    "                ans = (s2 - s1)\n",
    "                i += 1\n",
    "    \n",
    "    return ans"
   ]
  },
  {
   "cell_type": "code",
   "execution_count": 284,
   "metadata": {},
   "outputs": [
    {
     "ename": "KeyboardInterrupt",
     "evalue": "",
     "output_type": "error",
     "traceback": [
      "\u001b[1;31m---------------------------------------------------------------------------\u001b[0m",
      "\u001b[1;31mKeyboardInterrupt\u001b[0m                         Traceback (most recent call last)",
      "\u001b[1;32m<ipython-input-284-75287623fb53>\u001b[0m in \u001b[0;36m<module>\u001b[1;34m\u001b[0m\n\u001b[1;32m----> 1\u001b[1;33m \u001b[0mromanToIntF\u001b[0m\u001b[1;33m(\u001b[0m\u001b[1;34m'XI'\u001b[0m\u001b[1;33m)\u001b[0m\u001b[1;33m\u001b[0m\u001b[1;33m\u001b[0m\u001b[0m\n\u001b[0m",
      "\u001b[1;32m<ipython-input-283-fc60e3532727>\u001b[0m in \u001b[0;36mromanToIntF\u001b[1;34m(roman)\u001b[0m\n\u001b[0;32m     16\u001b[0m         \u001b[1;31m#first element\u001b[0m\u001b[1;33m\u001b[0m\u001b[1;33m\u001b[0m\u001b[1;33m\u001b[0m\u001b[0m\n\u001b[0;32m     17\u001b[0m \u001b[1;33m\u001b[0m\u001b[0m\n\u001b[1;32m---> 18\u001b[1;33m         \u001b[0ms1\u001b[0m \u001b[1;33m=\u001b[0m \u001b[0mvalues\u001b[0m\u001b[1;33m[\u001b[0m\u001b[0mroman\u001b[0m\u001b[1;33m[\u001b[0m\u001b[0mi\u001b[0m\u001b[1;33m]\u001b[0m\u001b[1;33m]\u001b[0m\u001b[1;33m\u001b[0m\u001b[1;33m\u001b[0m\u001b[0m\n\u001b[0m\u001b[0;32m     19\u001b[0m \u001b[1;33m\u001b[0m\u001b[0m\n\u001b[0;32m     20\u001b[0m         \u001b[1;32mif\u001b[0m \u001b[1;33m(\u001b[0m\u001b[0mi\u001b[0m \u001b[1;33m+\u001b[0m \u001b[1;36m1\u001b[0m \u001b[1;33m<\u001b[0m \u001b[0mn\u001b[0m\u001b[1;33m)\u001b[0m\u001b[1;33m:\u001b[0m\u001b[1;33m\u001b[0m\u001b[1;33m\u001b[0m\u001b[0m\n",
      "\u001b[1;31mKeyboardInterrupt\u001b[0m: "
     ]
    }
   ],
   "source": [
    "romanToIntF('XI')"
   ]
  },
  {
   "cell_type": "code",
   "execution_count": 232,
   "metadata": {},
   "outputs": [],
   "source": [
    "names = ['Steven XL', 'Steven XVI', 'David IX', 'Mary XV', 'Mary XIII', 'Mary XX']"
   ]
  },
  {
   "cell_type": "markdown",
   "metadata": {},
   "source": [
    "# Box"
   ]
  },
  {
   "cell_type": "code",
   "execution_count": 133,
   "metadata": {},
   "outputs": [],
   "source": [
    "def pilesOfBox(boxes):\n",
    "    num_box = len(boxes)\n",
    "    steps = 0\n",
    "    pointer = 0\n",
    "    \n",
    "    sort_box = sorted(boxes, reverse=True)\n",
    "\n",
    "    if len(boxes) < 2:\n",
    "        return 0\n",
    "\n",
    "    while pointer < (num_box - 1):\n",
    "        if boxes[pointer + 1] < boxes[pointer]:\n",
    "            steps += pointer + 1\n",
    "        \n",
    "        pointer += 1\n",
    "        \n",
    "    return steps"
   ]
  },
  {
   "cell_type": "markdown",
   "metadata": {},
   "source": [
    "# Max Subarray Sum"
   ]
  },
  {
   "cell_type": "code",
   "execution_count": 140,
   "metadata": {},
   "outputs": [],
   "source": [
    "def maxSubArray(weights, capacity):\n",
    "    num = len(weights)\n",
    "    cur_weight = weights[0]\n",
    "    max_weight = 0\n",
    "    pointer = 0\n",
    "    \n",
    "    if num == 0:\n",
    "        return 0\n",
    "    \n",
    "    #sort_weight = sorted(weights, reverse = True)\n",
    "    \n",
    "    for i in range(1, num):\n",
    "        if (cur_weight <= capacity):\n",
    "            max_weight = max(max_weight, cur_weight)\n",
    "            \n",
    "            while (cur_weight + weights[i] > capacity) and (pointer < i):\n",
    "                cur_weight -= weights[pointer]\n",
    "                pointer += 1\n",
    "            \n",
    "            cur_weight += weights[i]\n",
    "            \n",
    "    if (cur_weight <= capacity):\n",
    "        max_weight = max(cur_weight, max_weight)\n",
    "        \n",
    "    return max_weight\n"
   ]
  },
  {
   "cell_type": "markdown",
   "metadata": {},
   "source": [
    "# Lifting Weights "
   ]
  },
  {
   "cell_type": "code",
   "execution_count": 1,
   "metadata": {},
   "outputs": [],
   "source": [
    "def weightCapacity(weights, capacity):\n",
    "    num = len(weights)\n",
    "    weight = capacity + 1\n",
    "    \n",
    "    dp = [[0 for i in range(weight)] for j in range(num)] \n",
    "    \n",
    "    for i in range(num):\n",
    "        for j in range (weight):\n",
    "            if weights[i] <= j:\n",
    "                dp[i][j] = max(weights[i] + dp[i -1][j - weights[i]] , dp[i - 1][j])\n",
    "            else: \n",
    "                dp[i][j] =  dp[i - 1][j - 1]\n",
    "            \n",
    "            \n",
    "    return dp[num -1][capacity]"
   ]
  },
  {
   "cell_type": "code",
   "execution_count": 5,
   "metadata": {},
   "outputs": [],
   "source": [
    "weights = [1, 3, 2]\n",
    "max_capacity = 3"
   ]
  },
  {
   "cell_type": "code",
   "execution_count": 6,
   "metadata": {},
   "outputs": [
    {
     "data": {
      "text/plain": [
       "3"
      ]
     },
     "execution_count": 6,
     "metadata": {},
     "output_type": "execute_result"
    }
   ],
   "source": [
    "weightCapacity(weights, max_capacity)"
   ]
  },
  {
   "cell_type": "markdown",
   "metadata": {},
   "source": [
    "# Smart Sells"
   ]
  },
  {
   "cell_type": "code",
   "execution_count": 354,
   "metadata": {},
   "outputs": [],
   "source": [
    "def deleteProducts(ids, m):\n",
    "    dic = {}\n",
    "    item_remv = 0\n",
    "    \n",
    "    for i in ids:\n",
    "        if i in dic:\n",
    "            dic[i] += 1\n",
    "        else:\n",
    "            dic[i] = 1\n",
    "    \n",
    "    for v in sorted(dic.values(),):\n",
    "\n",
    "        while m > 0:\n",
    "            \n",
    "            m -= v\n",
    "            item_remv += 1\n",
    "            \n",
    "    return len(dic) - item_remv"
   ]
  },
  {
   "cell_type": "code",
   "execution_count": 355,
   "metadata": {},
   "outputs": [],
   "source": [
    "ids = [1, 1, 1, 2, 3, 2]\n",
    "m = 2"
   ]
  },
  {
   "cell_type": "code",
   "execution_count": 356,
   "metadata": {},
   "outputs": [
    {
     "data": {
      "text/plain": [
       "1"
      ]
     },
     "execution_count": 356,
     "metadata": {},
     "output_type": "execute_result"
    }
   ],
   "source": [
    "deleteProducts(ids, m)"
   ]
  },
  {
   "cell_type": "markdown",
   "metadata": {},
   "source": [
    "# Gaming"
   ]
  },
  {
   "cell_type": "code",
   "execution_count": 87,
   "metadata": {},
   "outputs": [],
   "source": [
    "def competitiveGaming (scores, rankcutoff):\n",
    "    scores.sort(reverse= True)\n",
    "    count = 0\n",
    "    rank = 1\n",
    "    counter = {}\n",
    "    \n",
    "    for i in scores:\n",
    "        if i in counter:\n",
    "            counter[i] += 1 \n",
    "        else:\n",
    "            counter[i] = 1\n",
    "        \n",
    "    for k,v in counter.items():        \n",
    "        if rank > rankcutoff:\n",
    "            break\n",
    "        \n",
    "        count += v\n",
    "        rank += v\n",
    "        \n",
    "    return count"
   ]
  },
  {
   "cell_type": "code",
   "execution_count": 90,
   "metadata": {},
   "outputs": [],
   "source": [
    "#equal score, equal rank\n",
    "#next lower score will be ranked on the prev rank \n",
    "num_player = 4\n",
    "cut_off_rank = 3\n",
    "scores = [100, 100, 10, 25, 30, 30]\n",
    "# return how many level up -> 4"
   ]
  },
  {
   "cell_type": "code",
   "execution_count": 86,
   "metadata": {},
   "outputs": [
    {
     "name": "stdout",
     "output_type": "stream",
     "text": [
      "{100: 1, 50: 2, 25: 1}\n",
      "dict_values([1, 2, 1])\n",
      "dict_keys([100, 50, 25])\n"
     ]
    }
   ],
   "source": [
    "print(counter)\n",
    "print(counter.values())\n",
    "print(counter.keys())"
   ]
  },
  {
   "cell_type": "code",
   "execution_count": 91,
   "metadata": {},
   "outputs": [
    {
     "data": {
      "text/plain": [
       "4"
      ]
     },
     "execution_count": 91,
     "metadata": {},
     "output_type": "execute_result"
    }
   ],
   "source": [
    "competitiveGaming(scores, cut_off_rank)"
   ]
  },
  {
   "cell_type": "markdown",
   "metadata": {},
   "source": [
    "# Word Compression"
   ]
  },
  {
   "cell_type": "code",
   "execution_count": 108,
   "metadata": {},
   "outputs": [],
   "source": [
    "def wordCompression(string, k):\n",
    "    counter = {}\n",
    "    word = string[0]\n",
    "    \n",
    "    for i in string:\n",
    "        if i in counter:\n",
    "            counter[i] += 1\n",
    "        else:\n",
    "            counter[i] = 1\n",
    "    \n",
    "    for key,v in counter.items():\n",
    "        if int(v) % k != 0:\n",
    "            word = key\n",
    "    \n",
    "    return word"
   ]
  },
  {
   "cell_type": "code",
   "execution_count": 109,
   "metadata": {},
   "outputs": [],
   "source": [
    "string = 'abbcccb'\n",
    "k = 3"
   ]
  },
  {
   "cell_type": "code",
   "execution_count": 110,
   "metadata": {},
   "outputs": [
    {
     "data": {
      "text/plain": [
       "'a'"
      ]
     },
     "execution_count": 110,
     "metadata": {},
     "output_type": "execute_result"
    }
   ],
   "source": [
    "wordCompression(string, k)"
   ]
  },
  {
   "cell_type": "markdown",
   "metadata": {},
   "source": [
    "# Slowest keys"
   ]
  },
  {
   "cell_type": "code",
   "execution_count": 92,
   "metadata": {},
   "outputs": [],
   "source": [
    "def slowestKey(releaseTimes, keyPressed):       \n",
    "        n = len(releaseTimes)\n",
    "        max_time = releaseTimes[0]\n",
    "        return_key = keysPressed[0]\n",
    "        \n",
    "        for i in range(1, n):\n",
    "\n",
    "            cur_time = releaseTimes[i] - releaseTimes[i-1]\n",
    "            \n",
    "            if cur_time > max_time or (cur_time == max_time and keysPressed[i] > return_key):\n",
    "                max_time = cur_time\n",
    "                return_key = keysPressed[i]\n",
    "                \n",
    "        return return_key"
   ]
  },
  {
   "cell_type": "markdown",
   "metadata": {},
   "source": [
    "# Efficient shipping"
   ]
  },
  {
   "cell_type": "code",
   "execution_count": 117,
   "metadata": {},
   "outputs": [],
   "source": [
    "def efficientShipping(boxes, unitsPerBox, size):\n",
    "    dic = {}\n",
    "    num = 0\n",
    "    max_unit = 0\n",
    "    \n",
    "    \n",
    "    for i in range (len(boxes)):\n",
    "        dic[unitsPerBox[i]] = boxes[i]\n",
    "    \n",
    "    for unit in sorted(dic.keys(), reverse= True):\n",
    "        \n",
    "        if dic[unit] >= size:\n",
    "            max_unit += size * unit \n",
    "            return max_unit \n",
    "        \n",
    "        size -= dic[unit]\n",
    "        max_unit = dic[unit] * unit\n",
    "\n",
    "    return max_unit "
   ]
  },
  {
   "cell_type": "code",
   "execution_count": 118,
   "metadata": {},
   "outputs": [],
   "source": [
    "boxes = [1,2,3]\n",
    "unitsPerBox = [3,2,1]\n",
    "truckSize = 3"
   ]
  },
  {
   "cell_type": "code",
   "execution_count": 120,
   "metadata": {},
   "outputs": [
    {
     "data": {
      "text/plain": [
       "7"
      ]
     },
     "execution_count": 120,
     "metadata": {},
     "output_type": "execute_result"
    }
   ],
   "source": [
    "efficientShipping(boxes, unitsPerBox, truckSize)"
   ]
  },
  {
   "cell_type": "markdown",
   "metadata": {},
   "source": [
    "# University Career Fair"
   ]
  },
  {
   "cell_type": "code",
   "execution_count": 121,
   "metadata": {},
   "outputs": [],
   "source": [
    "def maxEvents(arr, dur):\n",
    "    end = arr[0] + dur[0]\n",
    "    count = 1\n",
    "    num = len(arr)\n",
    "    \n",
    "    for i in range(1, num):\n",
    "        if arr[i] >= end:\n",
    "            count += 1\n",
    "            end += dur[i]\n",
    "    return count"
   ]
  },
  {
   "cell_type": "code",
   "execution_count": 126,
   "metadata": {},
   "outputs": [],
   "source": [
    "arrival = [7, 3, 3, 5, 1]\n",
    "duration= [1, 2, 1, 2, 2]"
   ]
  },
  {
   "cell_type": "code",
   "execution_count": 130,
   "metadata": {},
   "outputs": [
    {
     "name": "stdout",
     "output_type": "stream",
     "text": [
      "[(1, 2), (3, 1), (3, 2), (5, 2), (7, 1)]\n"
     ]
    }
   ],
   "source": [
    "s = sorted(list(zip(arrival, duration)))\n",
    "\n",
    "print(s)\n"
   ]
  },
  {
   "cell_type": "code",
   "execution_count": 123,
   "metadata": {},
   "outputs": [
    {
     "data": {
      "text/plain": [
       "4"
      ]
     },
     "execution_count": 123,
     "metadata": {},
     "output_type": "execute_result"
    }
   ],
   "source": [
    "maxEvents(arrival, duration)"
   ]
  },
  {
   "cell_type": "code",
   "execution_count": 131,
   "metadata": {},
   "outputs": [],
   "source": [
    "def maxEventsSort(arr, dur):\n",
    "    sort = sorted(list(zip(arr, dur)))\n",
    "    \n",
    "    #end = arr[0] + dur[0]\n",
    "    end = sort[0][0] + sort[0][1]\n",
    "    count = 1\n",
    "    num = len(arr)\n",
    "    \n",
    "    for i in range(1, num):\n",
    "        if sort[i][0] >= end:\n",
    "            count += 1\n",
    "            end += sort[i][1]\n",
    "    return count"
   ]
  },
  {
   "cell_type": "code",
   "execution_count": 132,
   "metadata": {},
   "outputs": [
    {
     "data": {
      "text/plain": [
       "4"
      ]
     },
     "execution_count": 132,
     "metadata": {},
     "output_type": "execute_result"
    }
   ],
   "source": [
    "maxEventsSort(arrival, duration)"
   ]
  },
  {
   "cell_type": "markdown",
   "metadata": {},
   "source": [
    "# Paint the ceiling"
   ]
  },
  {
   "cell_type": "code",
   "execution_count": 257,
   "metadata": {},
   "outputs": [],
   "source": [
    "def variantsCount(n, s0, k, b, m, a):\n",
    "    sides = [s0]\n",
    "    \n",
    "    for i in range(1, n):\n",
    "        next_s = (k * sides[i-1] + b) % m + 1 + sides [i - 1]\n",
    "        if next_s * s0 > a:\n",
    "            break\n",
    "        else:\n",
    "            sides.append(next_s)\n",
    "            \n",
    "    left = 0\n",
    "    right = len(sides) -1\n",
    "    sides.sort()\n",
    "    max_a = sides[left] * sides[right]\n",
    "\n",
    "    while (sides[left] != sides[right]):\n",
    "        if (max_a < a):\n",
    "            \n",
    "            left += 1\n",
    "            cur_a = sides[left] * sides[right]\n",
    "            max_a = cur_a\n",
    "        \n",
    "        else:\n",
    "            right -= 1\n",
    "            cur_a = sides[left] * sides[right]\n",
    "            max_a = cur_a\n",
    "    return max_a"
   ]
  },
  {
   "cell_type": "code",
   "execution_count": 258,
   "metadata": {},
   "outputs": [
    {
     "data": {
      "text/plain": [
       "4"
      ]
     },
     "execution_count": 258,
     "metadata": {},
     "output_type": "execute_result"
    }
   ],
   "source": [
    "sides = [1, 2, 3]\n",
    "variantsCount(3, 1, 1, 1,2,4)"
   ]
  },
  {
   "cell_type": "markdown",
   "metadata": {},
   "source": [
    "# Largest Sub-Grid"
   ]
  },
  {
   "cell_type": "code",
   "execution_count": 418,
   "metadata": {},
   "outputs": [],
   "source": [
    "def largestSubGrid(ids, maxSum):\n",
    "    n = len(ids)\n",
    "    #mx = 0\n",
    "    #count = 0\n",
    "    left = 0\n",
    "    right = n\n",
    "    total = 0\n",
    "       \n",
    "    dp = [[0] * n for _ in range (n)]\n",
    "        \n",
    "    dp[0][0] = ids[0][0]\n",
    "    \n",
    "    for i in range(n):\n",
    "        for j in range(n):\n",
    "            if i == 0:\n",
    "                dp[0][j] = ids[0][j] + dp[0][j-1]\n",
    "                \n",
    "            elif j == 0:\n",
    "            \n",
    "                dp[i][0] = ids[i][0] + dp[i-1][0]\n",
    "            \n",
    "            else:\n",
    "                dp[i][j] = ids[i][j] + dp[i - 1][j] +dp[i][j-1] - dp[i-1][j-1]\n",
    "                 \n",
    "            #mx = max(mx, ids[i][j])\n",
    "    \n",
    "#     cur_region = dp[i+1][j+1]\n",
    "#     origin = dp[i-1][j-1]\n",
    "    \n",
    "#     left_region = dp[i+1][j-1]\n",
    "#     top_region = dp[i-1][j+1]\n",
    "    \n",
    "#     sum_region = cur_region - top_region - left_region + origin \n",
    "    \n",
    "    while left < right:\n",
    "        size = int(left + (right - left + 1) / 2)\n",
    "        cur = 0 \n",
    "        \n",
    "        for x in range (size - 1, n):\n",
    "            for y in range (size - 1, n):\n",
    "                total = dp[x][y]\n",
    "                \n",
    "                if x >= size:\n",
    "                    total -= dp[x - size][y]\n",
    "                    \n",
    "                if y >= size:\n",
    "                    total -= dp[x][y-size]\n",
    "                    \n",
    "                if x >= size and y >= size:\n",
    "                    total += dp[x - size][y- size]\n",
    "                \n",
    "                cur = max(cur, total)\n",
    "                \n",
    "        if maxSum >= cur:\n",
    "            left = size\n",
    "            \n",
    "            \n",
    "        else:\n",
    "            right = size - 1             \n",
    "    \n",
    "    return right \n",
    "    "
   ]
  },
  {
   "cell_type": "code",
   "execution_count": 565,
   "metadata": {},
   "outputs": [],
   "source": [
    "def largestSubGrid1(ids, maxSum):\n",
    "    n = len(ids)\n",
    "    mx_side = 0\n",
    "    mx = 0\n",
    "    \n",
    "           \n",
    "    dp = [[0] * n for _ in range (n)]\n",
    "    #print(dp)\n",
    "        \n",
    "    dp[0][0] = ids[0][0]\n",
    "    \n",
    "    for i in range(n):\n",
    "        for j in range(n):\n",
    "            if i == 0:\n",
    "                dp[0][j] = ids[0][j] + dp[0][j-1]\n",
    "                \n",
    "            elif j == 0:\n",
    "            \n",
    "                dp[i][0] = ids[i][0] + dp[i-1][0]\n",
    "            \n",
    "            else:\n",
    "                dp[i][j] = ids[i][j] + dp[i - 1][j] +dp[i][j-1] - dp[i-1][j-1]\n",
    "                 \n",
    "            mx_side = max(mx_side, ids[i][j])\n",
    "            mx = max(mx, dp[i][j])\n",
    "            #print(mx_side, mx)\n",
    "            \n",
    "    \n",
    "#     cur_region = dp[i+1][j+1]\n",
    "#     origin = dp[i-1][j-1]\n",
    "    \n",
    "#     left_region = dp[i+1][j-1]\n",
    "#     top_region = dp[i-1][j+1]\n",
    "    \n",
    "#     sum_region = cur_region - top_region - left_region + origin \n",
    "\n",
    "    side_sum = 0\n",
    "    for side in range(n, 0, -1):\n",
    "    \n",
    "        start_i = n - 1\n",
    "        start_j = n - 1\n",
    "        \n",
    "        for i in range(start_i, side - 2, -1):\n",
    "            for j in range(start_j, side -2, -1):\n",
    "                left_sub = 0\n",
    "                top_sub = 0\n",
    "                top_left_add = 0\n",
    "                if i - side >= 0:\n",
    "                    left_sub = dp[i - side][j]\n",
    "                if j - side >= 0:\n",
    "                    top_sub = dp[i][j - side]\n",
    "                if i - side >= 0 and j - side >= 0:\n",
    "                    top_left_add = dp[i - side][j - side]\n",
    "                cur_sum = dp[i][j] - left_sub - top_sub + top_left_add\n",
    "                if cur_sum <= maxSum:\n",
    "                    return side\n",
    "        \n",
    "#         cur_val = dp[side-1][side-1]\n",
    "#         print(cur_val)>\n",
    "        \n",
    "#         if cur_val > maxSum:\n",
    "#             side -= 1\n",
    "        \n",
    "        \n",
    "#             top = dp[i - side][j]   \n",
    "#             left = dp[i][j-side]\n",
    "        \n",
    "#             print(top, left)\n",
    "\n",
    "#             if top < 0:\n",
    "#                 top == 0\n",
    "#             if left < 0:\n",
    "#                 left == 0\n",
    "\n",
    "#                 cur_sum = dp[i][j] - left - top + dp[i-2][j-2]\n",
    "\n",
    "#             print(cur_sum)\n",
    "    \n",
    "    return 0"
   ]
  },
  {
   "cell_type": "code",
   "execution_count": 568,
   "metadata": {},
   "outputs": [],
   "source": [
    "grid = [[1,1,1,1], [2,2,2,2],[3,3,3,3],[4,4,4,4]]\n",
    "grid1 = [[2,2,2],[3,3,3],[4,4,4]]\n",
    "n = 4\n",
    "maxSum = 14"
   ]
  },
  {
   "cell_type": "code",
   "execution_count": 569,
   "metadata": {
    "scrolled": true
   },
   "outputs": [
    {
     "data": {
      "text/plain": [
       "2"
      ]
     },
     "execution_count": 569,
     "metadata": {},
     "output_type": "execute_result"
    }
   ],
   "source": [
    "largestSubGrid1(grid1, maxSum)"
   ]
  },
  {
   "cell_type": "markdown",
   "metadata": {},
   "source": [
    "# Prison Break "
   ]
  },
  {
   "cell_type": "code",
   "execution_count": 402,
   "metadata": {},
   "outputs": [],
   "source": [
    "def PrisonBreak (n, m, h, v):\n",
    "    max_x = 0\n",
    "    max_y = 0\n",
    "    cx = 0\n",
    "    cy = 0\n",
    "    x = [1] * n\n",
    "    y = [1 ] * m\n",
    "    print(x, y)\n",
    "    \n",
    "    # x is 1 when there's a bar, 0 when no bar \n",
    "    for i in range(len(h)):\n",
    "        print(h[i])\n",
    "        x[h[i] - 1] = 0\n",
    "    \n",
    "        \n",
    "    for j in range(len(v)):\n",
    "        y[v[j] - 1] = 0\n",
    "    \n",
    "    \n",
    "    for h in range (n):\n",
    "        if x[h] == 1: \n",
    "            cx = 0\n",
    "        else:\n",
    "            cx += 1\n",
    "            max_x = max(max_x, cx)\n",
    "            \n",
    "    \n",
    "    # maximum gap \n",
    "    for v in range (m):\n",
    "        if y[v] == 1:\n",
    "            cy = 0\n",
    "        else:\n",
    "            cy += 1\n",
    "            max_y = max(cy, max_y)\n",
    "            \n",
    "    return (max_x + 1) * (max_y + 1)\n",
    "        "
   ]
  },
  {
   "cell_type": "code",
   "execution_count": 405,
   "metadata": {},
   "outputs": [
    {
     "name": "stdout",
     "output_type": "stream",
     "text": [
      "[1, 1, 1] [1, 1, 1]\n",
      "2\n"
     ]
    },
    {
     "data": {
      "text/plain": [
       "4"
      ]
     },
     "execution_count": 405,
     "metadata": {},
     "output_type": "execute_result"
    }
   ],
   "source": [
    "PrisonBreak(3, 3, [2], [2])"
   ]
  },
  {
   "cell_type": "markdown",
   "metadata": {},
   "source": [
    "# Office Building"
   ]
  },
  {
   "cell_type": "code",
   "execution_count": 587,
   "metadata": {},
   "outputs": [
    {
     "ename": "SyntaxError",
     "evalue": "invalid character in identifier (<ipython-input-587-a192cc43d6d6>, line 4)",
     "output_type": "error",
     "traceback": [
      "\u001b[1;36m  File \u001b[1;32m\"<ipython-input-587-a192cc43d6d6>\"\u001b[1;36m, line \u001b[1;32m4\u001b[0m\n\u001b[1;33m    points = [(0,0), (0, w-1), (h-1, 0), (h-1, w-1)]\u001b[0m\n\u001b[1;37m         ^\u001b[0m\n\u001b[1;31mSyntaxError\u001b[0m\u001b[1;31m:\u001b[0m invalid character in identifier\n"
     ]
    }
   ],
   "source": [
    "import itertools\n",
    "def officeBuilding(w,h,n):\n",
    "    \n",
    "    points = [(0,0), (0, w-1), (h-1, 0), (h-1, w-1)]\n",
    "    \n",
    "    for row in range((h - 1) // 2, h // 2 + 1):\n",
    "        for col in range((w - 1) // 2, w // 2 + 1):\n",
    "            points.append((row, col))\n",
    " \n",
    "    all_pos = []\n",
    "    for row in range(h):\n",
    "        for col in range(w):\n",
    "            all_pos.append((row, col))\n",
    " \n",
    "    def get_farest(offices, points):\n",
    "        res = 0\n",
    "        for x, y in points:\n",
    "            cur_nearest = float('inf')\n",
    "            for row, col in offices:\n",
    "                cur_nearest = min(cur_nearest, abs(row - x) + abs(col - y))\n",
    "            res = max(res, cur_nearest)\n",
    "        return res\n",
    " \n",
    "    res = float('inf')\n",
    "    for comb in itertools.combinations(all_pos, n):\n",
    "        cur = get_farest(comb, points)\n",
    "        res = min(cur, res)\n",
    " \n",
    "    return res"
   ]
  },
  {
   "cell_type": "code",
   "execution_count": null,
   "metadata": {},
   "outputs": [],
   "source": [
    "print(build_offices(4, 4, 3))\n",
    "print(build_offices(2, 3, 4))\n",
    "print(build_offices(4, 5, 1))\n",
    "print(build_offices(3, 5, 2))"
   ]
  },
  {
   "cell_type": "code",
   "execution_count": 15,
   "metadata": {},
   "outputs": [],
   "source": [
    "intervals = [[1,3], [2,6], [8,10]]\n",
    "prev_p = 0\n",
    "cur_p = 1"
   ]
  },
  {
   "cell_type": "code",
   "execution_count": 8,
   "metadata": {},
   "outputs": [
    {
     "data": {
      "text/plain": [
       "[1, 3]"
      ]
     },
     "execution_count": 8,
     "metadata": {},
     "output_type": "execute_result"
    }
   ],
   "source": [
    "intervals[prev_p]"
   ]
  },
  {
   "cell_type": "code",
   "execution_count": 4,
   "metadata": {},
   "outputs": [
    {
     "data": {
      "text/plain": [
       "[2, 6]"
      ]
     },
     "execution_count": 4,
     "metadata": {},
     "output_type": "execute_result"
    }
   ],
   "source": [
    "list(intervals[cur_p])"
   ]
  },
  {
   "cell_type": "code",
   "execution_count": 5,
   "metadata": {},
   "outputs": [],
   "source": [
    "intervals[prev_p] = list(intervals[cur_p])"
   ]
  },
  {
   "cell_type": "code",
   "execution_count": 6,
   "metadata": {},
   "outputs": [
    {
     "data": {
      "text/plain": [
       "[2, 6]"
      ]
     },
     "execution_count": 6,
     "metadata": {},
     "output_type": "execute_result"
    }
   ],
   "source": [
    "intervals[prev_p]"
   ]
  },
  {
   "cell_type": "code",
   "execution_count": 9,
   "metadata": {},
   "outputs": [],
   "source": [
    "intervals[prev_p] = intervals[cur_p]"
   ]
  },
  {
   "cell_type": "code",
   "execution_count": 10,
   "metadata": {},
   "outputs": [
    {
     "data": {
      "text/plain": [
       "[2, 6]"
      ]
     },
     "execution_count": 10,
     "metadata": {},
     "output_type": "execute_result"
    }
   ],
   "source": [
    "intervals[prev_p]"
   ]
  },
  {
   "cell_type": "code",
   "execution_count": 30,
   "metadata": {},
   "outputs": [],
   "source": [
    "def merge( intervals):\n",
    "    prev_p = 0\n",
    "    for i in range(1, len(intervals)):\n",
    "        if intervals[prev_p][1] >= intervals[i][0]:\n",
    "            intervals[prev_p][1] = max(intervals[prev_p][1], intervals[i][1])\n",
    "            print(prev_p)\n",
    "            print(intervals[prev_p])\n",
    "            print(intervals[i])\n",
    "            print(intervals)\n",
    "            \n",
    "        else:\n",
    "            prev_p += 1\n",
    "            intervals[prev_p] = intervals[i]\n",
    "            print(prev_p)\n",
    "            print(intervals[prev_p])\n",
    "            print(intervals[i])\n",
    "            print(intervals)\n",
    "            \n",
    "    return intervals[:prev_p + 1]"
   ]
  },
  {
   "cell_type": "code",
   "execution_count": 31,
   "metadata": {},
   "outputs": [
    {
     "name": "stdout",
     "output_type": "stream",
     "text": [
      "0\n",
      "[1, 6]\n",
      "[2, 6]\n",
      "[[1, 6], [2, 6], [8, 10], [15, 18]]\n",
      "1\n",
      "[8, 10]\n",
      "[8, 10]\n",
      "[[1, 6], [8, 10], [8, 10], [15, 18]]\n",
      "2\n",
      "[15, 18]\n",
      "[15, 18]\n",
      "[[1, 6], [8, 10], [15, 18], [15, 18]]\n"
     ]
    },
    {
     "data": {
      "text/plain": [
       "[[1, 6], [8, 10], [15, 18]]"
      ]
     },
     "execution_count": 31,
     "metadata": {},
     "output_type": "execute_result"
    }
   ],
   "source": [
    "merge( [[1,3], [2,6], [8,10],[15,18]])"
   ]
  },
  {
   "cell_type": "code",
   "execution_count": 32,
   "metadata": {},
   "outputs": [],
   "source": [
    "nums = [2,7,11,15]\n",
    "target = 9"
   ]
  },
  {
   "cell_type": "code",
   "execution_count": 47,
   "metadata": {},
   "outputs": [],
   "source": [
    "def twosum(nums, target):\n",
    "    dic = {}\n",
    "    for i,m in enumerate(nums):\n",
    "        #iterate the index and number \n",
    "        r = target - m\n",
    "        #the target number we are looking for\n",
    "        if r not in dic:\n",
    "            dic[m] = i\n",
    "            #if the number is not target, save it's val and index to dictionary\n",
    "        else:\n",
    "            #dic[r] is the index of the target number \n",
    "            #i is the current index of the number \n",
    "            #print(dic[r], i)\n",
    "       \n",
    "            return [dic[r],i]"
   ]
  },
  {
   "cell_type": "code",
   "execution_count": 48,
   "metadata": {},
   "outputs": [
    {
     "name": "stdout",
     "output_type": "stream",
     "text": [
      "7\n",
      "{2: 0}\n",
      "2\n",
      "0 1\n"
     ]
    },
    {
     "data": {
      "text/plain": [
       "[0, 1]"
      ]
     },
     "execution_count": 48,
     "metadata": {},
     "output_type": "execute_result"
    }
   ],
   "source": [
    "twosum(nums, target)"
   ]
  },
  {
   "cell_type": "markdown",
   "metadata": {},
   "source": [
    "## XNOT NN"
   ]
  },
  {
   "cell_type": "code",
   "execution_count": 5,
   "metadata": {},
   "outputs": [
    {
     "data": {
      "image/png": "[encoded data removed]",
      "text/plain": [
       "<Figure size 432x288 with 1 Axes>"
      ]
     },
     "metadata": {
      "needs_background": "light"
     },
     "output_type": "display_data"
    },
    {
     "name": "stdout",
     "output_type": "stream",
     "text": [
      "[[4.71717674 4.71304543]\n",
      " [6.55095931 6.5261534 ]] [[-10.66985947  10.32513644]]\n",
      "[[1. 0. 0. 1.]]\n",
      "(array([[-7.21585786, -2.50281243, -2.49868113,  2.21436431],\n",
      "       [-2.74787737,  3.77827602,  3.80308194, 10.32923533]]), array([[7.34300339e-04, 7.56612532e-02, 7.59506897e-02, 9.01532035e-01],\n",
      "       [6.02066402e-02, 9.77648921e-01, 9.78184593e-01, 9.99967337e-01]]), array([[4.71717674, 4.71304543],\n",
      "       [6.55095931, 6.5261534 ]]), array([[-7.21585786],\n",
      "       [-2.74787737]]), array([[-4.33621897,  4.3370377 ,  4.33948034, -4.24444679]]), array([[0.01291688, 0.98709355, 0.98712463, 0.01414084]]), array([[-10.66985947,  10.32513644]]), array([[-4.95002586]]))\n"
     ]
    }
   ],
   "source": [
    "# import Python Libraries \n",
    "import numpy as np \n",
    "from matplotlib import pyplot as plt \n",
    "  \n",
    "# Sigmoid Function \n",
    "def sigmoid(z): \n",
    "    return 1 / (1 + np.exp(-z)) \n",
    "  \n",
    "# Initialization of the neural network parameters \n",
    "# Initialized all the weights in the range of between 0 and 1 \n",
    "# Bias values are initialized to 0 \n",
    "def initializeParameters(inputFeatures, neuronsInHiddenLayers, outputFeatures): \n",
    "    W1 = np.random.randn(neuronsInHiddenLayers, inputFeatures) \n",
    "    W2 = np.random.randn(outputFeatures, neuronsInHiddenLayers) \n",
    "    b1 = np.zeros((neuronsInHiddenLayers, 1)) \n",
    "    b2 = np.zeros((outputFeatures, 1)) \n",
    "      \n",
    "    parameters = {\"W1\" : W1, \"b1\": b1, \n",
    "                  \"W2\" : W2, \"b2\": b2} \n",
    "    return parameters \n",
    "  \n",
    "# Forward Propagation \n",
    "def forwardPropagation(X, Y, parameters): \n",
    "    m = X.shape[1] \n",
    "    W1 = parameters[\"W1\"] \n",
    "    W2 = parameters[\"W2\"] \n",
    "    b1 = parameters[\"b1\"] \n",
    "    b2 = parameters[\"b2\"] \n",
    "  \n",
    "    Z1 = np.dot(W1, X) + b1 \n",
    "    A1 = sigmoid(Z1) \n",
    "    Z2 = np.dot(W2, A1) + b2 \n",
    "    A2 = sigmoid(Z2) \n",
    "  \n",
    "    cache = (Z1, A1, W1, b1, Z2, A2, W2, b2) \n",
    "    logprobs = np.multiply(np.log(A2), Y) + np.multiply(np.log(1 - A2), (1 - Y)) \n",
    "    cost = -np.sum(logprobs) / m \n",
    "    return cost, cache, A2, W1, W2 \n",
    "  \n",
    "# Backward Propagation \n",
    "def backwardPropagation(X, Y, cache): \n",
    "    m = X.shape[1] \n",
    "    (Z1, A1, W1, b1, Z2, A2, W2, b2) = cache \n",
    "      \n",
    "    dZ2 = A2 - Y \n",
    "    dW2 = np.dot(dZ2, A1.T) / m \n",
    "    db2 = np.sum(dZ2, axis = 1, keepdims = True) \n",
    "      \n",
    "    dA1 = np.dot(W2.T, dZ2) \n",
    "    dZ1 = np.multiply(dA1, A1 * (1- A1)) \n",
    "    dW1 = np.dot(dZ1, X.T) / m \n",
    "    db1 = np.sum(dZ1, axis = 1, keepdims = True) / m \n",
    "      \n",
    "    gradients = {\"dZ2\": dZ2, \"dW2\": dW2, \"db2\": db2, \n",
    "                 \"dZ1\": dZ1, \"dW1\": dW1, \"db1\": db1} \n",
    "    return gradients \n",
    "  \n",
    "# Updating the weights based on the negative gradients \n",
    "def updateParameters(parameters, gradients, learningRate): \n",
    "    parameters[\"W1\"] = parameters[\"W1\"] - learningRate * gradients[\"dW1\"] \n",
    "    parameters[\"W2\"] = parameters[\"W2\"] - learningRate * gradients[\"dW2\"] \n",
    "    parameters[\"b1\"] = parameters[\"b1\"] - learningRate * gradients[\"db1\"] \n",
    "    parameters[\"b2\"] = parameters[\"b2\"] - learningRate * gradients[\"db2\"] \n",
    "    return parameters \n",
    "  \n",
    "# Model to learn the XOR truth table  \n",
    "X = np.array([[0, 0, 1, 1], [0, 1, 0, 1]]) # XOR input \n",
    "Y = np.array([[0, 1, 1, 0]]) # XOR output \n",
    "  \n",
    "# Define model parameters \n",
    "neuronsInHiddenLayers = 2 # number of hidden layer neurons (2) \n",
    "inputFeatures = X.shape[0] # number of input features (2) \n",
    "outputFeatures = Y.shape[0] # number of output features (1) \n",
    "parameters = initializeParameters(inputFeatures, neuronsInHiddenLayers, outputFeatures) \n",
    "epoch = 100000\n",
    "learningRate = 0.01\n",
    "losses = np.zeros((epoch, 1)) \n",
    "  \n",
    "for i in range(epoch): \n",
    "    losses[i, 0], cache, A2, W1, W2 = forwardPropagation(X, Y, parameters) \n",
    "    gradients = backwardPropagation(X, Y, cache) \n",
    "    parameters = updateParameters(parameters, gradients, learningRate)\n",
    "    #print(W1, W2)\n",
    "  \n",
    "# Evaluating the performance \n",
    "plt.figure() \n",
    "plt.plot(losses) \n",
    "plt.xlabel(\"EPOCHS\") \n",
    "plt.ylabel(\"Loss value\") \n",
    "plt.show() \n",
    "  \n",
    "# Testing \n",
    "X = np.array([[1, 1, 0, 0], [0, 1, 0, 1]]) # XOR input \n",
    "cost, _, A2,w1,w2 = forwardPropagation(X, Y, parameters) \n",
    "print(W1, W2)\n",
    "prediction = (A2 > 0.5) * 1.0\n",
    "# print(A2) \n",
    "print(prediction) \n",
    "print(cache)"
   ]
  },
  {
   "cell_type": "code",
   "execution_count": null,
   "metadata": {},
   "outputs": [],
   "source": []
  }
 ],
 "metadata": {
  "kernelspec": {
   "display_name": "Python 3",
   "language": "python",
   "name": "python3"
  },
  "language_info": {
   "codemirror_mode": {
    "name": "ipython",
    "version": 3
   },
   "file_extension": ".py",
   "mimetype": "text/x-python",
   "name": "python",
   "nbconvert_exporter": "python",
   "pygments_lexer": "ipython3",
   "version": "3.8.3"
  }
 },
 "nbformat": 4,
 "nbformat_minor": 4
}
