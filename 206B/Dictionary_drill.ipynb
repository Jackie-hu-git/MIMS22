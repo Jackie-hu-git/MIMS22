{
 "cells": [
  {
   "cell_type": "code",
   "execution_count": 1,
   "metadata": {},
   "outputs": [
    {
     "name": "stdout",
     "output_type": "stream",
     "text": [
      "{'a': 97, 'b': 98, 'c': 99, 'd': 100, 'e': 101, 'f': 102, 'g': 103, 'h': 104, 'i': 105, 'j': 106, 'k': 107, 'l': 108, 'm': 109, 'n': 110, 'o': 111, 'p': 112, 'q': 113, 'r': 114, 's': 115, 't': 116, 'u': 117, 'v': 118, 'w': 119, 'x': 120, 'y': 121, 'z': 122}\n"
     ]
    }
   ],
   "source": [
    "'''\n",
    "build a dictionary with the lower-case letters with their correspondant acii value\n",
    "\n",
    "'''\n",
    "\n",
    "D = {}\n",
    "for i in range(97,123):\n",
    "    c = chr(i)\n",
    "    D[c] = i\n",
    "\n",
    "print(D)"
   ]
  },
  {
   "cell_type": "code",
   "execution_count": 2,
   "metadata": {},
   "outputs": [
    {
     "name": "stdout",
     "output_type": "stream",
     "text": [
      "a|b|c|d|e|f|g|h|i|j|k|l|m|n|o|p|q|r|s|t|u|v|w|x|y|z|"
     ]
    }
   ],
   "source": [
    "# iterate over the dictionary keys\n",
    "\n",
    "for k in D.keys():\n",
    "    print(k, end= \"|\")"
   ]
  },
  {
   "cell_type": "code",
   "execution_count": 3,
   "metadata": {},
   "outputs": [
    {
     "name": "stdout",
     "output_type": "stream",
     "text": [
      "97|98|99|100|101|102|103|104|105|106|107|108|109|110|111|112|113|114|115|116|117|118|119|120|121|122|"
     ]
    }
   ],
   "source": [
    "# iterate over the dictionary values\n",
    "\n",
    "for v in D.values():\n",
    "    print(v, end= \"|\")"
   ]
  },
  {
   "cell_type": "code",
   "execution_count": 4,
   "metadata": {},
   "outputs": [
    {
     "name": "stdout",
     "output_type": "stream",
     "text": [
      "a 97|b 98|c 99|d 100|e 101|f 102|g 103|h 104|i 105|j 106|k 107|l 108|m 109|n 110|o 111|p 112|q 113|r 114|s 115|t 116|u 117|v 118|w 119|x 120|y 121|z 122|"
     ]
    }
   ],
   "source": [
    "# iterate over the key-value pair\n",
    "for k,v in D.items():\n",
    "    print(k,v, end= \"|\")"
   ]
  },
  {
   "cell_type": "code",
   "execution_count": 5,
   "metadata": {},
   "outputs": [
    {
     "name": "stdout",
     "output_type": "stream",
     "text": [
      "True\n",
      "False\n"
     ]
    }
   ],
   "source": [
    "# check whether a is in the dictionary \n",
    "print('a' in D)\n",
    "# pop out the letter a and re-check \n",
    "D.pop('a')\n",
    "print('a' in D)"
   ]
  },
  {
   "cell_type": "code",
   "execution_count": null,
   "metadata": {},
   "outputs": [],
   "source": [
    "# remove an dictionary key,value pair\n",
    "D.clear()"
   ]
  },
  {
   "cell_type": "code",
   "execution_count": 24,
   "metadata": {},
   "outputs": [],
   "source": [
    "D1 = {'a':10,'b':20,'c':30}\n",
    "D2 = {'a':1,'c':3,'d':4,'e':5}"
   ]
  },
  {
   "cell_type": "code",
   "execution_count": 21,
   "metadata": {},
   "outputs": [],
   "source": [
    "'''\n",
    "write a function takes 2 dic and merges D2 into D1\n",
    "'''\n",
    "def combine_dic(D1, D2):\n",
    "    for k2,v2 in D2.items():\n",
    "        if k2 in D1:\n",
    "            D1[k2] = D1[k2] + v\n",
    "        else:\n",
    "            D1[k2] = v2"
   ]
  },
  {
   "cell_type": "code",
   "execution_count": 22,
   "metadata": {},
   "outputs": [],
   "source": [
    "combine_dic(D1,D2)"
   ]
  },
  {
   "cell_type": "code",
   "execution_count": 23,
   "metadata": {},
   "outputs": [
    {
     "name": "stdout",
     "output_type": "stream",
     "text": [
      "{'a': 132, 'b': 20, 'c': 152, 'd': 4, 'e': 5}\n"
     ]
    }
   ],
   "source": [
    "print(D1)"
   ]
  },
  {
   "cell_type": "code",
   "execution_count": 25,
   "metadata": {},
   "outputs": [],
   "source": [
    "c = {'206A':{'enrollment': 120, 'school':'ischool','room':101},\n",
    "    '206B':{'enrollment': 100, 'school':'ischool','room':102},\n",
    "    '61A':{'enrollment': 2000, 'school':'EECS','room':1}}"
   ]
  },
  {
   "cell_type": "code",
   "execution_count": 31,
   "metadata": {},
   "outputs": [],
   "source": [
    "sum = 0\n",
    "for v in c.values():\n",
    "    if v['school'] == 'ischool':\n",
    "        sum += v[\"enrollment\"]"
   ]
  },
  {
   "cell_type": "code",
   "execution_count": null,
   "metadata": {},
   "outputs": [],
   "source": [
    "print(sum)"
   ]
  }
 ],
 "metadata": {
  "kernelspec": {
   "display_name": "Python 3",
   "language": "python",
   "name": "python3"
  },
  "language_info": {
   "codemirror_mode": {
    "name": "ipython",
    "version": 3
   },
   "file_extension": ".py",
   "mimetype": "text/x-python",
   "name": "python",
   "nbconvert_exporter": "python",
   "pygments_lexer": "ipython3",
   "version": "3.7.1"
  }
 },
 "nbformat": 4,
 "nbformat_minor": 2
}
