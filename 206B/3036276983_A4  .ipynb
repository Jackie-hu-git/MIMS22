{
 "cells": [
  {
   "cell_type": "code",
   "execution_count": 1,
   "metadata": {},
   "outputs": [
    {
     "name": "stderr",
     "output_type": "stream",
     "text": [
      "C:\\Users\\sherr\\anaconda3\\lib\\site-packages\\drawSvg\\raster.py:18: RuntimeWarning: Failed to import CairoSVG. drawSvg will be unable to output PNG or other raster image formats. See https://github.com/cduck/drawSvg#prerequisites for more details.\n",
      "Original OSError: no library called \"cairo\" was found\n",
      "no library called \"libcairo-2\" was found\n",
      "cannot load library 'libcairo.so': error 0x7e\n",
      "cannot load library 'libcairo.2.dylib': error 0x7e\n",
      "cannot load library 'libcairo-2.dll': error 0x7e\n",
      "  warnings.warn(msg, RuntimeWarning)\n"
     ]
    }
   ],
   "source": [
    "# import packages \n",
    "import drawSvg as draw\n",
    "import random as ra\n",
    "\n",
    "# define the width and height of the drawing window as x and y\n",
    "WINDOW_X = 200\n",
    "WINDOW_Y = 200\n",
    "\n",
    "# defines the number of balls in your simulation\n",
    "num_ball = 10\n",
    "# defines the ball radius\n",
    "r_ball = 5\n",
    "\n",
    "# define list that store the x,y location of each ball and the velocity of each ball, vx,vy\n",
    "x = []\n",
    "y = []\n",
    "vx = []\n",
    "vy = []\n",
    "\n",
    "# random generate a series of vx between -5 and 5\n",
    "for num in range(num_ball):\n",
    "    r = ra.uniform(-5,5)\n",
    "    vx.append(r)\n",
    "    \n",
    "# random generate a series of vy between -5 and 5\n",
    "for num in range(num_ball):\n",
    "    r = ra.uniform(-5,5)\n",
    "    vy.append(r)\n",
    "\n",
    "# random generate x position within the canvas size\n",
    "for num in range(num_ball):\n",
    "    r = ra.uniform(-WINDOW_X/2 + r_ball, WINDOW_X/2 - r_ball )\n",
    "    x.append(r)\n",
    "\n",
    "# random generate y position within the canvas size\n",
    "for num in range(num_ball):\n",
    "    r = ra.uniform(-WINDOW_Y/2 + r_ball, WINDOW_Y/2 - r_ball)\n",
    "    y.append(r)"
   ]
  },
  {
   "cell_type": "code",
   "execution_count": 2,
   "metadata": {},
   "outputs": [],
   "source": [
    "# This function takes as input an index i and updates the location of the ball at the corresponding position in the ball list. \n",
    "def update_position(i):\n",
    "    for num in range(0, i):\n",
    "        if abs(x[num]) >= (WINDOW_X/2 - r_ball): # checking if the ball hits the boarder of x direction, if so, reverse it's vx direcation\n",
    "            vx[num] = -vx[num]  \n",
    "        if abs(y[num]) >= (WINDOW_Y/2 - r_ball): # checking if the ball hits the boarder of y direction, if so, reverse it's vy direcation\n",
    "            vy[num] = -vy[num]\n",
    "        \n",
    "    # compare each x position, if the distance between 2 balls is equal or less than 2*radius, flip both ball's v and update it's position\n",
    "        for j in range(num + 1, i):\n",
    "            if abs((x[num] - x[j])) <= (2 * r_ball) and abs((y[num] - y[j])) <= (2 * r_ball):\n",
    "                # filp both balls vx and vy\n",
    "                vx[num] = -vx[num]  \n",
    "                vx[j] = -vx[j]\n",
    "                \n",
    "                vy[num] = -vy[num]\n",
    "                vy[j] = -vy[j]\n",
    "                \n",
    "                # update both balls location based on the updated v, timestep is 1 in this case\n",
    "                x[num] = x[num] + 1 * vx[num]\n",
    "                x[j] = x[j] + 1 * vx[j]\n",
    "                \n",
    "                y[num] = y[num] + 1 * vy[num]\n",
    "                y[j] = y[j] + 1 * vy[j]\n",
    "            \n",
    "        # update x location for each ball in the list using the vx per timestamp(1 in this case)\n",
    "        x[num] = x[num] + 1 * vx[num] \n",
    "        # update y location for each ball in the list using the vy per timestamp(1 in this case)\n",
    "        y[num] = y[num] + 1 * vy[num] \n",
    "    \n",
    "    return x, y"
   ]
  },
  {
   "cell_type": "code",
   "execution_count": 3,
   "metadata": {},
   "outputs": [],
   "source": [
    "# This function takes as input an index i and draws the corresponding ball at this position in the ball list.\n",
    "def draw_ball(i):\n",
    "    for num in range(i):\n",
    "        D.append(draw.Circle(x[num], y[num], r_ball,\n",
    "            fill='red'))\n",
    "    return"
   ]
  },
  {
   "cell_type": "code",
   "execution_count": 4,
   "metadata": {},
   "outputs": [],
   "source": [
    "# This function is called by the animation code and iteratively updates the position of each ball and then draws each ball\n",
    "def draw_frame():\n",
    "    update_position(num_ball)\n",
    "    draw_ball(num_ball)\n",
    "    return D"
   ]
  },
  {
   "cell_type": "code",
   "execution_count": null,
   "metadata": {},
   "outputs": [
    {
     "data": {
      "image/svg+xml": [
       "<?xml version=\"1.0\" encoding=\"UTF-8\"?>\n",
       "<svg xmlns=\"http://www.w3.org/2000/svg\" xmlns:xlink=\"http://www.w3.org/1999/xlink\"\n",
       "     width=\"200\" height=\"200\" viewBox=\"-100.0 -100.0 200 200\">\n",
       "<defs>\n",
       "</defs>\n",
       "<rect x=\"-100.0\" y=\"-100.0\" width=\"200\" height=\"200\" fill=\"black\" />\n",
       "<circle cx=\"74.20018539666891\" cy=\"50.5052532375082\" r=\"5\" fill=\"red\" />\n",
       "<circle cx=\"-66.12698098220837\" cy=\"35.94856908353159\" r=\"5\" fill=\"red\" />\n",
       "<circle cx=\"-46.37936072753213\" cy=\"-93.99320786146346\" r=\"5\" fill=\"red\" />\n",
       "<circle cx=\"37.66507684118682\" cy=\"28.30174226607982\" r=\"5\" fill=\"red\" />\n",
       "<circle cx=\"-89.2605093790921\" cy=\"-19.506642790358534\" r=\"5\" fill=\"red\" />\n",
       "<circle cx=\"28.053851717283635\" cy=\"43.8482747524464\" r=\"5\" fill=\"red\" />\n",
       "<circle cx=\"-46.86646190879069\" cy=\"39.97275832112953\" r=\"5\" fill=\"red\" />\n",
       "<circle cx=\"91.72131495409735\" cy=\"-70.99945644937483\" r=\"5\" fill=\"red\" />\n",
       "<circle cx=\"70.09948232054771\" cy=\"-65.44588760260683\" r=\"5\" fill=\"red\" />\n",
       "<circle cx=\"1.191818198767983\" cy=\"-56.367500649151935\" r=\"5\" fill=\"red\" />\n",
       "</svg>"
      ],
      "text/plain": [
       "<drawSvg.drawing.Drawing at 0x98b6390>"
      ]
     },
     "metadata": {},
     "output_type": "display_data"
    }
   ],
   "source": [
    "# Use the animate function to render the ball movement\n",
    "with draw.animate_jupyter(draw_frame, delay=0.05) as anim:\n",
    "    while( True ):\n",
    "        D = draw.Drawing(WINDOW_X, WINDOW_Y, origin='center' ) # erase canvas\n",
    "        D.append(draw.Rectangle(-WINDOW_X/2,-WINDOW_Y/2,WINDOW_X,WINDOW_Y, fill='black'))\n",
    "        anim.draw_frame()"
   ]
  },
  {
   "cell_type": "code",
   "execution_count": null,
   "metadata": {},
   "outputs": [],
   "source": []
  }
 ],
 "metadata": {
  "kernelspec": {
   "display_name": "Python 3",
   "language": "python",
   "name": "python3"
  },
  "language_info": {
   "codemirror_mode": {
    "name": "ipython",
    "version": 3
   },
   "file_extension": ".py",
   "mimetype": "text/x-python",
   "name": "python",
   "nbconvert_exporter": "python",
   "pygments_lexer": "ipython3",
   "version": "3.7.6"
  }
 },
 "nbformat": 4,
 "nbformat_minor": 4
}
