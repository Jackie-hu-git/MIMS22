{
 "cells": [
  {
   "cell_type": "markdown",
   "metadata": {},
   "source": [
    "### Write a program to aid Josephus in figuring out where to stand in the circle. "
   ]
  },
  {
   "cell_type": "code",
   "execution_count": 1,
   "metadata": {},
   "outputs": [],
   "source": [
    "class Soldier:\n",
    "    def __init__(self,n): #takes a number as data\n",
    "        self.data = n\n",
    "        self.prev = None\n",
    "        self.next = None\n",
    "    \n",
    "    def kill(self, prefix, suffix): #takes two strings, a prefix and a suffix to print\n",
    "        print(prefix, self.data, suffix)\n",
    "        \n",
    "        #delete the node and update the DLL \n",
    "        self.prev.next = self.next\n",
    "        self.next.prev = self.prev "
   ]
  },
  {
   "cell_type": "code",
   "execution_count": 2,
   "metadata": {},
   "outputs": [],
   "source": [
    "class Army:\n",
    "    def __init__(self): # set number of alive to 0, and innitiate victim \n",
    "        self.alive = 0\n",
    "        self.victim = None\n",
    "\n",
    "    def insert_new(self, n): \n",
    "        new_soldier = Soldier(n) #create soldier obj with n as data\n",
    "        self.alive += 1 # update the number of alive\n",
    "\n",
    "        # new linked list, first time call\n",
    "        if self.victim is None:\n",
    "            self.victim = new_soldier\n",
    "            self.victim.next = self.victim \n",
    "            self.victim.prev = self.victim\n",
    "            \n",
    "        else: #add obj to the DLL \n",
    "            tail = self.victim.next\n",
    "            new_soldier.prev = self.victim\n",
    "            new_soldier.next = tail \n",
    "            self.victim.next = new_soldier\n",
    "            tail.prev = new_soldier\n",
    "            \n",
    "            self.victim = new_soldier # pointer at the last item\n",
    "            \n",
    "    # takes a number as a parameter and advances the current victim by the specified number.\n",
    "    def advance(self, m):\n",
    "        for i in range(m - 1):\n",
    "            self.victim = self.victim.next #update the victim\n",
    "        \n",
    "    # kills all the soldiers\n",
    "    def kill_all(self,m): \n",
    "        #set self.victim to Soldier 1\n",
    "        self.victim = self.victim.next\n",
    "        \n",
    "        while self.alive != 1: # while there's more than 1 person in the DLL\n",
    "            self.advance(m) #move self.victim by step\n",
    "            cur = self.victim \n",
    "            self.victim = self.victim.next #update self.victim\n",
    "           \n",
    "            cur.kill('Soldier',\"buys the farm\") # call on the Soldier obj.kill, delink the obj.\n",
    "            self.alive -= 1 # update alive number\n",
    "                  \n",
    "        if self.alive == 1: #the survivor\n",
    "            self.victim.kill(\"The last remaining soldier is\", \"\")"
   ]
  },
  {
   "cell_type": "code",
   "execution_count": 3,
   "metadata": {},
   "outputs": [],
   "source": [
    "def main_J():\n",
    "    #ask for the size and step, create the army \n",
    "    n = int(input(\"Enter number of soldiers: \")) \n",
    "    m = int(input(\"Enter number of steps: \"))\n",
    "    \n",
    "    army = Army() #construct Army class\n",
    "    \n",
    "    #construct the army with n of Soldiers \n",
    "    for i in range(n):\n",
    "        army.insert_new(i + 1)\n",
    "    #kill all the soldier based on m step    \n",
    "    army.kill_all(m)  "
   ]
  },
  {
   "cell_type": "code",
   "execution_count": 4,
   "metadata": {},
   "outputs": [
    {
     "name": "stdout",
     "output_type": "stream",
     "text": [
      "Enter number of soldiers: 5\n",
      "Enter number of steps: 2\n",
      "Soldier 2 buys the farm\n",
      "Soldier 4 buys the farm\n",
      "Soldier 1 buys the farm\n",
      "Soldier 5 buys the farm\n",
      "The last remaining soldier is 3 \n"
     ]
    }
   ],
   "source": [
    "#test code here ->\n",
    "main_J()"
   ]
  }
 ],
 "metadata": {
  "kernelspec": {
   "display_name": "Python 3",
   "language": "python",
   "name": "python3"
  },
  "language_info": {
   "codemirror_mode": {
    "name": "ipython",
    "version": 3
   },
   "file_extension": ".py",
   "mimetype": "text/x-python",
   "name": "python",
   "nbconvert_exporter": "python",
   "pygments_lexer": "ipython3",
   "version": "3.8.3"
  }
 },
 "nbformat": 4,
 "nbformat_minor": 4
}
