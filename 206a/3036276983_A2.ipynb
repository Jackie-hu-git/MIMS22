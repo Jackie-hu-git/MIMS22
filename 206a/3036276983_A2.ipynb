{
 "cells": [
  {
   "cell_type": "markdown",
   "metadata": {},
   "source": [
    "Implement a recursive binary search in which you search a sorted list of numbers for a specific number. /the index returned is the index in the entire list not the relative index in the sublist/"
   ]
  },
  {
   "cell_type": "code",
   "execution_count": 1,
   "metadata": {},
   "outputs": [],
   "source": [
    "def binary_search_new(L, key, left,right):\n",
    "    if len(L) == 0: #base case\n",
    "        return None\n",
    "    \n",
    "    else:\n",
    "        while left <= right:\n",
    "            # calculate the middle index and middle value for the list\n",
    "            mid_index = int((right + left)/2)\n",
    "            mid_val = L[mid_index]\n",
    "            \n",
    "            if key == mid_val: #the best case being the key value is the middle value\n",
    "                return mid_index\n",
    "        \n",
    "            elif key < mid_val: #if the key is less than the middle value, reset the right value \n",
    "                right = mid_index - 1\n",
    "                return binary_search_new(L, key, left, right) \n",
    "        \n",
    "            else: # if the key is bigger than the  middle valye, reset the left value \n",
    "                left = mid_index + 1\n",
    "                return binary_search_new(L, key,left, right)\n",
    "            \n",
    "        return None #if not find, return None "
   ]
  },
  {
   "cell_type": "code",
   "execution_count": 2,
   "metadata": {},
   "outputs": [
    {
     "name": "stdout",
     "output_type": "stream",
     "text": [
      "How many numbers you want to search?100\n",
      "[4, 12, 14, 26, 53, 64, 84, 87, 89, 123, 125, 146, 160, 171, 179, 202, 215, 229, 232, 237, 238, 239, 245, 245, 260, 284, 315, 321, 321, 328, 331, 331, 347, 362, 371, 403, 404, 405, 414, 414, 424, 429, 434, 448, 449, 467, 468, 489, 490, 497, 513, 515, 525, 529, 538, 559, 559, 565, 570, 581, 585, 586, 598, 615, 643, 643, 645, 657, 661, 661, 677, 681, 714, 721, 726, 730, 749, 753, 760, 762, 765, 778, 778, 783, 787, 864, 891, 922, 929, 936, 938, 939, 953, 959, 961, 967, 970, 975, 977, 987]\n"
     ]
    }
   ],
   "source": [
    "import random \n",
    "\n",
    "#ask user for the number of list\n",
    "N = input(\"How many numbers you want to search?\")\n",
    "List = []\n",
    "\n",
    "# append the random number N times to the list\n",
    "for i in range(int(N)):\n",
    "    List.append(random.randint(0,1000))\n",
    "\n",
    "List.sort() #sort the List\n",
    "print(List) # print the list for user to see"
   ]
  },
  {
   "cell_type": "code",
   "execution_count": 3,
   "metadata": {},
   "outputs": [
    {
     "name": "stdout",
     "output_type": "stream",
     "text": [
      "What number do you want to search for in that list? Type ? to see the list; type q to quite. 123\n",
      "9\n",
      "What number do you want to search for in that list? Type ? to see the list; type q to quite. 656\n",
      "None\n",
      "What number do you want to search for in that list? Type ? to see the list; type q to quite. 939\n",
      "91\n",
      "What number do you want to search for in that list? Type ? to see the list; type q to quite. q\n"
     ]
    }
   ],
   "source": [
    "#Prompt the user for input \n",
    "while True:\n",
    "    search_num = input(\"What number do you want to search for in that list? Type ? to see the list; type q to quite. \")\n",
    "    \n",
    "    if search_num == '?': #print the list for user to see\n",
    "        print(List)\n",
    "    elif (search_num == 'q'): #quite the program\n",
    "        break\n",
    "    else: #print the index of the search number \n",
    "        print(binary_search_new(List,int(search_num),0,len(List)))"
   ]
  },
  {
   "cell_type": "code",
   "execution_count": null,
   "metadata": {},
   "outputs": [],
   "source": []
  }
 ],
 "metadata": {
  "kernelspec": {
   "display_name": "Python 3",
   "language": "python",
   "name": "python3"
  },
  "language_info": {
   "codemirror_mode": {
    "name": "ipython",
    "version": 3
   },
   "file_extension": ".py",
   "mimetype": "text/x-python",
   "name": "python",
   "nbconvert_exporter": "python",
   "pygments_lexer": "ipython3",
   "version": "3.8.3"
  }
 },
 "nbformat": 4,
 "nbformat_minor": 4
}
