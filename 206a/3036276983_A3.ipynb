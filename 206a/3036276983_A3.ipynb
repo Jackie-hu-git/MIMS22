{
 "cells": [
  {
   "cell_type": "markdown",
   "metadata": {},
   "source": [
    "### 1.\n",
    "Write a Python function that performs bubble sort. Verify that your code works by testing it on randomly generated lists and printing the lists before and after sorting to verify that the sorting is working properly."
   ]
  },
  {
   "cell_type": "code",
   "execution_count": 48,
   "metadata": {},
   "outputs": [],
   "source": [
    "def bubble_sort(l):\n",
    "    n = len(l)\n",
    "    # boolean flag\n",
    "    swap = True    \n",
    "\n",
    "    while swap: # check if the there's swap in the iteration\n",
    "        swap = False\n",
    "        \n",
    "        for i in range(n - 1): # number of iteration: n-1; run-time: O(n)\n",
    "            temp = l[i]\n",
    "            if l[i + 1] < l[i]:\n",
    "                l[i] = l[i + 1]\n",
    "                l[i + 1] = temp\n",
    "                \n",
    "                swap = True"
   ]
  },
  {
   "cell_type": "code",
   "execution_count": 49,
   "metadata": {},
   "outputs": [
    {
     "name": "stdout",
     "output_type": "stream",
     "text": [
      "[5, 3, 10, 9, 4]\n"
     ]
    }
   ],
   "source": [
    "import random\n",
    "List = []\n",
    "number = 5\n",
    "for i in range(int(number)):\n",
    "    List.append(random.randint(0,10))\n",
    "\n",
    "print(List)"
   ]
  },
  {
   "cell_type": "code",
   "execution_count": 50,
   "metadata": {},
   "outputs": [
    {
     "name": "stdout",
     "output_type": "stream",
     "text": [
      "[3, 4, 5, 9, 10]\n"
     ]
    }
   ],
   "source": [
    "bubble_sort(List)\n",
    "print(List)"
   ]
  },
  {
   "cell_type": "markdown",
   "metadata": {},
   "source": [
    "### 2. \n",
    "What is the run-time complexity of bubble sort (write your response and short explanation in a comment in your code).\n"
   ]
  },
  {
   "cell_type": "code",
   "execution_count": 51,
   "metadata": {},
   "outputs": [],
   "source": [
    "def bubble_sort_print(l):\n",
    "    n = len(l)\n",
    "    # boolean flag\n",
    "    swap = True    \n",
    "\n",
    "    while swap: # check if the there's swap in the iteration\n",
    "        swap = False\n",
    "        \n",
    "        for i in range(n - 1): # number of iteration: n-1\n",
    "            temp = l[i]\n",
    "            if l[i + 1] < l[i]:\n",
    "                l[i] = l[i + 1]\n",
    "                l[i + 1] = temp\n",
    "                print(l)\n",
    "        \n",
    "                swap = True"
   ]
  },
  {
   "cell_type": "code",
   "execution_count": 52,
   "metadata": {},
   "outputs": [
    {
     "name": "stdout",
     "output_type": "stream",
     "text": [
      "[1, 2, 3, 4, 5]\n",
      "---------------\n",
      "[4, 5, 3, 2, 1]\n",
      "[4, 3, 5, 2, 1]\n",
      "[4, 3, 2, 5, 1]\n",
      "[4, 3, 2, 1, 5]\n",
      "[3, 4, 2, 1, 5]\n",
      "[3, 2, 4, 1, 5]\n",
      "[3, 2, 1, 4, 5]\n",
      "[2, 3, 1, 4, 5]\n",
      "[2, 1, 3, 4, 5]\n",
      "[1, 2, 3, 4, 5]\n",
      "[1, 2, 3, 4, 5]\n"
     ]
    }
   ],
   "source": [
    "list_best = [1,2,3,4,5]\n",
    "list_worst = [5,4,3,2,1]\n",
    "bubble_sort_print(list_best)\n",
    "print(list_best)\n",
    "print('---------------')\n",
    "bubble_sort_print(list_worst)\n",
    "print(list_worst)"
   ]
  },
  {
   "cell_type": "markdown",
   "metadata": {},
   "source": [
    "#### Best case time complexity:\n",
    "1; when the list is already sorted \n",
    "\n",
    "#### Worst caseL\n",
    "O(n^2); when the list is reverse sorted. Have to run through for loops n number of times of each number. Total run time = (n - 1) + (n - 2) + ...+ 2 + 1 = n(n - 1)/2 = O(n^2)"
   ]
  },
  {
   "cell_type": "code",
   "execution_count": null,
   "metadata": {},
   "outputs": [],
   "source": []
  }
 ],
 "metadata": {
  "kernelspec": {
   "display_name": "Python 3",
   "language": "python",
   "name": "python3"
  },
  "language_info": {
   "codemirror_mode": {
    "name": "ipython",
    "version": 3
   },
   "file_extension": ".py",
   "mimetype": "text/x-python",
   "name": "python",
   "nbconvert_exporter": "python",
   "pygments_lexer": "ipython3",
   "version": "3.8.3"
  }
 },
 "nbformat": 4,
 "nbformat_minor": 4
}
