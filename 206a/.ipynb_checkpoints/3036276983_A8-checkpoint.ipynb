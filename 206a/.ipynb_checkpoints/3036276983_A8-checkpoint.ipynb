{
 "cells": [
  {
   "cell_type": "markdown",
   "metadata": {},
   "source": [
    "### Assignment 8 - a simulator that animates the motion of stars, planets, or moons."
   ]
  },
  {
   "cell_type": "code",
   "execution_count": 1,
   "metadata": {},
   "outputs": [
    {
     "name": "stderr",
     "output_type": "stream",
     "text": [
      "C:\\Users\\12062\\Anaconda3\\lib\\site-packages\\drawSvg\\raster.py:18: RuntimeWarning: Failed to import CairoSVG. drawSvg will be unable to output PNG or other raster image formats. See https://github.com/cduck/drawSvg#prerequisites for more details.\n",
      "Original OSError: no library called \"cairo\" was found\n",
      "no library called \"libcairo-2\" was found\n",
      "cannot load library 'libcairo.so': error 0x7e\n",
      "cannot load library 'libcairo.2.dylib': error 0x7e\n",
      "cannot load library 'libcairo-2.dll': error 0x7e\n",
      "  warnings.warn(msg, RuntimeWarning)\n"
     ]
    }
   ],
   "source": [
    "import drawSvg as draw\n",
    "\n",
    "G = 6.67384 * (10**(-11)) # G constant \n",
    "AU = 1.49598e11 # number of meters per astronomical unit\n",
    "EM = 5.9736e24  # mass of the Earth in kilograms\n",
    "\n",
    "TIME_SCALE = 3.0e6              # how many real seconds for each second of simulation\n",
    "PIXELS_PER_METER = 120. / AU    # distance scale for the simulation\n",
    "\n",
    "FRAME_RATE = 30\n",
    "TIMESTEP = 1.0 / FRAME_RATE     # time between drawing each frame"
   ]
  },
  {
   "cell_type": "code",
   "execution_count": 2,
   "metadata": {},
   "outputs": [
    {
     "name": "stdout",
     "output_type": "stream",
     "text": [
      "Requirement already satisfied: drawSvg in c:\\users\\12062\\anaconda3\\lib\\site-packages (1.7.0)\n",
      "Requirement already satisfied: cairoSVG in c:\\users\\12062\\anaconda3\\lib\\site-packages (from drawSvg) (2.4.2)\n",
      "Note: you may need to restart the kernel to use updated packages.\n",
      "Requirement already satisfied: imageio in c:\\users\\12062\\anaconda3\\lib\\site-packages (from drawSvg) (2.9.0)\n",
      "Requirement already satisfied: numpy in c:\\users\\12062\\anaconda3\\lib\\site-packages (from drawSvg) (1.18.5)\n",
      "Requirement already satisfied: cssselect2 in c:\\users\\12062\\anaconda3\\lib\\site-packages (from cairoSVG->drawSvg) (0.3.0)\n",
      "Requirement already satisfied: cairocffi in c:\\users\\12062\\anaconda3\\lib\\site-packages (from cairoSVG->drawSvg) (1.1.0)\n",
      "Requirement already satisfied: pillow in c:\\users\\12062\\anaconda3\\lib\\site-packages (from cairoSVG->drawSvg) (7.2.0)\n",
      "Requirement already satisfied: tinycss2 in c:\\users\\12062\\anaconda3\\lib\\site-packages (from cairoSVG->drawSvg) (1.0.2)\n",
      "Requirement already satisfied: defusedxml in c:\\users\\12062\\anaconda3\\lib\\site-packages (from cairoSVG->drawSvg) (0.6.0)\n",
      "Requirement already satisfied: webencodings in c:\\users\\12062\\anaconda3\\lib\\site-packages (from cssselect2->cairoSVG->drawSvg) (0.5.1)\n",
      "Requirement already satisfied: setuptools>=39.2.0 in c:\\users\\12062\\anaconda3\\lib\\site-packages (from cssselect2->cairoSVG->drawSvg) (49.2.0.post20200714)\n",
      "Requirement already satisfied: cffi>=1.1.0 in c:\\users\\12062\\anaconda3\\lib\\site-packages (from cairocffi->cairoSVG->drawSvg) (1.14.0)\n",
      "Requirement already satisfied: pycparser in c:\\users\\12062\\anaconda3\\lib\\site-packages (from cffi>=1.1.0->cairocffi->cairoSVG->drawSvg) (2.20)\n"
     ]
    }
   ],
   "source": [
    "pip install drawSvg"
   ]
  },
  {
   "cell_type": "code",
   "execution_count": 3,
   "metadata": {},
   "outputs": [],
   "source": [
    "class Body: # the generic term for a planet. A body has  a mass, a position, a velocity, a radius and RGB color colde.\n",
    "    def __init__(self, mass, x, y, vx, vy, pixel_radius, r, g, b):\n",
    "        # initializing values \n",
    "        self.mass = mass\n",
    "        self.x = x\n",
    "        self.y = y\n",
    "        self.vx = vx \n",
    "        self.vy = vy\n",
    "        self.pixel_radius = pixel_radius\n",
    "        \n",
    "        # color based on the rgb\n",
    "        self.r = r\n",
    "        self.g = g\n",
    "        self.b = b\n",
    "        self.color = '#%02x%02x%02x' % (self.r, self.g, self.b)\n",
    "        \n",
    "\n",
    "    # set of getter function for mass\n",
    "    def getMass(self):\n",
    "        return self.mass\n",
    "    \n",
    "    def getX(self):\n",
    "        return self.x\n",
    "    \n",
    "    def getY(self):\n",
    "        return self.y\n",
    "    \n",
    "    # Update the position of the body using vx, vy, and the timestep. \n",
    "    def update_position(self, timestep):\n",
    "        self.x += self.vx * timestep\n",
    "        self.y += self.vy * timestep\n",
    "    \n",
    "    # Update the velocity of the body using ax, ay, and the time step.\n",
    "    def update_velocity(self, ax, ay, timestep):\n",
    "        self.vx += ax * timestep\n",
    "        self.vy += ay * timestep   \n",
    "    \n",
    "    # Draw body at it's pixel coordinates\n",
    "    def draw(self, pixels_per_meter):\n",
    "        D.append(draw.Circle(self.x * pixels_per_meter, self.y * pixels_per_meter, self.pixel_radius, fill= self.color))\n"
   ]
  },
  {
   "cell_type": "code",
   "execution_count": 4,
   "metadata": {},
   "outputs": [],
   "source": [
    "class System: # Each item in the list is a reference to a Body object.\n",
    "    def __init__(self, body_list):\n",
    "        \n",
    "        self.body_list = body_list\n",
    "        \n",
    "    # update the velocity and position of each body.\n",
    "    def update(self, timestep):\n",
    "        \n",
    "        # go through the body_list, and call compute_acceleration on each \n",
    "        for i in range(len(self.body_list)):\n",
    "            # grabing the ax and ay value from compute_acceleration function\n",
    "            ax,ay = self.compute_acceleration(i)\n",
    "            # update it's position and velocity\n",
    "            self.body_list[i].update_velocity(ax, ay, timestep)\n",
    "            self.body_list[i].update_position(timestep)\n",
    "        \n",
    "        \n",
    "    # computes the x and y components of the acceleration of the body at index n in the list.\n",
    "    def compute_acceleration(self, n):\n",
    "        # initiate values\n",
    "        x_n = self.body_list[n].getX()\n",
    "        y_n = self.body_list[n].getY()\n",
    "        a = 0 \n",
    "        a_x = 0\n",
    "        a_y =0\n",
    "        \n",
    "        # go through new_list and compute the a, ax, ay\n",
    "        for i in range(len(self.body_list)):\n",
    "            if i != n:\n",
    "                x_diff = (self.body_list[i].getX() - x_n)\n",
    "                y_diff = (self.body_list[i].getY() - y_n) \n",
    "            \n",
    "            # caculate the radius\n",
    "                r = (x_diff**2 + y_diff**2) ** (1/2)     \n",
    "            \n",
    "                a += (G * self.body_list[i].getMass()) / (x_diff**2 + y_diff**2)\n",
    "                a_x += a * x_diff / r\n",
    "                a_y += a * y_diff / r\n",
    "\n",
    "            return a_x, a_y\n",
    "    \n",
    "    def draw(self, pixels_per_meter): # calls the draw method on each body in the body list\n",
    "        for i in range(len(self.body_list)):\n",
    "            self.body_list[i].draw(pixels_per_meter)"
   ]
  },
  {
   "cell_type": "code",
   "execution_count": 5,
   "metadata": {},
   "outputs": [],
   "source": [
    "D = draw.Drawing(600,600, origin = 'center')\n",
    "D.append(draw.Rectangle(-300,-300,600,600,fill='black'))\n",
    "\n",
    "# Solar system data\n",
    "sun     = Body(1.98892e30, 0, 0, 0, 0, 15, 255, 255, 0)\n",
    "mercury = Body(.06 * EM, -.3871 * AU, 0, 0, 47890, 3, 255, 102, 0)\n",
    "venus   = Body(.82 * EM, -.7233 * AU, 0, 0, 35040, 6, 0, 153, 51)\n",
    "earth   = Body(1.0 * EM, -1.0 * AU, 0, 0, 29790, 7, 0, 102, 255)\n",
    "mars    = Body(.11 * EM, -1.524 * AU, 0, 0, 24140, 4, 204, 51, 0)\n",
    "    \n",
    "solar_system = System([sun, mercury, venus, earth, mars])\n"
   ]
  },
  {
   "cell_type": "code",
   "execution_count": 6,
   "metadata": {},
   "outputs": [],
   "source": [
    "def draw_frame():\n",
    "    solar_system.draw(PIXELS_PER_METER)\n",
    "    solar_system.update(TIMESTEP * TIME_SCALE)\n",
    "    return( D )"
   ]
  },
  {
   "cell_type": "code",
   "execution_count": null,
   "metadata": {},
   "outputs": [
    {
     "data": {
      "image/svg+xml": [
       "<?xml version=\"1.0\" encoding=\"UTF-8\"?>\n",
       "<svg xmlns=\"http://www.w3.org/2000/svg\" xmlns:xlink=\"http://www.w3.org/1999/xlink\"\n",
       "     width=\"600\" height=\"600\" viewBox=\"-300.0 -300.0 600 600\">\n",
       "<defs>\n",
       "</defs>\n",
       "<rect x=\"-300\" y=\"-300\" width=\"600\" height=\"600\" fill=\"black\" />\n",
       "<circle cx=\"0.0\" cy=\"-0.0\" r=\"15\" fill=\"#ffff00\" />\n",
       "<circle cx=\"18.7669050188268\" cy=\"-40.86467815269241\" r=\"3\" fill=\"#ff6600\" />\n",
       "<circle cx=\"-74.64898341911021\" cy=\"-42.92621982631203\" r=\"6\" fill=\"#009933\" />\n",
       "<circle cx=\"27.20736281458755\" cy=\"-115.73266624118125\" r=\"7\" fill=\"#0066ff\" />\n",
       "<circle cx=\"74.86597729262306\" cy=\"168.09147659237706\" r=\"4\" fill=\"#cc3300\" />\n",
       "</svg>"
      ],
      "text/plain": [
       "<drawSvg.drawing.Drawing at 0x245510165e0>"
      ]
     },
     "metadata": {},
     "output_type": "display_data"
    }
   ],
   "source": [
    "with draw.animate_jupyter(draw_frame, delay=0.05) as anim:\n",
    "    while( True ):\n",
    "        D = draw.Drawing(600, 600, origin='center') # clear canvas\n",
    "        D.append( draw.Rectangle(-300,-300,600,600,fill='black')) # black background\n",
    "        anim.draw_frame()"
   ]
  }
 ],
 "metadata": {
  "kernelspec": {
   "display_name": "Python 3",
   "language": "python",
   "name": "python3"
  },
  "language_info": {
   "codemirror_mode": {
    "name": "ipython",
    "version": 3
   },
   "file_extension": ".py",
   "mimetype": "text/x-python",
   "name": "python",
   "nbconvert_exporter": "python",
   "pygments_lexer": "ipython3",
   "version": "3.8.3"
  }
 },
 "nbformat": 4,
 "nbformat_minor": 4
}
