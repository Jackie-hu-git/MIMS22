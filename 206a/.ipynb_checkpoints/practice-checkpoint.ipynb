{
 "cells": [
  {
   "cell_type": "markdown",
   "metadata": {},
   "source": [
    "### Class"
   ]
  },
  {
   "cell_type": "code",
   "execution_count": 1,
   "metadata": {},
   "outputs": [],
   "source": [
    "class BankAccount:\n",
    "    def __init__(self, initial):\n",
    "        self.balance = initial \n",
    "    \n",
    "    def deposit(self, amount):\n",
    "        self.balance = self.balance + amount\n",
    "    \n",
    "    def withdraw(self, amount):\n",
    "        self.balance = self.balance - amount\n",
    "    \n",
    "    def overdrawn(self):\n",
    "        return self.balance < 0\n",
    "    \n",
    "    def __str__(self):\n",
    "        return 'balance is: ' + str(self.balance)"
   ]
  },
  {
   "cell_type": "code",
   "execution_count": 2,
   "metadata": {},
   "outputs": [],
   "source": [
    "my_account = BankAccount(10)"
   ]
  },
  {
   "cell_type": "code",
   "execution_count": 3,
   "metadata": {},
   "outputs": [
    {
     "name": "stdout",
     "output_type": "stream",
     "text": [
      "balance is: 10\n"
     ]
    }
   ],
   "source": [
    "print(my_account)"
   ]
  },
  {
   "cell_type": "code",
   "execution_count": 4,
   "metadata": {},
   "outputs": [],
   "source": [
    "my_account.deposit(5)"
   ]
  },
  {
   "cell_type": "code",
   "execution_count": 5,
   "metadata": {},
   "outputs": [
    {
     "data": {
      "text/plain": [
       "False"
      ]
     },
     "execution_count": 5,
     "metadata": {},
     "output_type": "execute_result"
    }
   ],
   "source": [
    "my_account.overdrawn()"
   ]
  },
  {
   "cell_type": "code",
   "execution_count": 6,
   "metadata": {},
   "outputs": [],
   "source": [
    "class Bank:\n",
    "    def __init__(self,l1,l2):\n",
    "        self.name = l1\n",
    "        self.balance = l2\n",
    "    \n",
    "    def __str__(self):\n",
    "        for i in range (len(self.name)):\n",
    "            print(self.name[i] + ' : ' + str(self.balance[i]))\n",
    "        \n",
    "        return \"end of list\"\n",
    "    \n",
    "    '''\n",
    "    can also use a string\n",
    "    \n",
    "    all = ''\n",
    "    for i in range(len(self.name)):\n",
    "        all = all + self.names[i] + ': ' + str(self.balance[i]) + '\\n'\n",
    "    return all\n",
    "    \n",
    "    '''\n",
    "    \n",
    "    def findCustomer(self,who):\n",
    "        for i in range (len(self.name)):\n",
    "            if(self.name[i] == who):\n",
    "                return i # find it \n",
    "        # didn't find it \n",
    "        return -1\n",
    "    \n",
    "    def addCustomer_new (self, name, deposit= '0'):\n",
    "        i = self.findCustomer(name)\n",
    "        if(i >= 0):\n",
    "            print('alreayd exist')\n",
    "            return False\n",
    "        else:\n",
    "            self.name.append(name)\n",
    "            self.balance.append(deposit)\n",
    "            return True \n",
    "    \n",
    "    def addCustomer(self, name, deposit='0'):\n",
    "        for i in range(len(self.name)):\n",
    "            if self.name[i] == name:\n",
    "                print(\"already exist\") \n",
    "                return False\n",
    "            \n",
    "        self.name.append(name)\n",
    "        self.balance.append(deposit)\n",
    "        return True\n",
    "    \n",
    "    def deposit(self, name, amount):\n",
    "        \n",
    "        if name not in self.name:\n",
    "            print('no such account')\n",
    "            return False\n",
    "        \n",
    "        for i in range (len(self.name)):\n",
    "            if self.name[i] == name:\n",
    "                self.balance[i] += amount\n",
    "        return True\n",
    "    \n",
    "    \n",
    "    '''\n",
    "    # pay attention to the loop with return \n",
    "    \n",
    "    for i in range(len(self.name)):\n",
    "        if self.name[i] == name:\n",
    "            self.balance[i] += amount\n",
    "            return True\n",
    "    \n",
    "    print('not found')\n",
    "    return False \n",
    "       \n",
    "    '''\n",
    "    def lowBalance(self, limit):\n",
    "        print(\"low balance: \")\n",
    "        count = 0\n",
    "        for i in range (len(self.name)):\n",
    "            if (self.amount < limit):\n",
    "                count += 1\n",
    "                print(self.name[i] + \": \" + str(self.balance[i]))\n",
    "                "
   ]
  },
  {
   "cell_type": "code",
   "execution_count": 7,
   "metadata": {},
   "outputs": [],
   "source": [
    "name_list = ['a', 'n', 's', 'sh']\n",
    "balance_list = [123,3989,9090,12]\n",
    "\n",
    "account = Bank(name_list, balance_list)"
   ]
  },
  {
   "cell_type": "code",
   "execution_count": 8,
   "metadata": {},
   "outputs": [
    {
     "name": "stdout",
     "output_type": "stream",
     "text": [
      "a : 123\n",
      "n : 3989\n",
      "s : 9090\n",
      "sh : 12\n",
      "end of list\n"
     ]
    }
   ],
   "source": [
    "print(account)"
   ]
  },
  {
   "cell_type": "code",
   "execution_count": 9,
   "metadata": {},
   "outputs": [
    {
     "data": {
      "text/plain": [
       "True"
      ]
     },
     "execution_count": 9,
     "metadata": {},
     "output_type": "execute_result"
    }
   ],
   "source": [
    "account.addCustomer('jackie', 100)"
   ]
  },
  {
   "cell_type": "code",
   "execution_count": 10,
   "metadata": {},
   "outputs": [
    {
     "name": "stdout",
     "output_type": "stream",
     "text": [
      "a : 123\n",
      "n : 3989\n",
      "s : 9090\n",
      "sh : 12\n",
      "jackie : 100\n",
      "end of list\n"
     ]
    }
   ],
   "source": [
    "print(account)"
   ]
  },
  {
   "cell_type": "code",
   "execution_count": 11,
   "metadata": {},
   "outputs": [
    {
     "data": {
      "text/plain": [
       "True"
      ]
     },
     "execution_count": 11,
     "metadata": {},
     "output_type": "execute_result"
    }
   ],
   "source": [
    "account.deposit('jackie', 100)"
   ]
  },
  {
   "cell_type": "code",
   "execution_count": 12,
   "metadata": {},
   "outputs": [
    {
     "name": "stdout",
     "output_type": "stream",
     "text": [
      "a : 123\n",
      "n : 3989\n",
      "s : 9090\n",
      "sh : 12\n",
      "jackie : 200\n",
      "end of list\n"
     ]
    }
   ],
   "source": [
    "print(account)"
   ]
  },
  {
   "cell_type": "code",
   "execution_count": 13,
   "metadata": {},
   "outputs": [
    {
     "name": "stdout",
     "output_type": "stream",
     "text": [
      "already exist\n"
     ]
    },
    {
     "data": {
      "text/plain": [
       "False"
      ]
     },
     "execution_count": 13,
     "metadata": {},
     "output_type": "execute_result"
    }
   ],
   "source": [
    "account.addCustomer('jackie', 10)"
   ]
  },
  {
   "cell_type": "code",
   "execution_count": 14,
   "metadata": {},
   "outputs": [
    {
     "name": "stdout",
     "output_type": "stream",
     "text": [
      "a : 123\n",
      "n : 3989\n",
      "s : 9090\n",
      "sh : 12\n",
      "jackie : 200\n",
      "end of list\n"
     ]
    }
   ],
   "source": [
    "print(account)"
   ]
  },
  {
   "cell_type": "markdown",
   "metadata": {},
   "source": [
    "### Condition in Class"
   ]
  },
  {
   "cell_type": "code",
   "execution_count": 15,
   "metadata": {},
   "outputs": [],
   "source": [
    "class Kangaroo:\n",
    "    def __init__(self, pouch):\n",
    "        self.pouch_contents = pouch \n",
    "    \n",
    "    def put_in_pouch (self, item):\n",
    "        for i in range (len(self.pouch_contents)):\n",
    "            if (self.pouch_contents[i] == item):\n",
    "                print('object already in pouch')\n",
    "                return\n",
    "        self.pouch_contents.append(item)\n",
    "    \n",
    "    \n",
    "    def __str__(self):\n",
    "        if(len(self.pouch_contents) == 0):\n",
    "            return 'pouch is empty'\n",
    "        else:\n",
    "            return str(self.pouch_contents)"
   ]
  },
  {
   "cell_type": "code",
   "execution_count": 16,
   "metadata": {},
   "outputs": [],
   "source": [
    "my_item = ['ball', 'cube']\n",
    "kang = Kangaroo(my_item)"
   ]
  },
  {
   "cell_type": "code",
   "execution_count": 17,
   "metadata": {},
   "outputs": [
    {
     "name": "stdout",
     "output_type": "stream",
     "text": [
      "['ball', 'cube']\n"
     ]
    }
   ],
   "source": [
    "print(kang)"
   ]
  },
  {
   "cell_type": "code",
   "execution_count": 18,
   "metadata": {},
   "outputs": [],
   "source": [
    "kang.put_in_pouch('bag')"
   ]
  },
  {
   "cell_type": "code",
   "execution_count": 19,
   "metadata": {},
   "outputs": [
    {
     "name": "stdout",
     "output_type": "stream",
     "text": [
      "['ball', 'cube', 'bag']\n"
     ]
    }
   ],
   "source": [
    "print(kang)"
   ]
  },
  {
   "cell_type": "code",
   "execution_count": 20,
   "metadata": {},
   "outputs": [
    {
     "name": "stdout",
     "output_type": "stream",
     "text": [
      "object already in pouch\n"
     ]
    }
   ],
   "source": [
    "kang.put_in_pouch('bag')"
   ]
  },
  {
   "cell_type": "markdown",
   "metadata": {},
   "source": [
    "### Getter Function"
   ]
  },
  {
   "cell_type": "code",
   "execution_count": 21,
   "metadata": {},
   "outputs": [],
   "source": [
    "class Student:\n",
    "    def __init__(self, name, exam_grade, height_in_cm):\n",
    "        self.name = name\n",
    "        self.grade = exam_grade\n",
    "        self.height = height_in_cm\n",
    "        \n",
    "    def __str__(self):\n",
    "        return '('+self.name+', '+ str(self.grade)+', ' + str(self.height)+')'\n",
    "    \n",
    "    def getName(self):\n",
    "        return self.name\n",
    "    def getGrade(self):\n",
    "        return self.grade\n",
    "    def getHeight(self):\n",
    "        return self.height\n",
    "    \n",
    "    # return the condition in 1 line\n",
    "    def isFailing(self):\n",
    "        return self.grade < 90"
   ]
  },
  {
   "cell_type": "code",
   "execution_count": 22,
   "metadata": {},
   "outputs": [],
   "source": [
    "jackie = Student('jackie', '100', '158')"
   ]
  },
  {
   "cell_type": "code",
   "execution_count": 23,
   "metadata": {},
   "outputs": [
    {
     "name": "stdout",
     "output_type": "stream",
     "text": [
      "(jackie, 100, 158)\n"
     ]
    }
   ],
   "source": [
    "print(jackie)"
   ]
  },
  {
   "cell_type": "code",
   "execution_count": 24,
   "metadata": {},
   "outputs": [
    {
     "name": "stdout",
     "output_type": "stream",
     "text": [
      "jackie\n"
     ]
    }
   ],
   "source": [
    "print(jackie.getName())"
   ]
  },
  {
   "cell_type": "code",
   "execution_count": 25,
   "metadata": {},
   "outputs": [
    {
     "name": "stdout",
     "output_type": "stream",
     "text": [
      "158\n"
     ]
    }
   ],
   "source": [
    "print(jackie.getHeight())"
   ]
  },
  {
   "cell_type": "code",
   "execution_count": 26,
   "metadata": {},
   "outputs": [
    {
     "name": "stdout",
     "output_type": "stream",
     "text": [
      "(bob, 89, 180)\n",
      "(sara, 100, 167)\n",
      "(helen, 78, 189)\n"
     ]
    }
   ],
   "source": [
    "student_list = [Student('bob',89,180), Student('sara',100,167), Student('helen', 78, 189)]\n",
    "\n",
    "for i in range(0, len(student_list)):\n",
    "    print(student_list[i])"
   ]
  },
  {
   "cell_type": "code",
   "execution_count": 27,
   "metadata": {},
   "outputs": [
    {
     "name": "stdout",
     "output_type": "stream",
     "text": [
      "(bob, 89, 180)\n",
      "(helen, 78, 189)\n"
     ]
    }
   ],
   "source": [
    "for i in range(len(student_list)):\n",
    "    if(student_list[i].isFailing()):\n",
    "        print(student_list[i])"
   ]
  },
  {
   "cell_type": "code",
   "execution_count": 28,
   "metadata": {},
   "outputs": [],
   "source": [
    "# outside function, not in the class\n",
    "def keyGrade(student):\n",
    "    return student.getGrade()\n",
    "def keyName(student):\n",
    "    return student.getName()"
   ]
  },
  {
   "cell_type": "code",
   "execution_count": 29,
   "metadata": {},
   "outputs": [],
   "source": [
    "# key= is the keyword has to use for sorting function \n",
    "student_list.sort(key= keyGrade)"
   ]
  },
  {
   "cell_type": "code",
   "execution_count": 30,
   "metadata": {},
   "outputs": [],
   "source": [
    "student_list.sort(key= keyName)"
   ]
  },
  {
   "cell_type": "code",
   "execution_count": 31,
   "metadata": {},
   "outputs": [
    {
     "name": "stdout",
     "output_type": "stream",
     "text": [
      "(bob, 89, 180)\n",
      "(helen, 78, 189)\n",
      "(sara, 100, 167)\n"
     ]
    }
   ],
   "source": [
    "# print out each item \n",
    "for i in range(len(student_list)):\n",
    "    print(student_list[i])"
   ]
  },
  {
   "cell_type": "markdown",
   "metadata": {},
   "source": [
    "### Nested Class Function"
   ]
  },
  {
   "cell_type": "code",
   "execution_count": null,
   "metadata": {},
   "outputs": [],
   "source": [
    "from random import uniform\n",
    "import string\n",
    "string.ascii_letters\n",
    "import random\n",
    "import matplotlib.pyplot as plt"
   ]
  },
  {
   "cell_type": "code",
   "execution_count": null,
   "metadata": {},
   "outputs": [],
   "source": [
    "class Course:\n",
    "    def __init__(self, N):\n",
    "        self.number = N\n",
    "        self.student_list = []\n",
    "        \n",
    "        \n",
    "        # generate random numbers for each i \n",
    "        for i in range(N):\n",
    "            grade_r = uniform(0, 100)\n",
    "            height_r = uniform(150, 200)\n",
    "            name_r = random.choice(string.ascii_letters)\n",
    "            # append each student obj calling Student class\n",
    "            self.student_list.append(Student(name_r, grade_r, height_r))\n",
    "    \n",
    "    # can't return, it will only return one item (why?)\n",
    "    def __str__(self):\n",
    "        for i in range (self.number):\n",
    "            print(self.student_list[i])\n",
    "            '''\n",
    "            allstudent = ''\n",
    "            for i in range(0, self.enrollment):\n",
    "                allstudents = allstudents + self.student_list[i].__str__()\n",
    "            return allstudent\n",
    "            '''\n",
    "        return 'end'\n",
    "    \n",
    "    def graph(self):\n",
    "        num_bins = 10\n",
    "        grades = []\n",
    "        \n",
    "        # using the getGrade function inside Student class to append grades \n",
    "        for i in range(self.number):\n",
    "            grades.append(self.student_list[i].getGrade())\n",
    "        \n",
    "        # graph only take in list of numbers\n",
    "        plt.hist(grades, num_bins,color='blue',edgecolor='black')\n",
    "        plt.xlabel('grades')\n",
    "        plt.ylabel('count')\n",
    "        plt.show()"
   ]
  },
  {
   "cell_type": "code",
   "execution_count": null,
   "metadata": {},
   "outputs": [],
   "source": [
    "course_test = Course(100)"
   ]
  },
  {
   "cell_type": "code",
   "execution_count": null,
   "metadata": {},
   "outputs": [],
   "source": [
    "print(course_test)"
   ]
  },
  {
   "cell_type": "code",
   "execution_count": null,
   "metadata": {},
   "outputs": [],
   "source": [
    "course_test.graph()"
   ]
  },
  {
   "cell_type": "markdown",
   "metadata": {},
   "source": [
    "### Better Structure"
   ]
  },
  {
   "cell_type": "code",
   "execution_count": 32,
   "metadata": {},
   "outputs": [],
   "source": [
    "class Customer:    \n",
    "    def __init__(self,name,ssn,address,balance=0):        \n",
    "        self.customer = [name, ssn, address, balance]    \n",
    "    def getName(self):        \n",
    "        return self.customer[0]    \n",
    "    def getSSN(self):        \n",
    "        return self.customer[1]  \n",
    "    def getAddress(self):        \n",
    "        return self.customer[2]    \n",
    "    def getBalance(self):        \n",
    "        return self.customer[3]    \n",
    "    def getAll(self):        \n",
    "        return self.getName() + \" | \" + self.getSSN() + \" | \" + self.getAddress() + \" | \" + str(self.getBalance())   \n",
    "    def __str__(self):       \n",
    "        return self.getAll()"
   ]
  },
  {
   "cell_type": "code",
   "execution_count": 33,
   "metadata": {},
   "outputs": [],
   "source": [
    "import random\n",
    "\n",
    "import string\n",
    "\n",
    "def random_string(str_size):    \n",
    "    return ''.join(random.choice(string.ascii_letters) \n",
    "                   for x in range(str_size))\n",
    "def random_ssn():\n",
    "    return str(random.randint(100,999)) + \"-\" + str(random.randint(10,99)) + \"-\" + str(random.randint(1000,9999))\n",
    "\n"
   ]
  },
  {
   "cell_type": "code",
   "execution_count": 34,
   "metadata": {},
   "outputs": [],
   "source": [
    "c = Customer( random_string(10), random_ssn(), random_string(50))"
   ]
  },
  {
   "cell_type": "code",
   "execution_count": 35,
   "metadata": {},
   "outputs": [
    {
     "name": "stdout",
     "output_type": "stream",
     "text": [
      "JEVilyhPZz | 113-52-9787 | PuxBIAAIOxHaxisZgjAeycYdqSlbzrIVyShurZyLQmlWNuNyrW | 0\n"
     ]
    }
   ],
   "source": [
    "print(c)"
   ]
  },
  {
   "cell_type": "code",
   "execution_count": 112,
   "metadata": {},
   "outputs": [],
   "source": [
    "class Bankinfo:\n",
    "    def __init__(self,N):\n",
    "        self.number = N\n",
    "        self.list = []\n",
    "        \n",
    "        for i in range(N):\n",
    "            self.list.append(Customer(random_string(10), random_ssn(),random_string(20)))\n",
    "    \n",
    "    def __str__(self):\n",
    "        allcustomer = ''\n",
    "        for i in range(len(self.list)):\n",
    "            allcustomer += self.list[i].getAll() + '\\n'\n",
    "        \n",
    "        return allcustomer\n",
    "    \n",
    "    def addCustomer(self,name,ssn,address,howmuch=0):\n",
    "        for i in range(len(self.list)):\n",
    "            if ssn == self.list[i].getSSN():\n",
    "                print(\"already exist\")\n",
    "                return\n",
    "        \n",
    "        # no else!!\n",
    "        # have to go through the whole list \n",
    "        self.list.append(Customer(name, ssn, address, howmuch))\n",
    "        print('added')\n",
    "        return self.list"
   ]
  },
  {
   "cell_type": "code",
   "execution_count": 113,
   "metadata": {},
   "outputs": [],
   "source": [
    "bank = Bankinfo(3)"
   ]
  },
  {
   "cell_type": "code",
   "execution_count": 114,
   "metadata": {},
   "outputs": [
    {
     "name": "stdout",
     "output_type": "stream",
     "text": [
      "lRLMaNFnuF | 232-71-4498 | YiXEUzWyNjdpjXNWEsSi | 0\n",
      "RZCHYFKYtI | 741-37-2811 | xvWQQfivuRpnnDxXzLib | 0\n",
      "wXtiAlzWXg | 483-30-2961 | xNnwqLsXompFuElhEGyy | 0\n",
      "\n"
     ]
    }
   ],
   "source": [
    "print(bank)"
   ]
  },
  {
   "cell_type": "code",
   "execution_count": 115,
   "metadata": {},
   "outputs": [
    {
     "name": "stdout",
     "output_type": "stream",
     "text": [
      "already exist\n"
     ]
    }
   ],
   "source": [
    "bank.addCustomer('WtdQoQUVlN', '483-30-2961', random_string(50),100)"
   ]
  },
  {
   "cell_type": "code",
   "execution_count": 116,
   "metadata": {},
   "outputs": [
    {
     "name": "stdout",
     "output_type": "stream",
     "text": [
      "lRLMaNFnuF | 232-71-4498 | YiXEUzWyNjdpjXNWEsSi | 0\n",
      "RZCHYFKYtI | 741-37-2811 | xvWQQfivuRpnnDxXzLib | 0\n",
      "wXtiAlzWXg | 483-30-2961 | xNnwqLsXompFuElhEGyy | 0\n",
      "\n"
     ]
    }
   ],
   "source": [
    "print(bank)"
   ]
  },
  {
   "cell_type": "code",
   "execution_count": 11,
   "metadata": {},
   "outputs": [],
   "source": [
    "def has22(l):\n",
    "    if len(l) < 2:\n",
    "        return False\n",
    "    elif l[0] == 2 and l[1] == 2:\n",
    "        return True\n",
    "    else:\n",
    "    #[1,2,3,4,5,6,7,2,2]\n",
    "        return has22(l[1:])"
   ]
  },
  {
   "cell_type": "code",
   "execution_count": 12,
   "metadata": {},
   "outputs": [],
   "source": [
    "l = [1,2,3,4,5,6,7,2,2]"
   ]
  },
  {
   "cell_type": "code",
   "execution_count": 19,
   "metadata": {},
   "outputs": [
    {
     "data": {
      "text/plain": [
       "True"
      ]
     },
     "execution_count": 19,
     "metadata": {},
     "output_type": "execute_result"
    }
   ],
   "source": [
    "has22([1,2,2,3])"
   ]
  },
  {
   "cell_type": "code",
   "execution_count": 16,
   "metadata": {},
   "outputs": [],
   "source": [
    "def has22_new(l):\n",
    "    if (len(l) == 0 or len(l) == 1):\n",
    "        return False\n",
    "    else:\n",
    "        return (l[0] == 2 and l[1] == 2) or has22_new(l[1:])"
   ]
  },
  {
   "cell_type": "code",
   "execution_count": 17,
   "metadata": {},
   "outputs": [
    {
     "data": {
      "text/plain": [
       "True"
      ]
     },
     "execution_count": 17,
     "metadata": {},
     "output_type": "execute_result"
    }
   ],
   "source": [
    "has22_new([1,2,3,4,5,6,7,2,2])"
   ]
  },
  {
   "cell_type": "code",
   "execution_count": 24,
   "metadata": {},
   "outputs": [],
   "source": [
    "def counteven(l):\n",
    "\tif len(l) == 0:\n",
    "\t\treturn 0\n",
    "\telif l[0] % 2 == 0:\n",
    "\t\treturn 1 + counteven(l[1:])\n",
    "\telse:\n",
    "\t\treturn counteven(l[1:])\n",
    "\t\t"
   ]
  },
  {
   "cell_type": "code",
   "execution_count": 28,
   "metadata": {},
   "outputs": [
    {
     "data": {
      "text/plain": [
       "4"
      ]
     },
     "execution_count": 28,
     "metadata": {},
     "output_type": "execute_result"
    }
   ],
   "source": [
    "counteven([1,3,5,2,2,2,2])"
   ]
  },
  {
   "cell_type": "code",
   "execution_count": 37,
   "metadata": {},
   "outputs": [
    {
     "name": "stdout",
     "output_type": "stream",
     "text": [
      "24\n"
     ]
    }
   ],
   "source": [
    "def mystery(x):\n",
    "    i = 2\n",
    "    while i < 24:\n",
    "        if i % 2 == 0:\n",
    "            return 24\n",
    "        print(x)\n",
    "\n",
    "print(mystery(11))"
   ]
  },
  {
   "cell_type": "code",
   "execution_count": 41,
   "metadata": {},
   "outputs": [],
   "source": [
    "sum1 = ''\n",
    "sum1 = sum1 + '2'+'4'+'6'"
   ]
  },
  {
   "cell_type": "code",
   "execution_count": 42,
   "metadata": {},
   "outputs": [
    {
     "name": "stdout",
     "output_type": "stream",
     "text": [
      "246\n"
     ]
    }
   ],
   "source": [
    "print(sum1)"
   ]
  },
  {
   "cell_type": "code",
   "execution_count": 45,
   "metadata": {},
   "outputs": [
    {
     "ename": "SyntaxError",
     "evalue": "invalid character in identifier (<ipython-input-45-b8bb8bc1320f>, line 3)",
     "output_type": "error",
     "traceback": [
      "\u001b[1;36m  File \u001b[1;32m\"<ipython-input-45-b8bb8bc1320f>\"\u001b[1;36m, line \u001b[1;32m3\u001b[0m\n\u001b[1;33m    def __init__(self, name):\u001b[0m\n\u001b[1;37m                             ^\u001b[0m\n\u001b[1;31mSyntaxError\u001b[0m\u001b[1;31m:\u001b[0m invalid character in identifier\n"
     ]
    }
   ],
   "source": [
    "class Human:\n",
    "    \n",
    "    def __init__(self, name):          \n",
    "        self.name = name          \n",
    "            \n",
    "    \n",
    "# driver code\n",
    "human_test1 = Human('Jack')\n",
    "human_test2 = Human('Jill')\n"
   ]
  },
  {
   "cell_type": "code",
   "execution_count": 52,
   "metadata": {},
   "outputs": [],
   "source": [
    "class Human:\n",
    "    def __init__(self,name):\n",
    "        self.name = name\n",
    "        self.height = 90\n",
    "        self.age = 0\n",
    "    \n",
    "    def increase_age(self):\n",
    "        self.age += 1\n",
    "    def increase_height(self,h):\n",
    "        self.height += h\n",
    "    def grow(self):\n",
    "        self.increase_age()\n",
    "        self.increase_height(5)\n",
    "    def getage(self):\n",
    "        return self.age\n",
    "    def geth(self):\n",
    "        return self.height"
   ]
  },
  {
   "cell_type": "code",
   "execution_count": 58,
   "metadata": {},
   "outputs": [],
   "source": [
    "h1 = Human('jack')"
   ]
  },
  {
   "cell_type": "code",
   "execution_count": 59,
   "metadata": {},
   "outputs": [
    {
     "data": {
      "text/plain": [
       "<__main__.Human at 0x251365c8f40>"
      ]
     },
     "execution_count": 59,
     "metadata": {},
     "output_type": "execute_result"
    }
   ],
   "source": [
    "h1"
   ]
  },
  {
   "cell_type": "code",
   "execution_count": 60,
   "metadata": {},
   "outputs": [
    {
     "data": {
      "text/plain": [
       "0"
      ]
     },
     "execution_count": 60,
     "metadata": {},
     "output_type": "execute_result"
    }
   ],
   "source": [
    "h1.getage()"
   ]
  },
  {
   "cell_type": "code",
   "execution_count": 61,
   "metadata": {},
   "outputs": [
    {
     "data": {
      "text/plain": [
       "90"
      ]
     },
     "execution_count": 61,
     "metadata": {},
     "output_type": "execute_result"
    }
   ],
   "source": [
    "h1.geth()"
   ]
  },
  {
   "cell_type": "code",
   "execution_count": 62,
   "metadata": {},
   "outputs": [],
   "source": [
    "for i in range(10):\n",
    "    h1.grow()"
   ]
  },
  {
   "cell_type": "code",
   "execution_count": 63,
   "metadata": {},
   "outputs": [
    {
     "data": {
      "text/plain": [
       "10"
      ]
     },
     "execution_count": 63,
     "metadata": {},
     "output_type": "execute_result"
    }
   ],
   "source": [
    "h1.getage()"
   ]
  },
  {
   "cell_type": "code",
   "execution_count": 64,
   "metadata": {},
   "outputs": [
    {
     "data": {
      "text/plain": [
       "140"
      ]
     },
     "execution_count": 64,
     "metadata": {},
     "output_type": "execute_result"
    }
   ],
   "source": [
    "h1.geth()"
   ]
  }
 ],
 "metadata": {
  "kernelspec": {
   "display_name": "Python 3",
   "language": "python",
   "name": "python3"
  },
  "language_info": {
   "codemirror_mode": {
    "name": "ipython",
    "version": 3
   },
   "file_extension": ".py",
   "mimetype": "text/x-python",
   "name": "python",
   "nbconvert_exporter": "python",
   "pygments_lexer": "ipython3",
   "version": "3.8.3"
  }
 },
 "nbformat": 4,
 "nbformat_minor": 4
}
