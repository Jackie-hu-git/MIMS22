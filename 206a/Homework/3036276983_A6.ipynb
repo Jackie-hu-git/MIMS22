{
 "cells": [
  {
   "cell_type": "markdown",
   "metadata": {},
   "source": [
    "### 1.\n",
    "Write a recursive function that takes as input a list of integers and returns the sum of all even numbers in the list. If the list is empty, return 0 (hint: this is your base case).\n"
   ]
  },
  {
   "cell_type": "code",
   "execution_count": 23,
   "metadata": {},
   "outputs": [],
   "source": [
    "def sum_even(l):\n",
    "    \n",
    "    # the base case, if the list is empty, return 0\n",
    "    if len(l) == 0:\n",
    "        return 0\n",
    "\n",
    "         \n",
    "    else:\n",
    "        # if the number is even, add to the sum \n",
    "        if (l[0] % 2 == 0):\n",
    "            return l[0] + sum_even(l[1:])\n",
    "            \n",
    "        else:\n",
    "            return sum_even(l[1:])"
   ]
  },
  {
   "cell_type": "code",
   "execution_count": 49,
   "metadata": {},
   "outputs": [
    {
     "data": {
      "text/plain": [
       "6"
      ]
     },
     "execution_count": 49,
     "metadata": {},
     "output_type": "execute_result"
    }
   ],
   "source": [
    "# test code here\n",
    "l = [1, 2, 3, 4, 5]\n",
    "sum_even(l)"
   ]
  },
  {
   "cell_type": "markdown",
   "metadata": {},
   "source": [
    "### 2.\n",
    "Write a recursive function that takes as input a string and returns True if it is a palindrome and False if it is not. A string of length 0 or 1 is a palindrome. A string of length greater than 1 is a palindrome if the first and last character are the same, the second and second to last character are the same, etc.Your solution to each part may not use any for- or while-looping constructs."
   ]
  },
  {
   "cell_type": "code",
   "execution_count": 53,
   "metadata": {},
   "outputs": [],
   "source": [
    "def palindrome (s):\n",
    "    \n",
    "    # the base case, if the length of list is 0 or 1, retun true\n",
    "    if len(s) <2 :\n",
    "        return True\n",
    "    \n",
    "    else:\n",
    "        # if the 1st element not equal to last element, return false\n",
    "        if s[0] != s[-1]:\n",
    "            return False\n",
    "        else:\n",
    "            # recur the list\n",
    "            return palindrome(s[1:-1])"
   ]
  },
  {
   "cell_type": "code",
   "execution_count": 58,
   "metadata": {},
   "outputs": [
    {
     "name": "stdout",
     "output_type": "stream",
     "text": [
      "True\n",
      "True\n",
      "True\n",
      "False\n",
      "True\n"
     ]
    }
   ],
   "source": [
    "# test code here\n",
    "s = 'aba'\n",
    "s1 = ''\n",
    "s2 = 'a'\n",
    "s3 = 'banana'\n",
    "s4 = 'asdsa'\n",
    "\n",
    "print(palindrome(s))\n",
    "print(palindrome(s1))\n",
    "print(palindrome(s2))\n",
    "print(palindrome(s3))\n",
    "print(palindrome(s4))"
   ]
  }
 ],
 "metadata": {
  "kernelspec": {
   "display_name": "Python 3",
   "language": "python",
   "name": "python3"
  },
  "language_info": {
   "codemirror_mode": {
    "name": "ipython",
    "version": 3
   },
   "file_extension": ".py",
   "mimetype": "text/x-python",
   "name": "python",
   "nbconvert_exporter": "python",
   "pygments_lexer": "ipython3",
   "version": "3.7.6"
  }
 },
 "nbformat": 4,
 "nbformat_minor": 4
}
