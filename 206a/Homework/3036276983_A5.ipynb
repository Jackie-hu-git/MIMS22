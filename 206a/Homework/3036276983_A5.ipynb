{
 "cells": [
  {
   "cell_type": "markdown",
   "metadata": {},
   "source": [
    "### 1.\n",
    "Write a Python function that takes as input a plain-text filename and returns the number of lines, words, and characters in the file. White space does not count as characters, but punctuation does. Your main code should call this function and print the returned three values in a nicely formatted ouput like:\n",
    "\n",
    "10 lines; 100 words; 1000 characters.\n",
    "\n",
    "Your code should only read through the input file only once."
   ]
  },
  {
   "cell_type": "code",
   "execution_count": 1,
   "metadata": {},
   "outputs": [],
   "source": [
    "# the function that takes as input a plain-text filename and returns the number of lines, words, and characters in the file.\n",
    "\n",
    "def file_counter(name):\n",
    "\n",
    "    # initialization \n",
    "    read_file = open(name, 'r')\n",
    "    counter_line = 0\n",
    "    counter_word = 0\n",
    "    counter_char = 0 \n",
    "\n",
    "    # count number of lines in the file.\n",
    "    for line in read_file:\n",
    "        counter_line += 1\n",
    "    \n",
    "        strip_line = line.strip() # get rid of the white spaces. \n",
    "    \n",
    "        # count characters in line without the whitespace.\n",
    "        num_char = len(strip_line) - strip_line.count(' ')\n",
    "        counter_char += num_char\n",
    "\n",
    "        # split each line in to words array.\n",
    "        W = strip_line.split()\n",
    "\n",
    "    \n",
    "        # count each words in each line.\n",
    "        for num_word in W:\n",
    "            counter_word += 1\n",
    "    \n",
    "\n",
    "    # close file and return counters value.       \n",
    "    read_file.close()\n",
    "    return counter_line, counter_word, counter_char"
   ]
  },
  {
   "cell_type": "code",
   "execution_count": 4,
   "metadata": {},
   "outputs": [
    {
     "name": "stdout",
     "output_type": "stream",
     "text": [
      "What's the file name?DOI.txt\n",
      "133 lines; 1324 words; 6700 characters.\n"
     ]
    }
   ],
   "source": [
    "# ask user for file name input.\n",
    "file_name = input(\"What's the file name?\")\n",
    "\n",
    "# call the file_counter function and assign the return counter values to variable file_info.\n",
    "file_info = file_counter(file_name)\n",
    "\n",
    "# print the formatting output.\n",
    "print(file_info[0], 'lines;', file_info[1], 'words;', file_info[2], 'characters.' )"
   ]
  }
 ],
 "metadata": {
  "kernelspec": {
   "display_name": "Python 3",
   "language": "python",
   "name": "python3"
  },
  "language_info": {
   "codemirror_mode": {
    "name": "ipython",
    "version": 3
   },
   "file_extension": ".py",
   "mimetype": "text/x-python",
   "name": "python",
   "nbconvert_exporter": "python",
   "pygments_lexer": "ipython3",
   "version": "3.8.3"
  }
 },
 "nbformat": 4,
 "nbformat_minor": 4
}
