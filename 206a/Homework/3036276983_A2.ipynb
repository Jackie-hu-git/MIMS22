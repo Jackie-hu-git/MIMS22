{
 "cells": [
  {
   "cell_type": "code",
   "execution_count": 3,
   "metadata": {},
   "outputs": [],
   "source": [
    "# define a graph node\n",
    "class GraphNode:\n",
    "    def __init__(self, adjacent, data):\n",
    "        self.data = data\n",
    "        self.adjacent = adjacent\n",
    "        \n",
    "    def is_leaf(self):\n",
    "        return( len(self.adjacent) == 0 )\n",
    "        \n",
    "    def __str__(self):\n",
    "        return( self.data )\n",
    "      \n",
    "# parse each line of the story file\n",
    "def parse_line(line):\n",
    "    \n",
    "    # the string at index 0 with the | seperator as the node_name \n",
    "    node_name = line.split(\"|\")[0]\n",
    "    \n",
    "    # the string at index 1 with the | seperator, parse it again with the , seperator into an array corresponding to the adjacent nodes\n",
    "    adjacent_nodes = line.split(\"|\")[1].split(\",\")\n",
    "    \n",
    "    # the string at index 2 with the | seperator as the text \n",
    "    text = line.split(\"|\")[2]\n",
    "\n",
    "    \n",
    "    # add all except empty strings\n",
    "    adjacent = []\n",
    "    for a in adjacent_nodes:\n",
    "        if a:\n",
    "            adjacent.append(a.strip())\n",
    "\n",
    "    return( node_name, adjacent, text )\n",
    "\n",
    "# load the storty from the raw-text file     \n",
    "def load_story(filename):\n",
    "    node_dict = {}\n",
    "    file = open(filename, \"r\")    \n",
    "    for l in file:\n",
    "        \n",
    "        # if this is a line in the correct format:\n",
    "        if len(l.split(\"|\")) == 3:\n",
    "            node_name, adjacent_nodes, text = parse_line(l)   \n",
    "            node = GraphNode(adjacent_nodes, text)\n",
    "            node_dict[node_name] = node\n",
    "\n",
    "    file.close()\n",
    "    return( node_dict )\n",
    "\n",
    "# play the game\n",
    "def play_story(story_dict):    \n",
    "    story_node = story_dict[\"START\"]\n",
    "    print(story_node)\n",
    "\n",
    "    while not story_node.is_leaf():\n",
    "\n",
    "        # get user input and convert ordingal (a,b,c) into an integer (0,1,2) called \"choice\"\n",
    "        ans = input(\"What's your choice?\")\n",
    "        choice = (int(ord(ans)) - 97) \n",
    "        \n",
    "        story_node = story_dict[ story_node.adjacent[choice] ]\n",
    "        print(story_node)\n",
    "\n",
    "    print(\"THE END\")\n",
    "\n",
    "story_dict = load_story(\"3036276983_A2.txt\") # load story\n",
    "#play_story(story_dict) # play the game\n"
   ]
  },
  {
   "cell_type": "code",
   "execution_count": 4,
   "metadata": {},
   "outputs": [
    {
     "data": {
      "text/plain": [
       "{'START': <__main__.GraphNode at 0x1e6650fbeb0>,\n",
       " 'TAKE_A_LOOK': <__main__.GraphNode at 0x1e6651f5d90>,\n",
       " 'DELETE': <__main__.GraphNode at 0x1e6651f5eb0>,\n",
       " 'WHO': <__main__.GraphNode at 0x1e6651f5f40>,\n",
       " 'GOING': <__main__.GraphNode at 0x1e6651f5fa0>,\n",
       " 'GO_BACK': <__main__.GraphNode at 0x1e665205040>,\n",
       " 'EMAIL': <__main__.GraphNode at 0x1e6652050a0>,\n",
       " 'SAY_HI': <__main__.GraphNode at 0x1e665205100>,\n",
       " 'WHY_ME': <__main__.GraphNode at 0x1e665205160>,\n",
       " 'WHO_R_YOU': <__main__.GraphNode at 0x1e6652051c0>,\n",
       " 'STORY': <__main__.GraphNode at 0x1e665205220>,\n",
       " 'SWIMMING_POOL': <__main__.GraphNode at 0x1e665205280>,\n",
       " 'WHAT_HAPPENED': <__main__.GraphNode at 0x1e6652052e0>,\n",
       " 'THE_NAME': <__main__.GraphNode at 0x1e665205340>,\n",
       " 'THE_ROBOT': <__main__.GraphNode at 0x1e6652053a0>,\n",
       " 'MEANING': <__main__.GraphNode at 0x1e665205400>,\n",
       " 'WHAT': <__main__.GraphNode at 0x1e665205460>,\n",
       " 'ME': <__main__.GraphNode at 0x1e6652054c0>,\n",
       " 'CALLING': <__main__.GraphNode at 0x1e665205520>,\n",
       " 'Ending': <__main__.GraphNode at 0x1e665205580>}"
      ]
     },
     "execution_count": 4,
     "metadata": {},
     "output_type": "execute_result"
    }
   ],
   "source": [
    "story_dict"
   ]
  },
  {
   "cell_type": "code",
   "execution_count": null,
   "metadata": {},
   "outputs": [],
   "source": []
  }
 ],
 "metadata": {
  "kernelspec": {
   "display_name": "Python 3",
   "language": "python",
   "name": "python3"
  },
  "language_info": {
   "codemirror_mode": {
    "name": "ipython",
    "version": 3
   },
   "file_extension": ".py",
   "mimetype": "text/x-python",
   "name": "python",
   "nbconvert_exporter": "python",
   "pygments_lexer": "ipython3",
   "version": "3.8.3"
  }
 },
 "nbformat": 4,
 "nbformat_minor": 4
}
