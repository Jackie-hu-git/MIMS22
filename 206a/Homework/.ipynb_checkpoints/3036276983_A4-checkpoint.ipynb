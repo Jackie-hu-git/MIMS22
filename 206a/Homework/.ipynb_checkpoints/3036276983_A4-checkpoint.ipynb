{
 "cells": [
  {
   "cell_type": "code",
   "execution_count": 1,
   "metadata": {},
   "outputs": [],
   "source": [
    "#pip install drawSvg"
   ]
  },
  {
   "cell_type": "code",
   "execution_count": 2,
   "metadata": {},
   "outputs": [
    {
     "name": "stdout",
     "output_type": "stream",
     "text": [
      "[-86.96589382989028, -1.8643040186444324, -4.4107155972195216, -69.51936160843889, 27.79044647800788, 88.19747552362887, -20.969933209744767, -32.46148127467247, 29.664307656953085, 32.39504644054328, -6.260367581862866, 36.588006740936834, -50.022034062500865, 92.1438351704694, 75.19371172217035, -57.58103071917737, 43.355133978478506, 91.43958532946047, -71.47505383441823, -3.8661577686357305]\n",
      "[-21.36198933456903, -54.148482686878395, 29.858314844232567, 71.37521040398849, -47.90413184905274, -2.6132201443448366, -48.25708200062228, -92.88204198033701, -15.610674740667463, 7.835976373644428, -49.83412048480903, 61.52673279591579, -79.33188105009299, -65.81329571404312, -39.41111203045748, 26.10846290234609, 64.36057639276666, 21.37013699597007, -74.73274665068499, -86.26066509738207]\n",
      "[-4.022577601638453, 0.08444255416484658, 4.8334364898020326, 3.758501175664888, -3.431578743358048, 2.5516692697745924, 3.383057268267338, 2.325138252292489, -3.564023643021538, -0.8699497873737903, 1.5227009503994537, -4.984424972492132, -1.3425948856608239, 1.8012925009160528, 1.0760535682748742, 1.6554819154821363, 1.8907871468223894, 3.9116705741218514, -3.2839449858729997, -2.804265440286909]\n",
      "[1.468462501011949, 1.2021407504916297, 0.2494834565837074, 2.7265775551836535, -2.1790690371549726, -2.327022729678385, 3.964830334371836, -1.3572027493297956, -4.642302341449923, -3.9073876865562163, -4.371793645424269, 2.939790009654441, -3.9879134639774394, 2.1084366679022013, 1.9919812249126316, 0.19588150111686442, -2.2170899679625924, 3.35466923637758, 2.6080830858269834, 0.8246010994620558]\n"
     ]
    },
    {
     "name": "stderr",
     "output_type": "stream",
     "text": [
      "C:\\Users\\sherr\\anaconda3\\lib\\site-packages\\drawSvg\\raster.py:18: RuntimeWarning: Failed to import CairoSVG. drawSvg will be unable to output PNG or other raster image formats. See https://github.com/cduck/drawSvg#prerequisites for more details.\n",
      "Original OSError: no library called \"cairo\" was found\n",
      "no library called \"libcairo-2\" was found\n",
      "cannot load library 'libcairo.so': error 0x7e\n",
      "cannot load library 'libcairo.2.dylib': error 0x7e\n",
      "cannot load library 'libcairo-2.dll': error 0x7e\n",
      "  warnings.warn(msg, RuntimeWarning)\n"
     ]
    }
   ],
   "source": [
    "import drawSvg as draw\n",
    "import random as ra\n",
    "\n",
    "# define the width and height of the drawing window as x and y\n",
    "WINDOW_X = 200\n",
    "WINDOW_Y = 200\n",
    "\n",
    "# defines the number of balls in your simulation\n",
    "num_ball = 20\n",
    "# defines the ball radius\n",
    "r_ball = 5\n",
    "\n",
    "# define list that store the x,y location of each ball and the velocity of each ball, vx,vy\n",
    "x = []\n",
    "y = []\n",
    "vx = []\n",
    "vy = []\n",
    "\n",
    "for num in range(num_ball):\n",
    "    r = ra.uniform(-5,5)\n",
    "    vx.append(r)\n",
    "\n",
    "for num in range(num_ball):\n",
    "    r = ra.uniform(-5,5)\n",
    "    vy.append(r)\n",
    "\n",
    "    \"\"\"\n",
    "    for num in range(num_ball):\n",
    "    for k in range(num + 1, num_ball)\n",
    "        r = ra.uniform(-WINDOW_X/2 + r_ball, WINDOW_X/2 - r_ball )\n",
    "        if r > (x[num - 1] + 2* r_ball) or num == 0:\n",
    "            x.append(r)\n",
    "        else:\n",
    "            r = ra.uniform(-WINDOW_X/2 + r_ball, WINDOW_X/2 - r_ball )\n",
    "    \"\"\"\n",
    "    \n",
    "for num in range(num_ball):\n",
    "    r = ra.uniform(-WINDOW_X/2 + r_ball, WINDOW_X/2 - r_ball )\n",
    "    x.append(r)\n",
    "    \n",
    "for num in range(num_ball):\n",
    "    r = ra.uniform(-WINDOW_Y/2 + r_ball, WINDOW_Y/2 - r_ball)\n",
    "    y.append(r)\n",
    "    \n",
    "print(x)\n",
    "print(y)\n",
    "print(vx)\n",
    "print(vy)"
   ]
  },
  {
   "cell_type": "code",
   "execution_count": 3,
   "metadata": {},
   "outputs": [],
   "source": [
    "# This function takes as input an index i and updates the location of the ball at the corresponding position in the ball list. \n",
    "def update_position(i):\n",
    "   \n",
    "    for num in range(0, i):\n",
    "        if abs(x[num]) >= (WINDOW_X/2 - r_ball): # checking if the ball hits the boarder of x direction, if so, reverse it's vx direcation\n",
    "            vx[num] = -vx[num]  \n",
    "        if abs(y[num]) >= (WINDOW_Y/2 - r_ball): # checking if the ball hits the boarder of y direction, if so, reverse it's vy direcation\n",
    "            vy[num] = -vy[num]\n",
    "        \n",
    "    # compare each x position, if the distance between 2 balls is equal or less than 2*radius, flip both ball's vx\n",
    "        for j in range(num + 1, i):\n",
    "            if abs((x[num] - x[j])) <= (2 * r_ball) and abs((y[num] - y[j])) <= (2 * r_ball):\n",
    "                vx[num] = -vx[num]  \n",
    "                vx[j] = -vx[j]\n",
    "                \n",
    "                vy[num] = -vy[num]\n",
    "                vy[j] = -vy[j]\n",
    "            \n",
    "        # update x location for each ball in the list using the vx per timestamp(1 in this case)\n",
    "        x[num] = x[num] + 1 * vx[num] \n",
    "        # update y location for each ball in the list using the vy per timestamp(1 in this case)\n",
    "        y[num] = y[num] + 1 * vy[num] \n",
    "    \n",
    "    return x, y"
   ]
  },
  {
   "cell_type": "code",
   "execution_count": 4,
   "metadata": {},
   "outputs": [],
   "source": [
    "# This function takes as input an index i and draws the corresponding ball at this position in the ball list.\n",
    "def draw_ball(i):\n",
    "    for num in range(i):\n",
    "        D.append(draw.Circle(x[num], y[num], r_ball,\n",
    "            fill='red'))\n",
    "    return"
   ]
  },
  {
   "cell_type": "code",
   "execution_count": 5,
   "metadata": {},
   "outputs": [],
   "source": [
    "# This function is called by the animation code and iteratively updates the position of each ball and then draws each ball\n",
    "def draw_frame():\n",
    "    update_position(num_ball)\n",
    "    draw_ball(num_ball)\n",
    "    \n",
    "    return D"
   ]
  },
  {
   "cell_type": "code",
   "execution_count": null,
   "metadata": {},
   "outputs": [
    {
     "data": {
      "image/svg+xml": [
       "<?xml version=\"1.0\" encoding=\"UTF-8\"?>\n",
       "<svg xmlns=\"http://www.w3.org/2000/svg\" xmlns:xlink=\"http://www.w3.org/1999/xlink\"\n",
       "     width=\"200\" height=\"200\" viewBox=\"-100.0 -100.0 200 200\">\n",
       "<defs>\n",
       "</defs>\n",
       "<rect x=\"-100.0\" y=\"-100.0\" width=\"200\" height=\"200\" fill=\"black\" />\n",
       "<circle cx=\"-78.92073862661334\" cy=\"24.29891433659293\" r=\"5\" fill=\"red\" />\n",
       "<circle cx=\"10.464308889423169\" cy=\"-58.852747859334805\" r=\"5\" fill=\"red\" />\n",
       "<circle cx=\"24.58990334159268\" cy=\"-38.839719281245934\" r=\"5\" fill=\"red\" />\n",
       "<circle cx=\"43.23567366150779\" cy=\"48.59420202409223\" r=\"5\" fill=\"red\" />\n",
       "<circle cx=\"-88.88323079616572\" cy=\"-69.76559615731585\" r=\"5\" fill=\"red\" />\n",
       "<circle cx=\"-13.869295267354829\" cy=\"-141.66218909571518\" r=\"5\" fill=\"red\" />\n",
       "<circle cx=\"-68.33273496548748\" cy=\"-23.109864018070777\" r=\"5\" fill=\"red\" />\n",
       "<circle cx=\"-69.6636933113523\" cy=\"-21.12298896336587\" r=\"5\" fill=\"red\" />\n",
       "<circle cx=\"-63.0003070616069\" cy=\"24.89527942356731\" r=\"5\" fill=\"red\" />\n",
       "<circle cx=\"-4.142844629155939\" cy=\"39.05267586503017\" r=\"5\" fill=\"red\" />\n",
       "<circle cx=\"-67.16840559784102\" cy=\"-72.5761015870705\" r=\"5\" fill=\"red\" />\n",
       "<circle cx=\"-43.16279281893728\" cy=\"79.58318766749747\" r=\"5\" fill=\"red\" />\n",
       "<circle cx=\"-58.07760337646581\" cy=\"87.30770797804786\" r=\"5\" fill=\"red\" />\n",
       "<circle cx=\"-44.75439489915059\" cy=\"91.11453572886948\" r=\"5\" fill=\"red\" />\n",
       "<circle cx=\"25.695247581526218\" cy=\"-24.332287166746735\" r=\"5\" fill=\"red\" />\n",
       "<circle cx=\"-27.782356240498956\" cy=\"-29.634329922449666\" r=\"5\" fill=\"red\" />\n",
       "<circle cx=\"-77.65524341815446\" cy=\"59.79646181313855\" r=\"5\" fill=\"red\" />\n",
       "<circle cx=\"-10.263849597707686\" cy=\"-148.8475679783181\" r=\"5\" fill=\"red\" />\n",
       "<circle cx=\"73.01852554399377\" cy=\"-81.75223849893408\" r=\"5\" fill=\"red\" />\n",
       "<circle cx=\"18.56796575365954\" cy=\"51.62741891997565\" r=\"5\" fill=\"red\" />\n",
       "</svg>"
      ],
      "text/plain": [
       "<drawSvg.drawing.Drawing at 0x8d56cb0>"
      ]
     },
     "metadata": {},
     "output_type": "display_data"
    }
   ],
   "source": [
    "with draw.animate_jupyter(draw_frame, delay=0.05) as anim:\n",
    "    while( True ):\n",
    "        D = draw.Drawing(WINDOW_X, WINDOW_Y, origin='center' ) # erase canvas\n",
    "        D.append(draw.Rectangle(-WINDOW_X/2,-WINDOW_Y/2,WINDOW_X,WINDOW_Y, fill='black'))\n",
    "        anim.draw_frame()"
   ]
  }
 ],
 "metadata": {
  "kernelspec": {
   "display_name": "Python 3",
   "language": "python",
   "name": "python3"
  },
  "language_info": {
   "codemirror_mode": {
    "name": "ipython",
    "version": 3
   },
   "file_extension": ".py",
   "mimetype": "text/x-python",
   "name": "python",
   "nbconvert_exporter": "python",
   "pygments_lexer": "ipython3",
   "version": "3.7.6"
  }
 },
 "nbformat": 4,
 "nbformat_minor": 4
}
