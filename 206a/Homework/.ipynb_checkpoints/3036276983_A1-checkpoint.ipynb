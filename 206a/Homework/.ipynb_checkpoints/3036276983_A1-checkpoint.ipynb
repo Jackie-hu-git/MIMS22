{
 "cells": [
  {
   "cell_type": "markdown",
   "metadata": {},
   "source": [
    "### 1.\n",
    "Write a Python program that prints out a logo containing your name. Feel free to create your own design. Your design can be very simple, consisting of just a few print statements. For example, my logo is:\n",
    " "
   ]
  },
  {
   "cell_type": "code",
   "execution_count": 11,
   "metadata": {},
   "outputs": [
    {
     "name": "stdout",
     "output_type": "stream",
     "text": [
      "**************\n"
     ]
    }
   ],
   "source": [
    "rows = 14\n",
    "print(\"*\" * rows, end=\"\\n\")"
   ]
  },
  {
   "cell_type": "code",
   "execution_count": 5,
   "metadata": {},
   "outputs": [
    {
     "name": "stdout",
     "output_type": "stream",
     "text": [
      "        * \n",
      "       * * \n",
      "      * * * \n",
      "     * * * * \n",
      "    * * * * * \n",
      "   * * * * * * \n",
      "    * * * * * \n",
      "     * * * * \n",
      "      * * * \n",
      "       * * \n",
      "        * \n"
     ]
    }
   ],
   "source": [
    "rows = 5\n",
    "k = 2 * rows - 2\n",
    "for i in range(0, rows):\n",
    "    for j in range(0, k):\n",
    "        print(end=\" \")\n",
    "    k = k - 1\n",
    "    for j in range(0, i + 1):\n",
    "        print(\"* \", end=\"\")\n",
    "    print(\"\")\n",
    "    \n",
    "k = rows - 2\n",
    "\n",
    "for i in range(rows, -1, -1):\n",
    "    for j in range(k, 0, -1):\n",
    "        print(end=\" \")\n",
    "    k = k + 1\n",
    "    for j in range(0, i + 1):\n",
    "        print(\"* \", end=\"\")\n",
    "    print(\"\")"
   ]
  },
  {
   "cell_type": "code",
   "execution_count": 11,
   "metadata": {},
   "outputs": [
    {
     "name": "stdout",
     "output_type": "stream",
     "text": [
      " ** **  \n",
      "*  *  * \n",
      "*     * \n",
      " *   *  \n",
      "  * *   \n",
      "   *    \n",
      " * * * *\n",
      " Jackie Hu\n",
      "* * * * * * \n",
      " * * * * * \n",
      "  * * * * \n",
      "   * * * \n",
      "    * * \n",
      "     * \n"
     ]
    }
   ],
   "source": [
    "for row in range(6):\n",
    "    for col in range (7):\n",
    "        if (row == 0 and col % 3 != 0) or (row == 1 and col % 3 == 0) or ( row - col ==2) or (row + col == 8):\n",
    "            print(\"*\", end= \"\")\n",
    "\n",
    "            \n",
    "        else:\n",
    "            print(end= \" \")\n",
    "    print(\" \")\n",
    "print(\" *\" * 4)\n",
    "print(\" Jackie Hu\")\n",
    "\n",
    "rows = 5\n",
    "k = rows - 5\n",
    "\n",
    "for i in range(rows, -1, -1):\n",
    "    for j in range(k, 0, -1):\n",
    "        print(end=\" \")\n",
    "    k = k + 1\n",
    "    for j in range(0, i + 1):\n",
    "        print(\"* \", end=\"\")\n",
    "    print(\"\")"
   ]
  },
  {
   "cell_type": "markdown",
   "metadata": {},
   "source": [
    "### 2. \n",
    "Write a Python program that sketches (using the drawSvg library) your favorite logo. Your logo need not be overly complex, but should incorporate the use of at least five drawSvg library function calls. "
   ]
  },
  {
   "cell_type": "code",
   "execution_count": 2,
   "metadata": {},
   "outputs": [
    {
     "name": "stderr",
     "output_type": "stream",
     "text": [
      "/Users/jackiehu/opt/anaconda3/lib/python3.8/site-packages/drawSvg/raster.py:18: RuntimeWarning: Failed to import CairoSVG. drawSvg will be unable to output PNG or other raster image formats. See https://github.com/cduck/drawSvg#prerequisites for more details.\n",
      "Original OSError: no library called \"cairo\" was found\n",
      "no library called \"libcairo-2\" was found\n",
      "cannot load library 'libcairo.so': dlopen(libcairo.so, 2): image not found\n",
      "cannot load library 'libcairo.2.dylib': dlopen(libcairo.2.dylib, 2): image not found\n",
      "cannot load library 'libcairo-2.dll': dlopen(libcairo-2.dll, 2): image not found\n",
      "  warnings.warn(msg, RuntimeWarning)\n"
     ]
    }
   ],
   "source": [
    "import drawSvg as draw"
   ]
  },
  {
   "cell_type": "code",
   "execution_count": 3,
   "metadata": {},
   "outputs": [
    {
     "data": {
      "image/svg+xml": [
       "<?xml version=\"1.0\" encoding=\"UTF-8\"?>\n",
       "<svg xmlns=\"http://www.w3.org/2000/svg\" xmlns:xlink=\"http://www.w3.org/1999/xlink\"\n",
       "     width=\"200\" height=\"200\" viewBox=\"-100.0 -100.0 200 200\">\n",
       "<defs>\n",
       "</defs>\n",
       "<circle cx=\"0\" cy=\"0\" r=\"20\" />\n",
       "<path d=\"M-50,50 l20,-30 h30 Z\" stroke-width=\"2\" stroke=\"green\" fill=\"black\" fill-opacity=\"0.5\" />\n",
       "</svg>"
      ],
      "text/plain": [
       "<drawSvg.drawing.Drawing at 0x7fb9f167b190>"
      ]
     },
     "execution_count": 3,
     "metadata": {},
     "output_type": "execute_result"
    }
   ],
   "source": [
    "\n",
    "d = draw.Drawing(200,200, origin='center')\n",
    "d.append(draw.Circle(0,0,20))\n",
    "\n",
    "# Draw an arbitrary path (a triangle in this case)\n",
    "p = draw.Path(stroke_width=2, stroke='green',\n",
    "              fill='black', fill_opacity=0.5)\n",
    "\n",
    "p.M(-50,-50)  # Start path at point (-30, 5)\n",
    "p.l(20,30)  # Draw line to (60, 30)\n",
    "p.h(30)    # Draw horizontal line to x=-70\n",
    "p.Z()       # Draw line to start\n",
    "\n",
    "d.append(p)\n",
    "\n",
    "d"
   ]
  },
  {
   "cell_type": "code",
   "execution_count": 7,
   "metadata": {},
   "outputs": [
    {
     "data": {
      "image/svg+xml": [
       "<?xml version=\"1.0\" encoding=\"UTF-8\"?>\n",
       "<svg xmlns=\"http://www.w3.org/2000/svg\" xmlns:xlink=\"http://www.w3.org/1999/xlink\"\n",
       "     width=\"400\" height=\"400.0\" viewBox=\"-0.7 -0.7 1.4 1.4\">\n",
       "<defs>\n",
       "<clipPath id=\"d0\">\n",
       "<rect x=\"-0.25\" y=\"-0.25\" width=\"1\" height=\"1\" />\n",
       "</clipPath>\n",
       "</defs>\n",
       "<circle cx=\"0\" cy=\"0\" r=\"0.5\" stroke-width=\"0.01\" stroke=\"black\" fill-opacity=\"0.3\" clip-path=\"url(#d0)\" id=\"circle\" />\n",
       "</svg>"
      ],
      "text/plain": [
       "<drawSvg.drawing.Drawing at 0x7fb9f166b610>"
      ]
     },
     "execution_count": 7,
     "metadata": {},
     "output_type": "execute_result"
    }
   ],
   "source": [
    "d = draw.Drawing(1.4, 1.4, origin='center')\n",
    "\n",
    "# Define clip path\n",
    "clip = draw.ClipPath()\n",
    "clip.append(draw.Rectangle(-.25,.25-1,1,1))\n",
    "\n",
    "# Draw a cropped circle\n",
    "c = draw.Circle(0,0,0.5, stroke_width='0.01', stroke='black',\n",
    "                         fill_opacity=0.3, clip_path=clip,\n",
    "                         id='circle')\n",
    "d.append(c)\n",
    "\n",
    "''' Make a transparent copy, cropped again\n",
    "g = draw.Group(opacity=0.5, clip_path=clip)\n",
    "g.append(draw.Use('circle', 0.25,0.1))\n",
    "d.append(g)'''\n",
    "\n",
    "# Display\n",
    "d.setRenderSize(400)\n",
    "#d.rasterize()"
   ]
  },
  {
   "cell_type": "code",
   "execution_count": null,
   "metadata": {},
   "outputs": [],
   "source": []
  }
 ],
 "metadata": {
  "kernelspec": {
   "display_name": "Python 3",
   "language": "python",
   "name": "python3"
  },
  "language_info": {
   "codemirror_mode": {
    "name": "ipython",
    "version": 3
   },
   "file_extension": ".py",
   "mimetype": "text/x-python",
   "name": "python",
   "nbconvert_exporter": "python",
   "pygments_lexer": "ipython3",
   "version": "3.7.6"
  }
 },
 "nbformat": 4,
 "nbformat_minor": 4
}
