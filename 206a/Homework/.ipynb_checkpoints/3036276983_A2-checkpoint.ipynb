{
 "cells": [
  {
   "cell_type": "code",
   "execution_count": null,
   "metadata": {},
   "outputs": [
    {
     "name": "stdout",
     "output_type": "stream",
     "text": [
      " Wake up!!!!! A loud sound woke me up from my sleep. I take a look at the alarm, it's almost time for my info206a class.\"Ughhh, what's the point...\" I murmured, \"What's the meaning of this, what's the meaning of life. Sometimes this whole world just feels like a simulation that we all trapped in!\" I sat in front of my computer screen, a strange email poped out ---- Inivitation from Zima blue. Do you a) take a look or b) I'm gonna delete it. c) Who is Zima blue?\n",
      "\n"
     ]
    }
   ],
   "source": [
    "# define a graph node\n",
    "class GraphNode:\n",
    "    def __init__(self, adjacent, data):\n",
    "        self.data = data\n",
    "        self.adjacent = adjacent\n",
    "        \n",
    "    def is_leaf(self):\n",
    "        return( len(self.adjacent) == 0 )\n",
    "        \n",
    "    def __str__(self):\n",
    "        return( self.data )\n",
    "      \n",
    "# parse each line of the story file\n",
    "def parse_line(line):\n",
    "    \n",
    "    # the string at index 0 with the | seperator as the node_name \n",
    "    node_name = line.split(\"|\")[0]\n",
    "    \n",
    "    # the string at index 1 with the | seperator, parse it again with the , seperator into an array corresponding to the adjacent nodes\n",
    "    adjacent_nodes = line.split(\"|\")[1].split(\",\")\n",
    "    \n",
    "    # the string at index 2 with the | seperator as the text \n",
    "    text = line.split(\"|\")[2]\n",
    "\n",
    "    \n",
    "    # add all except empty strings\n",
    "    adjacent = []\n",
    "    for a in adjacent_nodes:\n",
    "        if a:\n",
    "            adjacent.append(a.strip())\n",
    "\n",
    "    return( node_name, adjacent, text )\n",
    "\n",
    "# load the storty from the raw-text file     \n",
    "def load_story(filename):\n",
    "    node_dict = {}\n",
    "    file = open(filename, \"r\")    \n",
    "    for l in file:\n",
    "        # if this is a line in the correct format:\n",
    "        if len(l.split(\"|\")) == 3:\n",
    "            node_name, adjacent_nodes, text = parse_line(l)   \n",
    "            node = GraphNode(adjacent_nodes, text)\n",
    "            node_dict[node_name] = node\n",
    "\n",
    "    file.close()\n",
    "    return( node_dict )\n",
    "\n",
    "# play the game\n",
    "def play_story(story_dict):    \n",
    "    story_node = story_dict[\"START\"]\n",
    "    print(story_node)\n",
    "\n",
    "    while not story_node.is_leaf():\n",
    "\n",
    "        # get user input and convert ordingal (a,b,c) into an integer (0,1,2) called \"choice\"\n",
    "        ans = input(\"What's your choice?\")\n",
    "        choice = (int(ord(ans)) - 97) \n",
    "        \n",
    "        story_node = story_dict[ story_node.adjacent[choice] ]\n",
    "        print(story_node)\n",
    "\n",
    "    print(\"THE END\")\n",
    "\n",
    "story_dict = load_story(\"3036276983_A2.txt\") # load story\n",
    "play_story(story_dict) # play the game\n"
   ]
  },
  {
   "cell_type": "code",
   "execution_count": null,
   "metadata": {},
   "outputs": [],
   "source": []
  }
 ],
 "metadata": {
  "kernelspec": {
   "display_name": "Python 3",
   "language": "python",
   "name": "python3"
  },
  "language_info": {
   "codemirror_mode": {
    "name": "ipython",
    "version": 3
   },
   "file_extension": ".py",
   "mimetype": "text/x-python",
   "name": "python",
   "nbconvert_exporter": "python",
   "pygments_lexer": "ipython3",
   "version": "3.7.6"
  }
 },
 "nbformat": 4,
 "nbformat_minor": 4
}
