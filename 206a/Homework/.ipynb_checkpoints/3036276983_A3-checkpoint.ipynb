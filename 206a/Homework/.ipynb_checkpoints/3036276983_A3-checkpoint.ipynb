{
 "cells": [
  {
   "cell_type": "code",
   "execution_count": 130,
   "metadata": {},
   "outputs": [
    {
     "data": {
      "image/svg+xml": [
       "<?xml version=\"1.0\" encoding=\"UTF-8\"?>\n",
       "<svg xmlns=\"http://www.w3.org/2000/svg\" xmlns:xlink=\"http://www.w3.org/1999/xlink\"\n",
       "     width=\"200\" height=\"200\" viewBox=\"-100.0 -100.0 200 200\" displayInLine=\"False\">\n",
       "<defs>\n",
       "</defs>\n",
       "<path d=\"M-100,-100 L-80,100\" stroke=\"red\" />\n",
       "<path d=\"M0,100 L100,0\" stroke=\"red\" />\n",
       "<path d=\"M-80.0,100.0 L100.0,-0.0\" stroke=\"#000000\" />\n",
       "<path d=\"M-81.0,90.0 L95.0,5.0\" stroke=\"#043232\" />\n",
       "<path d=\"M-82.0,80.0 L90.0,10.0\" stroke=\"#086464\" />\n",
       "<path d=\"M-83.0,70.0 L85.0,15.0\" stroke=\"#0c9696\" />\n",
       "<path d=\"M-84.0,60.0 L80.0,20.0\" stroke=\"#10c8c8\" />\n",
       "<path d=\"M-85.0,50.0 L75.0,25.0\" stroke=\"#14fafa\" />\n",
       "<path d=\"M-86.0,40.0 L70.0,30.0\" stroke=\"#1812c12c\" />\n",
       "<path d=\"M-87.0,30.0 L65.0,35.0\" stroke=\"#1c15e15e\" />\n",
       "<path d=\"M-88.0,20.0 L60.0,40.0\" stroke=\"#20190190\" />\n",
       "<path d=\"M-89.0,10.000000000000014 L55.00000000000001,44.99999999999999\" stroke=\"#241c21c2\" />\n",
       "<path d=\"M-90.0,-0.0 L50.0,50.0\" stroke=\"#281f41f4\" />\n",
       "<path d=\"M-91.0,-10.000000000000014 L44.99999999999999,55.00000000000001\" stroke=\"#2c226226\" />\n",
       "<path d=\"M-92.0,-20.0 L40.0,60.0\" stroke=\"#30258258\" />\n",
       "<path d=\"M-93.0,-30.0 L35.0,65.0\" stroke=\"#3428a28a\" />\n",
       "<path d=\"M-94.0,-39.99999999999999 L30.000000000000004,70.0\" stroke=\"#382bc2bc\" />\n",
       "<path d=\"M-95.0,-50.0 L25.0,75.0\" stroke=\"#3c2ee2ee\" />\n",
       "<path d=\"M-96.0,-60.00000000000001 L19.999999999999996,80.0\" stroke=\"#40320320\" />\n",
       "<path d=\"M-97.0,-70.0 L15.000000000000002,85.0\" stroke=\"#44352352\" />\n",
       "<path d=\"M-98.0,-80.0 L9.999999999999998,90.0\" stroke=\"#48384384\" />\n",
       "<path d=\"M-99.0,-89.99999999999999 L5.000000000000004,95.0\" stroke=\"#4c3b63b6\" />\n",
       "<path d=\"M-100.0,-100.0 L0.0,100.0\" stroke=\"#503e83e8\" />\n",
       "</svg>"
      ],
      "text/plain": [
       "<drawSvg.drawing.Drawing at 0xbf1a8f0>"
      ]
     },
     "execution_count": 130,
     "metadata": {},
     "output_type": "execute_result"
    }
   ],
   "source": [
    "# import drawSvg and set up a canvas size 200 by 200\n",
    "import drawSvg as draw\n",
    "d = draw.Drawing(200,200,origin = 'center',displayInLine=False)\n",
    "\n",
    "# the x and y coordinates of one end of stick A\n",
    "x1a = -100\n",
    "y1a = 100\n",
    "\n",
    "# the x and y coordinates of the other end of stick A\n",
    "x2a = -80\n",
    "y2a = -100\n",
    "\n",
    "# the x and y coordinates of one end of stick B\n",
    "x1b = 0\n",
    "y1b = -100\n",
    "\n",
    "# the x and y coordinates of the other end of stick B\n",
    "x2b = 100\n",
    "y2b = 0\n",
    "\n",
    "# the number of strings.\n",
    "num = 20\n",
    "\n",
    "# draw the stick A with color red, thickness 5\n",
    "\n",
    "d.append(draw.Lines(x1a, y1a,\n",
    "                    x2a, y2a,     \n",
    "            stroke='red'))\n",
    "\n",
    "d.append(draw.Lines(x1b, y1b,\n",
    "                    x2b, y2b,     \n",
    "            stroke='red'))\n",
    "\n",
    "# for the number of strings, print each string \n",
    "for n in range(num + 1):\n",
    "    \n",
    "    f = n/num # f is the ratio distance from the first string to the next one\n",
    "    \n",
    "    # gradient color changing based on the value of f\n",
    "    color = '#%02x%02x%02x' % (int(80 * f), int(1000 * f), int(1000 * f))\n",
    "    \n",
    "    # draw the lines based on it's chang in position\n",
    "    d.append(draw.Lines((x1a + ((1-f) * (x2a - x1a))), y1a + (1-f) * (y2a - y1a),\n",
    "                    (x1b + ((1-f) * (x2b - x1b))), (y1b + (1-f) * (y2b - y1b)),\n",
    "            stroke= color))\n",
    "    \n",
    "d # Draw the canvas"
   ]
  },
  {
   "cell_type": "code",
   "execution_count": null,
   "metadata": {},
   "outputs": [],
   "source": []
  }
 ],
 "metadata": {
  "kernelspec": {
   "display_name": "Python 3",
   "language": "python",
   "name": "python3"
  },
  "language_info": {
   "codemirror_mode": {
    "name": "ipython",
    "version": 3
   },
   "file_extension": ".py",
   "mimetype": "text/x-python",
   "name": "python",
   "nbconvert_exporter": "python",
   "pygments_lexer": "ipython3",
   "version": "3.7.6"
  }
 },
 "nbformat": 4,
 "nbformat_minor": 4
}
