{
 "cells": [
  {
   "cell_type": "markdown",
   "metadata": {},
   "source": [
    "### 1.\n",
    "Write a Python program that prints out a logo containing your name. Feel free to create your own design. Your design can be very simple, consisting of just a few print statements. For example, my logo is:\n",
    " "
   ]
  },
  {
   "cell_type": "code",
   "execution_count": 76,
   "metadata": {},
   "outputs": [
    {
     "name": "stdout",
     "output_type": "stream",
     "text": [
      "******  *\n",
      "   * *  *\n",
      "   * *  *\n",
      "   * ****\n",
      "   * *  *\n",
      "**** *  *\n",
      "Jackie Hu\n"
     ]
    }
   ],
   "source": [
    "# Creating a grid with 9 columns and 6 rows.\n",
    "for row in range(6):\n",
    "    for col in range(9):\n",
    "        '''\n",
    "        Printing rules:\n",
    "        - column 3,5,8 has stars.\n",
    "        - at row 0, print stars except column 6 and 7.\n",
    "        - at row 3, print stars at column 6 and 7.\n",
    "        - at row 5, print stars at column 1 and 2.\n",
    "        \n",
    "        '''\n",
    "        if col == 3 or col == 5 or col == 8 or (row == 0 and col != 7 and col != 6) or (row == 3 and col == 6) or (row == 3 and col == 7) or (row == 5 and col < 3):\n",
    "            print(\"*\", end= \"\") # Print * whith an end\n",
    "        else:\n",
    "            print(end= \" \")  # if not printing stars, print space and go to the next position.\n",
    "\n",
    "    print() # Go to the next row.      \n",
    "    \n",
    "print(\"Jackie Hu\") # print my name "
   ]
  },
  {
   "cell_type": "markdown",
   "metadata": {},
   "source": [
    "### 2. \n",
    "Write a Python program that sketches (using the drawSvg library) your favorite logo. Your logo need not be overly complex, but should incorporate the use of at least five drawSvg library function calls. "
   ]
  },
  {
   "cell_type": "code",
   "execution_count": 9,
   "metadata": {},
   "outputs": [
    {
     "name": "stdout",
     "output_type": "stream",
     "text": [
      "Requirement already satisfied: drawSvg in c:\\users\\sherr\\anaconda3\\lib\\site-packages (1.6.1)\n",
      "Requirement already satisfied: cairoSVG in c:\\users\\sherr\\anaconda3\\lib\\site-packages (from drawSvg) (2.4.2)\n",
      "Requirement already satisfied: numpy in c:\\users\\sherr\\anaconda3\\lib\\site-packages (from drawSvg) (1.18.1)\n",
      "Requirement already satisfied: imageio in c:\\users\\sherr\\anaconda3\\lib\\site-packages (from drawSvg) (2.6.1)\n",
      "Requirement already satisfied: cssselect2 in c:\\users\\sherr\\anaconda3\\lib\\site-packages (from cairoSVG->drawSvg) (0.3.0)\n",
      "Requirement already satisfied: tinycss2 in c:\\users\\sherr\\anaconda3\\lib\\site-packages (from cairoSVG->drawSvg) (1.0.2)\n",
      "Requirement already satisfied: pillow in c:\\users\\sherr\\anaconda3\\lib\\site-packages (from cairoSVG->drawSvg) (7.0.0)\n",
      "Requirement already satisfied: defusedxml in c:\\users\\sherr\\anaconda3\\lib\\site-packages (from cairoSVG->drawSvg) (0.6.0)\n",
      "Requirement already satisfied: cairocffi in c:\\users\\sherr\\anaconda3\\lib\\site-packages (from cairoSVG->drawSvg) (1.1.0)\n",
      "Requirement already satisfied: webencodings in c:\\users\\sherr\\anaconda3\\lib\\site-packages (from cssselect2->cairoSVG->drawSvg) (0.5.1)\n",
      "Requirement already satisfied: setuptools>=39.2.0 in c:\\users\\sherr\\anaconda3\\lib\\site-packages (from cssselect2->cairoSVG->drawSvg) (45.2.0.post20200210)\n",
      "Requirement already satisfied: cffi>=1.1.0 in c:\\users\\sherr\\anaconda3\\lib\\site-packages (from cairocffi->cairoSVG->drawSvg) (1.14.0)\n",
      "Requirement already satisfied: pycparser in c:\\users\\sherr\\anaconda3\\lib\\site-packages (from cffi>=1.1.0->cairocffi->cairoSVG->drawSvg) (2.19)\n",
      "Note: you may need to restart the kernel to use updated packages.\n"
     ]
    }
   ],
   "source": [
    "# install the drawSvg package\n",
    "pip install drawSvg"
   ]
  },
  {
   "cell_type": "code",
   "execution_count": 6,
   "metadata": {},
   "outputs": [
    {
     "data": {
      "image/svg+xml": [
       "<?xml version=\"1.0\" encoding=\"UTF-8\"?>\n",
       "<svg xmlns=\"http://www.w3.org/2000/svg\" xmlns:xlink=\"http://www.w3.org/1999/xlink\"\n",
       "     width=\"200\" height=\"200\" viewBox=\"-100.0 -100.0 200 200\">\n",
       "<defs>\n",
       "</defs>\n",
       "<circle cx=\"-25\" cy=\"-65\" r=\"29\" fill=\"red\" stroke-width=\"5\" stroke=\"red\" />\n",
       "<circle cx=\"25\" cy=\"-65\" r=\"29\" fill=\"red\" stroke-width=\"5\" stroke=\"red\" />\n",
       "<ellipse cx=\"-25\" cy=\"-60\" rx=\"19\" ry=\"13\" stroke=\"black\" stroke-width=\"1\" fill=\"white\" />\n",
       "<circle cx=\"-24\" cy=\"-58\" r=\"5\" fill=\"black\" />\n",
       "<ellipse cx=\"25\" cy=\"-60\" rx=\"19\" ry=\"13\" stroke=\"black\" stroke-width=\"1\" fill=\"white\" />\n",
       "<circle cx=\"26\" cy=\"-58\" r=\"5\" fill=\"black\" />\n",
       "<text x=\"0\" y=\"50\" font-size=\"10\" text-anchor=\"middle\">COMME DES GARÇONS PLAY</text>\n",
       "<path d=\"M0,6 l-45,-50 h90 Z\" stroke-width=\"3\" stroke=\"red\" fill=\"red\" />\n",
       "</svg>"
      ],
      "text/plain": [
       "<drawSvg.drawing.Drawing at 0x4da8590>"
      ]
     },
     "execution_count": 6,
     "metadata": {},
     "output_type": "execute_result"
    }
   ],
   "source": [
    "# Import package and rename it to draw.\n",
    "import drawSvg as draw\n",
    "\n",
    "# Initial the canvas with size 200 by 200. Set the origin to the center. \n",
    "d = draw.Drawing(200,200, origin='center')\n",
    "\n",
    "'''\n",
    "The composition: \n",
    "- draw the top of the heart, which has 2 red circles. \n",
    "- draw the bottom of the heart, which is a triangle.\n",
    "- draw the eyes, which consist of a white ellipse with black stroke, and a black circle as the pupil.\n",
    "\n",
    "'''\n",
    "\n",
    "# Create a funciton to draw the top of the heart.Take 2 parameters as the x,y location of the circle, whith radius of 29, filled with red. \n",
    "def draw_heart(x,y):\n",
    "    \n",
    "    d.append(draw.Circle(x, y, 29, fill='red', stroke_width=5, stroke='red')) \n",
    "\n",
    "\n",
    "# draw the left part of the heart at location (-25, 65)\n",
    "draw_heart(-25,65)\n",
    "# draw the right part of the heart at location (25, 65)\n",
    "draw_heart(25,65)\n",
    "\n",
    "\n",
    "# Draw a triangle.\n",
    "p = draw.Path(stroke_width=3, stroke='red',\n",
    "              fill='red')\n",
    "\n",
    "p.M(0,-6)  # Start path at point (0, -6)\n",
    "p.l(-45,50)  # Draw line to (-45, 50)\n",
    "p.h(90)    # Draw horizontal line to 90\n",
    "p.Z()       # Draw line to start\n",
    "\n",
    "\n",
    "# Create a funciton to draw the eye, which takes 4 parameters representing the x,y location of the outter ellipse and circle.\n",
    "def draw_eye( x1,y1,x2,y2 ):\n",
    "    \n",
    "    d.append(draw.Ellipse(x1,y1,19,13, stroke='black', stroke_width=1,fill=\"white\"))\n",
    "    d.append(draw.Circle(x2,y2, 5,fill='black'))\n",
    "\n",
    "\n",
    "draw_eye(-25,60,-24,58) # draw the left eye at position (-25,60)\n",
    "\n",
    "draw_eye(25,60,26,58) # draw the right eye at position(25,60) \n",
    "\n",
    "\n",
    "# Print the Logo name at position(0,-50), with size of 10.  \n",
    "d.append(draw.Text(\"COMME DES GARÇONS PLAY\",10,0,-50,20,20))\n",
    "\n",
    "\n",
    "d.append( p ) # append all the elements, and print the canvas. \n",
    "d"
   ]
  },
  {
   "cell_type": "code",
   "execution_count": null,
   "metadata": {},
   "outputs": [],
   "source": []
  }
 ],
 "metadata": {
  "kernelspec": {
   "display_name": "Python 3",
   "language": "python",
   "name": "python3"
  },
  "language_info": {
   "codemirror_mode": {
    "name": "ipython",
    "version": 3
   },
   "file_extension": ".py",
   "mimetype": "text/x-python",
   "name": "python",
   "nbconvert_exporter": "python",
   "pygments_lexer": "ipython3",
   "version": "3.7.6"
  }
 },
 "nbformat": 4,
 "nbformat_minor": 4
}
