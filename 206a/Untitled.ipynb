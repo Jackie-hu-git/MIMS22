{
 "cells": [
  {
   "cell_type": "code",
   "execution_count": 4,
   "id": "pleasant-contact",
   "metadata": {},
   "outputs": [],
   "source": [
    "import simplefunctions as simp"
   ]
  },
  {
   "cell_type": "code",
   "execution_count": 7,
   "id": "bearing-utility",
   "metadata": {},
   "outputs": [
    {
     "name": "stdout",
     "output_type": "stream",
     "text": [
      "2.0\n",
      "None\n"
     ]
    }
   ],
   "source": [
    "print(simp.print_sqrt(4))"
   ]
  },
  {
   "cell_type": "code",
   "execution_count": 8,
   "id": "useful-acrylic",
   "metadata": {},
   "outputs": [
    {
     "name": "stderr",
     "output_type": "stream",
     "text": [
      "C:\\Users\\12062\\Anaconda3\\lib\\site-packages\\drawSvg\\raster.py:18: RuntimeWarning: Failed to import CairoSVG. drawSvg will be unable to output PNG or other raster image formats. See https://github.com/cduck/drawSvg#prerequisites for more details.\n",
      "Original OSError: no library called \"cairo\" was found\n",
      "no library called \"libcairo-2\" was found\n",
      "cannot load library 'libcairo.so': error 0x7e\n",
      "cannot load library 'libcairo.2.dylib': error 0x7e\n",
      "cannot load library 'libcairo-2.dll': error 0x7e\n",
      "  warnings.warn(msg, RuntimeWarning)\n"
     ]
    }
   ],
   "source": [
    "import drawSvg as draw"
   ]
  },
  {
   "cell_type": "code",
   "execution_count": 55,
   "id": "electric-cherry",
   "metadata": {},
   "outputs": [],
   "source": [
    "inner_circle_radius = 40"
   ]
  },
  {
   "cell_type": "code",
   "execution_count": 56,
   "id": "resistant-opinion",
   "metadata": {},
   "outputs": [],
   "source": [
    "d = draw.Drawing(200, 100, origin='center', displayInline=False)\n"
   ]
  },
  {
   "cell_type": "code",
   "execution_count": 57,
   "id": "photographic-robinson",
   "metadata": {},
   "outputs": [],
   "source": [
    "d.append(draw.Circle(-40, -10, inner_circle_radius,\n",
    "            fill='red'))"
   ]
  },
  {
   "cell_type": "code",
   "execution_count": 58,
   "id": "changing-sender",
   "metadata": {},
   "outputs": [],
   "source": [
    "d.append(draw.Circle(-40, -10, inner_circle_radius * .8,\n",
    "            fill='yellow'))"
   ]
  },
  {
   "cell_type": "code",
   "execution_count": 59,
   "id": "impressive-princess",
   "metadata": {},
   "outputs": [],
   "source": [
    "d.append(draw.Circle(-40, -10, inner_circle_radius * .5,\n",
    "            fill='blue'))"
   ]
  },
  {
   "cell_type": "code",
   "execution_count": 60,
   "id": "surgical-energy",
   "metadata": {},
   "outputs": [
    {
     "data": {
      "text/html": [
       "<img src=\"data:image/svg+xml;base64,PD94bWwgdmVyc2lvbj0iMS4wIiBlbmNvZGluZz0iVVRGLTgiPz4KPHN2ZyB4bWxucz0iaHR0cDovL3d3dy53My5vcmcvMjAwMC9zdmciIHhtbG5zOnhsaW5rPSJodHRwOi8vd3d3LnczLm9yZy8xOTk5L3hsaW5rIgogICAgIHdpZHRoPSIyMDAiIGhlaWdodD0iMTAwIiB2aWV3Qm94PSItMTAwLjAgLTUwLjAgMjAwIDEwMCI+CjxkZWZzPgo8L2RlZnM+CjxjaXJjbGUgY3g9Ii00MCIgY3k9IjEwIiByPSI0MCIgZmlsbD0icmVkIiAvPgo8Y2lyY2xlIGN4PSItNDAiIGN5PSIxMCIgcj0iMzIuMCIgZmlsbD0ieWVsbG93IiAvPgo8Y2lyY2xlIGN4PSItNDAiIGN5PSIxMCIgcj0iMjAuMCIgZmlsbD0iYmx1ZSIgLz4KPC9zdmc+\">"
      ],
      "text/plain": [
       "<drawSvg.drawing.Drawing at 0x1d217361df0>"
      ]
     },
     "execution_count": 60,
     "metadata": {},
     "output_type": "execute_result"
    }
   ],
   "source": [
    "d"
   ]
  },
  {
   "cell_type": "code",
   "execution_count": 4,
   "id": "portable-manitoba",
   "metadata": {},
   "outputs": [],
   "source": [
    "x = 0\n",
    "while x:\n",
    "    print('yes')"
   ]
  },
  {
   "cell_type": "code",
   "execution_count": null,
   "id": "compound-romantic",
   "metadata": {},
   "outputs": [],
   "source": []
  }
 ],
 "metadata": {
  "kernelspec": {
   "display_name": "Python 3",
   "language": "python",
   "name": "python3"
  },
  "language_info": {
   "codemirror_mode": {
    "name": "ipython",
    "version": 3
   },
   "file_extension": ".py",
   "mimetype": "text/x-python",
   "name": "python",
   "nbconvert_exporter": "python",
   "pygments_lexer": "ipython3",
   "version": "3.8.3"
  }
 },
 "nbformat": 4,
 "nbformat_minor": 5
}
