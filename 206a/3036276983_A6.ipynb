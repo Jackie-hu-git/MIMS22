{
 "cells": [
  {
   "cell_type": "markdown",
   "metadata": {},
   "source": [
    "#### building a large graph of movies and stars and computing the degrees of separation between Kevin Bacon and other performers"
   ]
  },
  {
   "cell_type": "code",
   "execution_count": 1,
   "metadata": {},
   "outputs": [],
   "source": [
    "class Vertex: #corresponding to each vertex of graph\n",
    "    \n",
    "    def __init__(self, performer):\n",
    "        self.name = performer #initialized to the preformer's name that is passed to the constructor\n",
    "        self.adjacent = [] #contain other vertices with which the named performer has co-starred\n",
    "        self.edge = [] #contain the movie in which the performer has co-starred with the corresponding perfomer in the adjacent list\n",
    "        \n",
    "    def __str__(self): #return string\n",
    "        \n",
    "        #print the current performer\n",
    "        n = str(self.name) + '|' \n",
    "        \n",
    "        #adding the co-star and the movie \n",
    "        for i in range (len(self.edge)):\n",
    "            n += (str(self.edge[i]) + '/' + str(self.adjacent[i])+ '|')\n",
    "        \n",
    "        return n"
   ]
  },
  {
   "cell_type": "code",
   "execution_count": 2,
   "metadata": {},
   "outputs": [],
   "source": [
    "myfile = open('movies.txt','r',encoding=\"ISO-8859-1\")\n",
    "graph = {}"
   ]
  },
  {
   "cell_type": "code",
   "execution_count": 3,
   "metadata": {},
   "outputs": [],
   "source": [
    "#Parse file to create a graph of all of the movies and performers.\n",
    "for line in myfile:\n",
    "    line = line.rstrip()\n",
    "    array = line.split('/')\n",
    "    \n",
    "    #grab the movie name and performer list \n",
    "    movie = array[0]\n",
    "    p_list = array[1:]\n",
    "    \n",
    "    #go through performer list,check if performer is in the graph\n",
    "    for i in p_list:\n",
    "        \n",
    "        if i not in graph.keys(): #if didn't find\n",
    "            p = Vertex(i) #create a Vertex with the name\n",
    "            graph[i] = p #save it to the graph\n",
    "            \n",
    "            #go through performer list, add co-star to adjacent list with the movie\n",
    "            for j in p_list:\n",
    "                if j != i: \n",
    "                    p.adjacent.append(j)\n",
    "                    p.edge.append(movie)\n",
    "\n",
    "        else: #if find the performer in the graph\n",
    "            cur = graph[i]\n",
    "       \n",
    "            for k in p_list: #add co-star\n",
    "                if k != i:\n",
    "                    cur.adjacent.append(k)\n",
    "                    cur.edge.append(movie)"
   ]
  },
  {
   "cell_type": "code",
   "execution_count": 4,
   "metadata": {},
   "outputs": [],
   "source": [
    "# Breadth-first-search using the Vertex class.\n",
    "\n",
    "from collections import deque\n",
    "\n",
    "# Run bfs and find the path from the Vertex start to the Vertex goal.\n",
    "# Return that path as a list of Vertex objects.  If there is no path, return None.\n",
    "def bfs(start, goal):\n",
    "    frontier = deque()      # the queue of vertices we're going to visit next\n",
    "    frontier.append(start)  # put the start vertex in our list of those to visit\n",
    "    \n",
    "    backpointer = {}\n",
    "    backpointer[start] = None   # the start vertex has no backpointer\n",
    "    backpointer_movie = {}\n",
    "    backpointer_movie[start] = None\n",
    "        \n",
    "    # Keep going while there's at least one visited vertex that we have not\n",
    "    # explored from yet.\n",
    "    while len(frontier) > 0: \n",
    "        vertex = frontier.popleft()\n",
    "        \n",
    "        if vertex == goal: # If we're done, retrace the path from the goal to the start.\n",
    "            path = []        \n",
    "            while vertex != None: # only our start should have a None backpointer along our path\n",
    "                if( backpointer_movie[vertex] != None ):\n",
    "                    path.append(vertex.name + \" (\" + backpointer_movie[vertex] + \")\")\n",
    "                else:\n",
    "                    path.append(vertex.name)\n",
    "               \n",
    "                vertex = backpointer[vertex]\n",
    "                #print( vertex.name, backpointer_movie[vertex] )\n",
    "            return path\n",
    "        \n",
    "        else: # keep exploring\n",
    "            i = 0;\n",
    "            for neighbor in vertex.adjacent:\n",
    "                movie = vertex.edge[i]\n",
    "                # Visit the vertex only if it hasn't been visited yet.  It has been\n",
    "                # visited if and only if it has a backpointer.\n",
    "                if not graph[neighbor] in backpointer:\n",
    "                    # Set up the backpointer.  This will only happen once for each vertex,\n",
    "                    # since a vertex is put in the frontier and visited only once.\n",
    "                    backpointer[graph[neighbor]] = vertex\n",
    "                    backpointer_movie[graph[neighbor]] = movie\n",
    "                    frontier.append(graph[neighbor])\n",
    "                i = i + 1\n",
    "                    \n",
    "    # If we get here, we've run out of vertices to explore before reaching the goal.\n",
    "    return None"
   ]
  },
  {
   "cell_type": "code",
   "execution_count": 10,
   "metadata": {},
   "outputs": [
    {
     "name": "stdout",
     "output_type": "stream",
     "text": [
      "['Bacon, Kevin', 'Sutherland, Donald (I) (Animal House (1978))', 'Norton, Edward (I) (Italian Job, The (2003))']\n"
     ]
    }
   ],
   "source": [
    "#test code here! \n",
    "start = \"Bacon, Kevin\"\n",
    "goal = \"Norton, Edward (I)\"\n",
    "if( (start not in graph) or (goal not in graph) ):\n",
    "    print( \"no path found\")\n",
    "else:\n",
    "    path = bfs(graph[start],graph[goal])\n",
    "    path = path[::-1] # reverse (start --> goal)\n",
    "    print(path)"
   ]
  },
  {
   "cell_type": "code",
   "execution_count": null,
   "metadata": {},
   "outputs": [],
   "source": []
  }
 ],
 "metadata": {
  "kernelspec": {
   "display_name": "Python 3",
   "language": "python",
   "name": "python3"
  },
  "language_info": {
   "codemirror_mode": {
    "name": "ipython",
    "version": 3
   },
   "file_extension": ".py",
   "mimetype": "text/x-python",
   "name": "python",
   "nbconvert_exporter": "python",
   "pygments_lexer": "ipython3",
   "version": "3.8.3"
  }
 },
 "nbformat": 4,
 "nbformat_minor": 4
}
