{
 "cells": [
  {
   "cell_type": "markdown",
   "metadata": {},
   "source": [
    "## Selection sort\n",
    "\n",
    "Find the smallest item in the list. Swap it into the 0 position \n",
    "Find the second smallest in the list, swap it into the 1 position\n",
    "find the third smallest item in the list, swap it to the 2 position \n",
    "stop when we have swapped the second-largest item into the second to last position "
   ]
  },
  {
   "cell_type": "code",
   "execution_count": null,
   "metadata": {},
   "outputs": [],
   "source": [
    "def selection_sort(the_list):\n",
    "    \n",
    "    # depends on the len(the_list)\n",
    "    for i in range(len(the_list) - 1):\n",
    "        \n",
    "        # c1 constant of times \n",
    "        \n",
    "        minval = the_list[i]\n",
    "        index_smallest = i\n",
    "        \n",
    "        # depends on the len(the_list) - 1 each time while i increase\n",
    "        \n",
    "        for j in range(i + 1, len(the_list)):\n",
    "            if the_list[i] < minval:\n",
    "                minval = the_list[j]\n",
    "                index_smallest = j\n",
    "        \n",
    "        # c2 constant of times\n",
    "        temp = the_list[i]\n",
    "        the_list[i] = minval\n",
    "        the_list[index_smallest] = temp \n",
    "\n",
    "        # n-1 + (n-1 + n-2 + n-3 + ... + 1) = (n+1) * (n/2) = n ^ 2/2 + n/2\n",
    "        # drop the constant\n",
    "        # run time is n^2 + n (when n gets really big, we don't care about the n)\n",
    "        # worst case: O(n^2)\n",
    "        # have to go through the nested for loop even in the best case"
   ]
  },
  {
   "cell_type": "markdown",
   "metadata": {},
   "source": [
    "## Insertion sort\n"
   ]
  },
  {
   "cell_type": "code",
   "execution_count": null,
   "metadata": {},
   "outputs": [],
   "source": [
    "def insertion_sort(the_list):\n",
    "    n = len(the_list) # constant \n",
    "    \n",
    "    # n - 1 times = n times \n",
    "    for i in range(1,n):\n",
    "        key = the_list[i] # the element that slide / constant\n",
    "        \n",
    "        j = i - 1\n",
    "        \n",
    "        # worst case is a reverse order: (n-1), (n-2), (n-3),...,1 -> O(n^2)\n",
    "        while j >= 0 and the_list[j] > key:\n",
    "            the_list[j +1] = the_list[j]\n",
    "            j -= 1\n",
    "            \n",
    "        the_list[j + 1] = key\n",
    "        # best case never go through while loop, therefore runtime is O(n)"
   ]
  },
  {
   "cell_type": "markdown",
   "metadata": {},
   "source": [
    "## Merge Sort"
   ]
  },
  {
   "cell_type": "markdown",
   "metadata": {},
   "source": [
    "### Linear-time Merging\n",
    "#### merge 2 sorted sublists\n",
    "\n",
    "0 1 2 3 4\n",
    "2 3 6 9 10\n",
    "1 4 5 7 8\n",
    "\n"
   ]
  },
  {
   "cell_type": "code",
   "execution_count": null,
   "metadata": {},
   "outputs": [],
   "source": [
    "def merge(the_list, p, q, r):\n",
    "    left = the_list[p : (q + 1)]\n",
    "    right = the_list[(q + 1) : (r + 1)]\n",
    "    \n",
    "    i = 0 \n",
    "    j = 0\n",
    "    k = p\n",
    "    \n",
    "    while i < len(left) and j < len(right):\n",
    "        if left[i] < right[j]:\n",
    "            the_list[k] = left[i]\n",
    "            i += 1\n",
    "        else:\n",
    "            the_list[k] = right[j]\n",
    "            j += 1\n",
    "        \n",
    "        k += 1\n",
    "    if i < len(left):\n",
    "        the_list[k : r + 1] = left[i:]\n",
    "    \n",
    "    if j < len(right):\n",
    "        the_list[k : r + 1] = right[j:]"
   ]
  },
  {
   "cell_type": "code",
   "execution_count": null,
   "metadata": {},
   "outputs": [],
   "source": [
    "def merge_sort(the_list, p=None, r= None): # recursively merge sort list\n",
    "    if p == None and r == None:\n",
    "        p = 0\n",
    "        r = len(the_list) -1\n",
    "    \n",
    "    if p < r: # the base case is explicit  \n",
    "        q = (p + r)/2\n",
    "        merge_sort(the_list, p, q)\n",
    "        merge_sort(the_list, q + 1, r)\n",
    "        merge(the_list, p, q)\n",
    "        # no return because we are modifying the list in run time \n",
    "        '''\n",
    "        2(n/2)\n",
    "        4(n/4)\n",
    "        8(n/8)\n",
    "        every level cost n time\n",
    "        \n",
    "        mer_sort run time: half of the list : log(n)\n",
    "        merge run time: n\n",
    "        total run time: O(nlog(n))\n",
    "        '''"
   ]
  },
  {
   "cell_type": "markdown",
   "metadata": {},
   "source": [
    "## Practice"
   ]
  },
  {
   "cell_type": "code",
   "execution_count": null,
   "metadata": {},
   "outputs": [],
   "source": [
    "def permutation(L): # this recursive func generate permutation of a given list\n",
    "    \n",
    "    # 2 base case, empty list or only 1 element in the list\n",
    "    if len(L) == 0:\n",
    "        return []\n",
    "    elif len(L) == 1:\n",
    "        return[L]\n",
    "    else:\n",
    "        # build the list\n",
    "        P = []\n",
    "        # go through each element in the list\n",
    "        for i in range(len(L)):\n",
    "            # grab the first element\n",
    "            first = L[i]\n",
    "            # the rest of the list except the first element \n",
    "            rest = L[:i] + L[i + 1:]\n",
    "            # got through the rest of the list\n",
    "            for p in permutation (rest):\n",
    "                P.append([first] + p)\n",
    "        return P\n",
    "P = permutation([7,3,9,1])\n",
    "print(P)"
   ]
  },
  {
   "cell_type": "code",
   "execution_count": null,
   "metadata": {},
   "outputs": [],
   "source": [
    "def search_sort(P):\n",
    "    # go through the outter loop consists all the list\n",
    "    for i in range(len(P)):\n",
    "        find = True\n",
    "        # go through element in each list \n",
    "        for j in range(len(P[i]) - 1):\n",
    "            # checking the wrong order, if the previous element greater then the latter\n",
    "            if (P[i][j] > P[i][j + 1]):\n",
    "                find = False\n",
    "                break\n",
    "        if find:\n",
    "            return P[i]"
   ]
  },
  {
   "cell_type": "code",
   "execution_count": null,
   "metadata": {},
   "outputs": [],
   "source": [
    "search_sort(P)"
   ]
  },
  {
   "cell_type": "markdown",
   "metadata": {},
   "source": [
    "## Pancake Sort"
   ]
  },
  {
   "cell_type": "code",
   "execution_count": null,
   "metadata": {},
   "outputs": [],
   "source": [
    "'''\n",
    "Implement pancake sort of a list A of length n, on the ith iteration:\n",
    "    1. find the index, m, of the maximum element in the sublist A[0,n-i]\n",
    "    2. reverse the list A[0,m] - this puts the maximum element in position 0\n",
    "    3. reverse the list A[0,n-i] -- this puts the maximum element in position i\n",
    "    \n",
    "    A = [6,9,2,5]\n",
    "    1. max element in A[0,3] is 9 at pos 1\n",
    "        flip A[0,1] to yield A = [9,6,2,5]\n",
    "        flip A[0,3] to yield A = [5,2,6,9]\n",
    "    2. max element in A[0,2] is 6 at position 2\n",
    "        flip A[0,2] to yield A = [6,2,5,9] \n",
    "        flip A[0,2] to yield A = [5,2,6,9]\n",
    "    repeat\n",
    "'''\n",
    "\n",
    "def flip(A, i): # reverse list A[0...i]\n",
    "    start = 0\n",
    "    while start < i:\n",
    "        temp = A[start]\n",
    "        A[start] = A [i]\n",
    "        A[i] = temp\n",
    "        start += 1\n",
    "        i -= 1\n",
    "        \n",
    "def findMax(A, n): # return index of maximum element in A[0...n-1]\n",
    "    mi = 0\n",
    "    for i in range(n):\n",
    "        if A[i] > A[mi]:\n",
    "            mi = i \n",
    "    return mi "
   ]
  },
  {
   "cell_type": "code",
   "execution_count": null,
   "metadata": {},
   "outputs": [],
   "source": [
    "def pancake_sort(A):\n",
    "    n = len(A)\n",
    "    while n > 1:\n",
    "        index = findMax(A, n)\n",
    "        flip(A, index)\n",
    "        flip(A, n -1)\n",
    "        n = n-1\n",
    "        \n",
    "A = [6,9,2,5]\n",
    "pancake_sort(A)\n",
    "print(A)"
   ]
  },
  {
   "cell_type": "code",
   "execution_count": null,
   "metadata": {},
   "outputs": [],
   "source": [
    "A = [6,9,2,5]\n",
    "n = len(A)\n",
    "\n",
    "for i in range(n):\n",
    "    print(i)\n",
    "    index = findMax(A, n-i)\n",
    "    print(index)\n",
    "    flip(A, index)\n",
    "    print(A)\n",
    "    flip(A, (n - index))\n",
    "    print(A)\n",
    "    n = n - i"
   ]
  },
  {
   "cell_type": "markdown",
   "metadata": {},
   "source": [
    "## Linked List"
   ]
  },
  {
   "cell_type": "code",
   "execution_count": null,
   "metadata": {},
   "outputs": [],
   "source": [
    "class Node:\n",
    "    def __init__(self, data):\n",
    "        self.data = data\n",
    "        self.next = None\n",
    "    \n",
    "    def printList(self):\n",
    "        cur = self\n",
    "        while cur != None:\n",
    "            print(cur.data, end= ' ')\n",
    "            cur = cur.next\n",
    "        print(\"\")\n",
    "        \n",
    "    # insert a node after the current node    \n",
    "    def insertAfter(self, node):\n",
    "        temp = self.next # current next node\n",
    "        self.next = node # set current next to new node\n",
    "        node.next = temp # set new node's next to previous next \n",
    "        \n",
    "    # insert a node at the end of the list\n",
    "    def insertAtEnd(self, node):\n",
    "        cur = self\n",
    "        while(cur.next != None): # find the last node\n",
    "            cur = cur.next\n",
    "        cur.insertAfter(node) #insert node"
   ]
  },
  {
   "cell_type": "code",
   "execution_count": null,
   "metadata": {},
   "outputs": [],
   "source": [
    "n = Node('1')\n",
    "n.next = Node('2')\n",
    "n.printList()"
   ]
  },
  {
   "cell_type": "code",
   "execution_count": null,
   "metadata": {},
   "outputs": [],
   "source": [
    "head = Node('A')\n",
    "head.insertAfter(Node('B'))\n",
    "head.insertAfter(Node('C'))\n",
    "head.insertAtEnd(n)\n",
    "\n",
    "head.printList()"
   ]
  },
  {
   "cell_type": "code",
   "execution_count": null,
   "metadata": {},
   "outputs": [],
   "source": [
    "# Implement the function stable, which takes a list of numbers s, \n",
    "# a positive integer k and n. Stable returns whether all pairs\n",
    "# of values in s with indices that differ by at most k have an \n",
    "# absolute difference in value of at most n.\n",
    "#\n",
    "# stable([1, 2, 3, 5, 6], 1, 2)  # adjacent values differ by at most 2\n",
    "# True\n",
    "#\n",
    "# stable([1, 2, 3, 5, 6], 2, 2)  # abs(5-2) is a difference of 3\n",
    "# False\n",
    "#\n",
    "# stable([1, 5, 1, 5, 1], 2, 2)  # abs(5-1) is a difference of 4\n",
    "# False\n",
    "#\n",
    "# stable([5, 4, 3, 2, 1], 1, 1)  # adjacent values differ by at most 1\n",
    "# True\n"
   ]
  },
  {
   "cell_type": "code",
   "execution_count": null,
   "metadata": {},
   "outputs": [],
   "source": [
    "def stable(s, k, n):\n",
    "    for i in range(len(s) - k):\n",
    "        for j in range (i + 1, i + k + 1):\n",
    "            if (abs(s[i] - s[j]) > n):\n",
    "                return False\n",
    "    return True"
   ]
  },
  {
   "cell_type": "code",
   "execution_count": null,
   "metadata": {},
   "outputs": [],
   "source": [
    "s = [1, 2, 3, 5, 6]\n",
    "k = 1\n",
    "n = 2\n",
    "\n",
    "print(stable(s, k, n))\n"
   ]
  },
  {
   "cell_type": "code",
   "execution_count": null,
   "metadata": {},
   "outputs": [],
   "source": [
    "# Write a function that takes as input an SLL and returns True if the \n",
    "# elements in the list are in sorted order, and False otherwise."
   ]
  },
  {
   "cell_type": "code",
   "execution_count": null,
   "metadata": {},
   "outputs": [],
   "source": [
    "class Node:\n",
    "    def __init__(self,data):\n",
    "        self.data = data\n",
    "        self.next = None\n",
    "\n",
    "head = Node(2)                   # 2\n",
    "head.next = Node(3)              # 2 --> 3\n",
    "head.next.next = Node(8)         # 2 --> 3 --> 8\n",
    "head.next.next.next = Node(10)   # 2 --> 3 --> 8 --> 10"
   ]
  },
  {
   "cell_type": "code",
   "execution_count": null,
   "metadata": {},
   "outputs": [],
   "source": [
    "head1 = Node(5)                   # 2\n",
    "head1.next = Node(3)              # 2 --> 3\n",
    "head1.next.next = Node(8)         # 2 --> 3 --> 8\n",
    "head1.next.next.next = Node(10)   # 2 --> 3 --> 8 --> 10"
   ]
  },
  {
   "cell_type": "code",
   "execution_count": null,
   "metadata": {},
   "outputs": [],
   "source": [
    "def sortNode(l):\n",
    "    #n = l\n",
    "    while l.next != None:\n",
    "        #print(l.data)\n",
    "        if (l.data > l.next.data):\n",
    "            return False\n",
    "        \n",
    "            l = l.next\n",
    "        return True"
   ]
  },
  {
   "cell_type": "code",
   "execution_count": null,
   "metadata": {},
   "outputs": [],
   "source": [
    "sortNode(head)"
   ]
  },
  {
   "cell_type": "code",
   "execution_count": null,
   "metadata": {},
   "outputs": [],
   "source": [
    "sortNode(head1)"
   ]
  },
  {
   "cell_type": "markdown",
   "metadata": {},
   "source": [
    "### DDL"
   ]
  },
  {
   "cell_type": "code",
   "execution_count": null,
   "metadata": {},
   "outputs": [],
   "source": [
    "# write a member function of the class Node that returns true if the node is the last element in the list and false otherwise"
   ]
  },
  {
   "cell_type": "code",
   "execution_count": null,
   "metadata": {},
   "outputs": [],
   "source": [
    "class Node:\n",
    "    def __init__(self,data):\n",
    "        self.data = data\n",
    "        self.next = None\n",
    "        \n",
    "    def printList(self):\n",
    "        cur = self\n",
    "        while cur != None:\n",
    "            print(cur.data, end= ' ')\n",
    "            cur = cur.next\n",
    "        print(\"\")\n",
    "        \n",
    "    def is_last(self):\n",
    "         return self.next == None\n",
    "    "
   ]
  },
  {
   "cell_type": "code",
   "execution_count": null,
   "metadata": {},
   "outputs": [],
   "source": [
    "head = Node(2) \n",
    "head.next = Node(3)              \n",
    "head.next.next = Node(8)         \n",
    "#head.next.next.next = Node(10)"
   ]
  },
  {
   "cell_type": "code",
   "execution_count": null,
   "metadata": {},
   "outputs": [],
   "source": [
    "head.is_last()"
   ]
  },
  {
   "cell_type": "code",
   "execution_count": null,
   "metadata": {},
   "outputs": [],
   "source": [
    "head.printList()"
   ]
  },
  {
   "cell_type": "code",
   "execution_count": null,
   "metadata": {},
   "outputs": [],
   "source": [
    "# write a function that takes as input the head of an SLL\n",
    "# and returns the length of the SLL\n",
    "\n",
    "def how_long(Node):\n",
    "\n",
    "    if Node.data == None:\n",
    "        return 0\n",
    "    \n",
    "    counter = 1\n",
    "    \n",
    "    #while Node.is_last() != True:\n",
    "    while Node.next != None:\n",
    "        counter += 1\n",
    "        Node = Node.next\n",
    "    \n",
    "    return counter"
   ]
  },
  {
   "cell_type": "code",
   "execution_count": null,
   "metadata": {},
   "outputs": [],
   "source": [
    "x = how_long(head)\n",
    "print(x)"
   ]
  },
  {
   "cell_type": "code",
   "execution_count": null,
   "metadata": {},
   "outputs": [],
   "source": [
    "none = Node(None)\n",
    "y = how_long(none)\n",
    "print(y)"
   ]
  },
  {
   "cell_type": "code",
   "execution_count": null,
   "metadata": {},
   "outputs": [],
   "source": [
    "# write a member function of the class Node that deletes\n",
    "# a node's next node. For example, for the list  2-3-8-10 \n",
    "# calling deleteNextNode from node 2, will delete node 3\n",
    "# yielding the list 2-8-10. \n",
    "\n",
    "class Node:\n",
    "    def __init__(self,data):\n",
    "        self.data = data\n",
    "        self.next = None\n",
    "        \n",
    "    def printList(self):\n",
    "        cur = self\n",
    "        while cur != None:\n",
    "            print(cur.data, end= ' ')\n",
    "            cur = cur.next\n",
    "        print(\"\")\n",
    "    '''\n",
    "    def delete_next(self):\n",
    "        if self.next == None:\n",
    "            return None\n",
    "        else:\n",
    "            self.next == self.next.next\n",
    "    '''\n",
    "            \n",
    "    def deleteNextNode(self):\n",
    "        if (self.next != None ):\n",
    "            self.next = self.next.next\n"
   ]
  },
  {
   "cell_type": "code",
   "execution_count": null,
   "metadata": {},
   "outputs": [],
   "source": [
    "head = Node(2) \n",
    "head.next = Node(3)              \n",
    "head.next.next = Node(8)         \n",
    "#head.next.next.next = Node(10)"
   ]
  },
  {
   "cell_type": "code",
   "execution_count": null,
   "metadata": {},
   "outputs": [],
   "source": [
    "def printSLL(head):\n",
    "    temp = head\n",
    "    while( temp != None ):\n",
    "        print( temp.data, end=\" --> \")\n",
    "        temp = temp.next\n",
    "    print(\"/\")"
   ]
  },
  {
   "cell_type": "code",
   "execution_count": null,
   "metadata": {},
   "outputs": [],
   "source": [
    "head.printList()"
   ]
  },
  {
   "cell_type": "code",
   "execution_count": null,
   "metadata": {},
   "outputs": [],
   "source": [
    "head.delete_next()"
   ]
  },
  {
   "cell_type": "code",
   "execution_count": null,
   "metadata": {},
   "outputs": [],
   "source": [
    "printSLL(head)"
   ]
  },
  {
   "cell_type": "code",
   "execution_count": null,
   "metadata": {},
   "outputs": [],
   "source": [
    "head.next.next.deleteNextNode()"
   ]
  },
  {
   "cell_type": "code",
   "execution_count": null,
   "metadata": {},
   "outputs": [],
   "source": [
    "printSLL(head)"
   ]
  },
  {
   "cell_type": "markdown",
   "metadata": {},
   "source": [
    "### Tree Graph"
   ]
  },
  {
   "cell_type": "code",
   "execution_count": null,
   "metadata": {},
   "outputs": [],
   "source": [
    "import easygraph as eg\n",
    "import drawSvg as draw "
   ]
  },
  {
   "cell_type": "code",
   "execution_count": null,
   "metadata": {},
   "outputs": [],
   "source": [
    "pip install Python-EasyGraph"
   ]
  },
  {
   "cell_type": "code",
   "execution_count": null,
   "metadata": {},
   "outputs": [],
   "source": [
    "G = eg.Graph()\n",
    "G.add_edges([(2, 3), (1, 3), (1, 2), (1, 4), (3, 4), (4, 5), (6, 5), (6, 1)]) # add edges\n",
    "coords = eg.functions.drawing.circular_position(G)\n",
    "print(coords)\n",
    "\n"
   ]
  },
  {
   "cell_type": "code",
   "execution_count": null,
   "metadata": {},
   "outputs": [],
   "source": [
    "# Notice that nodes' coordinates are scaled between [-1,1]. In order \n",
    "# to render them in pixel units scale the coordinates within coords to \n",
    "# be between [-100 100] aka.times 100\n",
    "\n",
    "s = 100\n",
    "for k in coords.keys():\n",
    "    coords[k] = s * coords[k]\n",
    "    \n",
    "print(coords)"
   ]
  },
  {
   "cell_type": "code",
   "execution_count": null,
   "metadata": {},
   "outputs": [],
   "source": [
    "D = draw.Drawing(250,250, origin='center')\n",
    "\n",
    "for v in coords.values():\n",
    "    print(v[0], \",\", v[1])\n",
    "    D.append( draw.Circle(v[0],v[1],15) )\n",
    "D\n"
   ]
  },
  {
   "cell_type": "code",
   "execution_count": null,
   "metadata": {},
   "outputs": [],
   "source": [
    "print(G.edges)"
   ]
  },
  {
   "cell_type": "code",
   "execution_count": null,
   "metadata": {},
   "outputs": [],
   "source": [
    "for i in range(len(G.edges)):\n",
    "    x1 = G.edges[i][0]\n",
    "    x2 = G.edges[i][1]\n",
    "\n",
    "    y1 = coords[x1]\n",
    "    y2 = coords[x2]\n",
    "    \n",
    "\n",
    "    D.append(draw.Line(y1[0],y1[1],y2[0],y2[1], stroke= 'black', stroke_width= 2, fill = 'none'))\n",
    "\n",
    "for k,v in coords.items():\n",
    "    D.append(draw.Text(str(k), 18, v[0], v[1], fill= \"yellow\",center = 0.6))\n",
    "    \n",
    "D"
   ]
  },
  {
   "cell_type": "markdown",
   "metadata": {},
   "source": [
    "### CSV "
   ]
  },
  {
   "cell_type": "code",
   "execution_count": null,
   "metadata": {},
   "outputs": [],
   "source": [
    "with open('temperatures.csv') as csvfile:\n",
    "    csvdata = csv.reader(csvfile)\n",
    "    next(csvdata, None) #skip the header\n",
    "    \n",
    "    T = []\n",
    "    Y = []\n",
    "    \n",
    "    for row in csvdata:\n",
    "        Y.append(int(row[0]))\n",
    "        T.append(float(row[1]))\n",
    "        \n",
    "plt.plot(Y,T)\n",
    "plt.xlabel('year')\n",
    "plt.ylabel('temperature difference (C)')\n",
    "plt.show()\n"
   ]
  },
  {
   "cell_type": "code",
   "execution_count": null,
   "metadata": {},
   "outputs": [],
   "source": [
    "import csv\n",
    "import numpy as py\n",
    "import matplotlib.pyplot as plt"
   ]
  },
  {
   "cell_type": "markdown",
   "metadata": {},
   "source": [
    "### Practice Exam "
   ]
  },
  {
   "cell_type": "code",
   "execution_count": null,
   "metadata": {},
   "outputs": [],
   "source": [
    "class Node:\n",
    "    def __init__(self, val, nxt):\n",
    "        self.val = val\n",
    "        self.nxt = None\n",
    "class SLL:\n",
    "    def __init__(self, n):\n",
    "        node = Node((100 * random.random()), None)\n",
    "        \n",
    "        for i in range (n):\n",
    "            node = Node((100 * random.random()), node)\n",
    "            \n",
    "        self.head = node \n",
    "        \n",
    "    def __str__(self):\n",
    "        cur = self.head\n",
    "\n",
    "        while cur != None:\n",
    "            print(cur.val)\n",
    "            \n",
    "        "
   ]
  },
  {
   "cell_type": "code",
   "execution_count": null,
   "metadata": {},
   "outputs": [],
   "source": [
    "import random \n",
    "s = SLL(2)"
   ]
  },
  {
   "cell_type": "code",
   "execution_count": null,
   "metadata": {},
   "outputs": [],
   "source": [
    "print(s)"
   ]
  },
  {
   "cell_type": "code",
   "execution_count": null,
   "metadata": {},
   "outputs": [],
   "source": [
    "import numpy as np\n",
    "import matplotlib.pyplot as plt\n",
    "\n",
    "N = 20\n",
    "x = 2*np.random.rand(N)-1\n",
    "m = np.random.randn(1)\n",
    "y = m*x + 0.1*np.random.randn(N)\n",
    "\n",
    "ax = plt.axes()\n",
    "ax.set_aspect('equal', adjustable='box')\n",
    "plt.plot(x,y,'bo')\n",
    "plt.xlim(-1, 1)\n",
    "plt.ylim(-1, 1)\n",
    "plt.show()\n",
    "print(x,y)\n"
   ]
  },
  {
   "cell_type": "code",
   "execution_count": null,
   "metadata": {},
   "outputs": [],
   "source": [
    "'''\n",
    "\n",
    "Estimate the slope of the line through (xi,yi) using least-squares estimation. Recall that the least-squares estimate of slope is:\n",
    "\n",
    "    sum_{i=1}^{N} x_i y_i / sum_{i=1}^{N} x_i^2\n",
    "\n",
    "Plot the data point, the actual line, and the estimated line.\n",
    "\n",
    "'''\n",
    "\n",
    "N = 20\n",
    "x = 2*np.random.rand(N)-1\n",
    "m = np.random.randn(1)\n",
    "y = m*x + 0.1*np.random.randn(N)\n",
    "\n",
    "\n",
    "m_est = np.sum(x*y)/np.sum(x * x)\n",
    "print('%.2f' % m,'%.2f'%m_est )\n",
    "\n",
    "xa = np.arange(-1,1,0.01)\n",
    "ya = m * xa\n",
    "\n",
    "xe = np.arrange(-1.5,1.5,0.01)\n",
    "ye = m_est * xe\n",
    "\n",
    "ax = plt.axes()\n",
    "ax.set_asoect('equal', adjustable= 'box')\n",
    "plt.plot(x,y,'bo')\n",
    "plt.plot(xa, ya, 'r-')\n",
    "\n"
   ]
  },
  {
   "cell_type": "code",
   "execution_count": 3,
   "metadata": {},
   "outputs": [
    {
     "data": {
      "image/png": "[encoded data removed]",
      "text/plain": [
       "<Figure size 432x288 with 1 Axes>"
      ]
     },
     "metadata": {
      "needs_background": "light"
     },
     "output_type": "display_data"
    }
   ],
   "source": [
    "'''\n",
    "Generate N random points (xi,yi) that satisfy yi = axi^3 + ni, \n",
    "where a is scalar value and ni is a small amount of noise.\n",
    "\n",
    "The values xi should range from [-2,2] \n",
    "and the parameter \"a\" should be drawn from a normal distribution (i.e., randn).\n",
    "\n",
    "Plot the data points.\n",
    "\n",
    "'''\n",
    "import numpy as np\n",
    "import matplotlib.pyplot as plt\n",
    "\n",
    "N = 20\n",
    "max_val, min_val = 2, -2\n",
    "range_size = (max_val - min_val)\n",
    "\n",
    "x = np.random.rand(N)* range_size + min_val\n",
    "a = np.random.randn(1)\n",
    "y = a* (x * x * x) + 0.1*np.random.randn(N)\n",
    "\n",
    "'''\n",
    "# Derive least-squares estimate of the cubic parameter \"a\" in y = ax^3\n",
    "m_est = 3 * a * xa\n",
    "xa = np.arange(-2,2,0.01)\n",
    "\n",
    "ye = m_est * xa\n",
    "'''\n",
    "\n",
    "ax = plt.axes()\n",
    "ax.set_aspect('equal', adjustable='box')\n",
    "plt.plot(x,y,'bo')\n",
    "#plt.plot(xa,ye,'b:')\n",
    "plt.xlim(-4, 4)\n",
    "plt.ylim(-4, 4)\n",
    "plt.show()\n",
    "#print(x,y)\n"
   ]
  },
  {
   "cell_type": "code",
   "execution_count": null,
   "metadata": {},
   "outputs": [],
   "source": [
    "'''\n",
    "Derive least-square estimate of the cubic parameter \"a\" in y = ax^3\n",
    "\n",
    "E(a) = sum_{i=1} ^{n} [ax_i ^ 3 - y_i]^2\n",
    "\n",
    "dE/da = sum_{i=1} ^{n} 2x_i ^3[ax_i^3 - y_i]\n",
    "      = sum_{i=1} ^{n} 2a*(x_i^3 * x_i^3) - 2 * (x_i^3 * y_i)\n",
    "      = a * sum_{i=1} ^{n} 2*(x_i ^ 3 * x_i ^3) - sum_{i=1} ^{n} 2*(x_i^3 * y_i)\n",
    "      \n",
    "a * sum_{i=1} ^{n} 2*(x_i ^ 3 * x_i ^3) = sum_{i=1} ^{n} 2*(x_i^3 * y_i)\n",
    " \n",
    "a = sum_{i=1} ^{n} 2 * (x_i ^3 y_i)/sum_{i=1} ^{n} 2*(x_i^3 * y_i)\n",
    "\n",
    "a = sum_{i=1}^{n} x_i^3 * y_i) / sum_{i=1}^{n} (x_i^3 * x_i^3)\n",
    "\n",
    "\n",
    "'''\n",
    "\n"
   ]
  },
  {
   "cell_type": "code",
   "execution_count": 4,
   "metadata": {},
   "outputs": [
    {
     "name": "stdout",
     "output_type": "stream",
     "text": [
      "1.95 1.94\n"
     ]
    }
   ],
   "source": [
    "X = x * x * x\n",
    "#a = sum_{i=1}^{n} x_i^3 * y_i) / sum_{i=1}^{n} (x_i^3 * x_i^3)\n",
    "a_est = np.sum(X*y) / np.sum(X*X)\n",
    "print('%.2f' % a, '%.2f' % a_est)"
   ]
  },
  {
   "cell_type": "code",
   "execution_count": 7,
   "metadata": {},
   "outputs": [
    {
     "data": {
      "image/png": "[encoded data removed]",
      "text/plain": [
       "<Figure size 432x288 with 1 Axes>"
      ]
     },
     "metadata": {
      "needs_background": "light"
     },
     "output_type": "display_data"
    }
   ],
   "source": [
    "xe = np.arange(-4, 4, 0.1)\n",
    "ye = a_est*xe*xe*xe #estimated cubic\n",
    "\n",
    "ax = plt.axes()\n",
    "ax.set_aspect('equal', adjustable= 'box')\n",
    "plt.plot(x,y, 'bo')\n",
    "plt.plot(xe,ye,'b:')\n",
    "plt.xlim(-4,4)\n",
    "plt.ylim(-4,4)\n",
    "plt.show()"
   ]
  },
  {
   "cell_type": "code",
   "execution_count": 1,
   "metadata": {},
   "outputs": [
    {
     "ename": "SyntaxError",
     "evalue": "invalid syntax (<ipython-input-1-99e68829b54e>, line 6)",
     "output_type": "error",
     "traceback": [
      "\u001b[1;36m  File \u001b[1;32m\"<ipython-input-1-99e68829b54e>\"\u001b[1;36m, line \u001b[1;32m6\u001b[0m\n\u001b[1;33m    for i in range of (N):\u001b[0m\n\u001b[1;37m                   ^\u001b[0m\n\u001b[1;31mSyntaxError\u001b[0m\u001b[1;31m:\u001b[0m invalid syntax\n"
     ]
    }
   ],
   "source": [
    "import numpy as np\n",
    "\n",
    "def Mat(A, b):\n",
    "    N, M = A.shape\n",
    "    u = np.zeros ((N,1))\n",
    "    for i in range of (N):\n",
    "        for j in range of (M):\n",
    "            u[[i]] += A[i][j] * b[j]\n",
    "            \n",
    "    return u"
   ]
  },
  {
   "cell_type": "code",
   "execution_count": null,
   "metadata": {},
   "outputs": [],
   "source": []
  }
 ],
 "metadata": {
  "kernelspec": {
   "display_name": "Python 3",
   "language": "python",
   "name": "python3"
  },
  "language_info": {
   "codemirror_mode": {
    "name": "ipython",
    "version": 3
   },
   "file_extension": ".py",
   "mimetype": "text/x-python",
   "name": "python",
   "nbconvert_exporter": "python",
   "pygments_lexer": "ipython3",
   "version": "3.8.3"
  }
 },
 "nbformat": 4,
 "nbformat_minor": 4
}
